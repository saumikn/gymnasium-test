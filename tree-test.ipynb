{
 "cells": [
  {
   "cell_type": "code",
   "execution_count": 1,
   "metadata": {},
   "outputs": [
    {
     "name": "stdout",
     "output_type": "stream",
     "text": [
      "/rdcw/fs2/home1/Active/home/n.saumik/gymnasium-test\n"
     ]
    }
   ],
   "source": [
    "%cd ~/gymnasium-test/\n",
    "%load_ext autoreload\n",
    "%autoreload 2"
   ]
  },
  {
   "cell_type": "code",
   "execution_count": 2,
   "metadata": {},
   "outputs": [
    {
     "name": "stderr",
     "output_type": "stream",
     "text": [
      "2024-08-29 14:18:56.576850: E tensorflow/stream_executor/cuda/cuda_driver.cc:271] failed call to cuInit: CUDA_ERROR_NO_DEVICE: no CUDA-capable device is detected\n"
     ]
    }
   ],
   "source": [
    "import os\n",
    "\n",
    "os.environ[\"TF_CPP_MIN_LOG_LEVEL\"] = \"2\"\n",
    "os.environ[\"MPLCONFIGDIR\"] = \"/tmp/\"\n",
    "import tensorflow as tf\n",
    "\n",
    "tf.config.set_visible_devices([], \"GPU\")"
   ]
  },
  {
   "cell_type": "code",
   "execution_count": 3,
   "metadata": {},
   "outputs": [],
   "source": [
    "from tree import *"
   ]
  },
  {
   "cell_type": "code",
   "execution_count": 6,
   "metadata": {},
   "outputs": [],
   "source": [
    "seed, depth, mode, budget, skill = 0, 4, \"binary\", 100, 2"
   ]
  },
  {
   "cell_type": "code",
   "execution_count": 7,
   "metadata": {},
   "outputs": [
    {
     "name": "stdout",
     "output_type": "stream",
     "text": [
      "10/10 [==============================] - 0s 8ms/step - loss: 0.7214 - accuracy: 0.3867\n",
      "1.935 200 1.0152708998095041 0.07179049379966683\n",
      "-----------------------------------------------------------------------------------------------------------\n",
      "10/10 [==============================] - 0s 7ms/step - loss: 0.7320 - accuracy: 0.3700\n",
      "2.04 200 1.0901376059929315 0.07708436936240706\n",
      "-----------------------------------------------------------------------------------------------------------\n",
      "10/10 [==============================] - 0s 7ms/step - loss: 0.8165 - accuracy: 0.3000\n",
      "1.945 200 0.9653885228238421 0.06826327709684028\n",
      "-----------------------------------------------------------------------------------------------------------\n",
      "10/10 [==============================] - 0s 7ms/step - loss: 0.6198 - accuracy: 0.7500\n",
      "1.96 200 1.0190191362285597 0.07205553413860728\n",
      "-----------------------------------------------------------------------------------------------------------\n",
      "10/10 [==============================] - 0s 8ms/step - loss: 0.6128 - accuracy: 0.7167\n",
      "1.945 200 1.0009870129027647 0.0707804704703211\n",
      "-----------------------------------------------------------------------------------------------------------\n",
      "10/10 [==============================] - 0s 7ms/step - loss: 0.6279 - accuracy: 0.7033\n",
      "1.97 200 0.9945350672550466 0.07032424901838626\n",
      "-----------------------------------------------------------------------------------------------------------\n",
      "10/10 [==============================] - 0s 7ms/step - loss: 0.6199 - accuracy: 0.6867\n",
      "2.045 200 1.0212614748437345 0.07221409142265793\n",
      "-----------------------------------------------------------------------------------------------------------\n",
      "10/10 [==============================] - 0s 7ms/step - loss: 0.6353 - accuracy: 0.6867\n",
      "1.995 200 0.9246485818947651 0.06538252824723131\n",
      "-----------------------------------------------------------------------------------------------------------\n",
      "10/10 [==============================] - 0s 8ms/step - loss: 0.6344 - accuracy: 0.6867\n",
      "2.015 200 1.069941587190628 0.07565629517759907\n",
      "-----------------------------------------------------------------------------------------------------------\n",
      "10/10 [==============================] - 0s 8ms/step - loss: 0.6979 - accuracy: 0.5133\n",
      "2.095 200 0.9979854708361239 0.07056822939538726\n",
      "-----------------------------------------------------------------------------------------------------------\n"
     ]
    }
   ],
   "source": [
    "for seed in range(10):\n",
    "\n",
    "    X, Y = Forest(\n",
    "        depth,\n",
    "        mode,\n",
    "        budget * seed,\n",
    "        budget * (seed + 1),\n",
    "    ).get_training_data(skill)\n",
    "\n",
    "    test_budget = 200\n",
    "    test_offset = int(1e9)\n",
    "    testing = Forest(\n",
    "        depth,\n",
    "        mode,\n",
    "        test_budget * seed + test_offset,\n",
    "        test_budget * (seed + 1) + test_offset,\n",
    "    )\n",
    "    model = make_model(depth)\n",
    "\n",
    "    for epoch in tqdm(range(1), disable=True):\n",
    "        model.fit(X, Y)\n",
    "        _, scores, _ = testing.eval_model(model)\n",
    "        print(\n",
    "            np.mean(scores),\n",
    "            len(scores),\n",
    "            np.std(scores),\n",
    "            np.std(scores) / np.sqrt(len(scores)),\n",
    "        )\n",
    "    print(\n",
    "        \"-----------------------------------------------------------------------------------------------------------\"\n",
    "    )"
   ]
  },
  {
   "cell_type": "code",
   "execution_count": null,
   "metadata": {},
   "outputs": [],
   "source": []
  }
 ],
 "metadata": {
  "kernelspec": {
   "display_name": "Python 3",
   "language": "python",
   "name": "python3"
  },
  "language_info": {
   "codemirror_mode": {
    "name": "ipython",
    "version": 3
   },
   "file_extension": ".py",
   "mimetype": "text/x-python",
   "name": "python",
   "nbconvert_exporter": "python",
   "pygments_lexer": "ipython3",
   "version": "3.10.8"
  }
 },
 "nbformat": 4,
 "nbformat_minor": 2
}
