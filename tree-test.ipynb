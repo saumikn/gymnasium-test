{
 "cells": [
  {
   "cell_type": "code",
   "execution_count": 1,
   "metadata": {},
   "outputs": [
    {
     "name": "stdout",
     "output_type": "stream",
     "text": [
      "/home/n.saumik/gymnasium-test\n"
     ]
    }
   ],
   "source": [
    "%cd ~/gymnasium-test/\n",
    "%load_ext line_profiler\n",
    "%load_ext memory_profiler\n",
    "%load_ext autoreload\n",
    "%autoreload 2"
   ]
  },
  {
   "cell_type": "code",
   "execution_count": 1,
   "metadata": {},
   "outputs": [
    {
     "name": "stdout",
     "output_type": "stream",
     "text": [
      "importing numpy\n",
      "importing tensorflow\n",
      "done with imports\n"
     ]
    },
    {
     "name": "stderr",
     "output_type": "stream",
     "text": [
      "2024-10-31 01:39:20.613552: E tensorflow/stream_executor/cuda/cuda_driver.cc:271] failed call to cuInit: CUDA_ERROR_NO_DEVICE: no CUDA-capable device is detected\n"
     ]
    }
   ],
   "source": [
    "import numpy as np\n",
    "from tree import Tree, make_model, Forest, EarlyStopper\n",
    "from tqdm import tqdm"
   ]
  },
  {
   "cell_type": "code",
   "execution_count": 2,
   "metadata": {},
   "outputs": [],
   "source": [
    "import os\n",
    "\n",
    "os.environ[\"CUDA_VISIBLE_DEVICES\"] = \"-1\"\n",
    "os.environ[\"TF_CPP_MIN_LOG_LEVEL\"] = \"2\"\n",
    "os.environ[\"MPLCONFIGDIR\"] = \"/tmp/\"\n",
    "import tensorflow as tf\n",
    "\n",
    "tf.config.set_visible_devices([], \"GPU\")"
   ]
  },
  {
   "cell_type": "code",
   "execution_count": null,
   "metadata": {},
   "outputs": [],
   "source": []
  },
  {
   "cell_type": "code",
   "execution_count": 21,
   "metadata": {},
   "outputs": [],
   "source": [
    "def get_diff(x):\n",
    "    low = Forest(4, \"crit-0-1-10-0.2\", 0, x)\n",
    "    low_X, low_Y = low.get_training_data(\"A\", window=0)\n",
    "    low_Y[:] = 0\n",
    "\n",
    "    high = Forest(4, \"crit-0-1-10-0.2\", x, x * 2)\n",
    "    high_X, high_Y = high.get_training_data(\"D\", window=0)\n",
    "    high_Y[:] = 1\n",
    "\n",
    "    train_X = tf.convert_to_tensor(np.concatenate([low_X, high_X]))\n",
    "    train_Y = tf.convert_to_tensor(np.concatenate([low_Y, high_Y]))\n",
    "\n",
    "    model = make_model(4, 0, num_nodes=32, num_layers=2)\n",
    "    steps = 65536\n",
    "\n",
    "    ds = tf.data.Dataset.from_tensor_slices((train_X, train_Y))\n",
    "    ds = ds.repeat().shuffle(100000).batch(32).take(steps)\n",
    "    for grp in tqdm(range(1), disable=True):\n",
    "        acc = model.fit(ds, verbose=1).history[\"accuracy\"][0]\n",
    "        low_pred = model.predict(low_X)\n",
    "        pcts = [(low_pred[:,1] <= pct).mean() for pct in np.linspace(0, 1, 11)]\n",
    "        print(f\"Steps {(grp+1)*steps}: {acc:.3f}\")\n",
    "        print(np.array(pcts).round(3))\n",
    "        print()"
   ]
  },
  {
   "cell_type": "code",
   "execution_count": 22,
   "metadata": {},
   "outputs": [
    {
     "name": "stdout",
     "output_type": "stream",
     "text": [
      "65536/65536 [==============================] - 43s 653us/step - loss: 0.0267 - accuracy: 0.9921\n",
      "Steps 65536: 0.992\n",
      "[0. 1. 1. 1. 1. 1. 1. 1. 1. 1. 1.]\n",
      "\n",
      "CPU times: user 55.5 s, sys: 3.38 s, total: 58.9 s\n",
      "Wall time: 43.5 s\n"
     ]
    }
   ],
   "source": [
    "%%time\n",
    "get_diff(64)"
   ]
  },
  {
   "cell_type": "code",
   "execution_count": 23,
   "metadata": {},
   "outputs": [
    {
     "name": "stdout",
     "output_type": "stream",
     "text": [
      "65536/65536 [==============================] - 42s 642us/step - loss: 0.1499 - accuracy: 0.9367\n",
      "Steps 65536: 0.937\n",
      "[0.    0.991 0.999 1.    1.    1.    1.    1.    1.    1.    1.   ]\n",
      "\n",
      "CPU times: user 54.7 s, sys: 3.26 s, total: 58 s\n",
      "Wall time: 42.8 s\n"
     ]
    }
   ],
   "source": [
    "%%time\n",
    "get_diff(256)"
   ]
  },
  {
   "cell_type": "code",
   "execution_count": 24,
   "metadata": {},
   "outputs": [
    {
     "name": "stdout",
     "output_type": "stream",
     "text": [
      "65536/65536 [==============================] - 43s 647us/step - loss: 0.5309 - accuracy: 0.7106\n",
      "Steps 65536: 0.711\n",
      "[0.    0.237 0.388 0.52  0.628 0.733 0.822 0.887 0.944 0.985 1.   ]\n",
      "\n",
      "CPU times: user 55.3 s, sys: 3.46 s, total: 58.8 s\n",
      "Wall time: 43.4 s\n"
     ]
    }
   ],
   "source": [
    "%%time\n",
    "get_diff(1024)"
   ]
  },
  {
   "cell_type": "code",
   "execution_count": 25,
   "metadata": {},
   "outputs": [
    {
     "name": "stdout",
     "output_type": "stream",
     "text": [
      "65536/65536 [==============================] - 44s 665us/step - loss: 0.6447 - accuracy: 0.6130\n",
      "Steps 65536: 0.613\n",
      "[0.    0.037 0.149 0.292 0.483 0.726 0.88  0.957 0.99  1.    1.   ]\n",
      "\n",
      "CPU times: user 57.7 s, sys: 3.68 s, total: 1min 1s\n",
      "Wall time: 45.6 s\n"
     ]
    }
   ],
   "source": [
    "%%time\n",
    "get_diff(4096)"
   ]
  },
  {
   "cell_type": "code",
   "execution_count": 26,
   "metadata": {},
   "outputs": [
    {
     "name": "stdout",
     "output_type": "stream",
     "text": [
      "65536/65536 [==============================] - 43s 655us/step - loss: 0.6662 - accuracy: 0.5916\n",
      "Steps 65536: 0.592\n",
      "[0.    0.005 0.076 0.213 0.515 0.854 0.967 0.996 1.    1.    1.   ]\n",
      "\n",
      "CPU times: user 59.9 s, sys: 3.79 s, total: 1min 3s\n",
      "Wall time: 48.5 s\n"
     ]
    }
   ],
   "source": [
    "%%time\n",
    "get_diff(16384)"
   ]
  },
  {
   "cell_type": "code",
   "execution_count": null,
   "metadata": {},
   "outputs": [],
   "source": []
  },
  {
   "cell_type": "code",
   "execution_count": null,
   "metadata": {},
   "outputs": [],
   "source": []
  },
  {
   "cell_type": "code",
   "execution_count": null,
   "metadata": {},
   "outputs": [],
   "source": []
  }
 ],
 "metadata": {
  "kernelspec": {
   "display_name": "random",
   "language": "python",
   "name": "random"
  },
  "language_info": {
   "codemirror_mode": {
    "name": "ipython",
    "version": 3
   },
   "file_extension": ".py",
   "mimetype": "text/x-python",
   "name": "python",
   "nbconvert_exporter": "python",
   "pygments_lexer": "ipython3",
   "version": "3.10.8"
  }
 },
 "nbformat": 4,
 "nbformat_minor": 4
}
