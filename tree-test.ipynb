{
 "cells": [
  {
   "cell_type": "code",
   "execution_count": 1,
   "metadata": {},
   "outputs": [
    {
     "name": "stdout",
     "output_type": "stream",
     "text": [
      "/home/n.saumik/gymnasium-test\n"
     ]
    }
   ],
   "source": [
    "%cd ~/gymnasium-test/\n",
    "%load_ext line_profiler\n",
    "%load_ext memory_profiler\n",
    "# %load_ext autoreload\n",
    "# %autoreload 2"
   ]
  },
  {
   "cell_type": "code",
   "execution_count": 2,
   "metadata": {},
   "outputs": [],
   "source": [
    "import numpy as np\n",
    "from tree import Tree, Forest"
   ]
  },
  {
   "cell_type": "code",
   "execution_count": 90,
   "metadata": {},
   "outputs": [
    {
     "name": "stdout",
     "output_type": "stream",
     "text": [
      "decisions=3, skill=1\n",
      "[1.    0.918 0.082 0.844 0.074 0.075 0.008 0.774 0.07  0.068 0.005 0.069 0.005 0.007 0.001]\n",
      "[0.   1.95 0.11 1.78 0.1  0.16 0.01 1.65 0.1  0.14 0.01 0.15 0.01 0.01 0.  ]\n",
      "6.169876396881445\n",
      "\n",
      "decisions=3, skill=2\n",
      "[1.    0.845 0.155 0.725 0.119 0.142 0.013 0.671 0.054 0.115 0.004 0.133 0.01  0.012 0.   ]\n",
      "[0.   1.82 0.12 1.63 0.11 0.4  0.02 1.5  0.08 0.33 0.01 0.29 0.01 0.04 0.  ]\n",
      "6.358971086358676\n",
      "\n",
      "decisions=3, skill=3\n",
      "[1.    0.81  0.19  0.694 0.116 0.173 0.018 0.648 0.046 0.112 0.003 0.166 0.007 0.017 0.   ]\n",
      "[0.   1.75 0.12 1.55 0.11 0.46 0.02 1.51 0.07 0.33 0.01 0.45 0.01 0.06 0.  ]\n",
      "6.45638714618786\n",
      "\n",
      "--------------------------------------------------\n"
     ]
    }
   ],
   "source": [
    "for loc in (2,):\n",
    "\n",
    "    with np.printoptions(linewidth=300):\n",
    "\n",
    "        for decisions in (3,):  # 3, 4:\n",
    "\n",
    "            for skill in range(1, decisions + 1):\n",
    "\n",
    "                f = Forest(decisions + 1, mode=f\"normal-{loc}-0\", start=0, stop=20000)\n",
    "\n",
    "                n, d = f.trees[0].n, f.trees[0].depth\n",
    "\n",
    "                X, Y = f.get_training_data(skill, leaf=True)\n",
    "\n",
    "                reaches = X[:, n:].mean(axis=0) * d\n",
    "                rewards = (X[:, :n] * X[:, n:] * d).mean(axis=0)\n",
    "\n",
    "                print(f\"decisions={decisions}, skill={skill}\")\n",
    "                print(reaches.round(3))\n",
    "                print(rewards.round(2))\n",
    "                print(rewards.sum())\n",
    "                print()\n",
    "            print(\"-\" * 50)"
   ]
  },
  {
   "cell_type": "code",
   "execution_count": 78,
   "metadata": {},
   "outputs": [
    {
     "data": {
      "text/plain": [
       "array([-0.  ,  0.9 ,  0.18,  0.81,  0.18,  0.42,  0.09])"
      ]
     },
     "execution_count": 78,
     "metadata": {},
     "output_type": "execute_result"
    }
   ],
   "source": [
    "(X[:, :n] * X[:, n:] * d).mean(axis=0).round(2)"
   ]
  },
  {
   "cell_type": "code",
   "execution_count": 72,
   "metadata": {},
   "outputs": [
    {
     "data": {
      "text/plain": [
       "(50000, 31)"
      ]
     },
     "execution_count": 72,
     "metadata": {},
     "output_type": "execute_result"
    }
   ],
   "source": [
    "X[:, n:]"
   ]
  },
  {
   "cell_type": "code",
   "execution_count": 60,
   "metadata": {},
   "outputs": [
    {
     "data": {
      "text/plain": [
       "array([[ 0.12573022,  0.45574102, -0.13210486, ...,  0.        ,\n",
       "         0.        ,  0.        ],\n",
       "       [ 0.12573022,  0.45574102, -0.13210486, ...,  0.        ,\n",
       "         0.        ,  0.        ],\n",
       "       [ 0.12573022,  0.45574102, -0.13210486, ...,  0.        ,\n",
       "         0.        ,  0.        ],\n",
       "       ...,\n",
       "       [-0.43797961,  0.44619173, -0.13915941, ...,  0.        ,\n",
       "         0.        ,  0.        ],\n",
       "       [-0.43797961,  0.44619173, -0.13915941, ...,  0.        ,\n",
       "         0.        ,  0.        ],\n",
       "       [-0.43797961,  0.44619173, -0.13915941, ...,  0.        ,\n",
       "         0.        ,  0.        ]])"
      ]
     },
     "execution_count": 60,
     "metadata": {},
     "output_type": "execute_result"
    }
   ],
   "source": [
    "X"
   ]
  },
  {
   "cell_type": "code",
   "execution_count": 45,
   "metadata": {},
   "outputs": [
    {
     "data": {
      "text/plain": [
       "(40000, 30)"
      ]
     },
     "execution_count": 45,
     "metadata": {},
     "output_type": "execute_result"
    }
   ],
   "source": [
    "X.shape"
   ]
  },
  {
   "cell_type": "code",
   "execution_count": null,
   "metadata": {},
   "outputs": [],
   "source": []
  },
  {
   "cell_type": "code",
   "execution_count": null,
   "metadata": {},
   "outputs": [],
   "source": []
  },
  {
   "cell_type": "code",
   "execution_count": 17,
   "metadata": {},
   "outputs": [
    {
     "name": "stdout",
     "output_type": "stream",
     "text": [
      "\n",
      "\n",
      "\n",
      "Starting experiment: Seed-0 Depth-9 Skill-0\n"
     ]
    },
    {
     "name": "stderr",
     "output_type": "stream",
     "text": [
      "2024-09-17 01:17:02.621450: I tensorflow/core/platform/cpu_feature_guard.cc:151] This TensorFlow binary is optimized with oneAPI Deep Neural Network Library (oneDNN) to use the following CPU instructions in performance-critical operations:  SSE4.1 SSE4.2 AVX AVX2 AVX512F FMA\n",
      "To enable them in other operations, rebuild TensorFlow with the appropriate compiler flags.\n",
      "2024-09-17 01:17:02.835376: I tensorflow/core/common_runtime/gpu/gpu_device.cc:1525] Created device /job:localhost/replica:0/task:0/device:GPU:0 with 43598 MB memory:  -> device: 0, name: NVIDIA A40, pci bus id: 0000:12:00.0, compute capability: 8.6\n"
     ]
    },
    {
     "name": "stdout",
     "output_type": "stream",
     "text": [
      "train data: 0 9 0 1.6398414270952344\n",
      "made testing forest\n",
      "made testing data\n",
      "made testing tensor\n",
      "test data: 0 9 0 0.16241534613072872\n",
      "make model: 0 9 0 0.07656366471201181\n"
     ]
    },
    {
     "name": "stderr",
     "output_type": "stream",
     "text": [
      "Seed 0 Depth 9 Skill 0:   0%|                          | 0/2000 [00:00<?, ?it/s]2024-09-17 01:17:04.266269: I tensorflow/stream_executor/cuda/cuda_blas.cc:1786] TensorFloat-32 will be used for the matrix multiplication. This will only be logged once.\n",
      "Seed 0 Depth 9 Skill 0:   2%|▎                | 40/2000 [00:11<08:59,  3.63it/s]\n"
     ]
    },
    {
     "name": "stdout",
     "output_type": "stream",
     "text": [
      "deleting: 0 9 0 0.2848206181079149\n",
      "\n",
      "\n",
      "\n",
      "Starting experiment: Seed-0 Depth-9 Skill-0\n",
      "train data: 0 9 0 0.002558964304625988\n",
      "made testing forest\n",
      "made testing data\n",
      "made testing tensor\n",
      "test data: 0 9 0 0.1517009474337101\n",
      "make model: 0 9 0 0.021731005981564522\n"
     ]
    },
    {
     "name": "stderr",
     "output_type": "stream",
     "text": [
      "Seed 0 Depth 9 Skill 0:   2%|▎                | 37/2000 [00:08<07:25,  4.41it/s]\n"
     ]
    },
    {
     "name": "stdout",
     "output_type": "stream",
     "text": [
      "deleting: 0 9 0 0.20503788255155087\n",
      "\n",
      "\n",
      "\n",
      "Starting experiment: Seed-0 Depth-9 Skill-0\n",
      "train data: 0 9 0 0.0018933508545160294\n",
      "made testing forest\n",
      "made testing data\n",
      "made testing tensor\n",
      "test data: 0 9 0 0.13905601017177105\n",
      "make model: 0 9 0 0.023977658711373806\n"
     ]
    },
    {
     "name": "stderr",
     "output_type": "stream",
     "text": [
      "Seed 0 Depth 9 Skill 0:   2%|▍                | 48/2000 [00:10<07:17,  4.46it/s]\n"
     ]
    },
    {
     "name": "stdout",
     "output_type": "stream",
     "text": [
      "deleting: 0 9 0 0.18374915421009064\n",
      "\n",
      "\n",
      "\n",
      "Starting experiment: Seed-0 Depth-9 Skill-0\n",
      "train data: 0 9 0 0.001213928684592247\n",
      "made testing forest\n",
      "made testing data\n",
      "made testing tensor\n",
      "test data: 0 9 0 0.1146177751943469\n",
      "make model: 0 9 0 0.01686226949095726\n"
     ]
    },
    {
     "name": "stderr",
     "output_type": "stream",
     "text": [
      "Seed 0 Depth 9 Skill 0:   2%|▍                | 49/2000 [00:12<08:17,  3.92it/s]\n"
     ]
    },
    {
     "name": "stdout",
     "output_type": "stream",
     "text": [
      "deleting: 0 9 0 0.25404800940304995\n",
      "\n",
      "\n",
      "\n",
      "Starting experiment: Seed-0 Depth-9 Skill-0\n",
      "train data: 0 9 0 0.002888290211558342\n",
      "made testing forest\n",
      "made testing data\n",
      "made testing tensor\n",
      "test data: 0 9 0 0.17879657074809074\n",
      "make model: 0 9 0 0.020471561700105667\n"
     ]
    },
    {
     "name": "stderr",
     "output_type": "stream",
     "text": [
      "Seed 0 Depth 9 Skill 0:   2%|▎                | 33/2000 [00:06<06:35,  4.97it/s]\n"
     ]
    },
    {
     "name": "stdout",
     "output_type": "stream",
     "text": [
      "deleting: 0 9 0 0.17755306232720613\n",
      "\n",
      "\n",
      "\n",
      "Starting experiment: Seed-0 Depth-9 Skill-0\n",
      "train data: 0 9 0 0.0012585772201418877\n",
      "made testing forest\n",
      "made testing data\n",
      "made testing tensor\n",
      "test data: 0 9 0 0.11943481955677271\n",
      "make model: 0 9 0 0.01711201388388872\n"
     ]
    },
    {
     "name": "stderr",
     "output_type": "stream",
     "text": [
      "Seed 0 Depth 9 Skill 0:   2%|▎                | 36/2000 [00:06<06:19,  5.17it/s]\n"
     ]
    },
    {
     "name": "stdout",
     "output_type": "stream",
     "text": [
      "deleting: 0 9 0 0.18953850027173758\n",
      "\n",
      "\n",
      "\n",
      "Starting experiment: Seed-0 Depth-9 Skill-0\n",
      "train data: 0 9 0 0.001087486743927002\n",
      "made testing forest\n",
      "made testing data\n",
      "made testing tensor\n",
      "test data: 0 9 0 0.1287540104240179\n",
      "make model: 0 9 0 0.01901885401457548\n"
     ]
    },
    {
     "name": "stderr",
     "output_type": "stream",
     "text": [
      "Seed 0 Depth 9 Skill 0:   2%|▎                | 42/2000 [00:10<07:57,  4.10it/s]\n"
     ]
    },
    {
     "name": "stdout",
     "output_type": "stream",
     "text": [
      "deleting: 0 9 0 0.2871744194999337\n",
      "\n",
      "\n",
      "\n",
      "Starting experiment: Seed-0 Depth-9 Skill-0\n",
      "train data: 0 9 0 0.002478795126080513\n",
      "made testing forest\n",
      "made testing data\n",
      "made testing tensor\n",
      "test data: 0 9 0 0.18054589442908764\n",
      "make model: 0 9 0 0.03026272915303707\n"
     ]
    },
    {
     "name": "stderr",
     "output_type": "stream",
     "text": [
      "Seed 0 Depth 9 Skill 0:   1%|▏                | 28/2000 [00:08<10:21,  3.17it/s]\n"
     ]
    },
    {
     "name": "stdout",
     "output_type": "stream",
     "text": [
      "deleting: 0 9 0 0.31834603659808636\n",
      "\n",
      "\n",
      "\n",
      "Starting experiment: Seed-0 Depth-9 Skill-0\n",
      "train data: 0 9 0 0.0019152220338582993\n",
      "made testing forest\n",
      "made testing data\n",
      "made testing tensor\n",
      "test data: 0 9 0 0.1798812709748745\n",
      "make model: 0 9 0 0.044095851480960846\n"
     ]
    },
    {
     "name": "stderr",
     "output_type": "stream",
     "text": [
      "Seed 0 Depth 9 Skill 0:   2%|▎                | 39/2000 [00:11<09:45,  3.35it/s]\n"
     ]
    },
    {
     "name": "stdout",
     "output_type": "stream",
     "text": [
      "deleting: 0 9 0 0.2913878681138158\n",
      "\n",
      "\n",
      "\n",
      "Starting experiment: Seed-0 Depth-9 Skill-0\n",
      "train data: 0 9 0 0.0016693957149982452\n",
      "made testing forest\n",
      "made testing data\n",
      "made testing tensor\n",
      "test data: 0 9 0 0.17063403129577637\n",
      "make model: 0 9 0 0.030776871368288994\n"
     ]
    },
    {
     "name": "stderr",
     "output_type": "stream",
     "text": [
      "Seed 0 Depth 9 Skill 0:   2%|▎                | 39/2000 [00:10<08:35,  3.81it/s]\n"
     ]
    },
    {
     "name": "stdout",
     "output_type": "stream",
     "text": [
      "deleting: 0 9 0 0.28764464147388935\n"
     ]
    }
   ],
   "source": [
    "for seed in range(10):\n",
    "    exp(\n",
    "        seed=0,\n",
    "        decisions=8,\n",
    "        window=0,\n",
    "        mode=\"risk-0.5\",\n",
    "        budget=2,\n",
    "        skill=0,\n",
    "        opt=\"adam\",\n",
    "        lr=1,\n",
    "        patience=20,\n",
    "        write=True,\n",
    "        num_nodes=16,\n",
    "        num_layers=1,\n",
    "    )"
   ]
  },
  {
   "cell_type": "code",
   "execution_count": null,
   "metadata": {},
   "outputs": [],
   "source": []
  },
  {
   "cell_type": "code",
   "execution_count": null,
   "metadata": {},
   "outputs": [],
   "source": []
  },
  {
   "cell_type": "code",
   "execution_count": null,
   "metadata": {},
   "outputs": [],
   "source": []
  }
 ],
 "metadata": {
  "kernelspec": {
   "display_name": "random",
   "language": "python",
   "name": "random"
  },
  "language_info": {
   "codemirror_mode": {
    "name": "ipython",
    "version": 3
   },
   "file_extension": ".py",
   "mimetype": "text/x-python",
   "name": "python",
   "nbconvert_exporter": "python",
   "pygments_lexer": "ipython3",
   "version": "3.10.8"
  }
 },
 "nbformat": 4,
 "nbformat_minor": 2
}
