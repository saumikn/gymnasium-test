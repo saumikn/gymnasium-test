{
 "cells": [
  {
   "cell_type": "code",
   "execution_count": 1,
   "metadata": {},
   "outputs": [
    {
     "name": "stdout",
     "output_type": "stream",
     "text": [
      "/home/n.saumik/gymnasium-test\n"
     ]
    }
   ],
   "source": [
    "%cd ~/gymnasium-test/\n",
    "%load_ext line_profiler"
   ]
  },
  {
   "cell_type": "code",
   "execution_count": 2,
   "metadata": {},
   "outputs": [
    {
     "name": "stderr",
     "output_type": "stream",
     "text": [
      "2024-09-06 03:31:17.014631: E tensorflow/stream_executor/cuda/cuda_driver.cc:271] failed call to cuInit: CUDA_ERROR_NO_DEVICE: no CUDA-capable device is detected\n"
     ]
    }
   ],
   "source": [
    "import os\n",
    "import time\n",
    "\n",
    "os.environ[\"CUDA_VISIBLE_DEVICES\"] = \"-1\"\n",
    "os.environ[\"TF_CPP_MIN_LOG_LEVEL\"] = \"2\"\n",
    "os.environ[\"MPLCONFIGDIR\"] = \"/tmp/\"\n",
    "import tensorflow as tf\n",
    "\n",
    "tf.config.set_visible_devices([], \"GPU\")\n",
    "\n",
    "import numpy as np\n",
    "from tqdm import tqdm"
   ]
  },
  {
   "cell_type": "code",
   "execution_count": null,
   "metadata": {},
   "outputs": [],
   "source": []
  },
  {
   "cell_type": "code",
   "execution_count": 3,
   "metadata": {},
   "outputs": [],
   "source": [
    "from tree import Forest, make_model"
   ]
  },
  {
   "cell_type": "code",
   "execution_count": null,
   "metadata": {},
   "outputs": [],
   "source": []
  },
  {
   "cell_type": "code",
   "execution_count": null,
   "metadata": {},
   "outputs": [],
   "source": []
  },
  {
   "cell_type": "code",
   "execution_count": null,
   "metadata": {},
   "outputs": [],
   "source": [
    "def make_model(depth, opt=\"sgd\", lr=0.01, num_nodes=16, num_layers=1):\n",
    "    import tensorflow as tf\n",
    "\n",
    "    inputs = tf.keras.layers.Input(shape=(2**depth - 1) * 2)\n",
    "    x = tf.keras.layers.Flatten()(inputs)\n",
    "    for _ in range(num_layers):\n",
    "        x = tf.keras.layers.Dense(num_nodes, activation=\"relu\")(x)\n",
    "    output1 = tf.keras.layers.Dense(2, name=\"Y\")(x)\n",
    "    output1 = tf.keras.layers.Softmax()(output1)\n",
    "    model = tf.keras.models.Model(inputs=inputs, outputs=output1)\n",
    "\n",
    "    if opt == \"adam\":\n",
    "        opt = tf.keras.optimizers.Adam(learning_rate=0.001 * lr)\n",
    "    elif opt == \"adamw\":\n",
    "        opt = tf.keras.optimizers.Adamw(learning_rate=0.001 * lr)\n",
    "    elif opt == \"sgd\":\n",
    "        opt = tf.keras.optimizers.SGD(\n",
    "            learning_rate=0.01 * lr, momentum=0.90, nesterov=True\n",
    "        )\n",
    "    else:\n",
    "        raise ValueError(\"Optimizer should be either 'adam' or 'sgd'\")\n",
    "    loss_fn = tf.keras.losses.SparseCategoricalCrossentropy(from_logits=False)\n",
    "    model.compile(optimizer=opt, loss=loss_fn, metrics=[\"accuracy\"], run_eagerly=False)\n",
    "    return model"
   ]
  },
  {
   "cell_type": "code",
   "execution_count": 139,
   "metadata": {},
   "outputs": [],
   "source": [
    "def exp(depth, mode, budget, seed, skill):\n",
    "    X, Y = Forest(\n",
    "        depth,\n",
    "        mode,\n",
    "        budget * seed,\n",
    "        budget * (seed + 1),\n",
    "        hide=True,\n",
    "    ).get_training_data(skill)\n",
    "    X = tf.convert_to_tensor(X, dtype=tf.float32)\n",
    "    Y = tf.convert_to_tensor(Y, dtype=tf.float32)\n",
    "    ds = (\n",
    "        tf.data.Dataset.from_tensor_slices((X, Y))\n",
    "        .cache()\n",
    "        .shuffle(1000, seed)\n",
    "        .batch(256)\n",
    "        .prefetch(tf.data.experimental.AUTOTUNE)\n",
    "    )\n",
    "\n",
    "    test_budget, test_offset = 10000, int(1e9)\n",
    "    testing = Forest(\n",
    "        depth,\n",
    "        mode,\n",
    "        test_budget * seed + test_offset,\n",
    "        test_budget * (seed + 1) + test_offset,\n",
    "    )\n",
    "    X_test, Y_test = testing.get_training_data(skill)\n",
    "    X_test = tf.convert_to_tensor(X_test, dtype=tf.float32)\n",
    "    Y_test = tf.convert_to_tensor(Y_test, dtype=tf.float32)\n",
    "    X_test.shape, Y_test.shape\n",
    "\n",
    "    st = time.perf_counter()\n",
    "    model = make_model(depth, num_nodes=16, num_layers=2, opt=\"sgd\", lr=10)\n",
    "    # model.summary()\n",
    "    # print(\"Time:\", time.perf_counter() - st)\n",
    "\n",
    "    accs = []\n",
    "    accs_row = []\n",
    "    scores = []\n",
    "\n",
    "    for _ in tqdm(range(200)):\n",
    "        st = time.perf_counter()\n",
    "        model.fit(ds, verbose=0)\n",
    "        # print(\"Time:\", time.perf_counter() - st)\n",
    "\n",
    "        st = time.perf_counter()\n",
    "        Y_pred = model(X_test)\n",
    "        acc = (Y_pred.numpy().argmax(axis=1) == Y_test.numpy()).astype(int)\n",
    "        accs.append(acc.mean())\n",
    "        accs_row.append([acc[i :: depth - 1].mean() for i in range(depth - 1)])\n",
    "        # print(accs[-1], accs_row[-1])\n",
    "        # model.evaluate(ds_test, steps=None)\n",
    "        # print(\"Time:\", time.perf_counter() - st)\n",
    "\n",
    "        st = time.perf_counter()\n",
    "        _, _, score = testing.eval_model(model)\n",
    "        scores.append(score)\n",
    "        # print(\"Time:\", time.perf_counter() - st)\n",
    "        # print(score)\n",
    "        # print()\n",
    "    accs, accs_row, scores = np.array(accs), np.array(accs_row), np.array(scores)\n",
    "    return (accs_row[accs.argmax()],)"
   ]
  },
  {
   "cell_type": "code",
   "execution_count": null,
   "metadata": {},
   "outputs": [],
   "source": []
  },
  {
   "cell_type": "code",
   "execution_count": 140,
   "metadata": {},
   "outputs": [
    {
     "name": "stderr",
     "output_type": "stream",
     "text": [
      "100%|██████████| 200/200 [00:31<00:00,  6.42it/s]\n"
     ]
    },
    {
     "name": "stdout",
     "output_type": "stream",
     "text": [
      "float 4 2 (array([0.9842, 0.967 , 0.941 ]),)\n"
     ]
    },
    {
     "name": "stderr",
     "output_type": "stream",
     "text": [
      "100%|██████████| 200/200 [00:32<00:00,  6.17it/s]\n"
     ]
    },
    {
     "name": "stdout",
     "output_type": "stream",
     "text": [
      "float 4 4 (array([0.9319, 0.9445, 0.9511]),)\n"
     ]
    },
    {
     "name": "stderr",
     "output_type": "stream",
     "text": [
      "100%|██████████| 200/200 [00:48<00:00,  4.10it/s]\n"
     ]
    },
    {
     "name": "stdout",
     "output_type": "stream",
     "text": [
      "float 6 2 (array([0.9467, 0.8654, 0.6665, 0.5686, 0.5314]),)\n"
     ]
    },
    {
     "name": "stderr",
     "output_type": "stream",
     "text": [
      "100%|██████████| 200/200 [00:46<00:00,  4.34it/s]\n"
     ]
    },
    {
     "name": "stdout",
     "output_type": "stream",
     "text": [
      "float 6 4 (array([0.8375, 0.7997, 0.696 , 0.5981, 0.5428]),)\n"
     ]
    },
    {
     "name": "stderr",
     "output_type": "stream",
     "text": [
      "100%|██████████| 200/200 [00:50<00:00,  3.96it/s]\n"
     ]
    },
    {
     "name": "stdout",
     "output_type": "stream",
     "text": [
      "float 6 6 (array([0.7871, 0.7609, 0.7032, 0.592 , 0.5419]),)\n"
     ]
    },
    {
     "name": "stderr",
     "output_type": "stream",
     "text": [
      "100%|██████████| 200/200 [01:07<00:00,  2.94it/s]\n"
     ]
    },
    {
     "name": "stdout",
     "output_type": "stream",
     "text": [
      "float 8 2 (array([0.7241, 0.5857, 0.5287, 0.5046, 0.4988, 0.4995, 0.5079]),)\n"
     ]
    },
    {
     "name": "stderr",
     "output_type": "stream",
     "text": [
      "100%|██████████| 200/200 [01:23<00:00,  2.40it/s]\n"
     ]
    },
    {
     "name": "stdout",
     "output_type": "stream",
     "text": [
      "float 8 4 (array([0.7165, 0.5611, 0.5455, 0.5095, 0.5089, 0.5011, 0.5045]),)\n"
     ]
    },
    {
     "name": "stderr",
     "output_type": "stream",
     "text": [
      "100%|██████████| 200/200 [01:22<00:00,  2.44it/s]\n"
     ]
    },
    {
     "name": "stdout",
     "output_type": "stream",
     "text": [
      "float 8 6 (array([0.7118, 0.5754, 0.5445, 0.5161, 0.5265, 0.5013, 0.5143]),)\n"
     ]
    },
    {
     "name": "stderr",
     "output_type": "stream",
     "text": [
      "100%|██████████| 200/200 [01:23<00:00,  2.41it/s]\n"
     ]
    },
    {
     "name": "stdout",
     "output_type": "stream",
     "text": [
      "float 8 8 (array([0.6368, 0.5673, 0.5592, 0.5286, 0.5179, 0.5029, 0.5079]),)\n"
     ]
    },
    {
     "name": "stderr",
     "output_type": "stream",
     "text": [
      "100%|██████████| 200/200 [00:42<00:00,  4.76it/s]\n"
     ]
    },
    {
     "name": "stdout",
     "output_type": "stream",
     "text": [
      "binary 4 2 (array([0.9998, 0.9962, 0.9805]),)\n"
     ]
    },
    {
     "name": "stderr",
     "output_type": "stream",
     "text": [
      "100%|██████████| 200/200 [00:42<00:00,  4.66it/s]\n"
     ]
    },
    {
     "name": "stdout",
     "output_type": "stream",
     "text": [
      "binary 4 4 (array([0.985 , 0.9785, 0.9836]),)\n"
     ]
    },
    {
     "name": "stderr",
     "output_type": "stream",
     "text": [
      "100%|██████████| 200/200 [00:54<00:00,  3.69it/s]\n"
     ]
    },
    {
     "name": "stdout",
     "output_type": "stream",
     "text": [
      "binary 6 2 (array([0.9778, 0.9336, 0.8682, 0.7657, 0.738 ]),)\n"
     ]
    },
    {
     "name": "stderr",
     "output_type": "stream",
     "text": [
      "100%|██████████| 200/200 [00:55<00:00,  3.64it/s]\n"
     ]
    },
    {
     "name": "stdout",
     "output_type": "stream",
     "text": [
      "binary 6 4 (array([0.8482, 0.7971, 0.7096, 0.6618, 0.6675]),)\n"
     ]
    },
    {
     "name": "stderr",
     "output_type": "stream",
     "text": [
      "100%|██████████| 200/200 [00:54<00:00,  3.69it/s]\n"
     ]
    },
    {
     "name": "stdout",
     "output_type": "stream",
     "text": [
      "binary 6 6 (array([0.7958, 0.7654, 0.71  , 0.6682, 0.6492]),)\n"
     ]
    },
    {
     "name": "stderr",
     "output_type": "stream",
     "text": [
      "100%|██████████| 200/200 [01:29<00:00,  2.24it/s]\n"
     ]
    },
    {
     "name": "stdout",
     "output_type": "stream",
     "text": [
      "binary 8 2 (array([0.7523, 0.7483, 0.7504, 0.7442, 0.7462, 0.7471, 0.7528]),)\n"
     ]
    },
    {
     "name": "stderr",
     "output_type": "stream",
     "text": [
      "100%|██████████| 200/200 [01:28<00:00,  2.26it/s]\n"
     ]
    },
    {
     "name": "stdout",
     "output_type": "stream",
     "text": [
      "binary 8 4 (array([0.6857, 0.6575, 0.6505, 0.6579, 0.655 , 0.6567, 0.6988]),)\n"
     ]
    },
    {
     "name": "stderr",
     "output_type": "stream",
     "text": [
      "100%|██████████| 200/200 [01:28<00:00,  2.25it/s]\n"
     ]
    },
    {
     "name": "stdout",
     "output_type": "stream",
     "text": [
      "binary 8 6 (array([0.6703, 0.6316, 0.6173, 0.613 , 0.6165, 0.6316, 0.682 ]),)\n"
     ]
    },
    {
     "name": "stderr",
     "output_type": "stream",
     "text": [
      "100%|██████████| 200/200 [01:19<00:00,  2.51it/s]"
     ]
    },
    {
     "name": "stdout",
     "output_type": "stream",
     "text": [
      "binary 8 8 (array([0.6663, 0.6192, 0.5955, 0.5935, 0.6027, 0.6218, 0.6787]),)\n"
     ]
    },
    {
     "name": "stderr",
     "output_type": "stream",
     "text": [
      "\n"
     ]
    }
   ],
   "source": [
    "for mode in [\"float\", \"binary\"]:\n",
    "    for depth in [4, 6, 8]:\n",
    "        for skill in [2, 4, 6, 8]:\n",
    "            if skill > depth:\n",
    "                continue\n",
    "            print(mode, depth, skill, exp(depth, mode, 1000, 0, skill))"
   ]
  },
  {
   "cell_type": "code",
   "execution_count": 159,
   "metadata": {},
   "outputs": [
    {
     "data": {
      "text/plain": [
       "[[0, 1, 3], [0, 1, 4], [0, 2, 5], [0, 2, 6]]"
      ]
     },
     "execution_count": 159,
     "metadata": {},
     "output_type": "execute_result"
    }
   ],
   "source": [
    "testing.trees[0].get_all_paths(0, 3)"
   ]
  },
  {
   "cell_type": "code",
   "execution_count": null,
   "metadata": {},
   "outputs": [],
   "source": []
  },
  {
   "cell_type": "code",
   "execution_count": 163,
   "metadata": {},
   "outputs": [],
   "source": [
    "testing = Forest(\n",
    "    4,\n",
    "    \"float\",\n",
    "    test_budget * seed + test_offset,\n",
    "    test_budget * (seed + 1) + test_offset,\n",
    ")"
   ]
  },
  {
   "cell_type": "code",
   "execution_count": 167,
   "metadata": {},
   "outputs": [
    {
     "data": {
      "text/plain": [
       "[[0, 1, 3], [0, 1, 4], [0, 2, 5], [0, 2, 6]]"
      ]
     },
     "execution_count": 167,
     "metadata": {},
     "output_type": "execute_result"
    }
   ],
   "source": [
    "testing.trees[0].get_all_paths(0, 3)"
   ]
  },
  {
   "cell_type": "code",
   "execution_count": 168,
   "metadata": {},
   "outputs": [
    {
     "data": {
      "text/plain": [
       "15"
      ]
     },
     "execution_count": 168,
     "metadata": {},
     "output_type": "execute_result"
    }
   ],
   "source": [
    "testing.trees[0].n"
   ]
  },
  {
   "cell_type": "code",
   "execution_count": null,
   "metadata": {},
   "outputs": [],
   "source": []
  }
 ],
 "metadata": {
  "kernelspec": {
   "display_name": "random",
   "language": "python",
   "name": "random"
  },
  "language_info": {
   "codemirror_mode": {
    "name": "ipython",
    "version": 3
   },
   "file_extension": ".py",
   "mimetype": "text/x-python",
   "name": "python",
   "nbconvert_exporter": "python",
   "pygments_lexer": "ipython3",
   "version": "3.10.8"
  }
 },
 "nbformat": 4,
 "nbformat_minor": 2
}
