{
 "cells": [
  {
   "cell_type": "code",
   "execution_count": 1,
   "id": "e81a04dc-8385-45e9-be38-c1eb104b1401",
   "metadata": {},
   "outputs": [],
   "source": [
    "import tree\n",
    "import numpy as np\n",
    "from tqdm import tqdm"
   ]
  },
  {
   "cell_type": "code",
   "execution_count": 2,
   "id": "3fda4146-def9-4df6-91e3-a384e2eb4b82",
   "metadata": {},
   "outputs": [],
   "source": [
    "import importlib"
   ]
  },
  {
   "cell_type": "code",
   "execution_count": 38,
   "id": "b28f5ded-4962-4620-820f-c9d4a6f59caf",
   "metadata": {},
   "outputs": [
    {
     "data": {
      "text/plain": [
       "<module 'tree' from '/home/n.saumik/gymnasium-test/tree.py'>"
      ]
     },
     "execution_count": 38,
     "metadata": {},
     "output_type": "execute_result"
    }
   ],
   "source": [
    "importlib.reload(tree)"
   ]
  },
  {
   "cell_type": "code",
   "execution_count": 43,
   "id": "0e05d5ce-0521-46fc-8dd8-b14d24e00613",
   "metadata": {},
   "outputs": [],
   "source": []
  },
  {
   "cell_type": "code",
   "execution_count": null,
   "id": "3b111291-3db4-49cb-90f9-c7a9fd08af52",
   "metadata": {},
   "outputs": [],
   "source": []
  },
  {
   "cell_type": "code",
   "execution_count": null,
   "id": "dc89feb3-ab7a-4275-ae7e-12522397a0be",
   "metadata": {},
   "outputs": [],
   "source": [
    "f = tree.Forest(5, 'crit-8-10-0-0', 0, 100000)\n"
   ]
  },
  {
   "cell_type": "code",
   "execution_count": null,
   "id": "6e24d572-653c-4461-a91d-664a7c110720",
   "metadata": {},
   "outputs": [],
   "source": []
  },
  {
   "cell_type": "code",
   "execution_count": null,
   "id": "61c8c927-ebc6-4d8f-b390-822d749f916e",
   "metadata": {},
   "outputs": [],
   "source": []
  },
  {
   "cell_type": "code",
   "execution_count": null,
   "id": "834c2471-4434-4d5a-9572-db7af1cd21d0",
   "metadata": {},
   "outputs": [],
   "source": []
  },
  {
   "cell_type": "code",
   "execution_count": 97,
   "id": "c5e55b62-6ab9-4a6e-b25b-046c7a980f24",
   "metadata": {},
   "outputs": [
    {
     "name": "stdout",
     "output_type": "stream",
     "text": [
      "A 3.166909148553396\n",
      "B 3.2928495687284363\n",
      "C 3.342767119398928\n",
      "D 3.365202798622369\n"
     ]
    }
   ],
   "source": [
    "for skill in [\"A\", \"B\", \"C\", \"D\"]:\n",
    "    f = tree.Forest(5, 'crit-8-10-0-0', 0, 100000)\n",
    "    scores = [t.get_total_score(skill) for t in f.trees]\n",
    "    print(skill, np.mean(scores))"
   ]
  },
  {
   "cell_type": "code",
   "execution_count": 117,
   "id": "e03ddef4-3c1b-4caf-8d93-ae3119b167e3",
   "metadata": {},
   "outputs": [],
   "source": [
    "n = 100000"
   ]
  },
  {
   "cell_type": "code",
   "execution_count": 118,
   "id": "232f4b47-26f8-4c6e-9478-a6d6d4f82275",
   "metadata": {},
   "outputs": [
    {
     "data": {
      "text/plain": [
       "3.346640764743282"
      ]
     },
     "execution_count": 118,
     "metadata": {},
     "output_type": "execute_result"
    }
   ],
   "source": [
    "f = tree.Forest(5, 'crit-8-10-0-0', 0, n)\n",
    "np.mean([t.get_total_score(\"D-0.07\") for t in f.trees])\n",
    "\n",
    "# C 3.342767119398928"
   ]
  },
  {
   "cell_type": "code",
   "execution_count": 119,
   "id": "6706a949-2037-4f4b-8426-cfd048d4c0d3",
   "metadata": {},
   "outputs": [
    {
     "data": {
      "text/plain": [
       "3.2944177508017582"
      ]
     },
     "execution_count": 119,
     "metadata": {},
     "output_type": "execute_result"
    }
   ],
   "source": [
    "f = tree.Forest(5, 'crit-8-10-0-0', 0, n)\n",
    "np.mean([t.get_total_score(\"D-0.14\") for t in f.trees])\n",
    "\n",
    "# B 3.2928495687284363"
   ]
  },
  {
   "cell_type": "code",
   "execution_count": 121,
   "id": "be68dad0-4a99-4a3f-b0e6-90806f87144a",
   "metadata": {},
   "outputs": [
    {
     "data": {
      "text/plain": [
       "3.1700756885665577"
      ]
     },
     "execution_count": 121,
     "metadata": {},
     "output_type": "execute_result"
    }
   ],
   "source": [
    "f = tree.Forest(5, 'crit-8-10-0-0', 0, n)\n",
    "np.mean([t.get_total_score(\"D-0.26\") for t in f.trees])\n",
    "\n",
    "# A 3.166909148553396"
   ]
  },
  {
   "cell_type": "code",
   "execution_count": null,
   "id": "e1763ce4-74dd-492b-9628-fcdd029e9630",
   "metadata": {},
   "outputs": [],
   "source": []
  },
  {
   "cell_type": "code",
   "execution_count": 132,
   "id": "d784f957-4390-44c3-a6bc-4648349c763c",
   "metadata": {},
   "outputs": [
    {
     "name": "stdout",
     "output_type": "stream",
     "text": [
      "A 4.632622011257745\n",
      "B 5.209717607093943\n",
      "C 5.475329921845477\n",
      "D 5.615014155187196\n"
     ]
    }
   ],
   "source": [
    "for skill in [\"A\", \"B\", \"C\", \"D\"]:\n",
    "    f = tree.Forest(5, 'crit-0-2-8-0.2', 0, 100000)\n",
    "    scores = [t.get_total_score(skill) for t in f.trees]\n",
    "    print(skill, np.mean(scores))"
   ]
  },
  {
   "cell_type": "code",
   "execution_count": 164,
   "id": "e0575295-1a5e-4ba7-b045-dc7d3db1e6fe",
   "metadata": {},
   "outputs": [],
   "source": [
    "n = 100000"
   ]
  },
  {
   "cell_type": "code",
   "execution_count": 165,
   "id": "61c8bb6b-8c52-49e4-9bec-614abbb43789",
   "metadata": {},
   "outputs": [
    {
     "data": {
      "text/plain": [
       "5.468438854003032"
      ]
     },
     "execution_count": 165,
     "metadata": {},
     "output_type": "execute_result"
    }
   ],
   "source": [
    "f = tree.Forest(5, 'crit-0-2-8-0.2', 0, n)\n",
    "np.mean([t.get_total_score(\"D-0.4\") for t in f.trees])\n",
    "\n",
    "# C 5.475329921845477"
   ]
  },
  {
   "cell_type": "code",
   "execution_count": 166,
   "id": "60518123-311e-4406-8e9c-0b345eec4790",
   "metadata": {},
   "outputs": [
    {
     "data": {
      "text/plain": [
       "5.218804213918838"
      ]
     },
     "execution_count": 166,
     "metadata": {},
     "output_type": "execute_result"
    }
   ],
   "source": [
    "f = tree.Forest(5, 'crit-0-2-8-0.2', 0, n)\n",
    "np.mean([t.get_total_score(\"D-0.8\") for t in f.trees])\n",
    "\n",
    "# B 5.209717607093943"
   ]
  },
  {
   "cell_type": "code",
   "execution_count": 167,
   "id": "cab1519d-7813-4124-84db-608ee3790870",
   "metadata": {},
   "outputs": [
    {
     "data": {
      "text/plain": [
       "4.637364831188271"
      ]
     },
     "execution_count": 167,
     "metadata": {},
     "output_type": "execute_result"
    }
   ],
   "source": [
    "f = tree.Forest(5, 'crit-0-2-8-0.2', 0, n)\n",
    "np.mean([t.get_total_score(\"D-2.0\") for t in f.trees])\n",
    "\n",
    "# A 4.632622011257745"
   ]
  },
  {
   "cell_type": "code",
   "execution_count": null,
   "id": "f888a752-a995-4d4d-8242-a63e08691a9d",
   "metadata": {},
   "outputs": [],
   "source": []
  },
  {
   "cell_type": "code",
   "execution_count": null,
   "id": "f49a284b-5e5c-472a-8cba-df596232756c",
   "metadata": {},
   "outputs": [],
   "source": []
  },
  {
   "cell_type": "code",
   "execution_count": null,
   "id": "51ac26f2-4ead-4e75-994a-c4cbfe976e8b",
   "metadata": {},
   "outputs": [],
   "source": []
  },
  {
   "cell_type": "code",
   "execution_count": 90,
   "id": "21bfdafa-baac-4af6-b008-7f48d35be1e3",
   "metadata": {},
   "outputs": [],
   "source": [
    "n = 100000"
   ]
  },
  {
   "cell_type": "code",
   "execution_count": 91,
   "id": "c182c6f8-345a-424d-b629-e5e35aa3b586",
   "metadata": {},
   "outputs": [
    {
     "name": "stdout",
     "output_type": "stream",
     "text": [
      "A 3.705034665993696\n",
      "B 4.767730011566852\n",
      "C 5.284214865023245\n",
      "D 5.615014155187196\n",
      "CPU times: user 1min 2s, sys: 1.66 s, total: 1min 4s\n",
      "Wall time: 1min 3s\n"
     ]
    }
   ],
   "source": [
    "%%time\n",
    "\n",
    "for skill in [\"A\", \"B\", \"C\", \"D\"]:\n",
    "    f = tree.Forest(5, 'crit-8-10-0-0.2', 0, n)\n",
    "    scores = [t.get_total_score(skill) for t in f.trees]\n",
    "    print(skill, np.mean(scores))"
   ]
  },
  {
   "cell_type": "code",
   "execution_count": 93,
   "id": "3bbafe4a-be79-46c5-9a0e-b6a513dbb988",
   "metadata": {},
   "outputs": [
    {
     "data": {
      "text/plain": [
       "5.283870902200391"
      ]
     },
     "execution_count": 93,
     "metadata": {},
     "output_type": "execute_result"
    }
   ],
   "source": [
    "f = tree.Forest(5, 'crit-8-10-0-0.2', 0, n)\n",
    "np.mean([t.get_total_score(\"D-0.7\") for t in f.trees])\n",
    "\n",
    "# C 5.280204954754422"
   ]
  },
  {
   "cell_type": "code",
   "execution_count": 94,
   "id": "17469366-9289-4acc-ac24-160637d59242",
   "metadata": {},
   "outputs": [
    {
     "data": {
      "text/plain": [
       "4.765723841114002"
      ]
     },
     "execution_count": 94,
     "metadata": {},
     "output_type": "execute_result"
    }
   ],
   "source": [
    "f = tree.Forest(5, 'crit-8-10-0-0.2', 0, n)\n",
    "np.mean([t.get_total_score(\"D-1.7\") for t in f.trees])\n",
    "\n",
    "# B 4.767730011566852"
   ]
  },
  {
   "cell_type": "code",
   "execution_count": 95,
   "id": "cee28ea4-5b91-4895-a0a6-9ac34e3b39f6",
   "metadata": {},
   "outputs": [
    {
     "data": {
      "text/plain": [
       "3.719132066426839"
      ]
     },
     "execution_count": 95,
     "metadata": {},
     "output_type": "execute_result"
    }
   ],
   "source": [
    "f = tree.Forest(5, 'crit-8-10-0-0.2', 0, n)\n",
    "np.mean([t.get_total_score(\"D-4.0\") for t in f.trees])\n",
    "\n",
    "# A 3.705034665993696"
   ]
  },
  {
   "cell_type": "code",
   "execution_count": null,
   "id": "3b319068-cfd9-4f35-8be6-efbd75ff44d4",
   "metadata": {},
   "outputs": [],
   "source": []
  }
 ],
 "metadata": {
  "kernelspec": {
   "display_name": "random",
   "language": "python",
   "name": "random"
  },
  "language_info": {
   "codemirror_mode": {
    "name": "ipython",
    "version": 3
   },
   "file_extension": ".py",
   "mimetype": "text/x-python",
   "name": "python",
   "nbconvert_exporter": "python",
   "pygments_lexer": "ipython3",
   "version": "3.10.8"
  }
 },
 "nbformat": 4,
 "nbformat_minor": 5
}
