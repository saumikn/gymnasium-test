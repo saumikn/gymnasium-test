{
 "cells": [
  {
   "cell_type": "code",
   "execution_count": 1,
   "metadata": {},
   "outputs": [
    {
     "name": "stdout",
     "output_type": "stream",
     "text": [
      "/rdcw/fs2/home1/Active/home/n.saumik/gymnasium-test\n"
     ]
    }
   ],
   "source": [
    "%cd ~/gymnasium-test/\n",
    "%load_ext line_profiler\n",
    "%load_ext memory_profiler\n",
    "%load_ext autoreload\n",
    "%autoreload 2"
   ]
  },
  {
   "cell_type": "code",
   "execution_count": 1,
   "metadata": {},
   "outputs": [
    {
     "name": "stdout",
     "output_type": "stream",
     "text": [
      "importing numpy\n",
      "importing tensorflow\n",
      "done with imports\n"
     ]
    },
    {
     "name": "stderr",
     "output_type": "stream",
     "text": [
      "2024-10-24 08:08:18.881356: E tensorflow/stream_executor/cuda/cuda_driver.cc:271] failed call to cuInit: CUDA_ERROR_NO_DEVICE: no CUDA-capable device is detected\n"
     ]
    }
   ],
   "source": [
    "from tree import Tree"
   ]
  },
  {
   "cell_type": "code",
   "execution_count": 16,
   "metadata": {},
   "outputs": [],
   "source": [
    "t = Tree(5, \"float\")"
   ]
  },
  {
   "cell_type": "code",
   "execution_count": 18,
   "metadata": {},
   "outputs": [
    {
     "data": {
      "text/plain": [
       "array([ 0.  ,  0.  , -1.96,  1.02,  0.  ,  0.  ,  0.61,  0.73,  0.  ,\n",
       "        1.94,  0.  ,  1.  ,  0.  ,  0.  ,  0.73,  0.18,  0.86,  1.54,\n",
       "       -1.7 ,  0.42,  0.03,  1.12, -1.33,  0.65,  0.62,  1.38, -1.  ,\n",
       "        1.98, -1.31,  0.65,  0.69])"
      ]
     },
     "execution_count": 18,
     "metadata": {},
     "output_type": "execute_result"
    }
   ],
   "source": [
    "t.arr.round(2)"
   ]
  },
  {
   "cell_type": "code",
   "execution_count": null,
   "metadata": {},
   "outputs": [],
   "source": []
  },
  {
   "cell_type": "code",
   "execution_count": null,
   "metadata": {},
   "outputs": [],
   "source": []
  },
  {
   "cell_type": "code",
   "execution_count": 5,
   "metadata": {},
   "outputs": [
    {
     "name": "stdout",
     "output_type": "stream",
     "text": [
      "importing tensorflow\n",
      "finished importing tensorflow\n"
     ]
    }
   ],
   "source": [
    "import os\n",
    "\n",
    "print(\"importing tensorflow\")\n",
    "os.environ[\"CUDA_VISIBLE_DEVICES\"] = \"-1\"\n",
    "os.environ[\"TF_CPP_MIN_LOG_LEVEL\"] = \"2\"\n",
    "os.environ[\"MPLCONFIGDIR\"] = \"/tmp/\"\n",
    "import tensorflow as tf\n",
    "\n",
    "tf.config.set_visible_devices([], \"GPU\")\n",
    "print(\"finished importing tensorflow\")"
   ]
  },
  {
   "cell_type": "code",
   "execution_count": 6,
   "metadata": {},
   "outputs": [],
   "source": [
    "import numpy as np\n",
    "from tqdm import tqdm\n",
    "import gc\n",
    "import time\n",
    "\n",
    "from tree import make_model, EarlyStopper, Forest, get_output, write_output"
   ]
  },
  {
   "cell_type": "code",
   "execution_count": null,
   "metadata": {},
   "outputs": [],
   "source": []
  },
  {
   "cell_type": "code",
   "execution_count": null,
   "metadata": {},
   "outputs": [],
   "source": []
  },
  {
   "cell_type": "code",
   "execution_count": 2,
   "metadata": {},
   "outputs": [],
   "source": [
    "import numpy as np"
   ]
  },
  {
   "cell_type": "code",
   "execution_count": 65,
   "metadata": {},
   "outputs": [
    {
     "name": "stdout",
     "output_type": "stream",
     "text": [
      "CPU times: user 5.29 s, sys: 1.27 s, total: 6.56 s\n",
      "Wall time: 6.57 s\n"
     ]
    }
   ],
   "source": [
    "%%time\n",
    "a = np.random.default_rng(0).uniform(0, 2, size=(100000000, 6))\n",
    "a[:, (1,3,5)] += 1"
   ]
  },
  {
   "cell_type": "code",
   "execution_count": 66,
   "metadata": {},
   "outputs": [
    {
     "name": "stdout",
     "output_type": "stream",
     "text": [
      "CPU times: user 4.78 s, sys: 2.22 s, total: 7 s\n",
      "Wall time: 7.02 s\n"
     ]
    }
   ],
   "source": [
    "%%time\n",
    "paths = np.array([a[:, p].sum(axis=1) for p in [(0,2),(0,3),(1,4),(1,5)]])"
   ]
  },
  {
   "cell_type": "code",
   "execution_count": 67,
   "metadata": {},
   "outputs": [
    {
     "data": {
      "text/plain": [
       "4.155586252617806"
      ]
     },
     "execution_count": 67,
     "metadata": {},
     "output_type": "execute_result"
    }
   ],
   "source": [
    "paths.max(axis=0).mean()"
   ]
  },
  {
   "cell_type": "code",
   "execution_count": null,
   "metadata": {},
   "outputs": [],
   "source": []
  },
  {
   "cell_type": "code",
   "execution_count": null,
   "metadata": {},
   "outputs": [],
   "source": []
  },
  {
   "cell_type": "code",
   "execution_count": null,
   "metadata": {},
   "outputs": [],
   "source": []
  },
  {
   "cell_type": "code",
   "execution_count": null,
   "metadata": {},
   "outputs": [],
   "source": []
  },
  {
   "cell_type": "code",
   "execution_count": null,
   "metadata": {},
   "outputs": [],
   "source": []
  },
  {
   "cell_type": "code",
   "execution_count": null,
   "metadata": {},
   "outputs": [],
   "source": []
  },
  {
   "cell_type": "code",
   "execution_count": null,
   "metadata": {},
   "outputs": [],
   "source": []
  },
  {
   "cell_type": "code",
   "execution_count": null,
   "metadata": {},
   "outputs": [],
   "source": []
  },
  {
   "cell_type": "code",
   "execution_count": 8,
   "metadata": {},
   "outputs": [
    {
     "ename": "",
     "evalue": "",
     "output_type": "error",
     "traceback": [
      "\u001b[1;31mFailed to connect to the remote Jupyter Server 'http://compute1-exec-357.ris.wustl.edu:8486/'. Verify the server is running and reachable. (Kernel not initialized in Session)."
     ]
    }
   ],
   "source": [
    "def exp(\n",
    "    seed,\n",
    "    decisions,\n",
    "    window,\n",
    "    mode,\n",
    "    skill_str,\n",
    "    budget,\n",
    "    patience=20,\n",
    "    write=True,\n",
    "    opt=\"sgd\",\n",
    "    lr=1,\n",
    "    num_nodes=16,\n",
    "    num_layers=1,\n",
    "):\n",
    "    depth = decisions + 1\n",
    "    print(f\"\\n\\n\\nStarting experiment: Seed-{seed} Depth-{depth} Skill-{skill_str}\")\n",
    "\n",
    "    import tensorflow as tf\n",
    "\n",
    "    st = time.perf_counter()\n",
    "    model = make_model(depth, window, opt, lr, num_nodes, num_layers)\n",
    "    best = model.get_weights()\n",
    "\n",
    "    if decisions == 4:\n",
    "        if isinstance(budget, list):\n",
    "            budget = np.array(budget).astype(int)\n",
    "            budget_str = \"_\".join(str(i) for i in budget)\n",
    "\n",
    "        elif budget.startswith(\"right_\"):\n",
    "            budget_str = budget\n",
    "            budget = int(budget_str.split(\"_\")[1]) * np.array([0.125, 0.125, 0.25, 0.5])\n",
    "\n",
    "        elif budget.startswith(\"equal_\"):\n",
    "            budget_str = budget\n",
    "            budget = int(budget_str.split(\"_\")[1]) * np.array([0.25, 0.25, 0.25, 0.25])\n",
    "\n",
    "        elif budget.startswith(\"left_\"):\n",
    "            budget_str = budget\n",
    "            budget = int(budget_str.split(\"_\")[1]) * np.array([0.5, 0.25, 0.125, 0.125])\n",
    "\n",
    "        budget = budget.astype(int)\n",
    "        budget = dict(zip(\"ABCD\", budget))\n",
    "        print(budget)\n",
    "\n",
    "    print(\n",
    "        f\"make model: {seed} {depth} {skill_str} {budget_str}\", time.perf_counter() - st\n",
    "    )\n",
    "\n",
    "    skills = [[(s, budget[s]) for s in stage] for stage in skill_str.split(\"_\")]\n",
    "    print(skills)\n",
    "\n",
    "    stopper = EarlyStopper(patience, minimize=False)\n",
    "    best_test = -np.inf\n",
    "\n",
    "    for stagei, stage in enumerate(skills):\n",
    "        print(stage)\n",
    "        model = make_model(model=model)\n",
    "        model.set_weights(best)\n",
    "\n",
    "        X_trains, Y_trains, X_tests, Y_tests = [], [], [], []\n",
    "\n",
    "        for s, budget in stage:\n",
    "            st = time.perf_counter()\n",
    "            train = Forest(depth, mode, budget * seed, budget * (seed + 1))\n",
    "            X_train, Y_train = train.get_training_data(s, window=window)\n",
    "            print(f\"train data: {seed} {depth} {s} {budget}\", time.perf_counter() - st)\n",
    "\n",
    "            st = time.perf_counter()\n",
    "            test_budget, test_offset = 2048, int(1e9)\n",
    "            test = Forest(\n",
    "                depth,\n",
    "                mode,\n",
    "                test_budget * seed + test_offset,\n",
    "                test_budget * (seed + 1) + test_offset,\n",
    "            )\n",
    "            X_test, Y_test = test.get_training_data(s, window=window)\n",
    "            print(f\"test data: {seed} {depth} {s} {budget}\", time.perf_counter() - st)\n",
    "            X_trains.append(X_train)\n",
    "            Y_trains.append(Y_train)\n",
    "            X_tests.append(X_test)\n",
    "            Y_tests.append(Y_test)\n",
    "\n",
    "        X_train = tf.convert_to_tensor(np.concatenate(X_trains))\n",
    "        Y_train = tf.convert_to_tensor(np.concatenate(Y_trains))\n",
    "        X_test = tf.convert_to_tensor(np.concatenate(X_tests))\n",
    "        Y_test = tf.convert_to_tensor(np.concatenate(Y_tests))\n",
    "\n",
    "        tqdm_kwargs = {\n",
    "            \"ncols\": 80,\n",
    "            \"leave\": True,\n",
    "            \"desc\": f\"Seed {seed} Depth {depth} Stage {'+'.join(s for s, _ in stage)}\",\n",
    "            # \"position\": 1,\n",
    "            # \"disable\": True,\n",
    "        }\n",
    "\n",
    "        stopper.wait = 0\n",
    "        for epoch in tqdm(range(2000), **tqdm_kwargs):\n",
    "            # print()\n",
    "            # st = time.perf_counter()\n",
    "            if epoch != 0:\n",
    "                model.fit(X_train, Y_train, batch_size=256, verbose=0)\n",
    "            # print(f\"model fit: {seed} {epoch}\", time.perf_counter() - st)\n",
    "\n",
    "            # st = time.perf_counter()\n",
    "            loss, acc = model.evaluate(X_test, Y_test, batch_size=4096, verbose=0)\n",
    "            # print(f\"model evaluate: {seed} {epoch}\", time.perf_counter() - st)\n",
    "\n",
    "            # st = time.perf_counter()\n",
    "            _, scores, _ = test.eval_model(model, window=window)\n",
    "            valid_score = np.mean(scores[: test_budget // 2])\n",
    "            test_score = np.mean(scores[test_budget // 2 :])\n",
    "            # print(f\"model eval_model: {seed} {epoch}\", time.perf_counter() - st)\n",
    "            at_best, at_patience = stopper.should_stop(valid_score)\n",
    "            if at_best:\n",
    "                best = model.get_weights()\n",
    "                best_output = get_output(\n",
    "                    seed,\n",
    "                    depth - 1,\n",
    "                    window,\n",
    "                    mode,\n",
    "                    stagei,\n",
    "                    skill_str,\n",
    "                    budget_str,\n",
    "                    opt,\n",
    "                    lr,\n",
    "                    num_nodes,\n",
    "                    num_layers,\n",
    "                    epoch,\n",
    "                    loss,\n",
    "                    acc,\n",
    "                    valid_score,\n",
    "                    stopper.wait,\n",
    "                    stopper.patience,\n",
    "                    test_score,\n",
    "                )\n",
    "                best_test = test_score\n",
    "\n",
    "            if at_patience:\n",
    "                write_output(best_output)\n",
    "                break\n",
    "\n",
    "        st = time.perf_counter()\n",
    "    del X_train, Y_train, X_test, Y_test\n",
    "    del train, test\n",
    "    del model\n",
    "    tf.keras.backend.clear_session()\n",
    "    gc.collect()\n",
    "    print(\n",
    "        f\"deleting: {seed} {depth} {skill_str} {budget_str}\", time.perf_counter() - st\n",
    "    )\n",
    "    return stopper.best_value, best_test"
   ]
  },
  {
   "cell_type": "code",
   "execution_count": 9,
   "metadata": {},
   "outputs": [
    {
     "ename": "",
     "evalue": "",
     "output_type": "error",
     "traceback": [
      "\u001b[1;31mFailed to connect to the remote Jupyter Server 'http://compute1-exec-357.ris.wustl.edu:8486/'. Verify the server is running and reachable. (Kernel not initialized in Session)."
     ]
    }
   ],
   "source": [
    "# decisions = int(sys.argv[2])\n",
    "# assert decisions == 4\n",
    "# mode = sys.argv[3]\n",
    "# budget_str = int(sys.argv[4])\n",
    "# window = 0\n",
    "# start, end = [int(i) for i in sys.argv[5].split(\"-\")]\n",
    "\n",
    "decisions = 4\n",
    "assert decisions == 4\n",
    "mode = \"normal-2-0\"\n",
    "budget_str = int(2)\n",
    "window = 0\n",
    "start, end = 0, 1\n",
    "skills = \"ABCD\"[:decisions]\n",
    "onepass = \"_\".join(skills)\n",
    "\n",
    "\n",
    "for seed in range(start, end):\n",
    "\n",
    "    budget = [2, 2, 2, 2]\n",
    "    while sum(budget) < 2**18:\n",
    "        cur = sum(budget)\n",
    "        branch_add = cur // 8\n",
    "        branch_vals = {}\n",
    "        for i in range(4):\n",
    "            branch_budget = budget.copy()\n",
    "            branch_budget[i] += branch_add\n",
    "            valid_score, test_score = exp(\n",
    "                seed,\n",
    "                decisions,\n",
    "                window,\n",
    "                mode,\n",
    "                onepass,\n",
    "                branch_budget,\n",
    "                write=False,\n",
    "            )\n",
    "            branch_vals[tuple(branch_budget)] = valid_score, test_score\n",
    "        print(branch_vals)\n",
    "        break"
   ]
  },
  {
   "cell_type": "code",
   "execution_count": null,
   "metadata": {},
   "outputs": [],
   "source": []
  }
 ],
 "metadata": {
  "kernelspec": {
   "display_name": "Python 3",
   "language": "python",
   "name": "python3"
  },
  "language_info": {
   "codemirror_mode": {
    "name": "ipython",
    "version": 3
   },
   "file_extension": ".py",
   "mimetype": "text/x-python",
   "name": "python",
   "nbconvert_exporter": "python",
   "pygments_lexer": "ipython3",
   "version": "3.10.8"
  }
 },
 "nbformat": 4,
 "nbformat_minor": 4
}
