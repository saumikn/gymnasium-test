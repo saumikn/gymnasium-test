{
 "cells": [
  {
   "cell_type": "code",
   "execution_count": 4,
   "id": "e81a04dc-8385-45e9-be38-c1eb104b1401",
   "metadata": {},
   "outputs": [],
   "source": [
    "import tree\n",
    "import numpy as np\n",
    "from tqdm import tqdm"
   ]
  },
  {
   "cell_type": "code",
   "execution_count": 5,
   "id": "3fda4146-def9-4df6-91e3-a384e2eb4b82",
   "metadata": {},
   "outputs": [],
   "source": [
    "import importlib"
   ]
  },
  {
   "cell_type": "code",
   "execution_count": 16,
   "id": "b28f5ded-4962-4620-820f-c9d4a6f59caf",
   "metadata": {},
   "outputs": [
    {
     "data": {
      "text/plain": [
       "<module 'tree' from '/home/n.saumik/gymnasium-test/tree.py'>"
      ]
     },
     "execution_count": 16,
     "metadata": {},
     "output_type": "execute_result"
    }
   ],
   "source": [
    "importlib.reload(tree)"
   ]
  },
  {
   "cell_type": "code",
   "execution_count": 43,
   "id": "0e05d5ce-0521-46fc-8dd8-b14d24e00613",
   "metadata": {},
   "outputs": [],
   "source": []
  },
  {
   "cell_type": "code",
   "execution_count": null,
   "id": "3b111291-3db4-49cb-90f9-c7a9fd08af52",
   "metadata": {},
   "outputs": [],
   "source": []
  },
  {
   "cell_type": "code",
   "execution_count": 8,
   "id": "dc89feb3-ab7a-4275-ae7e-12522397a0be",
   "metadata": {},
   "outputs": [],
   "source": []
  },
  {
   "cell_type": "code",
   "execution_count": 37,
   "id": "6e24d572-653c-4461-a91d-664a7c110720",
   "metadata": {},
   "outputs": [
    {
     "name": "stdout",
     "output_type": "stream",
     "text": [
      "original\n",
      "A 4.623283791778003\n",
      "B 5.2025638192114\n",
      "C 5.47086435221946\n",
      "D 5.605083785777223\n",
      "\n",
      "random pertubation\n",
      "A 2.938395701204391\n",
      "B 2.4989582874053076\n",
      "C 2.192122871030411\n",
      "D 2.04481101397175\n"
     ]
    }
   ],
   "source": [
    "f = tree.Forest(5, \"crit-0-2-8-0.2\", 0, 10000)\n",
    "\n",
    "print(\"original\")\n",
    "for skill in [\"A\", \"B\", \"C\", \"D\"]:\n",
    "    scores = []\n",
    "    for t in tqdm(f.trees, disable=True):\n",
    "        scores.append(t.get_total_score(skill))\n",
    "    print(skill, np.mean(scores))\n",
    "\n",
    "print(\"\\nrandom pertubation\")\n",
    "for skill in [\"A\", \"B\", \"C\", \"D\"]:\n",
    "    scores = []\n",
    "    for t in tqdm(f.trees, disable=True):\n",
    "        scores.append(t.get_total_score(skill, 1))\n",
    "        scores.append(t.get_total_score(skill, 2))\n",
    "        scores.append(t.get_total_score(skill, 3))\n",
    "        scores.append(t.get_total_score(skill, 4))\n",
    "    print(skill, np.mean(scores))"
   ]
  },
  {
   "cell_type": "code",
   "execution_count": null,
   "id": "cc246376-4396-49da-9330-ac9435fe0c98",
   "metadata": {},
   "outputs": [],
   "source": []
  },
  {
   "cell_type": "code",
   "execution_count": 38,
   "id": "2dfde5a7-93d6-4b58-a325-0efd8fc24d43",
   "metadata": {},
   "outputs": [
    {
     "name": "stdout",
     "output_type": "stream",
     "text": [
      "original\n",
      "A 3.163242242272272\n",
      "B 3.2889542687344075\n",
      "C 3.341017729278461\n",
      "D 3.3629791447518502\n",
      "\n",
      "random pertubation\n",
      "A 2.9138191391516295\n",
      "B 2.9735806841845007\n",
      "C 2.989529560909045\n",
      "D 2.99704068448873\n"
     ]
    }
   ],
   "source": [
    "f = tree.Forest(5, \"random\", 0, 10000)\n",
    "\n",
    "print(\"original\")\n",
    "for skill in [\"A\", \"B\", \"C\", \"D\"]:\n",
    "    scores = []\n",
    "    for t in tqdm(f.trees, disable=True):\n",
    "        scores.append(t.get_total_score(skill))\n",
    "    print(skill, np.mean(scores))\n",
    "\n",
    "print(\"\\nrandom pertubation\")\n",
    "for skill in [\"A\", \"B\", \"C\", \"D\"]:\n",
    "    scores = []\n",
    "    for t in tqdm(f.trees, disable=True):\n",
    "        scores.append(t.get_total_score(skill, 1))\n",
    "        scores.append(t.get_total_score(skill, 2))\n",
    "        scores.append(t.get_total_score(skill, 3))\n",
    "        scores.append(t.get_total_score(skill, 4))\n",
    "    print(skill, np.mean(scores))"
   ]
  },
  {
   "cell_type": "code",
   "execution_count": null,
   "id": "c01b74ad-4582-4467-9014-cb059b0a2d08",
   "metadata": {},
   "outputs": [],
   "source": []
  },
  {
   "cell_type": "code",
   "execution_count": null,
   "id": "600565ba-a99b-4566-b883-96f65225d29a",
   "metadata": {},
   "outputs": [],
   "source": [
    "# Effect of Pertubation in Tree Environments\n",
    "\n",
    "## Random Tree\n",
    "## Low Skill - 0.25\n",
    "## High Skill - 0.36\n",
    "## Difference - 0.11 (1.44x)\n",
    "\n",
    "\n",
    "\n",
    "## Critical Tree\n",
    "## Low Skill - 1.68\n",
    "## High Skill - 3.56\n",
    "## Difference - 1.88 (2.11x)"
   ]
  },
  {
   "cell_type": "code",
   "execution_count": null,
   "id": "befd09fe-cbb2-4281-b783-b80094c6ace8",
   "metadata": {},
   "outputs": [],
   "source": []
  },
  {
   "cell_type": "code",
   "execution_count": 35,
   "id": "8508afd2-8c7a-46dd-b861-b58b12aae853",
   "metadata": {},
   "outputs": [
    {
     "name": "stdout",
     "output_type": "stream",
     "text": [
      "B 9.174736858974825\n",
      "D 9.264921394785262\n",
      "B 2.878289906266662\n",
      "D 2.7866882384751754\n"
     ]
    }
   ],
   "source": [
    "f = tree.Forest(5, \"crit-0-2-8-0.8\", 0, 10000)\n",
    "\n",
    "for skill in [\"B\", \"D\"]:\n",
    "    scores = []\n",
    "    for t in tqdm(f.trees, disable=True):\n",
    "        scores.append(t.get_total_score(skill))\n",
    "    print(skill, np.mean(scores))\n",
    "\n",
    "for skill in [\"B\", \"D\"]:\n",
    "    scores = []\n",
    "    for t in tqdm(f.trees, disable=True):\n",
    "        scores.append(t.get_total_score(skill, 1))\n",
    "        scores.append(t.get_total_score(skill, 2))\n",
    "        scores.append(t.get_total_score(skill, 3))\n",
    "        scores.append(t.get_total_score(skill, 4))\n",
    "    print(skill, np.mean(scores))"
   ]
  },
  {
   "cell_type": "code",
   "execution_count": null,
   "id": "f7aa5799-9779-43ae-a719-ce498bccb7a3",
   "metadata": {},
   "outputs": [],
   "source": []
  },
  {
   "cell_type": "code",
   "execution_count": 30,
   "id": "fb250e75-9f59-4635-8bf9-62bf76e00ddb",
   "metadata": {},
   "outputs": [
    {
     "data": {
      "text/plain": [
       "array([ 0.84,  0.76,  0.26,  0.79,  0.24,  0.58,  0.56,  0.85,  0.1 ,\n",
       "        0.83,  0.57,  2.43, -7.57,  0.25,  0.8 ,  2.47, -7.06,  2.27,\n",
       "       -7.85, -7.32,  2.01,  0.09,  0.76,  0.23,  0.  ,  0.56,  0.84,\n",
       "        0.93,  0.28,  0.74,  0.9 ])"
      ]
     },
     "execution_count": 30,
     "metadata": {},
     "output_type": "execute_result"
    }
   ],
   "source": [
    "t.arr.round(2)"
   ]
  },
  {
   "cell_type": "code",
   "execution_count": null,
   "id": "f0a745b4-4776-47fb-8a73-c1dc2876b2da",
   "metadata": {},
   "outputs": [],
   "source": []
  },
  {
   "cell_type": "code",
   "execution_count": null,
   "id": "668c67de-655b-4cc0-83b9-da8209faf078",
   "metadata": {},
   "outputs": [],
   "source": []
  },
  {
   "cell_type": "code",
   "execution_count": null,
   "id": "834c2471-4434-4d5a-9572-db7af1cd21d0",
   "metadata": {},
   "outputs": [],
   "source": []
  },
  {
   "cell_type": "code",
   "execution_count": 97,
   "id": "c5e55b62-6ab9-4a6e-b25b-046c7a980f24",
   "metadata": {},
   "outputs": [
    {
     "name": "stdout",
     "output_type": "stream",
     "text": [
      "A 3.166909148553396\n",
      "B 3.2928495687284363\n",
      "C 3.342767119398928\n",
      "D 3.365202798622369\n"
     ]
    }
   ],
   "source": [
    "for skill in [\"A\", \"B\", \"C\", \"D\"]:\n",
    "    f = tree.Forest(5, \"crit-8-10-0-0\", 0, 100000)\n",
    "    scores = [t.get_total_score(skill) for t in f.trees]\n",
    "    print(skill, np.mean(scores))"
   ]
  },
  {
   "cell_type": "code",
   "execution_count": 117,
   "id": "e03ddef4-3c1b-4caf-8d93-ae3119b167e3",
   "metadata": {},
   "outputs": [],
   "source": [
    "n = 100000"
   ]
  },
  {
   "cell_type": "code",
   "execution_count": 118,
   "id": "232f4b47-26f8-4c6e-9478-a6d6d4f82275",
   "metadata": {},
   "outputs": [
    {
     "data": {
      "text/plain": [
       "3.346640764743282"
      ]
     },
     "execution_count": 118,
     "metadata": {},
     "output_type": "execute_result"
    }
   ],
   "source": [
    "f = tree.Forest(5, \"crit-8-10-0-0\", 0, n)\n",
    "np.mean([t.get_total_score(\"D-0.07\") for t in f.trees])\n",
    "\n",
    "# C 3.342767119398928"
   ]
  },
  {
   "cell_type": "code",
   "execution_count": 119,
   "id": "6706a949-2037-4f4b-8426-cfd048d4c0d3",
   "metadata": {},
   "outputs": [
    {
     "data": {
      "text/plain": [
       "3.2944177508017582"
      ]
     },
     "execution_count": 119,
     "metadata": {},
     "output_type": "execute_result"
    }
   ],
   "source": [
    "f = tree.Forest(5, \"crit-8-10-0-0\", 0, n)\n",
    "np.mean([t.get_total_score(\"D-0.14\") for t in f.trees])\n",
    "\n",
    "# B 3.2928495687284363"
   ]
  },
  {
   "cell_type": "code",
   "execution_count": 121,
   "id": "be68dad0-4a99-4a3f-b0e6-90806f87144a",
   "metadata": {},
   "outputs": [
    {
     "data": {
      "text/plain": [
       "3.1700756885665577"
      ]
     },
     "execution_count": 121,
     "metadata": {},
     "output_type": "execute_result"
    }
   ],
   "source": [
    "f = tree.Forest(5, \"crit-8-10-0-0\", 0, n)\n",
    "np.mean([t.get_total_score(\"D-0.26\") for t in f.trees])\n",
    "\n",
    "# A 3.166909148553396"
   ]
  },
  {
   "cell_type": "code",
   "execution_count": null,
   "id": "e1763ce4-74dd-492b-9628-fcdd029e9630",
   "metadata": {},
   "outputs": [],
   "source": []
  },
  {
   "cell_type": "code",
   "execution_count": 132,
   "id": "d784f957-4390-44c3-a6bc-4648349c763c",
   "metadata": {},
   "outputs": [
    {
     "name": "stdout",
     "output_type": "stream",
     "text": [
      "A 4.632622011257745\n",
      "B 5.209717607093943\n",
      "C 5.475329921845477\n",
      "D 5.615014155187196\n"
     ]
    }
   ],
   "source": [
    "for skill in [\"A\", \"B\", \"C\", \"D\"]:\n",
    "    f = tree.Forest(5, \"crit-0-2-8-0.2\", 0, 100000)\n",
    "    scores = [t.get_total_score(skill) for t in f.trees]\n",
    "    print(skill, np.mean(scores))"
   ]
  },
  {
   "cell_type": "code",
   "execution_count": 164,
   "id": "e0575295-1a5e-4ba7-b045-dc7d3db1e6fe",
   "metadata": {},
   "outputs": [],
   "source": [
    "n = 100000"
   ]
  },
  {
   "cell_type": "code",
   "execution_count": 165,
   "id": "61c8bb6b-8c52-49e4-9bec-614abbb43789",
   "metadata": {},
   "outputs": [
    {
     "data": {
      "text/plain": [
       "5.468438854003032"
      ]
     },
     "execution_count": 165,
     "metadata": {},
     "output_type": "execute_result"
    }
   ],
   "source": [
    "f = tree.Forest(5, \"crit-0-2-8-0.2\", 0, n)\n",
    "np.mean([t.get_total_score(\"D-0.4\") for t in f.trees])\n",
    "\n",
    "# C 5.475329921845477"
   ]
  },
  {
   "cell_type": "code",
   "execution_count": 166,
   "id": "60518123-311e-4406-8e9c-0b345eec4790",
   "metadata": {},
   "outputs": [
    {
     "data": {
      "text/plain": [
       "5.218804213918838"
      ]
     },
     "execution_count": 166,
     "metadata": {},
     "output_type": "execute_result"
    }
   ],
   "source": [
    "f = tree.Forest(5, \"crit-0-2-8-0.2\", 0, n)\n",
    "np.mean([t.get_total_score(\"D-0.8\") for t in f.trees])\n",
    "\n",
    "# B 5.209717607093943"
   ]
  },
  {
   "cell_type": "code",
   "execution_count": 167,
   "id": "cab1519d-7813-4124-84db-608ee3790870",
   "metadata": {},
   "outputs": [
    {
     "data": {
      "text/plain": [
       "4.637364831188271"
      ]
     },
     "execution_count": 167,
     "metadata": {},
     "output_type": "execute_result"
    }
   ],
   "source": [
    "f = tree.Forest(5, \"crit-0-2-8-0.2\", 0, n)\n",
    "np.mean([t.get_total_score(\"D-2.0\") for t in f.trees])\n",
    "\n",
    "# A 4.632622011257745"
   ]
  },
  {
   "cell_type": "code",
   "execution_count": null,
   "id": "f888a752-a995-4d4d-8242-a63e08691a9d",
   "metadata": {},
   "outputs": [],
   "source": []
  },
  {
   "cell_type": "code",
   "execution_count": null,
   "id": "f49a284b-5e5c-472a-8cba-df596232756c",
   "metadata": {},
   "outputs": [],
   "source": []
  },
  {
   "cell_type": "code",
   "execution_count": null,
   "id": "51ac26f2-4ead-4e75-994a-c4cbfe976e8b",
   "metadata": {},
   "outputs": [],
   "source": []
  },
  {
   "cell_type": "code",
   "execution_count": 90,
   "id": "21bfdafa-baac-4af6-b008-7f48d35be1e3",
   "metadata": {},
   "outputs": [],
   "source": [
    "n = 100000"
   ]
  },
  {
   "cell_type": "code",
   "execution_count": 91,
   "id": "c182c6f8-345a-424d-b629-e5e35aa3b586",
   "metadata": {},
   "outputs": [
    {
     "name": "stdout",
     "output_type": "stream",
     "text": [
      "A 3.705034665993696\n",
      "B 4.767730011566852\n",
      "C 5.284214865023245\n",
      "D 5.615014155187196\n",
      "CPU times: user 1min 2s, sys: 1.66 s, total: 1min 4s\n",
      "Wall time: 1min 3s\n"
     ]
    }
   ],
   "source": [
    "%%time\n",
    "\n",
    "for skill in [\"A\", \"B\", \"C\", \"D\"]:\n",
    "    f = tree.Forest(5, \"crit-8-10-0-0.2\", 0, n)\n",
    "    scores = [t.get_total_score(skill) for t in f.trees]\n",
    "    print(skill, np.mean(scores))"
   ]
  },
  {
   "cell_type": "code",
   "execution_count": 93,
   "id": "3bbafe4a-be79-46c5-9a0e-b6a513dbb988",
   "metadata": {},
   "outputs": [
    {
     "data": {
      "text/plain": [
       "5.283870902200391"
      ]
     },
     "execution_count": 93,
     "metadata": {},
     "output_type": "execute_result"
    }
   ],
   "source": [
    "f = tree.Forest(5, \"crit-8-10-0-0.2\", 0, n)\n",
    "np.mean([t.get_total_score(\"D-0.7\") for t in f.trees])\n",
    "\n",
    "# C 5.280204954754422"
   ]
  },
  {
   "cell_type": "code",
   "execution_count": 94,
   "id": "17469366-9289-4acc-ac24-160637d59242",
   "metadata": {},
   "outputs": [
    {
     "data": {
      "text/plain": [
       "4.765723841114002"
      ]
     },
     "execution_count": 94,
     "metadata": {},
     "output_type": "execute_result"
    }
   ],
   "source": [
    "f = tree.Forest(5, \"crit-8-10-0-0.2\", 0, n)\n",
    "np.mean([t.get_total_score(\"D-1.7\") for t in f.trees])\n",
    "\n",
    "# B 4.767730011566852"
   ]
  },
  {
   "cell_type": "code",
   "execution_count": 95,
   "id": "cee28ea4-5b91-4895-a0a6-9ac34e3b39f6",
   "metadata": {},
   "outputs": [
    {
     "data": {
      "text/plain": [
       "3.719132066426839"
      ]
     },
     "execution_count": 95,
     "metadata": {},
     "output_type": "execute_result"
    }
   ],
   "source": [
    "f = tree.Forest(5, \"crit-8-10-0-0.2\", 0, n)\n",
    "np.mean([t.get_total_score(\"D-4.0\") for t in f.trees])\n",
    "\n",
    "# A 3.705034665993696"
   ]
  },
  {
   "cell_type": "code",
   "execution_count": null,
   "id": "3b319068-cfd9-4f35-8be6-efbd75ff44d4",
   "metadata": {},
   "outputs": [],
   "source": []
  },
  {
   "cell_type": "code",
   "execution_count": null,
   "id": "43bff466-7eed-4189-b58d-5201ad216618",
   "metadata": {},
   "outputs": [],
   "source": []
  },
  {
   "cell_type": "code",
   "execution_count": 22,
   "id": "5556c677-c3a5-4b23-bbd1-88036af1728d",
   "metadata": {},
   "outputs": [
    {
     "data": {
      "text/plain": [
       "<module 'tree' from '/home/n.saumik/gymnasium-test/tree.py'>"
      ]
     },
     "execution_count": 22,
     "metadata": {},
     "output_type": "execute_result"
    }
   ],
   "source": [
    "importlib.reload(tree)"
   ]
  },
  {
   "cell_type": "code",
   "execution_count": 63,
   "id": "00893e2e-8857-452b-b57e-b9a884b3d6d4",
   "metadata": {},
   "outputs": [
    {
     "name": "stdout",
     "output_type": "stream",
     "text": [
      "binary B 3.74728\n"
     ]
    },
    {
     "name": "stderr",
     "output_type": "stream",
     "text": [
      "100%|██████████| 100/100 [00:02<00:00, 36.72it/s]\n"
     ]
    },
    {
     "name": "stdout",
     "output_type": "stream",
     "text": [
      "binary (100) D-0.5 3.79\n"
     ]
    },
    {
     "name": "stderr",
     "output_type": "stream",
     "text": [
      "100%|██████████| 150/150 [00:40<00:00,  3.72it/s]\n"
     ]
    },
    {
     "name": "stdout",
     "output_type": "stream",
     "text": [
      "binary (1000) D-0.38 3.746\n"
     ]
    },
    {
     "name": "stderr",
     "output_type": "stream",
     "text": [
      "100%|██████████| 88/88 [03:50<00:00,  2.62s/it]\n"
     ]
    },
    {
     "name": "stdout",
     "output_type": "stream",
     "text": [
      "binary (10000) D-0.36 3.7446\n"
     ]
    },
    {
     "name": "stderr",
     "output_type": "stream",
     "text": [
      "100%|██████████| 20/20 [08:24<00:00, 25.24s/it]\n"
     ]
    },
    {
     "name": "stdout",
     "output_type": "stream",
     "text": [
      "binary (100000) D-0.36 3.74567\n",
      "CPU times: user 13min 17s, sys: 6.14 s, total: 13min 23s\n",
      "Wall time: 13min 22s\n"
     ]
    }
   ],
   "source": [
    "%%time\n",
    "\n",
    "modes = [\n",
    "    \"binary\",\n",
    "    \"randomlinear-2\",\n",
    "    \"linear-3\",\n",
    "    \"linear-4\",\n",
    "    \"exponential-2\",\n",
    "    \"exponential-3\",\n",
    "    \"exponential-4\",\n",
    "    \"crit-8-10-0-0.2\",\n",
    "    \"crit-0-2-8-0.2\",\n",
    "    \"crit-8-10-0-0.4\",\n",
    "    \"crit-8-10-0-0.6\",\n",
    "    \"crit-8-10-0-0.8\",\n",
    "    \"crit-8-10-0-1.0\",\n",
    "]\n",
    "\n",
    "for mode in modes:\n",
    "    for skill in [\"A\", \"B\", \"C\"]:\n",
    "        f = tree.Forest(5, mode, 0, 100000)\n",
    "\n",
    "        scores = [t.get_total_score(skill) for t in f.trees]\n",
    "        truth = np.mean(scores)\n",
    "        print(mode, skill, truth)\n",
    "        \n",
    "        c, _score = get_closest(truth,\n",
    "                        tree.Forest(5, mode, 0, 100),\n",
    "                        0,10,0.1)\n",
    "        print(mode, f\"(100) D-{c}\", _score)\n",
    "        \n",
    "        c, _score = get_closest(truth,\n",
    "                        tree.Forest(5, mode, 0, 1000),\n",
    "                        max(c-1,0),c+1,0.01)\n",
    "        print(mode, f\"(1000) D-{c}\", _score)\n",
    "        \n",
    "        c, _score = get_closest(truth,\n",
    "                        tree.Forest(5, mode, 0, 10000),\n",
    "                        max(c-0.5,0),c+0.5,0.01)\n",
    "        print(mode, f\"(10000) D-{c}\", _score)\n",
    "        \n",
    "        c, _score = get_closest(truth,\n",
    "                        tree.Forest(5, mode, 0, 100000),\n",
    "                        max(c-0.1,0),c+0.1,0.01)\n",
    "        print(mode, f\"(100000) D-{c}\", _score)\n",
    "                \n",
    "        break\n",
    "\n",
    "    break"
   ]
  },
  {
   "cell_type": "code",
   "execution_count": null,
   "id": "fc66b8e7-7176-49a6-ad5f-ea12e6279dd3",
   "metadata": {},
   "outputs": [],
   "source": []
  },
  {
   "cell_type": "code",
   "execution_count": 59,
   "id": "9582364e-785a-4bc3-90ca-921e8ee263dd",
   "metadata": {},
   "outputs": [],
   "source": [
    "def get_closest(target, f, a, b, s):\n",
    "    closest, diff, res = 0, None, None\n",
    "    for temp in tqdm(np.arange(a, b, s)):\n",
    "        scores = [t.get_total_score(f\"D-{temp}\") for t in f.trees]\n",
    "        _score = np.mean(scores)\n",
    "        if diff is None or np.abs(target - _score) < diff:\n",
    "            diff = np.abs(target - _score)\n",
    "            closest = temp\n",
    "            res = _score\n",
    "    return round(closest, 2), res\n"
   ]
  },
  {
   "cell_type": "code",
   "execution_count": null,
   "id": "cc2a20a1-95f2-4d63-af03-d05e7315ecd8",
   "metadata": {},
   "outputs": [],
   "source": []
  },
  {
   "cell_type": "code",
   "execution_count": null,
   "id": "8ecdc0ee-27d5-4acc-a236-ccc8d01a20b5",
   "metadata": {},
   "outputs": [],
   "source": []
  }
 ],
 "metadata": {
  "kernelspec": {
   "display_name": "random",
   "language": "python",
   "name": "random"
  },
  "language_info": {
   "codemirror_mode": {
    "name": "ipython",
    "version": 3
   },
   "file_extension": ".py",
   "mimetype": "text/x-python",
   "name": "python",
   "nbconvert_exporter": "python",
   "pygments_lexer": "ipython3",
   "version": "3.10.8"
  }
 },
 "nbformat": 4,
 "nbformat_minor": 5
}
