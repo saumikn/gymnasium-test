{
 "cells": [
  {
   "cell_type": "code",
   "execution_count": 1,
   "id": "766b7803-b252-47da-8afc-5f6783a18118",
   "metadata": {
    "tags": []
   },
   "outputs": [],
   "source": [
    "%load_ext line_profiler"
   ]
  },
  {
   "cell_type": "code",
   "execution_count": 2,
   "id": "86d00c2c-2468-406c-856e-3a39537a231d",
   "metadata": {
    "tags": []
   },
   "outputs": [],
   "source": [
    "from collections import Counter\n",
    "from functools import partial\n",
    "\n",
    "import numpy as np\n",
    "rng = np.random.default_rng()\n",
    "np.set_printoptions(suppress=True, linewidth=150, edgeitems=5)\n",
    "from tqdm.notebook import tqdm, trange\n",
    "from tqdm.contrib.concurrent import process_map\n",
    "\n",
    "from scipy.stats import rankdata"
   ]
  },
  {
   "cell_type": "code",
   "execution_count": 22,
   "id": "fa2003db-c834-4768-a459-9792e617847f",
   "metadata": {
    "tags": []
   },
   "outputs": [
    {
     "data": {
      "text/plain": [
       "array([ 0.1       ,  0.15848932,  0.25118864,  0.39810717,  0.63095734,  1.        ,  1.58489319,  2.51188643,  3.98107171,  6.30957344, 10.        ])"
      ]
     },
     "metadata": {},
     "output_type": "display_data"
    },
    {
     "data": {
      "text/plain": [
       "array([[ 10, -20],\n",
       "       [  7,   3]])"
      ]
     },
     "metadata": {},
     "output_type": "display_data"
    },
    {
     "data": {
      "text/plain": [
       "0"
      ]
     },
     "metadata": {},
     "output_type": "display_data"
    }
   ],
   "source": [
    "# ns = [0,10,10,11,12,13,14,15,16,17]\n",
    "ns = [0,5,5,6,7,8,9,10,11,12,13,14,15,16,17,]\n",
    "\n",
    "\n",
    "students = np.logspace(-1, 1, 11)\n",
    "display(students)\n",
    "\n",
    "\n",
    "# ms = 5\n",
    "# arrs = np.triu(np.tile(np.arange(32, 37),(5,1)).T) - 20\n",
    "# display(arrs)\n",
    "# display(arrs.sum())\n",
    "\n",
    "# ms = 4\n",
    "# arrs = np.triu(np.tile(np.arange(31, 35),(4,1)).T) - 20\n",
    "# display(arrs)\n",
    "# display(arrs.sum())\n",
    "\n",
    "\n",
    "ms = 2\n",
    "arrs = np.array([[10,-20],[7,3]])\n",
    "display(arrs)\n",
    "display(arrs.sum())"
   ]
  },
  {
   "cell_type": "code",
   "execution_count": null,
   "id": "c1f414e1-485c-4e84-8088-d8e3d403a139",
   "metadata": {},
   "outputs": [],
   "source": []
  },
  {
   "cell_type": "code",
   "execution_count": 12,
   "id": "22b1d6d9-9d64-4dee-b971-bd3dfedb6bfe",
   "metadata": {},
   "outputs": [],
   "source": [
    "def softmax(x, b, axis=-1):\n",
    "    x = x - np.max(x)\n",
    "    return np.exp(b*x) / np.exp(b*x).sum(axis=axis, keepdims=True)\n",
    "\n",
    "def make_model(num_nodes=128, num_dense=4):\n",
    "    \n",
    "    import tensorflow as tf\n",
    "    for gpu in tf.config.list_physical_devices('GPU'):\n",
    "        tf.config.experimental.set_memory_growth(gpu, True)\n",
    "    \n",
    "    inputs = tf.keras.layers.Input(shape=(ms*ms + ms + 1))\n",
    "    x = tf.keras.layers.Flatten()(inputs)\n",
    "    \n",
    "    for _ in range(num_dense):\n",
    "        x = tf.keras.layers.Dense(num_nodes, activation='relu')(x)\n",
    "    \n",
    "    # output1 = tf.keras.layers.Dense(5, name='Y0')(x)\n",
    "    # output2 = tf.keras.layers.Dense(5, name='Y1')(x)\n",
    "    # model = tf.keras.models.Model(inputs=inputs, outputs=[output1, output2])\n",
    "    \n",
    "    output1 = tf.keras.layers.Dense(ms, name='Y0')(x)\n",
    "    output1 = tf.keras.layers.Softmax()(output1)\n",
    "    model = tf.keras.models.Model(inputs=inputs, outputs=output1)\n",
    "\n",
    "    \n",
    "    opt = tf.keras.optimizers.Adam()\n",
    "    # opt = tf.keras.optimizers.Adam(learning_rate=1)\n",
    "    # opt = tf.keras.optimizers.SGD()\n",
    "    loss_fn = tf.keras.losses.SparseCategoricalCrossentropy(from_logits=False)\n",
    "    model.compile(optimizer=opt, loss=loss_fn, metrics=['accuracy'])\n",
    "    return model\n",
    "\n",
    "def softmax(x, b, axis=-1):\n",
    "    x = x - np.max(x)\n",
    "    return np.exp(b*x) / np.exp(b*x).sum(axis=axis, keepdims=True)\n",
    "\n",
    "def make_x():\n",
    "    x = arrs\n",
    "    \n",
    "    rand = np.random.random(arrs.shape)\n",
    "    rand = (rand - 0.5)\n",
    "    x = x + rand\n",
    "    \n",
    "    x = rng.permuted(x, axis=-1)\n",
    "    return x\n",
    "\n",
    "def eval_model(model, n = 1, disable=True):\n",
    "    rewards = []\n",
    "    branch_rewards = []\n",
    "    for _ in trange(n, disable=disable):\n",
    "        x = make_x()\n",
    "        x_tree = np.concatenate([np.eye(ms+1).astype(int), np.tile(x.flatten(), (ms+1,1))], axis=1)\n",
    "        y_pred = model(x_tree)\n",
    "        branch_reward = (x_tree[0,ms+1:].reshape(ms,ms) * y_pred[1:].numpy()).sum(axis=1)\n",
    "        rewards.append(y_pred[0].numpy())\n",
    "        # reward = (y_pred[0] * branch_reward).numpy().sum()\n",
    "        # rewards.append(reward)\n",
    "        branch_rewards.append(branch_reward)\n",
    "    return np.array(rewards), np.array(branch_rewards)\n",
    "\n",
    "def make_data(b, n=1, disable=True):\n",
    "    X, Y = [], []\n",
    "    \n",
    "    \n",
    "    for _ in trange(n, disable=disable):\n",
    "        x = make_x()\n",
    "        r1 = softmax(rankdata(x,axis=1), b)\n",
    "        r1sum = (r1*x).sum(axis=1)\n",
    "        r0 = softmax(rankdata(r1sum), b)\n",
    "\n",
    "        pos = [0] * (ms+1)\n",
    "        pos[0] = 1\n",
    "        x0 = pos + list(x.flatten())\n",
    "        y0 = rng.choice(np.arange(ms), p=r0)\n",
    "        \n",
    "        pos = [0] * (ms+1)\n",
    "        pos[y0+1] = 1\n",
    "        x1 = pos + list(x.flatten())\n",
    "        y1 = rng.choice(np.arange(ms), p=r1[y0])\n",
    "\n",
    "\n",
    "        X.append(x0)\n",
    "        Y.append(y0)\n",
    "        X.append(x1)\n",
    "        Y.append(y1)\n",
    "    \n",
    "    X = np.array(X)\n",
    "    Y = np.array(Y)\n",
    "    \n",
    "    return X,Y"
   ]
  },
  {
   "cell_type": "code",
   "execution_count": null,
   "id": "89a9a4e4-44e6-4bb4-894c-8b42794353b3",
   "metadata": {},
   "outputs": [],
   "source": []
  },
  {
   "cell_type": "code",
   "execution_count": 13,
   "id": "1ed42634-10c5-4475-b89f-0db4f6a77b21",
   "metadata": {
    "tags": []
   },
   "outputs": [],
   "source": [
    "def train_model(student):\n",
    "    verbose = False\n",
    "    if student == students[len(students)//2]:\n",
    "        print(f'student == {student:.3f}')\n",
    "        verbose = True\n",
    "    model = make_model()\n",
    "    Xtrain, Ytrain = make_data(student, 2**18, disable=not verbose)\n",
    "    model.fit(Xtrain, Ytrain, verbose=verbose)\n",
    "    reward = eval_model(model, 10000, disable=not verbose)\n",
    "    model.save(f'models/starting_{student:.3f}.keras')\n",
    "    return reward"
   ]
  },
  {
   "cell_type": "code",
   "execution_count": 14,
   "id": "6ff09ac6-6397-4ec4-a545-d006daffa337",
   "metadata": {},
   "outputs": [
    {
     "name": "stdout",
     "output_type": "stream",
     "text": [
      "student == 1.000\n"
     ]
    },
    {
     "data": {
      "application/vnd.jupyter.widget-view+json": {
       "model_id": "099beb22bce844f68ff3b2291490c6b8",
       "version_major": 2,
       "version_minor": 0
      },
      "text/plain": [
       "  0%|          | 0/262144 [00:00<?, ?it/s]"
      ]
     },
     "metadata": {},
     "output_type": "display_data"
    },
    {
     "name": "stdout",
     "output_type": "stream",
     "text": [
      "16384/16384 [==============================] - 81s 5ms/step - loss: 0.5867 - accuracy: 0.7280\n"
     ]
    },
    {
     "data": {
      "application/vnd.jupyter.widget-view+json": {
       "model_id": "2e1ef28a19dd46248ea4e66f046e2fd2",
       "version_major": 2,
       "version_minor": 0
      },
      "text/plain": [
       "  0%|          | 0/10000 [00:00<?, ?it/s]"
      ]
     },
     "metadata": {},
     "output_type": "display_data"
    },
    {
     "name": "stdout",
     "output_type": "stream",
     "text": [
      "CPU times: user 1.93 s, sys: 1.79 s, total: 3.72 s\n",
      "Wall time: 3min 56s\n"
     ]
    }
   ],
   "source": [
    "%%time\n",
    "rewards = process_map(train_model, students, disable=True, max_workers=16)"
   ]
  },
  {
   "cell_type": "code",
   "execution_count": null,
   "id": "dcd16bcd-4f61-4f3c-8bea-cd413d62344e",
   "metadata": {},
   "outputs": [],
   "source": []
  },
  {
   "cell_type": "code",
   "execution_count": 15,
   "id": "71093b6a-1f0d-4868-9a85-b493a7f8abea",
   "metadata": {
    "tags": []
   },
   "outputs": [
    {
     "name": "stdout",
     "output_type": "stream",
     "text": [
      "0.100 0.2517535120562212\n",
      "0.158 0.7234076181503103\n",
      "0.251 1.7799424849739445\n",
      "0.398 2.4258585762728195\n",
      "0.631 3.3130862349333126\n",
      "1.000 4.746010133126799\n",
      "1.585 5.993108255331436\n",
      "2.512 8.157832896322281\n",
      "3.981 9.433404246392719\n",
      "6.310 9.959263177781263\n",
      "10.000 9.999053134943907\n"
     ]
    }
   ],
   "source": [
    "for r, s in zip(rewards, students):\n",
    "    \n",
    "    res = r[0]*r[1]\n",
    "    res = res.sum(axis=1).mean()\n",
    "    \n",
    "    print(f\"{s:.3f} {res}\")"
   ]
  },
  {
   "cell_type": "code",
   "execution_count": null,
   "id": "3d99b247-8ffc-40a3-a97c-caa0711de854",
   "metadata": {},
   "outputs": [],
   "source": []
  },
  {
   "cell_type": "code",
   "execution_count": 16,
   "id": "ef6af282-f6da-44a7-b19f-7f1bc4e586c9",
   "metadata": {
    "tags": []
   },
   "outputs": [
    {
     "name": "stdout",
     "output_type": "stream",
     "text": [
      "0.100, 0.659, [-4.25173511  5.1024228 ]\n",
      "0.158, 1.027, [-3.81619281  5.15966067]\n",
      "0.251, 1.582, [-3.13012816  5.24725861]\n",
      "0.398, 2.401, [-2.05422377  5.39302992]\n",
      "0.631, 3.515, [-0.41704509  5.60700897]\n",
      "1.000, 4.852, [1.93444603 5.92552585]\n",
      "1.585, 6.076, [4.89573619 6.31740951]\n",
      "2.512, 7.671, [7.74985935 6.69977709]\n",
      "3.981, 9.407, [9.45302497 6.93083964]\n",
      "6.310, 9.940, [9.94556603 6.98951317]\n",
      "10.000, 9.995, [9.99560377 7.00635102]\n",
      "CPU times: user 32.6 s, sys: 43.4 ms, total: 32.7 s\n",
      "Wall time: 32.7 s\n"
     ]
    }
   ],
   "source": [
    "%%time\n",
    "for b in students:\n",
    "    r0s = []\n",
    "    r1s = []\n",
    "    for _ in trange(10000, disable=True):\n",
    "        x = make_x()\n",
    "        r1 = (softmax(x, b) * x).sum(axis=1)\n",
    "        r2 = (softmax(r1, b) * r1).sum()\n",
    "        \n",
    "        r1 = softmax(rankdata(x,axis=1), b)\n",
    "        r1sum = (r1*x).sum(axis=1)\n",
    "        r0 = softmax(rankdata(r1sum), b)\n",
    "        r0sum = (r0*r1sum).sum()\n",
    "\n",
    "        \n",
    "        r0s.append(r0sum)\n",
    "        r1s.append(r1sum)\n",
    "        \n",
    "    r0s = np.array(r0s)\n",
    "    r1s = np.array(r1s)\n",
    "    print(f\"{b:.3f}, {r0s.mean():.3f}, {r1s.mean(axis=0)}\")\n"
   ]
  },
  {
   "cell_type": "code",
   "execution_count": null,
   "id": "688cd270-bad9-4bd0-9933-808737ee4f0f",
   "metadata": {},
   "outputs": [],
   "source": []
  },
  {
   "cell_type": "code",
   "execution_count": null,
   "id": "02b9e197-f4be-428c-9f4d-da3c1bf4117b",
   "metadata": {},
   "outputs": [],
   "source": []
  },
  {
   "cell_type": "code",
   "execution_count": 17,
   "id": "269f7bff-7ea5-4da5-a8dc-f3a9cf16a51d",
   "metadata": {
    "tags": []
   },
   "outputs": [],
   "source": [
    "def eval_training(student, teacher, verbose=False):\n",
    "    import tensorflow as tf\n",
    "    for gpu in tf.config.list_physical_devices('GPU'):\n",
    "        tf.config.experimental.set_memory_growth(gpu, True)\n",
    "\n",
    "    \n",
    "    if student == -1:\n",
    "        model2 = make_model()\n",
    "    else:\n",
    "        model2 = tf.keras.models.load_model(f\"models/starting_{student:.3f}.keras\")\n",
    "    opt = tf.keras.optimizers.SGD()\n",
    "    loss_fn = tf.keras.losses.SparseCategoricalCrossentropy(from_logits=False)\n",
    "    model2.compile(optimizer=opt, loss=loss_fn, metrics=['accuracy'])\n",
    "    # print(f\"{b:.2f}\", end=':    ')\n",
    "    nsum = 0\n",
    "    \n",
    "    X, Y = currs[f\"{teacher:.3f}\"]\n",
    "    perm = np.random.permutation(len(X))\n",
    "    X, Y = X[perm], Y[perm]\n",
    "    \n",
    "    rewards = []\n",
    "    for i in ns:\n",
    "        if i != 0:\n",
    "            n = 2**i\n",
    "            # X, Y = make_data(teacher, n, disable=True)\n",
    "                        \n",
    "            model2.fit(X[nsum:nsum+n], Y[nsum:nsum+n], verbose=False)\n",
    "            nsum += n\n",
    "            \n",
    "        r0, r1 = eval_model(model2, 50)\n",
    "        reward = (r0*r1).sum(axis=1).mean()\n",
    "        rewards.append(reward)\n",
    "        # print(f\"{nsum}    \", end='\\r')\n",
    "    return rewards"
   ]
  },
  {
   "cell_type": "code",
   "execution_count": null,
   "id": "0a324090-5ab1-4dc9-86e7-1b1753ae8b4a",
   "metadata": {},
   "outputs": [],
   "source": []
  },
  {
   "cell_type": "code",
   "execution_count": 27,
   "id": "b9a6548c-85ef-4e7b-8f30-ef4e94a0f13a",
   "metadata": {
    "tags": []
   },
   "outputs": [],
   "source": [
    "def exp(student, verbose=True, n=20):\n",
    "    # teachers = np.arange(student, 0.40001, 0.02)\n",
    "    \n",
    "    teachers = students\n",
    "    \n",
    "    t_ = list(teachers) * n\n",
    "    s_ = [student for _ in t_]\n",
    "    \n",
    "    res = process_map(eval_training, s_, t_, max_workers=32, chunksize=1)\n",
    "    \n",
    "    return np.array(res)\n",
    "\n",
    "#     all_res = []\n",
    "#     for teacher in tqdm(teachers):\n",
    "        \n",
    "#         if teacher == teachers[0] and verbose:\n",
    "#             print(f'Original Student: {student:.3f}')\n",
    "#             print()\n",
    "#             print('         Curriculum Size')\n",
    "#             print('Teacher', end='')\n",
    "#             nsum = 0\n",
    "#             for i in ns:\n",
    "#                 if i: nsum += 2**i\n",
    "#                 print(f\"{nsum:>8}\", end='')\n",
    "#             print()\n",
    "        \n",
    "#         # print(f\"teacher = {teacher:.2f} \", end='\\r')\n",
    "#         res = process_map(eval_training, [student]*n, [teacher]*n, max_workers=10, disable=True)\n",
    "#         res = np.array(res).mean(axis=0)\n",
    "#         all_res.append(res)\n",
    "        \n",
    "#         if verbose:\n",
    "#             print(f\"  {teacher:.3f}\", end='  ')\n",
    "#             for reward in res:\n",
    "#                 print(f\"{reward: 6.2f}\", end='  ')\n",
    "#             print()\n",
    "\n",
    "#     all_res = np.array(all_res)\n",
    "\n",
    "    # return all_res"
   ]
  },
  {
   "cell_type": "code",
   "execution_count": null,
   "id": "7706336d-1a11-4dd6-a159-57d61e4c7b77",
   "metadata": {},
   "outputs": [],
   "source": []
  },
  {
   "cell_type": "code",
   "execution_count": 26,
   "id": "e6be9cdd-8604-4a87-b3ff-10b033576e7a",
   "metadata": {
    "tags": []
   },
   "outputs": [
    {
     "data": {
      "application/vnd.jupyter.widget-view+json": {
       "model_id": "85c0317197c64c0a807253fe3399107a",
       "version_major": 2,
       "version_minor": 0
      },
      "text/plain": [
       "  0%|          | 0/11 [00:00<?, ?it/s]"
      ]
     },
     "metadata": {},
     "output_type": "display_data"
    }
   ],
   "source": [
    "ntotal = (2**np.array(ns[1:])).sum()\n",
    "\n",
    "currs = process_map(make_data, students, [ntotal]*len(students), max_workers=6, chunksize=1)\n",
    "currs = dict(zip([f\"{s:.3f}\" for s in students], currs))"
   ]
  },
  {
   "cell_type": "code",
   "execution_count": null,
   "id": "c5e9288e-cc50-4ee6-a6ce-3d5ae9873f5e",
   "metadata": {},
   "outputs": [],
   "source": []
  },
  {
   "cell_type": "code",
   "execution_count": 28,
   "id": "145f5210-c38e-42ae-b104-31b182e30c79",
   "metadata": {
    "tags": []
   },
   "outputs": [
    {
     "data": {
      "application/vnd.jupyter.widget-view+json": {
       "model_id": "64b83c3d874c4b548479fe5e50cbb51e",
       "version_major": 2,
       "version_minor": 0
      },
      "text/plain": [
       "  0%|          | 0/1100 [00:00<?, ?it/s]"
      ]
     },
     "metadata": {},
     "output_type": "display_data"
    },
    {
     "name": "stdout",
     "output_type": "stream",
     "text": [
      "CPU times: user 1.67 s, sys: 532 ms, total: 2.21 s\n",
      "Wall time: 1h 9min 59s\n"
     ]
    },
    {
     "data": {
      "text/plain": [
       "array([[-0.11,  0.49,  0.1 ,  0.03,  0.39,  0.18,  0.09,  0.28,  0.29,  0.34,  0.32,  0.32,  0.3 ,  0.35,  0.38],\n",
       "       [ 0.09,  0.36,  0.27,  0.42,  0.41,  0.52,  0.57,  0.53,  0.48,  0.49,  0.51,  0.48,  0.53,  0.56,  0.64],\n",
       "       [ 0.22,  0.85,  0.43,  0.66,  1.01,  0.38,  0.46,  0.36,  0.62,  0.71,  0.72,  0.8 ,  0.84,  0.96,  1.12],\n",
       "       [-0.  ,  0.87,  0.71,  0.58,  1.15,  0.75,  0.71,  0.88,  0.95,  1.02,  1.05,  1.1 ,  1.4 ,  1.67,  1.88],\n",
       "       [-0.05,  1.56,  1.05,  1.03,  1.51,  1.14,  1.25,  1.28,  1.24,  1.42,  1.69,  1.9 ,  2.33,  2.7 ,  3.13],\n",
       "       [ 0.25,  1.84,  1.43,  1.54,  1.76,  1.53,  1.71,  1.72,  1.75,  2.01,  2.38,  2.79,  3.58,  4.25,  4.63],\n",
       "       [-0.28,  1.84,  1.69,  1.99,  2.02,  2.14,  2.36,  2.36,  2.44,  2.79,  3.29,  4.03,  4.91,  5.63,  5.94],\n",
       "       [ 0.27,  1.45,  2.92,  2.63,  2.66,  3.15,  3.3 ,  3.21,  3.32,  3.92,  4.75,  6.44,  7.18,  7.27,  7.62],\n",
       "       [-0.19,  2.29,  3.54,  3.29,  4.  ,  4.13,  4.26,  4.61,  4.39,  4.85,  6.11,  8.56,  8.97,  9.23,  9.26],\n",
       "       [ 0.  ,  1.92,  3.77,  3.67,  4.3 ,  4.31,  4.52,  4.82,  5.12,  5.09,  7.17,  9.27,  9.74,  9.82,  9.61],\n",
       "       [-0.26,  2.06,  3.88,  3.71,  4.22,  4.42,  4.61,  4.7 ,  5.1 ,  5.24,  7.84,  9.61,  9.94,  9.97,  9.96]])"
      ]
     },
     "execution_count": 28,
     "metadata": {},
     "output_type": "execute_result"
    }
   ],
   "source": [
    "%%time\n",
    "# compiled\n",
    "foo_new = exp(-1, n=100)\n",
    "foo_new.reshape(-1, len(students), len(ns)).mean(axis=0).round(2)"
   ]
  },
  {
   "cell_type": "code",
   "execution_count": null,
   "id": "06309e46-643a-47f1-bfea-3826e60859db",
   "metadata": {},
   "outputs": [],
   "source": []
  },
  {
   "cell_type": "code",
   "execution_count": 29,
   "id": "2af1b070-3d1a-4603-9bd0-ddf70068607f",
   "metadata": {
    "tags": []
   },
   "outputs": [
    {
     "data": {
      "application/vnd.jupyter.widget-view+json": {
       "model_id": "1d75080528e747baa7483b681160faba",
       "version_major": 2,
       "version_minor": 0
      },
      "text/plain": [
       "  0%|          | 0/1100 [00:00<?, ?it/s]"
      ]
     },
     "metadata": {},
     "output_type": "display_data"
    },
    {
     "name": "stdout",
     "output_type": "stream",
     "text": [
      "CPU times: user 1.67 s, sys: 610 ms, total: 2.28 s\n",
      "Wall time: 1h 10min 3s\n"
     ]
    },
    {
     "data": {
      "text/plain": [
       "array([[ 0.24,  0.24,  0.26,  0.25,  0.25,  0.26,  0.26,  0.25,  0.26,  0.25,  0.26,  0.24,  0.23,  0.22,  0.23],\n",
       "       [ 0.24,  0.24,  0.26,  0.25,  0.26,  0.27,  0.27,  0.27,  0.3 ,  0.3 ,  0.33,  0.33,  0.33,  0.34,  0.35],\n",
       "       [ 0.24,  0.24,  0.26,  0.26,  0.26,  0.28,  0.29,  0.3 ,  0.36,  0.39,  0.45,  0.47,  0.48,  0.52,  0.52],\n",
       "       [ 0.24,  0.24,  0.26,  0.26,  0.27,  0.29,  0.32,  0.36,  0.45,  0.53,  0.64,  0.69,  0.72,  0.77,  0.78],\n",
       "       [ 0.24,  0.24,  0.26,  0.26,  0.28,  0.32,  0.37,  0.45,  0.59,  0.73,  0.92,  1.01,  1.07,  1.13,  1.19],\n",
       "       [ 0.24,  0.24,  0.27,  0.27,  0.3 ,  0.35,  0.44,  0.56,  0.8 ,  1.04,  1.32,  1.45,  1.48,  1.63,  2.17],\n",
       "       [ 0.24,  0.24,  0.27,  0.28,  0.32,  0.39,  0.53,  0.72,  1.06,  1.4 ,  1.77,  1.89,  2.  ,  2.89,  5.58],\n",
       "       [ 0.24,  0.23,  0.24,  0.21,  0.16,  0.09, -0.07, -0.33, -0.65, -0.68,  0.98,  2.85,  4.94,  7.22,  7.28],\n",
       "       [ 0.24,  0.23,  0.23,  0.21,  0.16,  0.07, -0.1 , -0.38, -0.72, -0.6 ,  2.12,  3.89,  7.8 ,  8.29,  9.12],\n",
       "       [ 0.24,  0.23,  0.23,  0.21,  0.16,  0.07, -0.12, -0.39, -0.73, -0.55,  2.41,  4.15,  9.06,  8.09,  9.26],\n",
       "       [ 0.24,  0.23,  0.23,  0.2 ,  0.15,  0.07, -0.12, -0.4 , -0.74, -0.55,  2.47,  4.17,  9.49,  9.32,  9.5 ]])"
      ]
     },
     "execution_count": 29,
     "metadata": {},
     "output_type": "execute_result"
    }
   ],
   "source": [
    "%%time\n",
    "# compiled\n",
    "foo0100 = exp(0.1, n=100)\n",
    "foo0100.reshape(-1, len(students), len(ns)).mean(axis=0).round(2)"
   ]
  },
  {
   "cell_type": "code",
   "execution_count": null,
   "id": "bb83aff9-91dc-464d-b5fb-088b8a78b5b0",
   "metadata": {},
   "outputs": [],
   "source": []
  },
  {
   "cell_type": "code",
   "execution_count": null,
   "id": "2cf1290a-27a0-48fe-83da-28690d28e454",
   "metadata": {},
   "outputs": [],
   "source": []
  },
  {
   "cell_type": "code",
   "execution_count": 30,
   "id": "b742b220-a7da-4363-96df-c0ab8469821d",
   "metadata": {
    "tags": []
   },
   "outputs": [
    {
     "data": {
      "application/vnd.jupyter.widget-view+json": {
       "model_id": "a05cbb0414fa486b973458285922064d",
       "version_major": 2,
       "version_minor": 0
      },
      "text/plain": [
       "  0%|          | 0/1100 [00:00<?, ?it/s]"
      ]
     },
     "metadata": {},
     "output_type": "display_data"
    },
    {
     "name": "stdout",
     "output_type": "stream",
     "text": [
      "CPU times: user 1.77 s, sys: 622 ms, total: 2.39 s\n",
      "Wall time: 1h 9min 53s\n"
     ]
    },
    {
     "data": {
      "text/plain": [
       "array([[ 0.72,  0.72,  0.73,  0.72,  0.72,  0.72,  0.71,  0.69,  0.69,  0.66,  0.65,  0.61,  0.59,  0.58,  0.58],\n",
       "       [ 0.72,  0.72,  0.73,  0.72,  0.72,  0.73,  0.72,  0.72,  0.74,  0.76,  0.81,  0.84,  0.87,  0.89,  0.89],\n",
       "       [ 0.72,  0.72,  0.73,  0.73,  0.73,  0.74,  0.75,  0.77,  0.83,  0.92,  1.08,  1.24,  1.31,  1.35,  1.36],\n",
       "       [ 0.72,  0.72,  0.73,  0.73,  0.74,  0.76,  0.79,  0.84,  0.96,  1.17,  1.53,  1.85,  2.  ,  2.  ,  2.02],\n",
       "       [ 0.72,  0.72,  0.73,  0.74,  0.75,  0.79,  0.85,  0.95,  1.18,  1.58,  2.25,  2.8 ,  2.9 ,  2.92,  2.91],\n",
       "       [ 0.72,  0.73,  0.74,  0.75,  0.77,  0.83,  0.94,  1.11,  1.49,  2.19,  3.36,  3.94,  3.96,  3.97,  4.03],\n",
       "       [ 0.72,  0.73,  0.74,  0.76,  0.8 ,  0.88,  1.04,  1.31,  1.86,  2.94,  4.58,  4.98,  5.12,  5.67,  5.97],\n",
       "       [ 0.72,  0.71,  0.71,  0.7 ,  0.66,  0.62,  0.54,  0.54,  1.29,  3.09,  3.25,  3.48,  6.26,  7.46,  7.45],\n",
       "       [ 0.72,  0.71,  0.71,  0.7 ,  0.66,  0.62,  0.55,  0.63,  2.43,  4.07,  4.22,  4.53,  9.15,  9.34,  9.31],\n",
       "       [ 0.72,  0.71,  0.71,  0.7 ,  0.66,  0.62,  0.55,  0.68,  2.8 ,  4.28,  4.38,  4.86,  9.71,  9.94,  9.95],\n",
       "       [ 0.72,  0.71,  0.71,  0.69,  0.66,  0.61,  0.55,  0.68,  2.82,  4.29,  4.37,  4.93,  9.77,  9.98, 10.  ]])"
      ]
     },
     "execution_count": 30,
     "metadata": {},
     "output_type": "execute_result"
    }
   ],
   "source": [
    "%%time\n",
    "# compiled\n",
    "foo0158 = exp(0.158, n=100)\n",
    "foo0158.reshape(-1, len(students), len(ns)).mean(axis=0).round(2)"
   ]
  },
  {
   "cell_type": "code",
   "execution_count": null,
   "id": "9c1475e0-fe9e-4adf-817c-6c355c96ee32",
   "metadata": {},
   "outputs": [],
   "source": []
  },
  {
   "cell_type": "code",
   "execution_count": 31,
   "id": "f2580dda-8b2d-410d-9a42-81c580b22ab2",
   "metadata": {
    "tags": []
   },
   "outputs": [
    {
     "data": {
      "application/vnd.jupyter.widget-view+json": {
       "model_id": "20efe4af013041f38f813c5b2a7ecf1c",
       "version_major": 2,
       "version_minor": 0
      },
      "text/plain": [
       "  0%|          | 0/1100 [00:00<?, ?it/s]"
      ]
     },
     "metadata": {},
     "output_type": "display_data"
    },
    {
     "name": "stdout",
     "output_type": "stream",
     "text": [
      "CPU times: user 1.8 s, sys: 591 ms, total: 2.39 s\n",
      "Wall time: 1h 9min 56s\n"
     ]
    },
    {
     "data": {
      "text/plain": [
       "array([[1.76, 1.77, 1.78, 1.77, 1.75, 1.74, 1.69, 1.6 , 1.5 , 1.33, 1.14, 0.93, 0.79, 0.68, 0.65],\n",
       "       [1.77, 1.77, 1.78, 1.77, 1.76, 1.75, 1.71, 1.65, 1.57, 1.45, 1.32, 1.18, 1.08, 1.04, 1.02],\n",
       "       [1.77, 1.77, 1.78, 1.77, 1.77, 1.77, 1.75, 1.72, 1.69, 1.65, 1.63, 1.59, 1.57, 1.57, 1.59],\n",
       "       [1.77, 1.77, 1.78, 1.78, 1.78, 1.8 , 1.81, 1.82, 1.88, 1.97, 2.12, 2.26, 2.34, 2.37, 2.39],\n",
       "       [1.77, 1.77, 1.79, 1.79, 1.81, 1.85, 1.9 , 1.99, 2.19, 2.48, 2.95, 3.32, 3.45, 3.47, 3.49],\n",
       "       [1.77, 1.78, 1.8 , 1.81, 1.84, 1.91, 2.03, 2.24, 2.66, 3.33, 4.28, 4.69, 4.77, 4.8 , 4.8 ],\n",
       "       [1.77, 1.78, 1.8 , 1.83, 1.88, 1.99, 2.2 , 2.57, 3.28, 4.49, 5.64, 5.93, 6.01, 6.03, 6.05],\n",
       "       [1.77, 1.76, 1.76, 1.73, 1.68, 1.58, 1.4 , 1.13, 0.84, 1.21, 2.15, 3.51, 7.62, 7.59, 7.62],\n",
       "       [1.77, 1.76, 1.76, 1.73, 1.67, 1.57, 1.38, 1.1 , 0.84, 2.52, 4.  , 5.44, 9.19, 9.29, 9.33],\n",
       "       [1.77, 1.76, 1.75, 1.73, 1.67, 1.56, 1.36, 1.09, 0.85, 3.01, 4.19, 6.7 , 9.72, 9.91, 9.94],\n",
       "       [1.77, 1.75, 1.75, 1.73, 1.67, 1.56, 1.36, 1.09, 0.84, 3.04, 4.2 , 6.86, 9.76, 9.96, 9.99]])"
      ]
     },
     "execution_count": 31,
     "metadata": {},
     "output_type": "execute_result"
    }
   ],
   "source": [
    "%%time\n",
    "# compiled\n",
    "foo0251 = exp(0.251, n=100)\n",
    "foo0251.reshape(-1, len(students), len(ns)).mean(axis=0).round(2)"
   ]
  },
  {
   "cell_type": "code",
   "execution_count": null,
   "id": "0d3dfa0a-fbce-4b2e-a986-19d247fab42f",
   "metadata": {},
   "outputs": [],
   "source": []
  },
  {
   "cell_type": "code",
   "execution_count": 32,
   "id": "644c841d-5350-4bf4-9d61-7cead321011f",
   "metadata": {
    "tags": []
   },
   "outputs": [
    {
     "data": {
      "application/vnd.jupyter.widget-view+json": {
       "model_id": "1a5d707d362f4f77800540ae6da78177",
       "version_major": 2,
       "version_minor": 0
      },
      "text/plain": [
       "  0%|          | 0/1100 [00:00<?, ?it/s]"
      ]
     },
     "metadata": {},
     "output_type": "display_data"
    },
    {
     "name": "stdout",
     "output_type": "stream",
     "text": [
      "CPU times: user 1.83 s, sys: 721 ms, total: 2.55 s\n",
      "Wall time: 1h 9min 53s\n"
     ]
    },
    {
     "data": {
      "text/plain": [
       "array([[ 2.41,  2.41,  2.42,  2.41,  2.39,  2.36,  2.29,  2.17,  2.  ,  1.75,  1.46,  1.13,  0.85,  0.67,  0.66],\n",
       "       [ 2.42,  2.41,  2.42,  2.41,  2.39,  2.37,  2.31,  2.21,  2.07,  1.87,  1.63,  1.37,  1.14,  1.04,  1.02],\n",
       "       [ 2.42,  2.42,  2.42,  2.41,  2.4 ,  2.39,  2.35,  2.28,  2.19,  2.06,  1.92,  1.76,  1.62,  1.57,  1.58],\n",
       "       [ 2.42,  2.42,  2.42,  2.42,  2.42,  2.42,  2.41,  2.38,  2.38,  2.36,  2.37,  2.36,  2.36,  2.36,  2.39],\n",
       "       [ 2.42,  2.42,  2.43,  2.43,  2.44,  2.47,  2.51,  2.55,  2.68,  2.84,  3.09,  3.3 ,  3.42,  3.46,  3.46],\n",
       "       [ 2.42,  2.42,  2.44,  2.45,  2.48,  2.54,  2.64,  2.81,  3.14,  3.62,  4.2 ,  4.6 ,  4.75,  4.76,  4.8 ],\n",
       "       [ 2.42,  2.43,  2.45,  2.47,  2.52,  2.62,  2.82,  3.15,  3.79,  4.71,  5.48,  5.86,  5.98,  6.02,  6.05],\n",
       "       [ 2.41,  2.41,  2.4 ,  2.37,  2.31,  2.21,  2.01,  1.69,  1.11,  1.59,  2.3 ,  4.06,  7.49,  7.66,  7.71],\n",
       "       [ 2.42,  2.41,  2.4 ,  2.37,  2.3 ,  2.19,  1.98,  1.59,  1.25,  1.96,  3.12,  7.51,  9.32,  9.33,  9.36],\n",
       "       [ 2.42,  2.4 ,  2.4 ,  2.37,  2.3 ,  2.19,  1.97,  1.55,  1.29,  2.08,  3.4 ,  8.62,  9.86,  9.94,  9.94],\n",
       "       [ 2.42,  2.4 ,  2.4 ,  2.37,  2.3 ,  2.19,  1.97,  1.53,  1.29,  2.09,  3.43,  8.73,  9.93,  9.99, 10.  ]])"
      ]
     },
     "execution_count": 32,
     "metadata": {},
     "output_type": "execute_result"
    }
   ],
   "source": [
    "%%time\n",
    "# compiled\n",
    "foo0398 = exp(0.398, n=100)\n",
    "foo0398.reshape(-1, len(students), len(ns)).mean(axis=0).round(2)"
   ]
  },
  {
   "cell_type": "code",
   "execution_count": null,
   "id": "6f008bbc-c680-4bf8-a6b4-07a04ecdb754",
   "metadata": {},
   "outputs": [],
   "source": []
  },
  {
   "cell_type": "code",
   "execution_count": 33,
   "id": "14d1f04b-b53e-4f7c-840e-998c96561d17",
   "metadata": {
    "tags": []
   },
   "outputs": [
    {
     "data": {
      "application/vnd.jupyter.widget-view+json": {
       "model_id": "7c59fc7a6a6644c582713d4565a49a07",
       "version_major": 2,
       "version_minor": 0
      },
      "text/plain": [
       "  0%|          | 0/1100 [00:00<?, ?it/s]"
      ]
     },
     "metadata": {},
     "output_type": "display_data"
    },
    {
     "name": "stdout",
     "output_type": "stream",
     "text": [
      "CPU times: user 1.71 s, sys: 618 ms, total: 2.33 s\n",
      "Wall time: 1h 9min 55s\n"
     ]
    },
    {
     "data": {
      "text/plain": [
       "array([[ 3.32,  3.3 ,  3.28,  3.24,  3.18,  3.07,  2.8 ,  2.33,  1.66,  0.99,  0.74,  0.57,  0.6 ,  0.63,  0.65],\n",
       "       [ 3.32,  3.3 ,  3.28,  3.25,  3.2 ,  3.11,  2.89,  2.52,  2.  ,  1.44,  1.19,  1.11,  1.09,  1.05,  1.05],\n",
       "       [ 3.32,  3.3 ,  3.29,  3.26,  3.22,  3.15,  2.98,  2.72,  2.41,  2.  ,  1.84,  1.71,  1.65,  1.61,  1.6 ],\n",
       "       [ 3.32,  3.31,  3.3 ,  3.28,  3.25,  3.22,  3.12,  2.98,  2.84,  2.65,  2.55,  2.46,  2.42,  2.4 ,  2.4 ],\n",
       "       [ 3.32,  3.32,  3.32,  3.3 ,  3.31,  3.32,  3.32,  3.34,  3.4 ,  3.43,  3.49,  3.46,  3.49,  3.5 ,  3.5 ],\n",
       "       [ 3.32,  3.33,  3.33,  3.34,  3.38,  3.46,  3.58,  3.81,  4.13,  4.5 ,  4.69,  4.75,  4.8 ,  4.82,  4.82],\n",
       "       [ 3.32,  3.33,  3.35,  3.39,  3.46,  3.6 ,  3.86,  4.31,  4.95,  5.56,  5.82,  5.96,  6.02,  6.03,  6.06],\n",
       "       [ 3.32,  3.32,  3.33,  3.33,  3.34,  3.36,  3.36,  4.05,  4.22,  4.16,  3.65,  6.37,  7.52,  7.64,  7.69],\n",
       "       [ 3.32,  3.33,  3.34,  3.35,  3.38,  3.44,  3.7 ,  4.87,  5.09,  5.06,  4.65,  9.04,  9.29,  9.33,  9.35],\n",
       "       [ 3.32,  3.33,  3.35,  3.36,  3.39,  3.46,  3.9 ,  5.13,  5.31,  5.23,  5.27,  9.72,  9.88,  9.93,  9.94],\n",
       "       [ 3.32,  3.33,  3.34,  3.36,  3.39,  3.47,  3.94,  5.15,  5.32,  5.22,  5.38,  9.77,  9.95, 10.  , 10.  ]])"
      ]
     },
     "execution_count": 33,
     "metadata": {},
     "output_type": "execute_result"
    }
   ],
   "source": [
    "%%time\n",
    "# compiled\n",
    "foo0631 = exp(0.631, n=100)\n",
    "foo0631.reshape(-1, len(students), len(ns)).mean(axis=0).round(2)"
   ]
  },
  {
   "cell_type": "code",
   "execution_count": null,
   "id": "15cb7dde-9081-44c9-af24-a888cf4ff0e4",
   "metadata": {},
   "outputs": [],
   "source": []
  },
  {
   "cell_type": "code",
   "execution_count": 34,
   "id": "92c26a66-15d9-4576-a213-a9cc2e5bfbff",
   "metadata": {
    "tags": []
   },
   "outputs": [
    {
     "data": {
      "application/vnd.jupyter.widget-view+json": {
       "model_id": "5b54da063a8447b080356642d4418530",
       "version_major": 2,
       "version_minor": 0
      },
      "text/plain": [
       "  0%|          | 0/1100 [00:00<?, ?it/s]"
      ]
     },
     "metadata": {},
     "output_type": "display_data"
    },
    {
     "name": "stdout",
     "output_type": "stream",
     "text": [
      "CPU times: user 1.73 s, sys: 635 ms, total: 2.37 s\n",
      "Wall time: 1h 9min 48s\n"
     ]
    },
    {
     "data": {
      "text/plain": [
       "array([[ 4.74,  4.73,  4.71,  4.7 ,  4.64,  4.54,  4.35,  3.98,  2.62,  1.06,  0.65,  0.49,  0.54,  0.5 ,  0.51],\n",
       "       [ 4.74,  4.73,  4.72,  4.7 ,  4.65,  4.56,  4.38,  4.05,  3.15,  1.48,  1.09,  0.95,  0.89,  0.89,  0.96],\n",
       "       [ 4.74,  4.74,  4.72,  4.71,  4.66,  4.58,  4.42,  4.16,  3.6 ,  2.33,  1.88,  1.63,  1.54,  1.58,  1.59],\n",
       "       [ 4.74,  4.74,  4.72,  4.71,  4.68,  4.62,  4.5 ,  4.3 ,  3.99,  3.45,  2.96,  2.63,  2.47,  2.43,  2.42],\n",
       "       [ 4.74,  4.74,  4.73,  4.73,  4.71,  4.68,  4.61,  4.5 ,  4.34,  4.1 ,  3.85,  3.62,  3.54,  3.52,  3.51],\n",
       "       [ 4.74,  4.75,  4.74,  4.75,  4.75,  4.76,  4.76,  4.79,  4.83,  4.86,  4.87,  4.86,  4.85,  4.85,  4.84],\n",
       "       [ 4.74,  4.75,  4.75,  4.78,  4.79,  4.85,  4.95,  5.11,  5.37,  5.68,  5.95,  6.07,  6.07,  6.07,  6.07],\n",
       "       [ 4.74,  4.73,  4.71,  4.68,  4.6 ,  4.47,  4.19,  3.73,  3.01,  2.39,  1.7 ,  2.42,  7.45,  7.46,  7.58],\n",
       "       [ 4.75,  4.73,  4.71,  4.69,  4.61,  4.47,  4.19,  3.73,  3.01,  3.5 ,  4.41,  4.84,  9.04,  9.36,  9.42],\n",
       "       [ 4.74,  4.73,  4.71,  4.68,  4.61,  4.47,  4.18,  3.73,  3.39,  4.78,  4.99,  5.16,  9.59,  9.92,  9.95],\n",
       "       [ 4.75,  4.73,  4.71,  4.68,  4.61,  4.47,  4.18,  3.73,  3.44,  4.83,  5.02,  5.18,  9.57,  9.99, 10.  ]])"
      ]
     },
     "execution_count": 34,
     "metadata": {},
     "output_type": "execute_result"
    }
   ],
   "source": [
    "%%time\n",
    "# compiled\n",
    "foo1000 = exp(1.000, n=100)\n",
    "foo1000.reshape(-1, len(students), len(ns)).mean(axis=0).round(2)"
   ]
  },
  {
   "cell_type": "code",
   "execution_count": null,
   "id": "a895f323-8ac8-4286-bac0-8b03658066e9",
   "metadata": {},
   "outputs": [],
   "source": []
  },
  {
   "cell_type": "code",
   "execution_count": 35,
   "id": "4b53f2c5-3f5c-4d2d-907b-64f6a36e6f45",
   "metadata": {
    "tags": []
   },
   "outputs": [
    {
     "data": {
      "application/vnd.jupyter.widget-view+json": {
       "model_id": "9f10fb952870490099302170a97c2f79",
       "version_major": 2,
       "version_minor": 0
      },
      "text/plain": [
       "  0%|          | 0/220 [00:00<?, ?it/s]"
      ]
     },
     "metadata": {},
     "output_type": "display_data"
    },
    {
     "name": "stdout",
     "output_type": "stream",
     "text": [
      "CPU times: user 292 ms, sys: 321 ms, total: 613 ms\n",
      "Wall time: 14min 10s\n"
     ]
    },
    {
     "data": {
      "text/plain": [
       "array([[5.96, 5.98, 5.95, 5.91, 5.83, 5.7 , 4.37, 3.07, 2.3 , 1.39, 0.88, 0.62, 0.54, 0.58, 0.61],\n",
       "       [5.96, 5.98, 5.95, 5.91, 5.84, 5.73, 4.43, 3.58, 2.74, 1.77, 1.26, 0.95, 0.97, 1.  , 1.01],\n",
       "       [5.96, 5.98, 5.95, 5.92, 5.85, 5.76, 4.97, 3.58, 3.18, 2.16, 1.79, 1.5 , 1.5 , 1.54, 1.59],\n",
       "       [5.96, 5.98, 5.96, 5.93, 5.87, 5.8 , 5.44, 4.75, 3.66, 3.  , 2.32, 2.37, 2.4 , 2.41, 2.36],\n",
       "       [5.96, 5.99, 5.97, 5.94, 5.9 , 5.84, 5.7 , 5.18, 4.6 , 4.1 , 3.67, 3.49, 3.5 , 3.49, 3.54],\n",
       "       [5.96, 5.99, 5.98, 5.96, 5.94, 5.93, 5.87, 5.72, 5.5 , 5.21, 5.02, 4.84, 4.86, 4.84, 4.88],\n",
       "       [5.96, 5.99, 5.99, 5.99, 5.98, 6.  , 6.  , 5.98, 6.03, 6.04, 6.07, 6.1 , 6.08, 6.09, 6.1 ],\n",
       "       [5.96, 5.98, 5.96, 5.94, 5.88, 5.74, 5.4 , 4.84, 3.6 , 2.76, 2.38, 7.27, 7.45, 7.54, 7.48],\n",
       "       [5.97, 5.98, 5.97, 5.95, 5.89, 5.75, 5.39, 4.86, 3.5 , 2.81, 3.97, 9.05, 9.35, 9.33, 9.33],\n",
       "       [5.96, 5.98, 5.97, 5.95, 5.89, 5.75, 5.38, 4.86, 3.53, 2.83, 4.55, 9.47, 9.82, 9.92, 9.92],\n",
       "       [5.96, 5.98, 5.97, 5.95, 5.89, 5.75, 5.38, 4.84, 3.48, 2.87, 4.61, 9.52, 9.87, 9.98, 9.99]])"
      ]
     },
     "execution_count": 35,
     "metadata": {},
     "output_type": "execute_result"
    }
   ],
   "source": [
    "%%time\n",
    "# compiled\n",
    "foo1585 = exp(1.585, n=20)\n",
    "foo1585.reshape(-1, len(students), len(ns)).mean(axis=0).round(2)"
   ]
  },
  {
   "cell_type": "code",
   "execution_count": 36,
   "id": "cc466ef4-cd57-436c-8656-e1c267f8dacd",
   "metadata": {
    "tags": []
   },
   "outputs": [
    {
     "data": {
      "application/vnd.jupyter.widget-view+json": {
       "model_id": "a90dc8a7995641e987cb73c48afe109f",
       "version_major": 2,
       "version_minor": 0
      },
      "text/plain": [
       "  0%|          | 0/220 [00:00<?, ?it/s]"
      ]
     },
     "metadata": {},
     "output_type": "display_data"
    },
    {
     "name": "stdout",
     "output_type": "stream",
     "text": [
      "CPU times: user 298 ms, sys: 311 ms, total: 610 ms\n",
      "Wall time: 14min 7s\n"
     ]
    },
    {
     "data": {
      "text/plain": [
       "array([[ 8.12,  8.06,  7.99,  7.77,  7.44,  5.55,  1.12,  1.24,  0.9 ,  0.44,  0.42,  0.51,  0.56,  0.54,  0.58],\n",
       "       [ 8.12,  8.06,  8.  ,  7.78,  7.46,  4.42,  0.97,  1.51,  1.06,  0.92,  0.76,  0.77,  0.76,  0.94,  0.96],\n",
       "       [ 8.12,  8.06,  8.  ,  7.78,  7.47,  4.63,  2.04,  1.44,  1.31,  1.17,  1.1 ,  1.18,  1.2 ,  1.4 ,  1.48],\n",
       "       [ 8.12,  8.07,  8.  ,  7.79,  7.48,  5.32,  2.88,  1.99,  1.72,  1.64,  1.85,  1.91,  2.1 ,  2.32,  2.35],\n",
       "       [ 8.12,  8.07,  8.01,  7.81,  7.51,  6.  ,  3.88,  2.3 ,  2.03,  2.27,  2.56,  2.8 ,  3.06,  3.4 ,  3.49],\n",
       "       [ 8.12,  8.09,  8.04,  7.84,  7.55,  6.97,  5.47,  2.65,  2.69,  2.76,  3.35,  4.12,  4.67,  4.76,  4.84],\n",
       "       [ 8.12,  8.08,  8.05,  7.86,  7.57,  7.17,  6.34,  4.15,  3.4 ,  3.81,  4.41,  5.55,  5.88,  6.02,  6.09],\n",
       "       [ 8.12,  8.14,  8.16,  8.12,  8.12,  8.09,  8.11,  7.89,  7.78,  7.71,  7.68,  7.72,  7.66,  7.68,  7.7 ],\n",
       "       [ 8.12,  8.16,  8.2 ,  8.17,  8.21,  8.29,  8.48,  8.57,  8.87,  9.22,  9.39,  9.45,  9.43,  9.42,  9.39],\n",
       "       [ 8.12,  8.17,  8.2 ,  8.18,  8.26,  8.36,  8.6 ,  8.79,  9.18,  9.6 ,  9.81,  9.91,  9.93,  9.95,  9.93],\n",
       "       [ 8.12,  8.17,  8.2 ,  8.19,  8.26,  8.36,  8.61,  8.81,  9.22,  9.64,  9.85,  9.95,  9.98, 10.01, 10.  ]])"
      ]
     },
     "execution_count": 36,
     "metadata": {},
     "output_type": "execute_result"
    }
   ],
   "source": [
    "%%time\n",
    "# compiled\n",
    "foo2512 = exp(2.512, n=20)\n",
    "foo2512.reshape(-1, len(students), len(ns)).mean(axis=0).round(2)"
   ]
  },
  {
   "cell_type": "code",
   "execution_count": 37,
   "id": "28d550d9-5781-4783-9ef5-706d4207946f",
   "metadata": {
    "tags": []
   },
   "outputs": [
    {
     "data": {
      "application/vnd.jupyter.widget-view+json": {
       "model_id": "3f4ecf6a78564218b420949655ddeeca",
       "version_major": 2,
       "version_minor": 0
      },
      "text/plain": [
       "  0%|          | 0/220 [00:00<?, ?it/s]"
      ]
     },
     "metadata": {},
     "output_type": "display_data"
    },
    {
     "name": "stdout",
     "output_type": "stream",
     "text": [
      "CPU times: user 288 ms, sys: 278 ms, total: 566 ms\n",
      "Wall time: 14min 8s\n"
     ]
    },
    {
     "data": {
      "text/plain": [
       "array([[ 9.43,  9.26,  9.12,  8.4 ,  7.39,  4.89,  2.78,  0.33,  0.26,  0.14,  0.2 ,  0.29,  0.34,  0.41,  0.49],\n",
       "       [ 9.43,  9.26,  9.13,  8.51,  7.4 ,  5.58,  3.35,  0.75,  0.54,  0.39,  0.47,  0.62,  0.69,  0.77,  0.96],\n",
       "       [ 9.43,  9.26,  9.12,  8.41,  7.42,  6.05,  3.95,  1.12,  0.77,  0.61,  0.77,  0.89,  1.05,  1.25,  1.51],\n",
       "       [ 9.43,  9.27,  9.13,  8.7 ,  7.22,  6.22,  4.13,  1.39,  1.01,  1.01,  1.31,  1.59,  1.97,  2.17,  2.32],\n",
       "       [ 9.43,  9.28,  9.14,  8.34,  7.29,  6.32,  4.77,  2.41,  1.61,  1.59,  2.  ,  2.42,  2.97,  3.41,  3.41],\n",
       "       [ 9.43,  9.3 ,  9.17,  8.56,  7.24,  6.43,  5.  ,  3.21,  2.59,  2.48,  2.88,  3.58,  4.5 ,  4.73,  4.77],\n",
       "       [ 9.43,  9.3 ,  9.19,  8.61,  7.07,  6.34,  5.45,  3.46,  3.19,  3.14,  3.74,  5.27,  5.86,  5.99,  6.06],\n",
       "       [ 9.43,  9.39,  9.39,  9.35,  9.32,  9.12,  8.84,  8.24,  7.77,  7.63,  7.58,  7.72,  7.68,  7.71,  7.66],\n",
       "       [ 9.43,  9.42,  9.43,  9.42,  9.45,  9.39,  9.42,  9.34,  9.32,  9.38,  9.37,  9.4 ,  9.39,  9.41,  9.4 ],\n",
       "       [ 9.43,  9.42,  9.44,  9.44,  9.49,  9.48,  9.57,  9.6 ,  9.69,  9.83,  9.88,  9.92,  9.93,  9.95,  9.93],\n",
       "       [ 9.43,  9.42,  9.44,  9.43,  9.49,  9.48,  9.59,  9.62,  9.72,  9.86,  9.92,  9.97,  9.98, 10.01, 10.  ]])"
      ]
     },
     "execution_count": 37,
     "metadata": {},
     "output_type": "execute_result"
    }
   ],
   "source": [
    "%%time\n",
    "# compiled\n",
    "foo3981 = exp(3.981, n=20)\n",
    "foo3981.reshape(-1, len(students), len(ns)).mean(axis=0).round(2)"
   ]
  },
  {
   "cell_type": "code",
   "execution_count": 38,
   "id": "65aa52cf-a6b1-4d00-be15-b83b38251ad8",
   "metadata": {
    "tags": []
   },
   "outputs": [
    {
     "data": {
      "application/vnd.jupyter.widget-view+json": {
       "model_id": "f7d4681b6ab0442f9d946ab72cb9e197",
       "version_major": 2,
       "version_minor": 0
      },
      "text/plain": [
       "  0%|          | 0/220 [00:00<?, ?it/s]"
      ]
     },
     "metadata": {},
     "output_type": "display_data"
    },
    {
     "name": "stdout",
     "output_type": "stream",
     "text": [
      "CPU times: user 291 ms, sys: 305 ms, total: 596 ms\n",
      "Wall time: 14min 7s\n"
     ]
    },
    {
     "data": {
      "text/plain": [
       "array([[ 9.94,  8.52,  6.47,  3.54,  1.93,  1.01,  0.38, -0.13,  0.36,  0.43,  0.41,  0.55,  0.56,  0.62,  0.59],\n",
       "       [ 9.94,  8.55,  6.36,  3.51,  2.11,  0.96,  0.52, -0.14,  0.66,  0.64,  0.6 ,  0.69,  0.79,  0.83,  0.88],\n",
       "       [ 9.94,  8.49,  6.28,  3.38,  2.22,  1.11,  0.33,  0.13,  0.6 ,  1.1 ,  1.11,  1.21,  1.43,  1.32,  1.54],\n",
       "       [ 9.94,  8.47,  6.16,  3.29,  2.33,  1.37,  0.74,  0.77,  1.2 ,  1.53,  1.8 ,  1.94,  2.17,  2.1 ,  2.25],\n",
       "       [ 9.94,  8.63,  5.88,  3.36,  2.56,  1.65,  1.57,  1.37,  1.84,  2.26,  2.63,  3.03,  3.32,  3.39,  3.5 ],\n",
       "       [ 9.94,  8.11,  6.43,  3.51,  2.99,  2.71,  2.71,  2.35,  2.83,  3.28,  3.98,  4.51,  4.84,  4.77,  4.84],\n",
       "       [ 9.95,  8.87,  4.52,  3.13,  3.1 ,  3.3 ,  3.13,  2.81,  3.53,  4.1 ,  5.43,  6.  ,  5.99,  6.04,  5.98],\n",
       "       [ 9.94,  9.9 ,  9.88,  9.73,  9.3 ,  8.31,  8.04,  7.55,  7.57,  7.52,  7.41,  7.53,  7.73,  7.76,  7.76],\n",
       "       [ 9.94,  9.93,  9.94,  9.92,  9.9 ,  9.76,  9.6 ,  9.29,  9.32,  9.4 ,  9.41,  9.41,  9.37,  9.36,  9.35],\n",
       "       [ 9.94,  9.94,  9.96,  9.94,  9.98,  9.94,  9.98,  9.93,  9.91,  9.95,  9.93,  9.93,  9.92,  9.95,  9.94],\n",
       "       [ 9.94,  9.94,  9.96,  9.94,  9.98,  9.94, 10.  ,  9.95,  9.95, 10.  ,  9.98,  9.99,  9.99, 10.02, 10.  ]])"
      ]
     },
     "execution_count": 38,
     "metadata": {},
     "output_type": "execute_result"
    }
   ],
   "source": [
    "%%time\n",
    "# compiled\n",
    "foo6310 = exp(6.310, n=20)\n",
    "foo6310.reshape(-1, len(students), len(ns)).mean(axis=0).round(2)"
   ]
  },
  {
   "cell_type": "code",
   "execution_count": 39,
   "id": "3848b7d3-8438-44de-aa4a-f9d90e5c2189",
   "metadata": {
    "tags": []
   },
   "outputs": [
    {
     "data": {
      "application/vnd.jupyter.widget-view+json": {
       "model_id": "d692b6282d014fbc9be9eab8c05d7b7f",
       "version_major": 2,
       "version_minor": 0
      },
      "text/plain": [
       "  0%|          | 0/220 [00:00<?, ?it/s]"
      ]
     },
     "metadata": {},
     "output_type": "display_data"
    },
    {
     "name": "stdout",
     "output_type": "stream",
     "text": [
      "CPU times: user 348 ms, sys: 314 ms, total: 662 ms\n",
      "Wall time: 14min 7s\n"
     ]
    },
    {
     "data": {
      "text/plain": [
       "array([[ 9.98,  3.79,  2.65,  3.46,  0.27, -0.64,  0.72, -0.03,  0.73,  0.53,  0.45,  0.45,  0.5 ,  0.44,  0.5 ],\n",
       "       [ 9.98,  3.76,  2.77,  3.49,  1.69, -0.18,  0.87,  0.38,  0.67,  0.63,  0.95,  0.76,  0.75,  0.86,  0.88],\n",
       "       [ 9.98,  3.89,  2.79,  4.07,  1.51,  0.42,  0.5 ,  1.11,  1.06,  1.19,  1.06,  1.16,  1.3 ,  1.4 ,  1.48],\n",
       "       [ 9.98,  3.54,  4.08,  4.37,  2.44,  1.49,  1.08,  0.74,  1.56,  1.65,  1.86,  2.16,  2.05,  2.25,  2.3 ],\n",
       "       [ 9.98,  6.11,  3.54,  4.06,  3.08,  2.  ,  1.9 ,  1.37,  1.7 ,  2.3 ,  2.91,  3.12,  3.13,  3.3 ,  3.42],\n",
       "       [ 9.98,  5.3 ,  3.7 ,  2.82,  3.98,  3.18,  2.98,  2.61,  2.98,  3.74,  4.24,  4.46,  4.65,  4.64,  4.78],\n",
       "       [ 9.98,  2.73,  2.77,  3.26,  3.93,  3.79,  3.6 ,  3.49,  4.05,  4.81,  5.52,  5.79,  5.96,  5.95,  6.01],\n",
       "       [ 9.98,  3.69,  8.76,  8.52,  8.2 ,  7.41,  7.13,  6.92,  6.85,  6.94,  7.17,  7.22,  7.09,  7.44,  7.51],\n",
       "       [ 9.98,  9.74, 10.  ,  9.98,  9.2 ,  9.86,  9.49,  8.57,  9.01,  9.26,  9.16,  9.25,  9.14,  9.25,  9.32],\n",
       "       [ 9.98,  9.98, 10.  ,  9.88, 10.01,  9.98,  9.98,  9.98,  9.96,  9.95,  9.92,  9.91,  9.9 ,  9.91,  9.92],\n",
       "       [ 9.98,  9.98, 10.  ,  9.98, 10.01,  9.98, 10.03,  9.98,  9.97,  9.99,  9.99, 10.  ,  9.99, 10.02, 10.  ]])"
      ]
     },
     "execution_count": 39,
     "metadata": {},
     "output_type": "execute_result"
    }
   ],
   "source": [
    "%%time\n",
    "# compiled\n",
    "foo10000 = exp(10.000, n=20)\n",
    "foo10000.reshape(-1, len(students), len(ns)).mean(axis=0).round(2)"
   ]
  },
  {
   "cell_type": "code",
   "execution_count": null,
   "id": "9b368ffe-9f2f-4d18-9392-6618655f0510",
   "metadata": {},
   "outputs": [],
   "source": []
  },
  {
   "cell_type": "code",
   "execution_count": null,
   "id": "f86ad5ef-8e93-4bd7-9b91-a0633fa86e83",
   "metadata": {},
   "outputs": [],
   "source": []
  }
 ],
 "metadata": {
  "kernelspec": {
   "display_name": "base",
   "language": "python",
   "name": "base"
  },
  "language_info": {
   "codemirror_mode": {
    "name": "ipython",
    "version": 3
   },
   "file_extension": ".py",
   "mimetype": "text/x-python",
   "name": "python",
   "nbconvert_exporter": "python",
   "pygments_lexer": "ipython3",
   "version": "3.10.12"
  }
 },
 "nbformat": 4,
 "nbformat_minor": 5
}
