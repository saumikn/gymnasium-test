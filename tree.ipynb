{
 "cells": [
  {
   "cell_type": "code",
   "execution_count": 1,
   "id": "766b7803-b252-47da-8afc-5f6783a18118",
   "metadata": {
    "tags": []
   },
   "outputs": [],
   "source": [
    "%load_ext line_profiler"
   ]
  },
  {
   "cell_type": "code",
   "execution_count": 268,
   "id": "86d00c2c-2468-406c-856e-3a39537a231d",
   "metadata": {
    "tags": []
   },
   "outputs": [],
   "source": [
    "from collections import Counter\n",
    "from functools import partial\n",
    "\n",
    "import numpy as np\n",
    "rng = np.random.default_rng()\n",
    "np.set_printoptions(suppress=True, linewidth=180, edgeitems=5)\n",
    "from tqdm.notebook import tqdm, trange\n",
    "from tqdm.contrib.concurrent import process_map\n",
    "\n",
    "from scipy.stats import rankdata\n",
    "import seaborn as sns\n",
    "import matplotlib.pyplot as plt\n",
    "import pandas as pd"
   ]
  },
  {
   "cell_type": "code",
   "execution_count": 253,
   "id": "fa2003db-c834-4768-a459-9792e617847f",
   "metadata": {
    "tags": []
   },
   "outputs": [
    {
     "data": {
      "text/plain": [
       "array([ 0.1   ,  0.1259,  0.1585,  0.1995,  0.2512,  0.3162,  0.3981,  0.5012,  0.631 ,  0.7943,  1.    ,  1.2589,  1.5849,  1.9953,  2.5119,\n",
       "        3.1623,  3.9811,  5.0119,  6.3096,  7.9433, 10.    ])"
      ]
     },
     "metadata": {},
     "output_type": "display_data"
    },
    {
     "data": {
      "text/plain": [
       "array([[  1. , -10. ],\n",
       "       [  0.9,   0.9]])"
      ]
     },
     "metadata": {},
     "output_type": "display_data"
    },
    {
     "data": {
      "text/plain": [
       "-7.2"
      ]
     },
     "metadata": {},
     "output_type": "display_data"
    }
   ],
   "source": [
    "# ns = [0,10,10,11,12,13,14,15,16,17]\n",
    "# ns = [0,5,5,6,7,8,9,10,11,12,13,14,15,16,17,18,19]\n",
    "# ns = [0]\n",
    "\n",
    "\n",
    "students = np.logspace(-1, 1, 21)\n",
    "display(students.round(4))\n",
    "\n",
    "\n",
    "# ms = 5\n",
    "# arrs = np.triu(np.tile(np.arange(32, 37),(5,1)).T) - 20\n",
    "# display(arrs)\n",
    "# display(arrs.sum())\n",
    "\n",
    "# ms = 4\n",
    "# arrs = np.triu(np.tile(np.arange(31, 35),(4,1)).T) - 20\n",
    "# display(arrs)\n",
    "# display(arrs.sum())\n",
    "\n",
    "\n",
    "# ns = [0,10,10,11,12,13,14,15,16,17]\n",
    "ns = [0,5,5,6,7,8,9,10,11,12,13,14,15]\n",
    "ms = 2\n",
    "arrs = np.array([[1,-10],[.9,.9]])\n",
    "display(arrs)\n",
    "display(arrs.sum().round(2))"
   ]
  },
  {
   "cell_type": "code",
   "execution_count": 254,
   "id": "c1f414e1-485c-4e84-8088-d8e3d403a139",
   "metadata": {},
   "outputs": [],
   "source": [
    "ranked = True"
   ]
  },
  {
   "cell_type": "code",
   "execution_count": 255,
   "id": "22b1d6d9-9d64-4dee-b971-bd3dfedb6bfe",
   "metadata": {},
   "outputs": [],
   "source": [
    "def make_model(num_nodes=128, num_dense=4):\n",
    "    \n",
    "    import tensorflow as tf\n",
    "    for gpu in tf.config.list_physical_devices('GPU'):\n",
    "        tf.config.experimental.set_memory_growth(gpu, True)\n",
    "    \n",
    "    inputs = tf.keras.layers.Input(shape=(ms*ms + ms + 1))\n",
    "    x = tf.keras.layers.Flatten()(inputs)\n",
    "    \n",
    "    for _ in range(num_dense):\n",
    "        x = tf.keras.layers.Dense(num_nodes, activation='relu')(x)\n",
    "    \n",
    "    # output1 = tf.keras.layers.Dense(5, name='Y0')(x)\n",
    "    # output2 = tf.keras.layers.Dense(5, name='Y1')(x)\n",
    "    # model = tf.keras.models.Model(inputs=inputs, outputs=[output1, output2])\n",
    "    \n",
    "    output1 = tf.keras.layers.Dense(ms, name='Y0')(x)\n",
    "    output1 = tf.keras.layers.Softmax()(output1)\n",
    "    model = tf.keras.models.Model(inputs=inputs, outputs=output1)\n",
    "\n",
    "    \n",
    "    opt = tf.keras.optimizers.Adam()\n",
    "    # opt = tf.keras.optimizers.Adam(learning_rate=1)\n",
    "    # opt = tf.keras.optimizers.SGD()\n",
    "    loss_fn = tf.keras.losses.SparseCategoricalCrossentropy(from_logits=False)\n",
    "    model.compile(optimizer=opt, loss=loss_fn, metrics=['accuracy'])\n",
    "    return model\n",
    "\n",
    "def softmax(x, b, axis=-1):\n",
    "    x = x - np.max(x)\n",
    "    return np.exp(x/b) / np.exp(x/b).sum(axis=axis, keepdims=True)\n",
    "\n",
    "def make_x():\n",
    "    x = arrs\n",
    "    \n",
    "    rand = np.random.random(arrs.shape)\n",
    "    rand = (rand - 0.5)\n",
    "    x = x + rand*0.01\n",
    "    \n",
    "    x = rng.permuted(x, axis=-1)\n",
    "    return x\n",
    "\n",
    "def eval_model(model, n = 1, disable=True):\n",
    "    rewards = []\n",
    "    branch_rewards = []\n",
    "    for _ in trange(n, disable=disable):\n",
    "        x = make_x()\n",
    "        x_tree = np.concatenate([np.eye(ms+1).astype(int), np.tile(x.flatten(), (ms+1,1))], axis=1)\n",
    "        y_pred = model(x_tree)\n",
    "        branch_reward = (x_tree[0,ms+1:].reshape(ms,ms) * y_pred[1:].numpy()).sum(axis=1)\n",
    "        rewards.append(y_pred[0].numpy())\n",
    "        # reward = (y_pred[0] * branch_reward).numpy().sum()\n",
    "        # rewards.append(reward)\n",
    "        branch_rewards.append(branch_reward)\n",
    "    return np.array(rewards), np.array(branch_rewards)\n",
    "\n",
    "#ranked\n",
    "def make_data(b, n=1, disable=True):\n",
    "    X, Y = [], []\n",
    "    for _ in trange(n, disable=disable):\n",
    "        \n",
    "        if ranked:\n",
    "            # Ranked Rewards\n",
    "            x = make_x()\n",
    "            r1 = softmax(rankdata(x,axis=1), b)\n",
    "            r1sum = (r1*x).sum(axis=1)\n",
    "            r0 = softmax(rankdata(r1sum), b)\n",
    "        \n",
    "        else:\n",
    "            ## Rewards Directly\n",
    "            x = make_x()\n",
    "            r1 = softmax(x, b)\n",
    "            r1sum = (r1*x).sum(axis=1)\n",
    "            r0 = softmax(r1sum, b)\n",
    "        \n",
    "        pos = [0] * (ms+1)\n",
    "        pos[0] = 1\n",
    "        x0 = pos + list(x.flatten())\n",
    "        y0 = rng.choice(np.arange(ms), p=r0)\n",
    "        \n",
    "        pos = [0] * (ms+1)\n",
    "        pos[y0+1] = 1\n",
    "        x1 = pos + list(x.flatten())\n",
    "        y1 = rng.choice(np.arange(ms), p=r1[y0])\n",
    "\n",
    "        X.append(x0)\n",
    "        Y.append(y0)\n",
    "        X.append(x1)\n",
    "        Y.append(y1)\n",
    "    \n",
    "    X = np.array(X)\n",
    "    Y = np.array(Y)\n",
    "    \n",
    "    return X,Y"
   ]
  },
  {
   "cell_type": "code",
   "execution_count": 256,
   "id": "ef6af282-f6da-44a7-b19f-7f1bc4e586c9",
   "metadata": {
    "tags": []
   },
   "outputs": [
    {
     "name": "stdout",
     "output_type": "stream",
     "text": [
      "0.100, 0.999, [1.  0.9], [0.73 0.27]\n",
      "0.126, 0.996, [1.  0.9], [0.68 0.32]\n",
      "0.158, 0.980, [0.98 0.9 ], [0.62 0.38]\n",
      "0.200, 0.927, [0.93 0.9 ], [0.53 0.47]\n",
      "0.251, 0.900, [0.8 0.9], [0.4 0.6]\n",
      "0.316, 0.887, [0.55 0.9 ], [0.25 0.75]\n",
      "0.398, 0.847, [0.17 0.9 ], [0.14 0.86]\n",
      "0.501, 0.756, [-0.32  0.9 ], [0.08 0.92]\n",
      "0.631, 0.600, [-0.87  0.9 ], [0.06 0.94]\n",
      "0.794, 0.385, [-1.43  0.9 ], [0.05 0.95]\n",
      "1.000, 0.132, [-1.96  0.9 ], [0.05 0.95]\n",
      "1.259, -0.134, [-2.42  0.9 ], [0.07 0.93]\n",
      "1.585, -0.392, [-2.82  0.9 ], [0.09 0.91]\n",
      "1.995, -0.628, [-3.15  0.9 ], [0.12 0.88]\n",
      "2.512, -0.835, [-3.42  0.9 ], [0.15 0.85]\n",
      "3.162, -1.013, [-3.64  0.9 ], [0.19 0.81]\n",
      "3.981, -1.162, [-3.81  0.9 ], [0.23 0.77]\n",
      "5.012, -1.285, [-3.95  0.9 ], [0.28 0.72]\n",
      "6.310, -1.386, [-4.06  0.9 ], [0.31 0.69]\n",
      "7.943, -1.468, [-4.15  0.9 ], [0.35 0.65]\n",
      "10.000, -1.534, [-4.23  0.9 ], [0.37 0.63]\n",
      "CPU times: user 6.14 s, sys: 38 ms, total: 6.18 s\n",
      "Wall time: 6.18 s\n"
     ]
    }
   ],
   "source": [
    "%%time\n",
    "for b in students:\n",
    "    r0s = []\n",
    "    r1s = []\n",
    "    for _ in trange(1000, disable=True):\n",
    "        x = make_x()\n",
    "        \n",
    "        if ranked:\n",
    "            r0 = (softmax(rankdata(x,axis=1), b) * x).sum(axis=1)\n",
    "            r1 = (softmax(rankdata(r0), b) * r0).sum()\n",
    "            r0s.append(r0)\n",
    "            r1s.append(r1)\n",
    "            \n",
    "        else:\n",
    "            r0 = (softmax(x, b) * x).sum(axis=1)\n",
    "            r1 = (softmax(r0, b) * r0).sum()\n",
    "            r0s.append(r0)\n",
    "            r1s.append(r1)\n",
    "            \n",
    "        \n",
    "    r0s = np.array(r0s)\n",
    "    r1s = np.array(r1s)\n",
    "    print(f\"{b:.3f}, {r1s.mean():.3f}, {r0s.mean(axis=0).round(2)}, {softmax(r0s.mean(axis=0), b).round(2)}\")\n"
   ]
  },
  {
   "cell_type": "code",
   "execution_count": null,
   "id": "f51597b7-0d14-4bbd-b0dd-2e032a9581ca",
   "metadata": {},
   "outputs": [],
   "source": []
  },
  {
   "cell_type": "code",
   "execution_count": null,
   "id": "0ac43a6e-f5d8-4821-a96a-cfe9343967d9",
   "metadata": {},
   "outputs": [],
   "source": []
  },
  {
   "cell_type": "code",
   "execution_count": 257,
   "id": "1ed42634-10c5-4475-b89f-0db4f6a77b21",
   "metadata": {
    "tags": []
   },
   "outputs": [],
   "source": [
    "def train_model(student):\n",
    "    verbose = False\n",
    "    if student == students[-1]:\n",
    "        print(f'student == {student:.3f}')\n",
    "        verbose = True\n",
    "    model = make_model()\n",
    "    Xtrain, Ytrain = make_data(student, 2**16, disable=not verbose)\n",
    "    model.fit(Xtrain, Ytrain, verbose=verbose)\n",
    "    reward = eval_model(model, 10000, disable=not verbose)\n",
    "    model.save(f'models/starting_{student:.3f}.keras')\n",
    "    return reward"
   ]
  },
  {
   "cell_type": "code",
   "execution_count": 258,
   "id": "6ff09ac6-6397-4ec4-a545-d006daffa337",
   "metadata": {},
   "outputs": [
    {
     "name": "stdout",
     "output_type": "stream",
     "text": [
      "student == 10.000\n"
     ]
    },
    {
     "data": {
      "application/vnd.jupyter.widget-view+json": {
       "model_id": "38b37a2a07104ccdb60f0e1b195be743",
       "version_major": 2,
       "version_minor": 0
      },
      "text/plain": [
       "  0%|          | 0/65536 [00:00<?, ?it/s]"
      ]
     },
     "metadata": {},
     "output_type": "display_data"
    },
    {
     "name": "stdout",
     "output_type": "stream",
     "text": [
      "4096/4096 [==============================] - 39s 9ms/step - loss: 0.6933 - accuracy: 0.5107\n"
     ]
    },
    {
     "data": {
      "application/vnd.jupyter.widget-view+json": {
       "model_id": "2ca1773a0b3045c7af02d558ecc9a8f7",
       "version_major": 2,
       "version_minor": 0
      },
      "text/plain": [
       "  0%|          | 0/10000 [00:00<?, ?it/s]"
      ]
     },
     "metadata": {},
     "output_type": "display_data"
    },
    {
     "name": "stdout",
     "output_type": "stream",
     "text": [
      "CPU times: user 1.47 s, sys: 1.49 s, total: 2.96 s\n",
      "Wall time: 2min 34s\n"
     ]
    }
   ],
   "source": [
    "%%time\n",
    "rewards = process_map(train_model, students, disable=True, max_workers=24)"
   ]
  },
  {
   "cell_type": "code",
   "execution_count": 259,
   "id": "71093b6a-1f0d-4868-9a85-b493a7f8abea",
   "metadata": {
    "tags": []
   },
   "outputs": [
    {
     "name": "stdout",
     "output_type": "stream",
     "text": [
      "0.100 0.999981437864255\n",
      "0.126 0.9999610358430817\n",
      "0.158 0.9027519628910948\n",
      "0.200 0.9863395877228394\n",
      "0.251 0.8912512790379505\n",
      "0.316 0.8970963777436456\n",
      "0.398 0.6650358300586346\n",
      "0.501 0.7665234857001156\n",
      "0.631 0.6912082635774647\n",
      "0.794 0.3858241399104868\n",
      "1.000 0.4139545492216933\n",
      "1.259 -0.2630305767286299\n",
      "1.585 -0.1543818776446624\n",
      "1.995 -0.663244560026417\n",
      "2.512 -0.8927140619874248\n",
      "3.162 -0.8886593953037042\n",
      "3.981 -1.2030676130294593\n",
      "5.012 -1.41034460450296\n",
      "6.310 -1.73997514878285\n",
      "7.943 -1.696766888373279\n",
      "10.000 -1.6839861735288746\n"
     ]
    }
   ],
   "source": [
    "for r, s in zip(rewards, students):\n",
    "    \n",
    "    res = r[0]*r[1]\n",
    "    res = res.sum(axis=1).mean()\n",
    "    \n",
    "    print(f\"{s:.3f} {res}\")"
   ]
  },
  {
   "cell_type": "code",
   "execution_count": null,
   "id": "85ef2e91-84e8-49e8-ae33-8a6ae29b8a1d",
   "metadata": {},
   "outputs": [],
   "source": []
  },
  {
   "cell_type": "code",
   "execution_count": null,
   "id": "24d57761-2db5-405e-a279-7788e1859e7f",
   "metadata": {},
   "outputs": [],
   "source": []
  },
  {
   "cell_type": "code",
   "execution_count": 204,
   "id": "3fe2a858-be4f-4f24-be00-1d6d2e33f6b0",
   "metadata": {
    "tags": []
   },
   "outputs": [
    {
     "data": {
      "text/plain": [
       "array([[ 1. , -2. ],\n",
       "       [ 0.7,  0.3]])"
      ]
     },
     "metadata": {},
     "output_type": "display_data"
    },
    {
     "name": "stdout",
     "output_type": "stream",
     "text": [
      "\n"
     ]
    },
    {
     "data": {
      "text/plain": [
       "array([[0.57444252, 0.42555748],\n",
       "       [0.50999867, 0.49000133]])"
      ]
     },
     "metadata": {},
     "output_type": "display_data"
    },
    {
     "name": "stdout",
     "output_type": "stream",
     "text": [
      "\n"
     ]
    },
    {
     "data": {
      "text/plain": [
       "array([-0.27667245,  0.50399947])"
      ]
     },
     "metadata": {},
     "output_type": "display_data"
    }
   ],
   "source": [
    "# a = np.array([[10,0], [9,6]])\n",
    "a = arrs\n",
    "b = 10\n",
    "display(a)\n",
    "print()\n",
    "display(softmax(a, b=b))\n",
    "print()\n",
    "display((a * softmax(a, b=b)).sum(axis=1))"
   ]
  },
  {
   "cell_type": "code",
   "execution_count": null,
   "id": "7e025b33-7b48-494f-81fa-58fd4f1cb971",
   "metadata": {},
   "outputs": [],
   "source": []
  },
  {
   "cell_type": "code",
   "execution_count": null,
   "id": "8b7f8d28-e287-4e57-b20e-1f5378ee2100",
   "metadata": {},
   "outputs": [],
   "source": []
  },
  {
   "cell_type": "code",
   "execution_count": null,
   "id": "a337e1e2-3c6a-48b8-b35b-3af21878318f",
   "metadata": {},
   "outputs": [],
   "source": []
  },
  {
   "cell_type": "markdown",
   "id": "dfa44a1e-2d2f-4767-adaf-3582c4dd22f9",
   "metadata": {
    "jp-MarkdownHeadingCollapsed": true,
    "tags": []
   },
   "source": [
    "# Graphs"
   ]
  },
  {
   "cell_type": "code",
   "execution_count": null,
   "id": "4a2d09c8-d97f-485c-a596-42af707eb0fc",
   "metadata": {
    "tags": []
   },
   "outputs": [],
   "source": [
    "import tensorflow as tf\n",
    "for gpu in tf.config.list_physical_devices('GPU'):\n",
    "    tf.config.experimental.set_memory_growth(gpu, True)\n",
    "tf.get_logger().setLevel('ERROR')\n",
    "model2 = tf.keras.models.load_model(f\"models/starting_{0.100:.3f}.keras\")\n",
    "%timeit r0, r1 = eval_model(model2, 1)"
   ]
  },
  {
   "cell_type": "code",
   "execution_count": null,
   "id": "3436215e-8cca-46d3-a594-21828315e74c",
   "metadata": {},
   "outputs": [],
   "source": []
  },
  {
   "cell_type": "code",
   "execution_count": null,
   "id": "e8e11aa3-1b08-4d82-9af8-2e44d47f6fd1",
   "metadata": {
    "tags": []
   },
   "outputs": [],
   "source": [
    "class CustomCallback(tf.keras.callbacks.Callback):\n",
    "    def __init__(self):\n",
    "        super(CustomCallback, self).__init__()\n",
    "\n",
    "    def on_batch_end(self, batch, logs=None):\n",
    "        r0, r1 = eval_model(self.model, 10)\n",
    "        r = (r0*r1).sum(axis=1).mean()\n",
    "        \n",
    "        \n",
    "        try:\n",
    "            self.model.rewards.append(r)\n",
    "            self.model.accs.append(logs['accuracy'])\n",
    "        except:\n",
    "            self.model.rewards = [r]\n",
    "            self.model.accs = [logs['accuracy']]\n",
    "\n",
    "#         # Add the output to the logs\n",
    "#         if logs is not None:\n",
    "#             logs['reward'] = r"
   ]
  },
  {
   "cell_type": "code",
   "execution_count": null,
   "id": "0d9a45f3-0752-44cd-a3e9-eba10ccd5c5f",
   "metadata": {},
   "outputs": [],
   "source": []
  },
  {
   "cell_type": "code",
   "execution_count": null,
   "id": "60da4fda-3220-485f-9779-2785ff195c45",
   "metadata": {},
   "outputs": [],
   "source": [
    "models = {}"
   ]
  },
  {
   "cell_type": "code",
   "execution_count": null,
   "id": "339a6aa4-087d-4b8c-81c3-fadfdd9e422b",
   "metadata": {
    "tags": []
   },
   "outputs": [],
   "source": [
    "%%time\n",
    "\n",
    "with open('tree.log', 'a') as f:\n",
    "    for student in students:\n",
    "        \n",
    "        print(f'student {student:.3f}', file=f, flush=True)\n",
    "\n",
    "        models[student] = {}\n",
    "\n",
    "        for teacher in students[::2][3:10]:\n",
    "\n",
    "            print(f'teacher {teacher:.3f}', file=f, flush=True)\n",
    "            models[student][teacher] = []\n",
    "            for i in range(5):\n",
    "                print(f'model {i}', file=f, flush=True)\n",
    "                # model = make_model()\n",
    "                model = tf.keras.models.load_model(f\"models/starting_{student:.3f}.keras\")\n",
    "\n",
    "                opt = tf.keras.optimizers.Adam()\n",
    "                loss_fn = tf.keras.losses.SparseCategoricalCrossentropy(from_logits=False)\n",
    "                model.compile(optimizer=opt, loss=loss_fn, metrics=['accuracy'])\n",
    "\n",
    "                X, Y = currs[f'{teacher:.3f}']\n",
    "                model.fit(X[:2**17], Y[:2**17], callbacks=[CustomCallback()], verbose=False)\n",
    "                # model.fit(X[:2**17], Y[:2**17], callbacks=[CustomCallback()])\n",
    "\n",
    "                models[student][teacher].append(model)\n",
    "\n",
    "\n",
    "        #         break\n",
    "        #     break\n",
    "        # break"
   ]
  },
  {
   "cell_type": "code",
   "execution_count": null,
   "id": "53cb41b0-d8b4-4bde-9cc6-3e92be5b5d0a",
   "metadata": {},
   "outputs": [],
   "source": []
  },
  {
   "cell_type": "code",
   "execution_count": null,
   "id": "952cb75b-9d09-4ff1-bb35-826b785218f0",
   "metadata": {
    "tags": []
   },
   "outputs": [],
   "source": [
    "for student, s_models in models.items():\n",
    "    # print(student, list(s_models))\n",
    "    df = {}\n",
    "    for teacher, model in s_models.items():\n",
    "        kernel_size = 20\n",
    "        kernel = np.ones(kernel_size) / kernel_size\n",
    "        rewards = np.array([m.rewards for m in model]).mean(axis=0)\n",
    "        rewards = np.convolve(rewards, kernel, mode='valid')\n",
    "        df[f\"{teacher:.3f}\"] = rewards\n",
    "    df = pd.DataFrame(df)\n",
    "    \n",
    "    print(f'Student {student:.3f}')\n",
    "    with warnings.catch_warnings():\n",
    "        warnings.simplefilter(action='ignore', category=FutureWarning)\n",
    "        ax = sns.lineplot(df[[c for c in df.columns if float(c) >= student]])\n",
    "        sns.move_legend(ax, \"upper left\", bbox_to_anchor=(1, 1))\n",
    "        plt.show()\n",
    "    print()"
   ]
  },
  {
   "cell_type": "code",
   "execution_count": null,
   "id": "eaa543c2-fd0b-4850-a338-e224691396b0",
   "metadata": {
    "tags": []
   },
   "outputs": [],
   "source": [
    "df[[c for c in df.columns if float(c) >= 1]]"
   ]
  },
  {
   "cell_type": "code",
   "execution_count": null,
   "id": "132f48cb-0a7e-42e5-bf60-dc64e3f05bc6",
   "metadata": {},
   "outputs": [],
   "source": [
    "with warnings.catch_warnings():\n",
    "    warnings.simplefilter(action='ignore', category=FutureWarning)\n",
    "\n",
    "    ax = sns.lineplot(df)\n",
    "    sns.move_legend(ax, \"upper left\", bbox_to_anchor=(1, 1))"
   ]
  },
  {
   "cell_type": "code",
   "execution_count": null,
   "id": "c7263848-5c70-4766-903b-c6599daba102",
   "metadata": {},
   "outputs": [],
   "source": []
  },
  {
   "cell_type": "code",
   "execution_count": null,
   "id": "d6cff159-4c68-4dc4-85a1-a6bfb45521c6",
   "metadata": {},
   "outputs": [],
   "source": [
    "1+1"
   ]
  },
  {
   "cell_type": "code",
   "execution_count": null,
   "id": "76baa6ff-384c-4282-90f0-d7690800ccfd",
   "metadata": {},
   "outputs": [],
   "source": []
  },
  {
   "cell_type": "code",
   "execution_count": null,
   "id": "91ff4eab-24b7-44a1-b62c-6f157e55aa4a",
   "metadata": {},
   "outputs": [],
   "source": []
  },
  {
   "cell_type": "code",
   "execution_count": null,
   "id": "ba5068ae-3bd7-4f13-8650-69dfc650608a",
   "metadata": {},
   "outputs": [],
   "source": []
  },
  {
   "cell_type": "code",
   "execution_count": null,
   "id": "bd28ddb4-2cf1-40f0-a3dd-59aa2ba6a0c0",
   "metadata": {},
   "outputs": [],
   "source": [
    "ax = sns.lineplot(df[df.columns[4:9]])\n",
    "sns.move_legend(ax, \"upper left\", bbox_to_anchor=(1, 1))"
   ]
  },
  {
   "cell_type": "code",
   "execution_count": null,
   "id": "bf7a9caa-74cb-4bb3-8927-65b57cfc292f",
   "metadata": {},
   "outputs": [],
   "source": [
    "students[::2][4:9]"
   ]
  },
  {
   "cell_type": "code",
   "execution_count": null,
   "id": "dfa9c84f-a9cd-4015-9fa8-3588366e3a30",
   "metadata": {},
   "outputs": [],
   "source": []
  },
  {
   "cell_type": "markdown",
   "id": "56c7a7ba-5a01-495e-97c7-b76c9e522497",
   "metadata": {},
   "source": [
    "# Eval Training"
   ]
  },
  {
   "cell_type": "code",
   "execution_count": 260,
   "id": "b8f08b68-2293-4d62-b818-2759485dd35c",
   "metadata": {},
   "outputs": [],
   "source": [
    "def eval_training(student, teacher, verbose=False):\n",
    "    import tensorflow as tf\n",
    "    for gpu in tf.config.list_physical_devices('GPU'):\n",
    "        tf.config.experimental.set_memory_growth(gpu, True)\n",
    "\n",
    "    \n",
    "    if student == -1:\n",
    "        model2 = make_model()\n",
    "    else:\n",
    "        model2 = tf.keras.models.load_model(f\"models/starting_{student:.3f}.keras\")\n",
    "    # opt = tf.keras.optimizers.SGD()\n",
    "    opt = tf.keras.optimizers.Adam()\n",
    "    loss_fn = tf.keras.losses.SparseCategoricalCrossentropy(from_logits=False)\n",
    "    model2.compile(optimizer=opt, loss=loss_fn, metrics=['accuracy'])\n",
    "    nsum = 0\n",
    "    \n",
    "    X, Y = currs[f\"{teacher:.3f}\"]\n",
    "    perm = np.random.permutation(len(X))\n",
    "    X, Y = X[perm], Y[perm]\n",
    "    \n",
    "    rewards = []\n",
    "    for i in ns:\n",
    "        if i != 0:\n",
    "            n = 2**i\n",
    "            # X, Y = make_data(teacher, n, disable=True)\n",
    "                        \n",
    "            model2.fit(X[nsum:nsum+n], Y[nsum:nsum+n], verbose=False)\n",
    "            nsum += n\n",
    "            \n",
    "        r0, r1 = eval_model(model2, 10)\n",
    "        reward = (r0*r1).sum(axis=1).mean()\n",
    "        rewards.append(reward)\n",
    "        # print(f\"{nsum}    \", end='\\r')\n",
    "    return rewards"
   ]
  },
  {
   "cell_type": "code",
   "execution_count": 261,
   "id": "b9a6548c-85ef-4e7b-8f30-ef4e94a0f13a",
   "metadata": {
    "tags": []
   },
   "outputs": [],
   "source": [
    "def exp(student, verbose=True, n=20):\n",
    "    # teachers = np.arange(student, 0.40001, 0.02)\n",
    "    \n",
    "    teachers = students\n",
    "    \n",
    "    t_ = list(teachers) * n\n",
    "    s_ = [student for _ in t_]\n",
    "    \n",
    "    res = process_map(eval_training, s_, t_, max_workers=32, chunksize=1)\n",
    "    \n",
    "    return np.array(res)"
   ]
  },
  {
   "cell_type": "code",
   "execution_count": null,
   "id": "7706336d-1a11-4dd6-a159-57d61e4c7b77",
   "metadata": {},
   "outputs": [],
   "source": []
  },
  {
   "cell_type": "code",
   "execution_count": 262,
   "id": "e6be9cdd-8604-4a87-b3ff-10b033576e7a",
   "metadata": {
    "tags": []
   },
   "outputs": [
    {
     "data": {
      "application/vnd.jupyter.widget-view+json": {
       "model_id": "8dbe94a1998545ca8d5a7cd71e79f47e",
       "version_major": 2,
       "version_minor": 0
      },
      "text/plain": [
       "  0%|          | 0/21 [00:00<?, ?it/s]"
      ]
     },
     "metadata": {},
     "output_type": "display_data"
    },
    {
     "name": "stdout",
     "output_type": "stream",
     "text": [
      "CPU times: user 141 ms, sys: 395 ms, total: 536 ms\n",
      "Wall time: 1min 41s\n"
     ]
    }
   ],
   "source": [
    "%%time\n",
    "ntotal = (2**np.array(ns[1:])).sum()\n",
    "\n",
    "currs = process_map(make_data, students, [ntotal]*len(students), max_workers=6, chunksize=1)\n",
    "currs = dict(zip([f\"{s:.3f}\" for s in students], currs))"
   ]
  },
  {
   "cell_type": "code",
   "execution_count": null,
   "id": "c5e9288e-cc50-4ee6-a6ce-3d5ae9873f5e",
   "metadata": {},
   "outputs": [],
   "source": []
  },
  {
   "cell_type": "code",
   "execution_count": 263,
   "id": "aea4e02e-4f4e-4e6b-83af-3578af74f795",
   "metadata": {
    "tags": []
   },
   "outputs": [
    {
     "data": {
      "application/vnd.jupyter.widget-view+json": {
       "model_id": "b381ad5416734ab9acaa1b3a96987439",
       "version_major": 2,
       "version_minor": 0
      },
      "text/plain": [
       "  0%|          | 0/21 [00:00<?, ?it/s]"
      ]
     },
     "metadata": {},
     "output_type": "display_data"
    },
    {
     "name": "stdout",
     "output_type": "stream",
     "text": [
      "CPU times: user 44.6 ms, sys: 551 ms, total: 596 ms\n",
      "Wall time: 28.7 s\n"
     ]
    },
    {
     "data": {
      "text/plain": [
       "array([[-0.95, -1.44, -1.47, -0.88, -0.29,  0.09,  0.82,  0.97,  1.  ,  1.  ,  1.  ,  1.  ,  1.  ],\n",
       "       [-1.35, -1.2 , -1.25, -1.51, -0.01,  0.3 ,  0.59,  0.95,  0.99,  1.  ,  1.  ,  1.  ,  1.  ],\n",
       "       [-0.79, -1.49, -1.71, -1.38,  0.07, -0.09,  0.86,  0.97,  0.92,  1.  ,  0.99,  1.  ,  0.95],\n",
       "       [-1.7 , -1.21, -0.93, -1.5 , -0.71, -0.51,  0.17,  0.82,  0.69,  0.96,  0.91,  0.96,  0.97],\n",
       "       [-2.79, -1.51, -0.58,  0.35, -0.26, -0.56, -0.71,  0.81,  0.84,  0.81,  0.84,  0.84,  0.9 ],\n",
       "       [-1.99, -0.75,  0.02,  0.49, -0.52, -0.47, -0.32,  0.52,  0.83,  0.81,  0.85,  0.86,  0.89],\n",
       "       [-3.18, -1.5 , -0.59, -0.03, -0.37, -0.1 , -0.15,  0.67,  0.81,  0.68,  0.82,  0.86,  0.67],\n",
       "       [-2.03, -1.22, -0.61, -0.45, -0.33, -0.88, -0.67, -0.04,  0.4 ,  0.55, -0.11,  0.67,  0.73],\n",
       "       [-0.9 , -1.81, -1.2 , -0.31, -0.55, -0.41, -0.75,  0.56,  0.41,  0.35,  0.67,  0.44,  0.63],\n",
       "       [-2.63, -1.37, -0.8 , -0.18, -0.59, -0.68, -0.72, -0.14,  0.27,  0.22,  0.51,  0.46,  0.27],\n",
       "       [-2.69, -1.41, -0.65, -0.17, -0.99, -0.54, -0.65, -1.13,  0.14, -0.32, -0.01, -0.06,  0.3 ],\n",
       "       [-1.26, -1.17, -1.42, -1.01, -0.78, -0.6 , -1.21, -0.61, -0.59, -0.83, -0.68, -0.38, -0.54],\n",
       "       [-2.12, -1.26, -0.95, -1.17, -1.62, -0.67, -0.88, -0.96, -0.63, -0.35, -0.77, -0.35, -0.71],\n",
       "       [-2.2 , -1.34, -1.08, -1.04, -1.34, -1.19, -1.45, -0.86, -0.46, -0.75, -1.25, -1.06, -1.05],\n",
       "       [-2.29, -1.01, -0.52, -1.25, -1.63, -1.2 , -1.53, -1.97, -0.71, -1.27, -0.86, -0.98, -0.79],\n",
       "       [-0.72, -2.27, -2.82, -1.42, -1.15, -1.66, -1.24, -1.12, -1.12, -1.37, -1.65, -1.03, -1.36],\n",
       "       [-2.19, -1.24, -1.08, -1.93, -1.54, -1.42, -1.6 , -1.1 , -0.83, -1.49, -1.32, -1.26, -1.24],\n",
       "       [-2.05, -1.27, -1.06, -1.67, -1.62, -1.74, -1.61, -1.17, -1.21, -1.63, -1.56, -1.55, -1.69],\n",
       "       [-0.25, -1.32, -1.85, -0.89, -1.28, -1.68, -1.52, -2.2 , -1.62, -1.62, -1.7 , -1.73, -1.69],\n",
       "       [-0.97, -0.4 , -0.4 , -0.99, -1.51, -1.3 , -1.45, -2.17, -1.81, -1.75, -1.74, -1.64, -1.77],\n",
       "       [-0.94, -0.9 , -0.61, -1.08, -1.44, -1.34, -1.65, -1.86, -1.8 , -1.76, -1.6 , -1.72, -1.76]])"
      ]
     },
     "execution_count": 263,
     "metadata": {},
     "output_type": "execute_result"
    }
   ],
   "source": [
    "%%time\n",
    "exp(-1, n=1).reshape(-1, len(students), len(ns)).mean(axis=0).round(2)"
   ]
  },
  {
   "cell_type": "code",
   "execution_count": 264,
   "id": "c3526f33-c30d-4b17-a174-7e260dd810d0",
   "metadata": {
    "tags": []
   },
   "outputs": [
    {
     "data": {
      "application/vnd.jupyter.widget-view+json": {
       "model_id": "4a947b0ce09e4992965558eb274f5224",
       "version_major": 2,
       "version_minor": 0
      },
      "text/plain": [
       "  0%|          | 0/105 [00:00<?, ?it/s]"
      ]
     },
     "metadata": {},
     "output_type": "display_data"
    },
    {
     "name": "stdout",
     "output_type": "stream",
     "text": [
      "CPU times: user 231 ms, sys: 592 ms, total: 823 ms\n",
      "Wall time: 1min 54s\n"
     ]
    },
    {
     "data": {
      "text/plain": [
       "array([[ 0.404,  0.377,  0.363,  0.306,  0.22 ,  0.099,  0.075,  0.741,  0.997,  0.999,  1.   ,  1.   ,  1.   ],\n",
       "       [ 0.398,  0.386,  0.364,  0.315,  0.217,  0.119,  0.236,  0.74 ,  0.995,  0.999,  0.993,  1.   ,  1.   ],\n",
       "       [ 0.398,  0.386,  0.364,  0.316,  0.217,  0.117,  0.242,  0.704,  0.985,  0.985,  0.994,  0.99 ,  0.981],\n",
       "       [ 0.398,  0.386,  0.365,  0.314,  0.217,  0.122,  0.244,  0.697,  0.912,  0.917,  0.904,  0.93 ,  0.933],\n",
       "       [ 0.398,  0.47 ,  0.514,  0.626,  0.742,  0.855,  0.888,  0.894,  0.896,  0.896,  0.895,  0.89 ,  0.899],\n",
       "       [ 0.398,  0.451,  0.49 ,  0.586,  0.704,  0.833,  0.864,  0.879,  0.875,  0.88 ,  0.886,  0.876,  0.878],\n",
       "       [ 0.398,  0.471,  0.514,  0.609,  0.76 ,  0.843,  0.852,  0.851,  0.853,  0.851,  0.846,  0.839,  0.834],\n",
       "       [ 0.398,  0.445,  0.481,  0.579,  0.727,  0.807,  0.773,  0.714,  0.762,  0.764,  0.745,  0.706,  0.756],\n",
       "       [ 0.398,  0.344,  0.329,  0.394,  0.488,  0.567,  0.559,  0.552,  0.642,  0.563,  0.558,  0.629,  0.508],\n",
       "       [ 0.398,  0.344,  0.303,  0.334,  0.401,  0.464,  0.414,  0.302,  0.412,  0.33 ,  0.337,  0.369,  0.386],\n",
       "       [ 0.398,  0.331,  0.249,  0.214,  0.21 ,  0.215,  0.19 ,  0.079,  0.1  ,  0.15 ,  0.044,  0.105,  0.103],\n",
       "       [ 0.391,  0.316,  0.229,  0.194,  0.11 , -0.03 , -0.111, -0.282, -0.111, -0.232, -0.193, -0.213, -0.254],\n",
       "       [ 0.398,  0.337,  0.257,  0.189, -0.002, -0.313, -0.488, -0.405, -0.378, -0.482, -0.513, -0.339, -0.351],\n",
       "       [ 0.398,  0.322,  0.236,  0.157, -0.039, -0.421, -0.679, -0.67 , -0.679, -0.557, -0.648, -0.683, -0.701],\n",
       "       [ 0.398,  0.32 ,  0.224,  0.133, -0.092, -0.459, -0.775, -0.863, -0.716, -0.749, -0.916, -0.954, -0.914],\n",
       "       [ 0.398,  0.32 ,  0.222,  0.135, -0.095, -0.507, -0.901, -1.046, -0.931, -1.016, -1.059, -1.09 , -1.128],\n",
       "       [ 0.398,  0.32 ,  0.222,  0.128, -0.121, -0.579, -1.071, -1.216, -1.076, -1.045, -1.242, -1.166, -1.205],\n",
       "       [ 0.398,  0.32 ,  0.222,  0.127, -0.131, -0.615, -1.095, -1.373, -1.177, -1.316, -1.445, -1.392, -1.251],\n",
       "       [ 0.398,  0.354,  0.257,  0.171, -0.089, -0.601, -1.233, -1.474, -1.458, -1.496, -1.454, -1.369, -1.509],\n",
       "       [ 0.398,  0.354,  0.256,  0.168, -0.119, -0.634, -1.28 , -1.525, -1.538, -1.622, -1.576, -1.563, -1.557],\n",
       "       [ 0.398,  0.354,  0.255,  0.163, -0.121, -0.658, -1.311, -1.579, -1.618, -1.687, -1.65 , -1.669, -1.657]])"
      ]
     },
     "execution_count": 264,
     "metadata": {},
     "output_type": "execute_result"
    }
   ],
   "source": [
    "%%time\n",
    "exp(1, n=5).reshape(-1, len(students), len(ns)).mean(axis=0).round(3)"
   ]
  },
  {
   "cell_type": "code",
   "execution_count": null,
   "id": "d582a6e3-d99f-4697-a20f-57e96333d446",
   "metadata": {},
   "outputs": [],
   "source": []
  },
  {
   "cell_type": "code",
   "execution_count": 265,
   "id": "857e6157-2574-4a95-b098-f70ae6b0f082",
   "metadata": {},
   "outputs": [
    {
     "data": {
      "application/vnd.jupyter.widget-view+json": {
       "model_id": "601088934ca74affb10e357f7e71ffb7",
       "version_major": 2,
       "version_minor": 0
      },
      "text/plain": [
       "  0%|          | 0/105 [00:00<?, ?it/s]"
      ]
     },
     "metadata": {},
     "output_type": "display_data"
    },
    {
     "name": "stdout",
     "output_type": "stream",
     "text": [
      "CPU times: user 144 ms, sys: 687 ms, total: 831 ms\n",
      "Wall time: 1min 54s\n"
     ]
    },
    {
     "data": {
      "text/plain": [
       "array([[-1.7 , -1.71, -1.72, -1.68, -1.71, -1.73, -1.78, -1.89, -2.14, -2.58, -2.4 , -2.83, -2.49],\n",
       "       [-1.71, -1.69, -1.7 , -1.69, -1.71, -1.73, -1.79, -1.9 , -2.15, -2.5 , -2.48, -2.89, -2.41],\n",
       "       [-1.71, -1.69, -1.7 , -1.69, -1.71, -1.73, -1.79, -1.9 , -2.15, -2.5 , -2.48, -2.88, -2.41],\n",
       "       [-1.71, -1.69, -1.7 , -1.69, -1.71, -1.73, -1.79, -1.89, -2.15, -2.5 , -2.47, -2.89, -2.4 ],\n",
       "       [-1.71, -1.68, -1.69, -1.66, -1.65, -1.62, -1.64, -1.31, -0.93, -0.64, -0.69, -0.57, -0.74],\n",
       "       [-1.71, -1.68, -1.69, -1.66, -1.65, -1.62, -1.64, -1.32, -0.94, -0.69, -0.76, -0.62, -0.78],\n",
       "       [-1.71, -1.68, -1.69, -1.66, -1.65, -1.62, -1.64, -1.32, -0.96, -0.77, -0.85, -0.72, -0.89],\n",
       "       [-1.71, -1.68, -1.69, -1.66, -1.65, -1.63, -1.64, -1.34, -1.01, -0.85, -0.99, -0.84, -1.  ],\n",
       "       [-1.71, -1.69, -1.69, -1.67, -1.66, -1.63, -1.65, -1.36, -1.08, -1.01, -1.12, -0.97, -1.14],\n",
       "       [-1.71, -1.68, -1.69, -1.66, -1.65, -1.63, -1.65, -1.38, -1.16, -1.14, -1.23, -1.09, -1.24],\n",
       "       [-1.71, -1.68, -1.69, -1.66, -1.65, -1.63, -1.66, -1.41, -1.24, -1.26, -1.33, -1.23, -1.32],\n",
       "       [-1.72, -1.7 , -1.71, -1.66, -1.64, -1.63, -1.62, -1.47, -1.37, -1.28, -1.44, -1.29, -1.42],\n",
       "       [-1.71, -1.69, -1.72, -1.66, -1.65, -1.66, -1.64, -1.55, -1.47, -1.36, -1.54, -1.43, -1.51],\n",
       "       [-1.71, -1.69, -1.72, -1.66, -1.65, -1.66, -1.66, -1.59, -1.53, -1.45, -1.57, -1.49, -1.56],\n",
       "       [-1.71, -1.69, -1.72, -1.66, -1.66, -1.67, -1.67, -1.62, -1.58, -1.51, -1.64, -1.55, -1.61],\n",
       "       [-1.71, -1.69, -1.72, -1.67, -1.66, -1.68, -1.67, -1.65, -1.62, -1.57, -1.67, -1.6 , -1.64],\n",
       "       [-1.71, -1.69, -1.72, -1.67, -1.67, -1.68, -1.69, -1.67, -1.65, -1.62, -1.69, -1.64, -1.68],\n",
       "       [-1.71, -1.69, -1.72, -1.67, -1.67, -1.69, -1.7 , -1.69, -1.67, -1.65, -1.72, -1.69, -1.7 ],\n",
       "       [-1.71, -1.69, -1.72, -1.66, -1.66, -1.68, -1.69, -1.65, -1.67, -1.67, -1.73, -1.69, -1.73],\n",
       "       [-1.71, -1.69, -1.72, -1.66, -1.66, -1.68, -1.69, -1.66, -1.69, -1.7 , -1.75, -1.71, -1.76],\n",
       "       [-1.71, -1.69, -1.72, -1.67, -1.66, -1.68, -1.69, -1.66, -1.7 , -1.72, -1.75, -1.75, -1.77]])"
      ]
     },
     "execution_count": 265,
     "metadata": {},
     "output_type": "execute_result"
    }
   ],
   "source": [
    "%%time\n",
    "exp(10, n=5).reshape(-1, len(students), len(ns)).mean(axis=0).round(2)"
   ]
  },
  {
   "cell_type": "code",
   "execution_count": null,
   "id": "3d94b37e-700d-48d4-8d6d-06f517b8c552",
   "metadata": {},
   "outputs": [],
   "source": []
  }
 ],
 "metadata": {
  "kernelspec": {
   "display_name": "base",
   "language": "python",
   "name": "base"
  },
  "language_info": {
   "codemirror_mode": {
    "name": "ipython",
    "version": 3
   },
   "file_extension": ".py",
   "mimetype": "text/x-python",
   "name": "python",
   "nbconvert_exporter": "python",
   "pygments_lexer": "ipython3",
   "version": "3.10.12"
  }
 },
 "nbformat": 4,
 "nbformat_minor": 5
}
