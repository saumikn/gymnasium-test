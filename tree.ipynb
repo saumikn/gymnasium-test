{
 "cells": [
  {
   "cell_type": "code",
   "execution_count": 1,
   "id": "766b7803-b252-47da-8afc-5f6783a18118",
   "metadata": {
    "tags": []
   },
   "outputs": [],
   "source": [
    "%load_ext line_profiler"
   ]
  },
  {
   "cell_type": "code",
   "execution_count": 2,
   "id": "86d00c2c-2468-406c-856e-3a39537a231d",
   "metadata": {
    "tags": []
   },
   "outputs": [],
   "source": [
    "from collections import Counter\n",
    "from functools import partial\n",
    "\n",
    "import numpy as np\n",
    "rng = np.random.default_rng()\n",
    "np.set_printoptions(suppress=True, linewidth=180, edgeitems=5)\n",
    "from tqdm.notebook import tqdm, trange\n",
    "from tqdm.contrib.concurrent import process_map\n",
    "\n",
    "from scipy.stats import rankdata\n",
    "import seaborn as sns\n",
    "import matplotlib.pyplot as plt\n",
    "import pandas as pd\n",
    "import warnings"
   ]
  },
  {
   "cell_type": "code",
   "execution_count": 111,
   "id": "fa2003db-c834-4768-a459-9792e617847f",
   "metadata": {
    "tags": []
   },
   "outputs": [
    {
     "data": {
      "text/plain": [
       "array([ 0.1   ,  0.1259,  0.1585,  0.1995,  0.2512,  0.3162,  0.3981,  0.5012,  0.631 ,  0.7943,  1.    ,  1.2589,  1.5849,  1.9953,  2.5119,  3.1623,  3.9811,  5.0119,  6.3096,\n",
       "        7.9433, 10.    ])"
      ]
     },
     "metadata": {},
     "output_type": "display_data"
    },
    {
     "data": {
      "text/plain": [
       "array([[1.  , 0.  , 0.  , 0.  , 0.  , 0.  , 0.  , 0.  , 0.  , 0.  ],\n",
       "       [0.5 , 0.55, 0.6 , 0.65, 0.7 , 0.75, 0.8 , 0.85, 0.9 , 0.95],\n",
       "       [0.  , 0.  , 0.  , 0.  , 0.  , 0.  , 0.  , 0.  , 0.  , 0.  ],\n",
       "       [0.  , 0.  , 0.  , 0.  , 0.  , 0.  , 0.  , 0.  , 0.  , 0.  ],\n",
       "       [0.  , 0.  , 0.  , 0.  , 0.  , 0.  , 0.  , 0.  , 0.  , 0.  ],\n",
       "       [0.  , 0.  , 0.  , 0.  , 0.  , 0.  , 0.  , 0.  , 0.  , 0.  ],\n",
       "       [0.  , 0.  , 0.  , 0.  , 0.  , 0.  , 0.  , 0.  , 0.  , 0.  ],\n",
       "       [0.  , 0.  , 0.  , 0.  , 0.  , 0.  , 0.  , 0.  , 0.  , 0.  ],\n",
       "       [0.  , 0.  , 0.  , 0.  , 0.  , 0.  , 0.  , 0.  , 0.  , 0.  ],\n",
       "       [0.  , 0.  , 0.  , 0.  , 0.  , 0.  , 0.  , 0.  , 0.  , 0.  ]])"
      ]
     },
     "metadata": {},
     "output_type": "display_data"
    },
    {
     "data": {
      "text/plain": [
       "8.25"
      ]
     },
     "metadata": {},
     "output_type": "display_data"
    }
   ],
   "source": [
    "# ns = [0,10,10,11,12,13,14,15,16,17]\n",
    "# ns = [0,5,5,6,7,8,9,10,11,12,13,14,15,16,17,18,19]\n",
    "# ns = [0]\n",
    "\n",
    "\n",
    "students = np.logspace(-1, 1, 21)\n",
    "display(students.round(4))\n",
    "\n",
    "# ns = [0,5,5,6,7,8,9,10,11,12,13,14,15]\n",
    "# ms = 5\n",
    "# # arrs = np.array([[20,0,0,0,0],\n",
    "# #                  [19,19,0,0,0],\n",
    "# #                  [18,18,18,0,0],\n",
    "# #                  [17,17,17,17,0],\n",
    "# #                  [16,16,16,16,16],])\n",
    "# arrs = np.array([[20,0,0,0,0],\n",
    "#                  [15,16,17,18,19],\n",
    "#                  [0,0,0,0,0],\n",
    "#                  [0,0,0,0,0],\n",
    "#                  [0,0,0,0,0],\n",
    "#                  # [-1000,-1000,-1000,-1000,-1000],\n",
    "#                  # [-1000,-1000,-1000,-1000,-1000],\n",
    "#                  # [-1000,-1000,-1000,-1000,-1000],\n",
    "#                 ])\n",
    "# arrs = arrs / 20\n",
    "# display(arrs)\n",
    "# display(arrs.sum().round(2))\n",
    "\n",
    "\n",
    "ns = [0,5,5,6,7,8,9,10,11,12,13,14,15]\n",
    "ms = 10\n",
    "arrs = np.array([[20,0,0,0,0,0,0,0,0,0],\n",
    "                 [10,11,12,13,14,15,16,17,18,19],\n",
    "                 [0,0,0,0,0,0,0,0,0,0],\n",
    "                 [0,0,0,0,0,0,0,0,0,0],\n",
    "                 [0,0,0,0,0,0,0,0,0,0],\n",
    "                 [0,0,0,0,0,0,0,0,0,0],\n",
    "                 [0,0,0,0,0,0,0,0,0,0],\n",
    "                 [0,0,0,0,0,0,0,0,0,0],\n",
    "                 [0,0,0,0,0,0,0,0,0,0],\n",
    "                 [0,0,0,0,0,0,0,0,0,0],\n",
    "                ])\n",
    "arrs = arrs / 20\n",
    "display(arrs)\n",
    "display(arrs.sum().round(2))\n",
    "                 \n",
    "                 \n",
    "\n",
    "# ms = 4\n",
    "# arrs = np.triu(np.tile(np.arange(31, 35),(4,1)).T) - 20\n",
    "# display(arrs)\n",
    "# display(arrs.sum())\n",
    "\n",
    "\n",
    "# ns = [0,5,5,6,7,8,9,10,11,12,13,14,15]\n",
    "# ms = 2\n",
    "# arrs = np.array([[1,0],[.99,.99]])\n",
    "# display(arrs)\n",
    "# display(arrs.sum().round(2))\n",
    "\n",
    "\n",
    "ranked = False"
   ]
  },
  {
   "cell_type": "code",
   "execution_count": null,
   "id": "06019096-9254-48ae-b86e-6a293d0d77e9",
   "metadata": {},
   "outputs": [],
   "source": []
  },
  {
   "cell_type": "code",
   "execution_count": null,
   "id": "dd4bbdae-81c1-4c1e-ad9a-a7acb193532d",
   "metadata": {},
   "outputs": [],
   "source": []
  },
  {
   "cell_type": "code",
   "execution_count": 112,
   "id": "22b1d6d9-9d64-4dee-b971-bd3dfedb6bfe",
   "metadata": {},
   "outputs": [],
   "source": [
    "def make_model(num_nodes=128, num_dense=4):\n",
    "    import tensorflow as tf\n",
    "    for gpu in tf.config.list_physical_devices('GPU'):\n",
    "        tf.config.experimental.set_memory_growth(gpu, True)\n",
    "    \n",
    "    inputs = tf.keras.layers.Input(shape=(ms*ms + ms + 1))\n",
    "    x = tf.keras.layers.Flatten()(inputs)\n",
    "    for _ in range(num_dense):\n",
    "        x = tf.keras.layers.Dense(num_nodes, activation='relu')(x)\n",
    "    output1 = tf.keras.layers.Dense(ms, name='Y0')(x)\n",
    "    output1 = tf.keras.layers.Softmax()(output1)\n",
    "    model = tf.keras.models.Model(inputs=inputs, outputs=output1)\n",
    "    \n",
    "    opt = tf.keras.optimizers.Adam()\n",
    "    # opt = tf.keras.optimizers.Adam(learning_rate=1)\n",
    "    # opt = tf.keras.optimizers.SGD()\n",
    "    loss_fn = tf.keras.losses.SparseCategoricalCrossentropy(from_logits=False)\n",
    "    model.compile(optimizer=opt, loss=loss_fn, metrics=['accuracy'])\n",
    "    return model\n",
    "\n",
    "def softmax(x, b, axis=-1):\n",
    "    x = x - np.max(x, axis=axis, keepdims=True)\n",
    "    return np.exp(x/b) / np.exp(x/b).sum(axis=axis, keepdims=True)\n",
    "\n",
    "# def softmax(x, b, axis=-1):\n",
    "#     x = x - np.max(x)\n",
    "#     with np.errstate(divide='ignore', invalid='ignore'):\n",
    "#         res = np.exp(x/b) / np.exp(x/b).sum(axis=-1, keepdims=True)\n",
    "#         res = np.nan_to_num(res)\n",
    "#     return res\n",
    "\n",
    "def make_x():\n",
    "    x = arrs\n",
    "    \n",
    "    # rand = np.random.random(arrs.shape)\n",
    "    # rand = (rand - 0.5)\n",
    "    # x = x + rand*0.0001\n",
    "    \n",
    "    x = rng.permuted(x, axis=-1)\n",
    "    return x\n",
    "\n",
    "def eval_model(model, n = 1, disable=True):\n",
    "    rewards = []\n",
    "    branch_rewards = []\n",
    "    for _ in trange(n, disable=disable):\n",
    "        x = make_x()\n",
    "        x_tree = np.concatenate([np.eye(ms+1).astype(int), np.tile(x.flatten(), (ms+1,1))], axis=1)\n",
    "        y_pred = model(x_tree)\n",
    "        branch_reward = (x_tree[0,ms+1:].reshape(ms,ms) * y_pred[1:].numpy()).sum(axis=1)\n",
    "        rewards.append(y_pred[0].numpy())\n",
    "        # reward = (y_pred[0] * branch_reward).numpy().sum()\n",
    "        # rewards.append(reward)\n",
    "        branch_rewards.append(branch_reward)\n",
    "    return np.array(rewards), np.array(branch_rewards)\n",
    "\n",
    "def make_data(b, n=1, disable=True, rand=False):\n",
    "    X, Y = [], []\n",
    "    for _ in trange(n, disable=disable):\n",
    "        \n",
    "        if ranked:\n",
    "            x = make_x()\n",
    "            r1 = softmax(rankdata(x,axis=1), b)\n",
    "            r1sum = (r1*x).sum(axis=1)\n",
    "            r0 = softmax(rankdata(r1sum), b)\n",
    "                    \n",
    "        else:\n",
    "            x = make_x()\n",
    "            r1 = softmax(x, b)\n",
    "            r1sum = (r1*x).sum(axis=1)\n",
    "            r0 = softmax(r1sum, b)\n",
    "        \n",
    "        pos = [0] * (ms+1)\n",
    "        pos[0] = 1\n",
    "        x0 = pos + list(x.flatten())\n",
    "        y0 = rng.choice(np.arange(ms), p=r0)\n",
    "        # while y0 in [2,3,4]:\n",
    "        #     y0 = rng.choice(np.arange(ms), p=r0)\n",
    "            \n",
    "        \n",
    "        pos = [0] * (ms+1)\n",
    "        pos[y0+1] = 1\n",
    "        x1 = pos + list(x.flatten())\n",
    "        y1 = rng.choice(np.arange(ms), p=r1[y0])\n",
    "\n",
    "        X.append(x0)\n",
    "        Y.append(y0)\n",
    "        X.append(x1)\n",
    "        Y.append(y1)\n",
    "    \n",
    "    X = np.array(X)\n",
    "    Y = np.array(Y)\n",
    "    \n",
    "    return X,Y"
   ]
  },
  {
   "cell_type": "code",
   "execution_count": 113,
   "id": "ef6af282-f6da-44a7-b19f-7f1bc4e586c9",
   "metadata": {
    "tags": []
   },
   "outputs": [
    {
     "name": "stdout",
     "output_type": "stream",
     "text": [
      "0.100, 0.971, [1.    0.876 0.    0.    0.    0.    0.    0.    0.    0.   ], [0.774 0.226 0.    0.    0.    0.    0.    0.    0.    0.   ]\n",
      "0.126, 0.960, [0.997 0.857 0.    0.    0.    0.    0.    0.    0.    0.   ], [0.75  0.247 0.    0.    0.    0.    0.    0.    0.    0.   ]\n",
      "0.158, 0.932, [0.984 0.838 0.    0.    0.    0.    0.    0.    0.    0.   ], [0.708 0.281 0.001 0.001 0.001 0.001 0.001 0.001 0.001 0.001]\n",
      "0.200, 0.860, [0.943 0.819 0.    0.    0.    0.    0.    0.    0.    0.   ], [0.623 0.333 0.006 0.006 0.006 0.006 0.006 0.006 0.006 0.006]\n",
      "0.251, 0.726, [0.856 0.802 0.    0.    0.    0.    0.    0.    0.    0.   ], [0.483 0.389 0.016 0.016 0.016 0.016 0.016 0.016 0.016 0.016]\n",
      "0.316, 0.556, [ 0.724  0.788  0.     0.     0.    -0.     0.     0.     0.     0.   ], [0.33  0.403 0.033 0.033 0.033 0.033 0.033 0.033 0.033 0.033]\n",
      "0.398, 0.410, [0.578 0.776 0.    0.    0.    0.    0.    0.    0.    0.   ], [0.221 0.364 0.052 0.052 0.052 0.052 0.052 0.052 0.052 0.052]\n",
      "0.501, 0.307, [ 0.45   0.766  0.     0.     0.     0.     0.     0.     0.    -0.   ], [0.163 0.306 0.066 0.066 0.066 0.066 0.066 0.066 0.066 0.066]\n",
      "0.631, 0.239, [0.352 0.757 0.    0.    0.    0.    0.    0.    0.    0.   ], [0.134 0.254 0.077 0.077 0.077 0.077 0.077 0.077 0.077 0.077]\n",
      "0.794, 0.194, [ 0.281  0.751 -0.     0.     0.     0.     0.     0.     0.     0.   ], [0.119 0.214 0.083 0.083 0.083 0.083 0.083 0.083 0.083 0.083]\n",
      "1.000, 0.164, [ 0.232  0.746  0.     0.     0.     0.     0.     0.    -0.    -0.   ], [0.111 0.185 0.088 0.088 0.088 0.088 0.088 0.088 0.088 0.088]\n",
      "1.259, 0.143, [ 0.197  0.741  0.    -0.     0.     0.     0.     0.    -0.    -0.   ], [0.107 0.164 0.091 0.091 0.091 0.091 0.091 0.091 0.091 0.091]\n",
      "1.585, 0.128, [ 0.173  0.738  0.     0.    -0.     0.     0.    -0.     0.     0.   ], [0.104 0.149 0.093 0.093 0.093 0.093 0.093 0.093 0.093 0.093]\n",
      "1.995, 0.117, [ 0.155  0.735 -0.     0.    -0.     0.    -0.    -0.    -0.     0.   ], [0.103 0.137 0.095 0.095 0.095 0.095 0.095 0.095 0.095 0.095]\n",
      "2.512, 0.109, [ 0.142  0.733  0.     0.     0.     0.     0.    -0.     0.    -0.   ], [0.102 0.129 0.096 0.096 0.096 0.096 0.096 0.096 0.096 0.096]\n",
      "3.162, 0.103, [ 0.132  0.732  0.     0.    -0.    -0.     0.    -0.    -0.     0.   ], [0.101 0.122 0.097 0.097 0.097 0.097 0.097 0.097 0.097 0.097]\n",
      "3.981, 0.098, [ 0.125  0.73   0.    -0.     0.     0.     0.    -0.    -0.     0.   ], [0.101 0.117 0.098 0.098 0.098 0.098 0.098 0.098 0.098 0.098]\n",
      "5.012, 0.095, [ 0.119  0.729  0.     0.     0.    -0.     0.    -0.    -0.     0.   ], [0.101 0.114 0.098 0.098 0.098 0.098 0.098 0.098 0.098 0.098]\n",
      "6.310, 0.092, [ 0.115  0.728 -0.     0.     0.    -0.    -0.    -0.     0.    -0.   ], [0.1   0.111 0.099 0.099 0.099 0.099 0.099 0.099 0.099 0.099]\n",
      "7.943, 0.090, [ 0.112  0.728 -0.     0.    -0.    -0.     0.    -0.    -0.    -0.   ], [0.1   0.108 0.099 0.099 0.099 0.099 0.099 0.099 0.099 0.099]\n",
      "10.000, 0.088, [ 0.109  0.727 -0.    -0.    -0.    -0.     0.    -0.     0.    -0.   ], [0.1   0.107 0.099 0.099 0.099 0.099 0.099 0.099 0.099 0.099]\n",
      "CPU times: user 10.3 s, sys: 113 ms, total: 10.4 s\n",
      "Wall time: 10.4 s\n"
     ]
    }
   ],
   "source": [
    "%%time\n",
    "for b in students:\n",
    "    r0s = []\n",
    "    r1s = []\n",
    "    for _ in trange(10000, disable=True):\n",
    "        x = make_x()\n",
    "        \n",
    "        if ranked:\n",
    "            r1 = (softmax(rankdata(x,axis=1), b) * x).sum(axis=1)\n",
    "            r0 = (softmax(rankdata(r1), b) * r1).sum()\n",
    "            r1s.append(r1)\n",
    "            r0s.append(r0)\n",
    "            \n",
    "        else:\n",
    "            r1 = (softmax(x, b) * x).sum(axis=1)\n",
    "            r0 = (softmax(r1, b) * r1).sum()\n",
    "            r1s.append(r1)\n",
    "            r0s.append(r0)\n",
    "    \n",
    "        \n",
    "    r1s = np.array(r1s)\n",
    "    r0s = np.array(r0s)\n",
    "    print(f\"{b:.3f}, {r0s.mean():.3f}, {r1s.mean(axis=0).round(3)}, {softmax(r1s.mean(axis=0), b).round(3)}\")"
   ]
  },
  {
   "cell_type": "code",
   "execution_count": 114,
   "id": "1ed42634-10c5-4475-b89f-0db4f6a77b21",
   "metadata": {
    "tags": []
   },
   "outputs": [],
   "source": [
    "def train_model(student):\n",
    "    verbose = False\n",
    "    if student == 1:\n",
    "        print(f'student == {student:.3f}')\n",
    "        verbose = True\n",
    "    model = make_model()\n",
    "    Xtrain, Ytrain = make_data(student, 2**16, disable=not verbose)\n",
    "    model.fit(Xtrain, Ytrain, verbose=verbose)\n",
    "    reward = eval_model(model, 10000, disable=not verbose)\n",
    "    model.save(f'models/starting_{student:.3f}.keras')\n",
    "    return reward"
   ]
  },
  {
   "cell_type": "code",
   "execution_count": 115,
   "id": "6ff09ac6-6397-4ec4-a545-d006daffa337",
   "metadata": {},
   "outputs": [
    {
     "name": "stdout",
     "output_type": "stream",
     "text": [
      "student == 1.000\n"
     ]
    },
    {
     "data": {
      "application/vnd.jupyter.widget-view+json": {
       "model_id": "8c3d9bb3fc4f4765967842abfe82924e",
       "version_major": 2,
       "version_minor": 0
      },
      "text/plain": [
       "  0%|          | 0/65536 [00:00<?, ?it/s]"
      ]
     },
     "metadata": {},
     "output_type": "display_data"
    },
    {
     "name": "stdout",
     "output_type": "stream",
     "text": [
      "4096/4096 [==============================] - 60s 14ms/step - loss: 2.2862 - accuracy: 0.1441\n"
     ]
    },
    {
     "data": {
      "application/vnd.jupyter.widget-view+json": {
       "model_id": "0de26c3aacb54495834d8dbdcc9b841a",
       "version_major": 2,
       "version_minor": 0
      },
      "text/plain": [
       "  0%|          | 0/10000 [00:00<?, ?it/s]"
      ]
     },
     "metadata": {},
     "output_type": "display_data"
    },
    {
     "name": "stdout",
     "output_type": "stream",
     "text": [
      "CPU times: user 1.99 s, sys: 1.93 s, total: 3.91 s\n",
      "Wall time: 3min 35s\n"
     ]
    }
   ],
   "source": [
    "%%time\n",
    "rewards = process_map(train_model, students, disable=True, max_workers=24)"
   ]
  },
  {
   "cell_type": "code",
   "execution_count": 116,
   "id": "71093b6a-1f0d-4868-9a85-b493a7f8abea",
   "metadata": {
    "tags": []
   },
   "outputs": [
    {
     "name": "stdout",
     "output_type": "stream",
     "text": [
      "0.100 0.9435386581597919\n",
      "0.126 0.934904249909741\n",
      "0.158 0.9130358712629908\n",
      "0.200 0.8452128567467394\n",
      "0.251 0.7127959726038939\n",
      "0.316 0.495723955729507\n",
      "0.398 0.36083794153754295\n",
      "0.501 0.27229067992838846\n",
      "0.631 0.19991475702329936\n",
      "0.794 0.16806470262618517\n",
      "1.000 0.13281195903902443\n",
      "1.259 0.12565971708384582\n",
      "1.585 0.11950420011338907\n",
      "1.995 0.09398886449093591\n",
      "2.512 0.09280471236817688\n",
      "3.162 0.09365580401518081\n",
      "3.981 0.08826207297499962\n",
      "5.012 0.08956618279234406\n",
      "6.310 0.0898381069543952\n",
      "7.943 0.08348170598827391\n",
      "10.000 0.08423783596700447\n"
     ]
    }
   ],
   "source": [
    "for r, s in zip(rewards, students):\n",
    "    \n",
    "    res = r[0]*r[1]\n",
    "    res = res.sum(axis=1).mean()\n",
    "    \n",
    "    print(f\"{s:.3f} {res}\")"
   ]
  },
  {
   "cell_type": "code",
   "execution_count": null,
   "id": "430bf61b-c19b-4bc2-8261-f9fac14f854d",
   "metadata": {},
   "outputs": [],
   "source": []
  },
  {
   "cell_type": "code",
   "execution_count": null,
   "id": "e2971ead-3a06-47d5-bed5-2db49898b9a0",
   "metadata": {},
   "outputs": [],
   "source": []
  },
  {
   "cell_type": "code",
   "execution_count": null,
   "id": "3e301a15-5f70-484d-bc44-46959810d246",
   "metadata": {},
   "outputs": [],
   "source": []
  },
  {
   "cell_type": "code",
   "execution_count": null,
   "id": "24d57761-2db5-405e-a279-7788e1859e7f",
   "metadata": {},
   "outputs": [],
   "source": []
  },
  {
   "cell_type": "code",
   "execution_count": null,
   "id": "7c1d55f5-3ec8-45ff-8f80-dba23ecfb31e",
   "metadata": {},
   "outputs": [],
   "source": []
  },
  {
   "cell_type": "code",
   "execution_count": null,
   "id": "a337e1e2-3c6a-48b8-b35b-3af21878318f",
   "metadata": {},
   "outputs": [],
   "source": []
  },
  {
   "cell_type": "markdown",
   "id": "dfa44a1e-2d2f-4767-adaf-3582c4dd22f9",
   "metadata": {
    "jp-MarkdownHeadingCollapsed": true,
    "tags": []
   },
   "source": [
    "# Graphs"
   ]
  },
  {
   "cell_type": "code",
   "execution_count": null,
   "id": "4a2d09c8-d97f-485c-a596-42af707eb0fc",
   "metadata": {
    "tags": []
   },
   "outputs": [],
   "source": [
    "import tensorflow as tf\n",
    "for gpu in tf.config.list_physical_devices('GPU'):\n",
    "    tf.config.experimental.set_memory_growth(gpu, True)\n",
    "tf.get_logger().setLevel('ERROR')\n",
    "model2 = tf.keras.models.load_model(f\"models/starting_{0.100:.3f}.keras\")\n",
    "%timeit r0, r1 = eval_model(model2, 1)"
   ]
  },
  {
   "cell_type": "code",
   "execution_count": null,
   "id": "3436215e-8cca-46d3-a594-21828315e74c",
   "metadata": {},
   "outputs": [],
   "source": []
  },
  {
   "cell_type": "code",
   "execution_count": null,
   "id": "e8e11aa3-1b08-4d82-9af8-2e44d47f6fd1",
   "metadata": {
    "tags": []
   },
   "outputs": [],
   "source": [
    "class CustomCallback(tf.keras.callbacks.Callback):\n",
    "    def __init__(self):\n",
    "        super(CustomCallback, self).__init__()\n",
    "\n",
    "    def on_batch_end(self, batch, logs=None):\n",
    "        r0, r1 = eval_model(self.model, 10)\n",
    "        r = (r0*r1).sum(axis=1).mean()\n",
    "        \n",
    "        \n",
    "        try:\n",
    "            self.model.rewards.append(r)\n",
    "            self.model.accs.append(logs['accuracy'])\n",
    "        except:\n",
    "            self.model.rewards = [r]\n",
    "            self.model.accs = [logs['accuracy']]\n",
    "\n",
    "#         # Add the output to the logs\n",
    "#         if logs is not None:\n",
    "#             logs['reward'] = r"
   ]
  },
  {
   "cell_type": "code",
   "execution_count": null,
   "id": "0d9a45f3-0752-44cd-a3e9-eba10ccd5c5f",
   "metadata": {},
   "outputs": [],
   "source": []
  },
  {
   "cell_type": "code",
   "execution_count": null,
   "id": "60da4fda-3220-485f-9779-2785ff195c45",
   "metadata": {},
   "outputs": [],
   "source": [
    "models = {}"
   ]
  },
  {
   "cell_type": "code",
   "execution_count": null,
   "id": "339a6aa4-087d-4b8c-81c3-fadfdd9e422b",
   "metadata": {
    "tags": []
   },
   "outputs": [],
   "source": [
    "%%time\n",
    "\n",
    "with open('tree.log', 'a') as f:\n",
    "    for student in students:\n",
    "        \n",
    "        print(f'student {student:.3f}', file=f, flush=True)\n",
    "\n",
    "        models[student] = {}\n",
    "\n",
    "        for teacher in students[::2][3:10]:\n",
    "\n",
    "            print(f'teacher {teacher:.3f}', file=f, flush=True)\n",
    "            models[student][teacher] = []\n",
    "            for i in range(5):\n",
    "                print(f'model {i}', file=f, flush=True)\n",
    "                # model = make_model()\n",
    "                model = tf.keras.models.load_model(f\"models/starting_{student:.3f}.keras\")\n",
    "\n",
    "                opt = tf.keras.optimizers.Adam()\n",
    "                loss_fn = tf.keras.losses.SparseCategoricalCrossentropy(from_logits=False)\n",
    "                model.compile(optimizer=opt, loss=loss_fn, metrics=['accuracy'])\n",
    "\n",
    "                X, Y = currs[f'{teacher:.3f}']\n",
    "                model.fit(X[:2**17], Y[:2**17], callbacks=[CustomCallback()], verbose=False)\n",
    "                # model.fit(X[:2**17], Y[:2**17], callbacks=[CustomCallback()])\n",
    "\n",
    "                models[student][teacher].append(model)\n",
    "\n",
    "\n",
    "        #         break\n",
    "        #     break\n",
    "        # break"
   ]
  },
  {
   "cell_type": "code",
   "execution_count": null,
   "id": "53cb41b0-d8b4-4bde-9cc6-3e92be5b5d0a",
   "metadata": {},
   "outputs": [],
   "source": []
  },
  {
   "cell_type": "code",
   "execution_count": null,
   "id": "952cb75b-9d09-4ff1-bb35-826b785218f0",
   "metadata": {
    "tags": []
   },
   "outputs": [],
   "source": [
    "for student, s_models in models.items():\n",
    "    # print(student, list(s_models))\n",
    "    df = {}\n",
    "    for teacher, model in s_models.items():\n",
    "        kernel_size = 20\n",
    "        kernel = np.ones(kernel_size) / kernel_size\n",
    "        rewards = np.array([m.rewards for m in model]).mean(axis=0)\n",
    "        rewards = np.convolve(rewards, kernel, mode='valid')\n",
    "        df[f\"{teacher:.3f}\"] = rewards\n",
    "    df = pd.DataFrame(df)\n",
    "    \n",
    "    print(f'Student {student:.3f}')\n",
    "    with warnings.catch_warnings():\n",
    "        warnings.simplefilter(action='ignore', category=FutureWarning)\n",
    "        ax = sns.lineplot(df[[c for c in df.columns if float(c) >= student]])\n",
    "        sns.move_legend(ax, \"upper left\", bbox_to_anchor=(1, 1))\n",
    "        plt.show()\n",
    "    print()"
   ]
  },
  {
   "cell_type": "code",
   "execution_count": null,
   "id": "eaa543c2-fd0b-4850-a338-e224691396b0",
   "metadata": {
    "tags": []
   },
   "outputs": [],
   "source": [
    "df[[c for c in df.columns if float(c) >= 1]]"
   ]
  },
  {
   "cell_type": "code",
   "execution_count": null,
   "id": "132f48cb-0a7e-42e5-bf60-dc64e3f05bc6",
   "metadata": {},
   "outputs": [],
   "source": [
    "with warnings.catch_warnings():\n",
    "    warnings.simplefilter(action='ignore', category=FutureWarning)\n",
    "\n",
    "    ax = sns.lineplot(df)\n",
    "    sns.move_legend(ax, \"upper left\", bbox_to_anchor=(1, 1))"
   ]
  },
  {
   "cell_type": "code",
   "execution_count": null,
   "id": "c7263848-5c70-4766-903b-c6599daba102",
   "metadata": {},
   "outputs": [],
   "source": []
  },
  {
   "cell_type": "code",
   "execution_count": null,
   "id": "d6cff159-4c68-4dc4-85a1-a6bfb45521c6",
   "metadata": {},
   "outputs": [],
   "source": [
    "1+1"
   ]
  },
  {
   "cell_type": "code",
   "execution_count": null,
   "id": "76baa6ff-384c-4282-90f0-d7690800ccfd",
   "metadata": {},
   "outputs": [],
   "source": []
  },
  {
   "cell_type": "code",
   "execution_count": null,
   "id": "91ff4eab-24b7-44a1-b62c-6f157e55aa4a",
   "metadata": {},
   "outputs": [],
   "source": []
  },
  {
   "cell_type": "code",
   "execution_count": null,
   "id": "ba5068ae-3bd7-4f13-8650-69dfc650608a",
   "metadata": {},
   "outputs": [],
   "source": []
  },
  {
   "cell_type": "code",
   "execution_count": null,
   "id": "bd28ddb4-2cf1-40f0-a3dd-59aa2ba6a0c0",
   "metadata": {},
   "outputs": [],
   "source": [
    "ax = sns.lineplot(df[df.columns[4:9]])\n",
    "sns.move_legend(ax, \"upper left\", bbox_to_anchor=(1, 1))"
   ]
  },
  {
   "cell_type": "code",
   "execution_count": null,
   "id": "bf7a9caa-74cb-4bb3-8927-65b57cfc292f",
   "metadata": {},
   "outputs": [],
   "source": [
    "students[::2][4:9]"
   ]
  },
  {
   "cell_type": "code",
   "execution_count": null,
   "id": "dfa9c84f-a9cd-4015-9fa8-3588366e3a30",
   "metadata": {},
   "outputs": [],
   "source": []
  },
  {
   "cell_type": "markdown",
   "id": "56c7a7ba-5a01-495e-97c7-b76c9e522497",
   "metadata": {},
   "source": [
    "# Eval Training"
   ]
  },
  {
   "cell_type": "code",
   "execution_count": 117,
   "id": "b8f08b68-2293-4d62-b818-2759485dd35c",
   "metadata": {},
   "outputs": [],
   "source": [
    "def eval_training(student, teacher, verbose=False):\n",
    "    import tensorflow as tf\n",
    "    for gpu in tf.config.list_physical_devices('GPU'):\n",
    "        tf.config.experimental.set_memory_growth(gpu, True)\n",
    "\n",
    "    \n",
    "    if student == -1:\n",
    "        model2 = make_model()\n",
    "    else:\n",
    "        model2 = tf.keras.models.load_model(f\"models/starting_{student:.3f}.keras\")\n",
    "    # opt = tf.keras.optimizers.SGD()\n",
    "    opt = tf.keras.optimizers.Adam()\n",
    "    loss_fn = tf.keras.losses.SparseCategoricalCrossentropy(from_logits=False)\n",
    "    model2.compile(optimizer=opt, loss=loss_fn, metrics=['accuracy'])\n",
    "    nsum = 0\n",
    "    \n",
    "    X, Y = currs[f\"{teacher:.3f}\"]\n",
    "    perm = np.random.permutation(len(X))\n",
    "    X, Y = X[perm], Y[perm]\n",
    "    \n",
    "    rewards = []\n",
    "    for i in ns:\n",
    "        if i != 0:\n",
    "            n = 2**i\n",
    "            # X, Y = make_data(teacher, n, disable=True)\n",
    "                        \n",
    "            model2.fit(X[nsum:nsum+n], Y[nsum:nsum+n], verbose=False)\n",
    "            nsum += n\n",
    "            \n",
    "        r0, r1 = eval_model(model2, 10)\n",
    "        reward = (r0*r1).sum(axis=1).mean()\n",
    "        rewards.append(reward)\n",
    "        # print(f\"{nsum}    \", end='\\r')\n",
    "    return rewards"
   ]
  },
  {
   "cell_type": "code",
   "execution_count": 118,
   "id": "b9a6548c-85ef-4e7b-8f30-ef4e94a0f13a",
   "metadata": {
    "tags": []
   },
   "outputs": [],
   "source": [
    "def exp(student, verbose=True, n=20):\n",
    "    # teachers = np.arange(student, 0.40001, 0.02)\n",
    "    \n",
    "    teachers = students\n",
    "    \n",
    "    t_ = list(teachers) * n\n",
    "    s_ = [student for _ in t_]\n",
    "    \n",
    "    res = process_map(eval_training, s_, t_, max_workers=5, chunksize=1)\n",
    "    \n",
    "    return np.array(res)"
   ]
  },
  {
   "cell_type": "code",
   "execution_count": null,
   "id": "7706336d-1a11-4dd6-a159-57d61e4c7b77",
   "metadata": {},
   "outputs": [],
   "source": []
  },
  {
   "cell_type": "code",
   "execution_count": 119,
   "id": "e6be9cdd-8604-4a87-b3ff-10b033576e7a",
   "metadata": {
    "tags": []
   },
   "outputs": [
    {
     "data": {
      "application/vnd.jupyter.widget-view+json": {
       "model_id": "b0c01adf8dfa458797c1d688fecda78c",
       "version_major": 2,
       "version_minor": 0
      },
      "text/plain": [
       "  0%|          | 0/21 [00:00<?, ?it/s]"
      ]
     },
     "metadata": {},
     "output_type": "display_data"
    },
    {
     "name": "stdout",
     "output_type": "stream",
     "text": [
      "CPU times: user 906 ms, sys: 2.18 s, total: 3.09 s\n",
      "Wall time: 46.4 s\n"
     ]
    }
   ],
   "source": [
    "%%time\n",
    "ntotal = (2**np.array(ns[1:])).sum()\n",
    "\n",
    "currs = process_map(make_data, students, [ntotal]*len(students), max_workers=6, chunksize=1)\n",
    "currs = dict(zip([f\"{s:.3f}\" for s in students], currs))"
   ]
  },
  {
   "cell_type": "code",
   "execution_count": null,
   "id": "c5e9288e-cc50-4ee6-a6ce-3d5ae9873f5e",
   "metadata": {},
   "outputs": [],
   "source": []
  },
  {
   "cell_type": "code",
   "execution_count": 120,
   "id": "aea4e02e-4f4e-4e6b-83af-3578af74f795",
   "metadata": {
    "tags": []
   },
   "outputs": [
    {
     "data": {
      "application/vnd.jupyter.widget-view+json": {
       "model_id": "e16d64a9bd4b4c23a35c29c8becdf4d1",
       "version_major": 2,
       "version_minor": 0
      },
      "text/plain": [
       "  0%|          | 0/21 [00:00<?, ?it/s]"
      ]
     },
     "metadata": {},
     "output_type": "display_data"
    },
    {
     "name": "stdout",
     "output_type": "stream",
     "text": [
      "CPU times: user 52.2 ms, sys: 94.4 ms, total: 147 ms\n",
      "Wall time: 1min 16s\n"
     ]
    },
    {
     "data": {
      "text/plain": [
       "array([[0.09, 0.09, 0.09, 0.1 , 0.14, 0.21, 0.23, 0.43, 0.84, 0.91, 0.95, 0.94, 0.94],\n",
       "       [0.09, 0.09, 0.09, 0.1 , 0.14, 0.23, 0.25, 0.44, 0.8 , 0.92, 0.92, 0.92, 0.88],\n",
       "       [0.08, 0.08, 0.08, 0.09, 0.1 , 0.18, 0.21, 0.45, 0.77, 0.88, 0.86, 0.91, 0.87],\n",
       "       [0.08, 0.08, 0.08, 0.09, 0.1 , 0.18, 0.25, 0.34, 0.6 , 0.81, 0.85, 0.81, 0.83],\n",
       "       [0.09, 0.1 , 0.11, 0.12, 0.18, 0.3 , 0.37, 0.36, 0.5 , 0.63, 0.73, 0.78, 0.7 ],\n",
       "       [0.1 , 0.11, 0.12, 0.13, 0.19, 0.25, 0.32, 0.31, 0.32, 0.45, 0.45, 0.48, 0.5 ],\n",
       "       [0.08, 0.09, 0.09, 0.1 , 0.13, 0.25, 0.23, 0.25, 0.24, 0.32, 0.32, 0.36, 0.4 ],\n",
       "       [0.08, 0.09, 0.09, 0.1 , 0.11, 0.18, 0.16, 0.21, 0.24, 0.27, 0.29, 0.26, 0.26],\n",
       "       [0.08, 0.09, 0.09, 0.1 , 0.11, 0.17, 0.14, 0.17, 0.21, 0.18, 0.21, 0.24, 0.21],\n",
       "       [0.09, 0.09, 0.1 , 0.1 , 0.11, 0.14, 0.13, 0.14, 0.13, 0.16, 0.16, 0.16, 0.18],\n",
       "       [0.08, 0.09, 0.1 , 0.11, 0.12, 0.11, 0.12, 0.14, 0.15, 0.13, 0.15, 0.14, 0.15],\n",
       "       [0.08, 0.09, 0.09, 0.1 , 0.1 , 0.1 , 0.1 , 0.12, 0.12, 0.11, 0.13, 0.11, 0.13],\n",
       "       [0.08, 0.08, 0.08, 0.09, 0.09, 0.1 , 0.1 , 0.11, 0.09, 0.11, 0.1 , 0.1 , 0.11],\n",
       "       [0.08, 0.08, 0.08, 0.08, 0.08, 0.09, 0.09, 0.1 , 0.09, 0.11, 0.11, 0.1 , 0.11],\n",
       "       [0.08, 0.08, 0.08, 0.08, 0.09, 0.09, 0.09, 0.1 , 0.09, 0.09, 0.1 , 0.1 , 0.09],\n",
       "       [0.08, 0.08, 0.08, 0.08, 0.08, 0.08, 0.08, 0.09, 0.09, 0.09, 0.11, 0.1 , 0.09],\n",
       "       [0.08, 0.08, 0.07, 0.07, 0.08, 0.09, 0.07, 0.09, 0.09, 0.09, 0.09, 0.09, 0.09],\n",
       "       [0.08, 0.08, 0.08, 0.08, 0.08, 0.08, 0.08, 0.09, 0.08, 0.09, 0.1 , 0.1 , 0.09],\n",
       "       [0.08, 0.08, 0.09, 0.09, 0.09, 0.08, 0.08, 0.09, 0.09, 0.09, 0.08, 0.09, 0.09],\n",
       "       [0.09, 0.09, 0.09, 0.1 , 0.09, 0.08, 0.08, 0.09, 0.09, 0.09, 0.09, 0.08, 0.08],\n",
       "       [0.09, 0.09, 0.09, 0.09, 0.1 , 0.12, 0.08, 0.07, 0.09, 0.08, 0.09, 0.08, 0.09]])"
      ]
     },
     "execution_count": 120,
     "metadata": {},
     "output_type": "execute_result"
    }
   ],
   "source": [
    "%%time\n",
    "exp(-1, n=1).reshape(-1, len(students), len(ns)).mean(axis=0).round(2)"
   ]
  },
  {
   "cell_type": "code",
   "execution_count": 121,
   "id": "c3526f33-c30d-4b17-a174-7e260dd810d0",
   "metadata": {
    "tags": []
   },
   "outputs": [
    {
     "data": {
      "application/vnd.jupyter.widget-view+json": {
       "model_id": "ca4ff424f3494079a74b7bb46e6b3049",
       "version_major": 2,
       "version_minor": 0
      },
      "text/plain": [
       "  0%|          | 0/42 [00:00<?, ?it/s]"
      ]
     },
     "metadata": {},
     "output_type": "display_data"
    },
    {
     "name": "stdout",
     "output_type": "stream",
     "text": [
      "CPU times: user 64.3 ms, sys: 120 ms, total: 184 ms\n",
      "Wall time: 2min 20s\n"
     ]
    },
    {
     "data": {
      "text/plain": [
       "array([[0.134, 0.138, 0.138, 0.15 , 0.178, 0.249, 0.452, 0.482, 0.81 , 0.922, 0.935, 0.927, 0.942],\n",
       "       [0.134, 0.137, 0.138, 0.15 , 0.179, 0.256, 0.463, 0.471, 0.781, 0.923, 0.932, 0.925, 0.915],\n",
       "       [0.134, 0.137, 0.138, 0.15 , 0.178, 0.258, 0.48 , 0.463, 0.747, 0.889, 0.875, 0.898, 0.899],\n",
       "       [0.134, 0.138, 0.139, 0.152, 0.182, 0.272, 0.488, 0.458, 0.669, 0.825, 0.823, 0.836, 0.828],\n",
       "       [0.133, 0.137, 0.142, 0.151, 0.18 , 0.275, 0.463, 0.432, 0.493, 0.625, 0.67 , 0.683, 0.647],\n",
       "       [0.132, 0.135, 0.146, 0.15 , 0.182, 0.262, 0.372, 0.392, 0.372, 0.452, 0.526, 0.522, 0.535],\n",
       "       [0.132, 0.135, 0.146, 0.15 , 0.179, 0.261, 0.318, 0.33 , 0.306, 0.331, 0.324, 0.356, 0.387],\n",
       "       [0.132, 0.135, 0.146, 0.149, 0.171, 0.229, 0.254, 0.25 , 0.241, 0.224, 0.24 , 0.269, 0.284],\n",
       "       [0.132, 0.135, 0.145, 0.147, 0.164, 0.189, 0.205, 0.193, 0.217, 0.204, 0.206, 0.207, 0.225],\n",
       "       [0.132, 0.136, 0.141, 0.144, 0.15 , 0.166, 0.182, 0.17 , 0.198, 0.169, 0.188, 0.163, 0.176],\n",
       "       [0.131, 0.135, 0.135, 0.137, 0.142, 0.16 , 0.16 , 0.146, 0.15 , 0.136, 0.164, 0.145, 0.147],\n",
       "       [0.131, 0.133, 0.132, 0.131, 0.131, 0.137, 0.139, 0.132, 0.136, 0.125, 0.131, 0.129, 0.128],\n",
       "       [0.131, 0.132, 0.131, 0.129, 0.124, 0.125, 0.125, 0.119, 0.106, 0.119, 0.121, 0.119, 0.114],\n",
       "       [0.131, 0.129, 0.127, 0.124, 0.119, 0.12 , 0.117, 0.114, 0.106, 0.108, 0.109, 0.108, 0.107],\n",
       "       [0.132, 0.129, 0.127, 0.122, 0.119, 0.115, 0.112, 0.106, 0.093, 0.104, 0.108, 0.091, 0.103],\n",
       "       [0.133, 0.129, 0.126, 0.122, 0.12 , 0.11 , 0.099, 0.1  , 0.095, 0.099, 0.094, 0.099, 0.103],\n",
       "       [0.133, 0.129, 0.126, 0.121, 0.118, 0.11 , 0.096, 0.099, 0.092, 0.092, 0.094, 0.097, 0.094],\n",
       "       [0.133, 0.129, 0.126, 0.121, 0.118, 0.108, 0.096, 0.092, 0.091, 0.091, 0.094, 0.09 , 0.093],\n",
       "       [0.133, 0.136, 0.136, 0.134, 0.127, 0.118, 0.102, 0.098, 0.092, 0.101, 0.089, 0.091, 0.088],\n",
       "       [0.132, 0.131, 0.131, 0.13 , 0.123, 0.111, 0.093, 0.09 , 0.09 , 0.089, 0.086, 0.091, 0.087],\n",
       "       [0.132, 0.129, 0.129, 0.126, 0.122, 0.112, 0.095, 0.09 , 0.088, 0.089, 0.085, 0.089, 0.085]])"
      ]
     },
     "execution_count": 121,
     "metadata": {},
     "output_type": "execute_result"
    }
   ],
   "source": [
    "%%time\n",
    "exp(1, n=2).reshape(-1, len(students), len(ns)).mean(axis=0).round(3)"
   ]
  },
  {
   "cell_type": "code",
   "execution_count": 122,
   "id": "857e6157-2574-4a95-b098-f70ae6b0f082",
   "metadata": {},
   "outputs": [
    {
     "data": {
      "application/vnd.jupyter.widget-view+json": {
       "model_id": "d963043854164b2fbbf0c0251a88f04f",
       "version_major": 2,
       "version_minor": 0
      },
      "text/plain": [
       "  0%|          | 0/42 [00:00<?, ?it/s]"
      ]
     },
     "metadata": {},
     "output_type": "display_data"
    },
    {
     "name": "stdout",
     "output_type": "stream",
     "text": [
      "CPU times: user 72.7 ms, sys: 112 ms, total: 185 ms\n",
      "Wall time: 2min 20s\n"
     ]
    },
    {
     "data": {
      "text/plain": [
       "array([[0.084, 0.084, 0.084, 0.085, 0.085, 0.088, 0.102, 0.214, 0.305, 0.737, 0.91 , 0.928, 0.93 ],\n",
       "       [0.084, 0.084, 0.084, 0.085, 0.085, 0.088, 0.102, 0.237, 0.314, 0.772, 0.914, 0.917, 0.93 ],\n",
       "       [0.084, 0.084, 0.085, 0.085, 0.086, 0.088, 0.103, 0.275, 0.343, 0.684, 0.877, 0.897, 0.904],\n",
       "       [0.084, 0.084, 0.085, 0.085, 0.086, 0.088, 0.104, 0.301, 0.356, 0.609, 0.788, 0.833, 0.829],\n",
       "       [0.084, 0.084, 0.085, 0.085, 0.086, 0.088, 0.107, 0.276, 0.329, 0.419, 0.638, 0.656, 0.695],\n",
       "       [0.084, 0.084, 0.085, 0.085, 0.086, 0.088, 0.113, 0.26 , 0.305, 0.316, 0.45 , 0.516, 0.545],\n",
       "       [0.084, 0.084, 0.085, 0.085, 0.086, 0.088, 0.1  , 0.235, 0.314, 0.276, 0.273, 0.354, 0.374],\n",
       "       [0.084, 0.084, 0.085, 0.085, 0.085, 0.087, 0.094, 0.19 , 0.247, 0.252, 0.244, 0.221, 0.249],\n",
       "       [0.084, 0.084, 0.085, 0.085, 0.085, 0.086, 0.093, 0.141, 0.175, 0.2  , 0.211, 0.204, 0.175],\n",
       "       [0.084, 0.084, 0.085, 0.085, 0.085, 0.086, 0.089, 0.112, 0.137, 0.173, 0.171, 0.194, 0.177],\n",
       "       [0.084, 0.084, 0.084, 0.085, 0.085, 0.086, 0.088, 0.097, 0.115, 0.117, 0.129, 0.147, 0.128],\n",
       "       [0.084, 0.084, 0.084, 0.085, 0.085, 0.086, 0.088, 0.091, 0.103, 0.117, 0.11 , 0.123, 0.135],\n",
       "       [0.084, 0.084, 0.084, 0.084, 0.084, 0.085, 0.086, 0.087, 0.093, 0.099, 0.111, 0.116, 0.115],\n",
       "       [0.084, 0.084, 0.084, 0.084, 0.084, 0.084, 0.085, 0.087, 0.09 , 0.096, 0.1  , 0.1  , 0.106],\n",
       "       [0.084, 0.084, 0.084, 0.085, 0.085, 0.085, 0.086, 0.088, 0.086, 0.096, 0.101, 0.097, 0.101],\n",
       "       [0.084, 0.084, 0.084, 0.084, 0.084, 0.085, 0.085, 0.086, 0.086, 0.09 , 0.088, 0.092, 0.096],\n",
       "       [0.084, 0.084, 0.084, 0.084, 0.084, 0.084, 0.085, 0.086, 0.086, 0.087, 0.088, 0.091, 0.09 ],\n",
       "       [0.084, 0.084, 0.084, 0.084, 0.084, 0.084, 0.084, 0.085, 0.084, 0.086, 0.088, 0.087, 0.088],\n",
       "       [0.084, 0.084, 0.084, 0.085, 0.085, 0.085, 0.084, 0.085, 0.086, 0.087, 0.088, 0.088, 0.087],\n",
       "       [0.084, 0.084, 0.084, 0.084, 0.084, 0.084, 0.084, 0.085, 0.085, 0.085, 0.084, 0.086, 0.085],\n",
       "       [0.084, 0.084, 0.084, 0.084, 0.084, 0.085, 0.085, 0.084, 0.085, 0.085, 0.083, 0.087, 0.086]])"
      ]
     },
     "execution_count": 122,
     "metadata": {},
     "output_type": "execute_result"
    }
   ],
   "source": [
    "%%time\n",
    "exp(10, n=2).reshape(-1, len(students), len(ns)).mean(axis=0).round(3)"
   ]
  },
  {
   "cell_type": "code",
   "execution_count": null,
   "id": "6526a8fe-f8f1-4715-9121-0224f7dc493f",
   "metadata": {},
   "outputs": [],
   "source": []
  },
  {
   "cell_type": "code",
   "execution_count": 50,
   "id": "1aa6d01c-9a7f-441f-803a-b2d8a288d568",
   "metadata": {
    "tags": []
   },
   "outputs": [],
   "source": [
    "X, Y = make_data(1, 100)"
   ]
  },
  {
   "cell_type": "code",
   "execution_count": 51,
   "id": "34f567e0-40d9-415b-b474-5261fce4d65b",
   "metadata": {
    "tags": []
   },
   "outputs": [
    {
     "data": {
      "text/plain": [
       "array([0, 0, 1, 1, 1, 1, 0, 1, 1, 0, 1, 0, 0, 0, 1, 0, 0, 0, 1, 1, 1, 0, 1, 1, 1, 1, 0, 0, 0, 1, 1, 0, 1, 1, 0, 0, 1, 1, 0, 1, 0, 0, 1, 1, 1, 1, 1, 0, 1, 0, 0, 0, 0, 1, 1, 0, 0,\n",
       "       1, 1, 0, 0, 1, 0, 1, 1, 1, 0, 1, 1, 1, 1, 0, 1, 1, 1, 0, 0, 0, 1, 0, 0, 0, 1, 1, 1, 1, 1, 1, 1, 0, 1, 1, 1, 0, 1, 0, 1, 1, 0, 1])"
      ]
     },
     "execution_count": 51,
     "metadata": {},
     "output_type": "execute_result"
    }
   ],
   "source": [
    "Y[::2]"
   ]
  },
  {
   "cell_type": "code",
   "execution_count": null,
   "id": "e6f41f26-d1e5-47e7-bb29-c6fe529f8cc5",
   "metadata": {},
   "outputs": [],
   "source": []
  },
  {
   "cell_type": "code",
   "execution_count": 21,
   "id": "b4802b60-3199-4788-9cae-27f107a68ed7",
   "metadata": {},
   "outputs": [
    {
     "data": {
      "text/plain": [
       "array([[ 0.   ,  0.   ,  0.   ,  0.   ,  0.   ,  0.   ,  0.   ,  0.   ,  0.   ,  0.001,  0.001,  0.   ,  0.   ],\n",
       "       [-0.001, -0.001, -0.001, -0.001,  0.   ,  0.   ,  0.   ,  0.001,  0.001,  0.001,  0.001,  0.001,  0.001],\n",
       "       [-0.003, -0.003, -0.002, -0.002, -0.001,  0.   ,  0.   ,  0.001,  0.001,  0.001,  0.001,  0.001,  0.001],\n",
       "       [-0.019, -0.011, -0.006, -0.004, -0.002, -0.001,  0.001,  0.001,  0.002,  0.002,  0.003,  0.003,  0.002],\n",
       "       [-0.081, -0.064, -0.052, -0.033, -0.012, -0.003,  0.001,  0.003,  0.004,  0.004,  0.005,  0.006,  0.003],\n",
       "       [-0.081, -0.076, -0.053, -0.035, -0.016, -0.001,  0.002,  0.006,  0.01 ,  0.009,  0.01 ,  0.006,  0.007]])"
      ]
     },
     "execution_count": 21,
     "metadata": {},
     "output_type": "execute_result"
    }
   ],
   "source": [
    "_18[:13,3:9].T-0.522"
   ]
  },
  {
   "cell_type": "code",
   "execution_count": 25,
   "id": "9febb159-ff40-4650-b6a1-8cc9a88c38e9",
   "metadata": {
    "tags": []
   },
   "outputs": [
    {
     "data": {
      "text/plain": [
       "array([[ 0.   ,  0.   ,  0.   ,  0.   , -0.001, -0.003, -0.019, -0.081, -0.081,  0.135,  0.284,  0.342,  0.382],\n",
       "       [ 0.   ,  0.   ,  0.   ,  0.   , -0.001, -0.003, -0.011, -0.064, -0.076,  0.124,  0.256,  0.318,  0.372],\n",
       "       [ 0.   ,  0.   ,  0.   ,  0.   , -0.001, -0.002, -0.006, -0.052, -0.053,  0.108,  0.251,  0.303,  0.355],\n",
       "       [ 0.   ,  0.   ,  0.   ,  0.   , -0.001, -0.002, -0.004, -0.033, -0.035,  0.078,  0.236,  0.295,  0.342],\n",
       "       [ 0.   ,  0.   ,  0.   ,  0.   ,  0.   , -0.001, -0.002, -0.012, -0.016,  0.047,  0.198,  0.256,  0.306],\n",
       "       [ 0.   ,  0.   ,  0.   ,  0.   ,  0.   ,  0.   , -0.001, -0.003, -0.001,  0.029,  0.156,  0.225,  0.273],\n",
       "       [ 0.   ,  0.   ,  0.   ,  0.   ,  0.   ,  0.   ,  0.001,  0.001,  0.002,  0.014,  0.077,  0.178,  0.232],\n",
       "       [ 0.   ,  0.   ,  0.   ,  0.   ,  0.001,  0.001,  0.001,  0.003,  0.006,  0.015,  0.049,  0.126,  0.184],\n",
       "       [ 0.   ,  0.   ,  0.   ,  0.   ,  0.001,  0.001,  0.002,  0.004,  0.01 ,  0.016,  0.032,  0.073,  0.141],\n",
       "       [ 0.   ,  0.   ,  0.   ,  0.001,  0.001,  0.001,  0.002,  0.004,  0.009,  0.014,  0.03 ,  0.046,  0.081],\n",
       "       [ 0.   ,  0.   ,  0.   ,  0.001,  0.001,  0.001,  0.003,  0.005,  0.01 ,  0.014,  0.024,  0.029,  0.048],\n",
       "       [ 0.001,  0.   ,  0.   ,  0.   ,  0.001,  0.001,  0.003,  0.006,  0.006,  0.013,  0.018,  0.027,  0.03 ],\n",
       "       [ 0.001,  0.   ,  0.001,  0.   ,  0.001,  0.001,  0.002,  0.003,  0.007,  0.009,  0.015,  0.015,  0.019],\n",
       "       [ 0.001,  0.001,  0.   ,  0.   ,  0.   ,  0.001,  0.001,  0.002,  0.004,  0.006,  0.009,  0.013,  0.015],\n",
       "       [ 0.   ,  0.001,  0.   ,  0.   ,  0.   ,  0.001,  0.001,  0.002,  0.002,  0.004,  0.006,  0.007,  0.01 ],\n",
       "       [ 0.001,  0.   ,  0.   ,  0.   ,  0.   ,  0.   ,  0.001,  0.001,  0.002,  0.004,  0.004,  0.005,  0.006],\n",
       "       [ 0.   ,  0.001,  0.   ,  0.   ,  0.   ,  0.   ,  0.   ,  0.001,  0.   ,  0.002,  0.004,  0.003,  0.004],\n",
       "       [ 0.   ,  0.   ,  0.   ,  0.   ,  0.   ,  0.   ,  0.   ,  0.001,  0.001,  0.   ,  0.003,  0.002,  0.002],\n",
       "       [ 0.   ,  0.   ,  0.   ,  0.001,  0.   ,  0.001,  0.001,  0.001,  0.001,  0.002,  0.003,  0.002,  0.001],\n",
       "       [ 0.   ,  0.   ,  0.   ,  0.001,  0.   ,  0.001,  0.001,  0.001,  0.   ,  0.002,  0.002,  0.002,  0.001],\n",
       "       [ 0.   ,  0.   ,  0.   ,  0.001,  0.   ,  0.001,  0.001,  0.   ,  0.   ,  0.   ,  0.001,  0.002,  0.   ]])"
      ]
     },
     "execution_count": 25,
     "metadata": {},
     "output_type": "execute_result"
    }
   ],
   "source": [
    "_18 - 0.522"
   ]
  },
  {
   "cell_type": "code",
   "execution_count": null,
   "id": "70e0033b-d603-4b85-88d8-424d89713fe9",
   "metadata": {},
   "outputs": [],
   "source": []
  },
  {
   "cell_type": "code",
   "execution_count": null,
   "id": "c8e9d0b9-6536-4ee3-8734-fd853d86bd0a",
   "metadata": {
    "tags": []
   },
   "outputs": [],
   "source": [
    "df = pd.DataFrame(_264[:13,3:9].T - 0.227)\n",
    "with warnings.catch_warnings():\n",
    "    warnings.simplefilter(action='ignore', category=FutureWarning)\n",
    "    ax = sns.lineplot(df)\n",
    "    sns.move_legend(ax, \"upper left\", bbox_to_anchor=(1, 1))"
   ]
  },
  {
   "cell_type": "code",
   "execution_count": null,
   "id": "cb7fa30b-8f4f-4cf4-a7fe-440e8e08644a",
   "metadata": {
    "tags": []
   },
   "outputs": [],
   "source": [
    "_213[:10:2,:7] - 0.75"
   ]
  },
  {
   "cell_type": "code",
   "execution_count": null,
   "id": "47655105-dda3-47ea-9590-81157a142763",
   "metadata": {},
   "outputs": [],
   "source": []
  },
  {
   "cell_type": "code",
   "execution_count": null,
   "id": "3d94b37e-700d-48d4-8d6d-06f517b8c552",
   "metadata": {},
   "outputs": [],
   "source": [
    "%%time\n",
    "exp(3.162, n=10).reshape(-1, len(students), len(ns)).mean(axis=0).round(3)"
   ]
  },
  {
   "cell_type": "code",
   "execution_count": null,
   "id": "6a98049a-1228-4cc6-be61-804442b7cbee",
   "metadata": {},
   "outputs": [],
   "source": []
  },
  {
   "cell_type": "code",
   "execution_count": null,
   "id": "b72c3176-8d8e-4f8b-a49a-cfe0884469f0",
   "metadata": {},
   "outputs": [],
   "source": []
  },
  {
   "cell_type": "code",
   "execution_count": null,
   "id": "692611b2-6bc9-43e5-b365-56be964625a0",
   "metadata": {},
   "outputs": [],
   "source": []
  },
  {
   "cell_type": "code",
   "execution_count": null,
   "id": "90ff9f10-0be8-429f-aba1-6538ed66955d",
   "metadata": {},
   "outputs": [],
   "source": []
  },
  {
   "cell_type": "code",
   "execution_count": null,
   "id": "027884aa-b82c-4607-bc69-2a2fc9b18b0a",
   "metadata": {},
   "outputs": [],
   "source": []
  },
  {
   "cell_type": "code",
   "execution_count": null,
   "id": "521f32cc-c4e3-429b-81a2-9d0c323054a1",
   "metadata": {
    "tags": []
   },
   "outputs": [],
   "source": [
    "[[1,0],\n",
    " [a,b]]\n",
    "temp = 1"
   ]
  },
  {
   "cell_type": "code",
   "execution_count": null,
   "id": "69553620-1850-4d76-acfb-61a371c2ae44",
   "metadata": {
    "tags": []
   },
   "outputs": [],
   "source": [
    "def foo(x, y, temp):\n",
    "    \n",
    "    \n",
    "    r1_H = np.exp(1/temp) / (np.exp(1/temp) + np.exp(0))\n",
    "    r1_L = (x*np.exp(x/temp) + y*np.exp(y/temp)) / (np.exp(x/temp) + np.exp(y/temp))\n",
    "    \n",
    "    r_0 = (r1_H*np.exp(r1_H/temp) + r1_L*np.exp(r1_L/temp)) / (np.exp(r1_H/temp) + np.exp(r1_L/temp))\n",
    "    \n",
    "    branchL_prob = np.exp(r1_L/temp) / (np.exp(r1_H/temp) + np.exp(r1_L/temp))\n",
    "    return branchL_prob"
   ]
  },
  {
   "cell_type": "code",
   "execution_count": null,
   "id": "e31000f4-0efa-4683-af05-a26fbbe4daa4",
   "metadata": {
    "tags": []
   },
   "outputs": [],
   "source": [
    "space = np.logspace(-2, 2, 41)"
   ]
  },
  {
   "cell_type": "code",
   "execution_count": null,
   "id": "3e387a51-c461-47a7-ad4a-8362f4e4d638",
   "metadata": {
    "tags": []
   },
   "outputs": [],
   "source": [
    "%%time\n",
    "probs = {}\n",
    "for x in np.linspace(0,1,101):\n",
    "    for y in np.linspace(0,1,101):\n",
    "        for temp in np.logspace(-2, 2, 81):\n",
    "            temp = temp\n",
    "            if 1>x>y>0:\n",
    "                probs[x,y,temp] = foo(x,y,temp)"
   ]
  },
  {
   "cell_type": "code",
   "execution_count": null,
   "id": "04e2fa07-13a0-4957-87fa-2f10941cb9e3",
   "metadata": {
    "tags": []
   },
   "outputs": [],
   "source": [
    "max(probs, key=probs.get)"
   ]
  },
  {
   "cell_type": "code",
   "execution_count": null,
   "id": "a5cf7f31-bebc-4f82-b752-908e7081b386",
   "metadata": {
    "tags": []
   },
   "outputs": [],
   "source": [
    "probs[max(probs, key=probs.get)]"
   ]
  },
  {
   "cell_type": "code",
   "execution_count": null,
   "id": "d8140b03-6cfe-4088-a22f-1c419c1a5a1f",
   "metadata": {
    "tags": []
   },
   "outputs": [],
   "source": [
    "{(x,y,t):v for (x,y,t),v in probs.items() if x==0.51 and y==0.50}"
   ]
  },
  {
   "cell_type": "code",
   "execution_count": null,
   "id": "d89f9406-97a9-4752-9bf5-0894ce7e5e9a",
   "metadata": {},
   "outputs": [],
   "source": []
  }
 ],
 "metadata": {
  "kernelspec": {
   "display_name": "base",
   "language": "python",
   "name": "base"
  },
  "language_info": {
   "codemirror_mode": {
    "name": "ipython",
    "version": 3
   },
   "file_extension": ".py",
   "mimetype": "text/x-python",
   "name": "python",
   "nbconvert_exporter": "python",
   "pygments_lexer": "ipython3",
   "version": "3.10.12"
  }
 },
 "nbformat": 4,
 "nbformat_minor": 5
}
