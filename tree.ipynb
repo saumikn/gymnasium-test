{
 "cells": [
  {
   "cell_type": "code",
   "execution_count": 1,
   "id": "2d4eab3e",
   "metadata": {
    "tags": []
   },
   "outputs": [],
   "source": [
    "%load_ext line_profiler"
   ]
  },
  {
   "cell_type": "code",
   "execution_count": 2,
   "id": "79897413",
   "metadata": {
    "tags": []
   },
   "outputs": [],
   "source": [
    "from collections import Counter\n",
    "from functools import partial\n",
    "\n",
    "import numpy as np\n",
    "rng = np.random.default_rng()\n",
    "np.set_printoptions(suppress=True, linewidth=180, edgeitems=5)\n",
    "from tqdm.notebook import tqdm, trange\n",
    "from tqdm.contrib.concurrent import process_map\n",
    "\n",
    "from scipy.stats import rankdata\n",
    "import seaborn as sns\n",
    "import matplotlib.pyplot as plt\n",
    "import pandas as pd\n",
    "import warnings"
   ]
  },
  {
   "cell_type": "code",
   "execution_count": 3,
   "id": "9206f102",
   "metadata": {
    "tags": []
   },
   "outputs": [
    {
     "data": {
      "text/plain": [
       "array([[1.  , 0.  ],\n",
       "       [0.95, 0.9 ]])"
      ]
     },
     "metadata": {},
     "output_type": "display_data"
    },
    {
     "data": {
      "text/plain": [
       "0.71"
      ]
     },
     "metadata": {},
     "output_type": "display_data"
    },
    {
     "data": {
      "text/plain": [
       "array([  0.01 ,   0.018,   0.032,   0.056,   0.1  ,   0.178,   0.316,   0.562,   1.   ,   1.778,   3.162,   5.623,  10.   ,  17.783,  31.623,  56.234, 100.   ])"
      ]
     },
     "metadata": {},
     "output_type": "display_data"
    }
   ],
   "source": [
    "# ns = [0,10,10,11,12,13,14,15,16,17]\n",
    "# ns = [0,5,5,6,7,8,9,10,11,12,13,14,15,16,17,18,19]\n",
    "# ns = [0]\n",
    "\n",
    "\n",
    "\n",
    "\n",
    "# ns = [0,5,5,6,7,8,9,10,11,12,13,14,15]\n",
    "# ms = 5\n",
    "# # arrs = np.array([[20,0,0,0,0],\n",
    "# #                  [19,19,0,0,0],\n",
    "# #                  [18,18,18,0,0],\n",
    "# #                  [17,17,17,17,0],\n",
    "# #                  [16,16,16,16,16],])\n",
    "# arrs = np.array([[20,0,0,0,0],\n",
    "#                  [15,16,17,18,19],\n",
    "#                  [0,0,0,0,0],\n",
    "#                  [0,0,0,0,0],\n",
    "#                  [0,0,0,0,0],\n",
    "#                  # [-1000,-1000,-1000,-1000,-1000],\n",
    "#                  # [-1000,-1000,-1000,-1000,-1000],\n",
    "#                  # [-1000,-1000,-1000,-1000,-1000],\n",
    "#                 ])\n",
    "# arrs = arrs / 20\n",
    "# display(arrs)\n",
    "# display(arrs.sum().round(2))\n",
    "\n",
    "# students = np.logspace(-2, 1, 13)\n",
    "# ns = [0,5,5,6,7,8,9,10,11,12,13,14,15]\n",
    "# ms = 10\n",
    "# arrs = np.array([[1,0,0,0,0,0,0,0,0,0],\n",
    "#                  [.95,.9,.85,.8,.75,.7,.65,.6,.55,.5],\n",
    "#                  [0,0,0,0,0,0,0,0,0,0],\n",
    "#                  [0,0,0,0,0,0,0,0,0,0],\n",
    "#                  [0,0,0,0,0,0,0,0,0,0],\n",
    "#                  [0,0,0,0,0,0,0,0,0,0],\n",
    "#                  [0,0,0,0,0,0,0,0,0,0],\n",
    "#                  [0,0,0,0,0,0,0,0,0,0],\n",
    "#                  [0,0,0,0,0,0,0,0,0,0],\n",
    "#                  [0,0,0,0,0,0,0,0,0,0],\n",
    "#                  # [-10,-10,-10,-10,-10,-10,-10,-10,-10,-10],\n",
    "#                  # [-10,-10,-10,-10,-10,-10,-10,-10,-10,-10],\n",
    "#                  # [-10,-10,-10,-10,-10,-10,-10,-10,-10,-10],\n",
    "#                  # [-10,-10,-10,-10,-10,-10,-10,-10,-10,-10],\n",
    "#                  # [-10,-10,-10,-10,-10,-10,-10,-10,-10,-10],\n",
    "#                  # [-10,-10,-10,-10,-10,-10,-10,-10,-10,-10],\n",
    "#                  # [-10,-10,-10,-10,-10,-10,-10,-10,-10,-10],\n",
    "#                  # [-10,-10,-10,-10,-10,-10,-10,-10,-10,-10],\n",
    "#                 ])\n",
    "# display(arrs)\n",
    "# display(arrs.sum().round(2))\n",
    "                 \n",
    "\n",
    "students = np.logspace(-2, 2, 17)\n",
    "ns = [0,5,5,6,7,8,9,10,11,12,13,14,15]\n",
    "ms = 2\n",
    "arrs = np.array([[1,0],[.95,.90]])\n",
    "display(arrs)\n",
    "display(arrs.mean().round(2))\n",
    "\n",
    "\n",
    "ranked = False\n",
    "top2 = True\n",
    "\n",
    "\n",
    "slip = False\n",
    "# students = np.linspace(0.05, 0.5, 10)\n",
    "\n",
    "display(students.round(3))"
   ]
  },
  {
   "cell_type": "code",
   "execution_count": null,
   "id": "601e81e6",
   "metadata": {},
   "outputs": [],
   "source": []
  },
  {
   "cell_type": "code",
   "execution_count": 4,
   "id": "0b4413b8",
   "metadata": {},
   "outputs": [],
   "source": [
    "def make_model(num_nodes=128, num_dense=4):\n",
    "    import tensorflow as tf\n",
    "    for gpu in tf.config.list_physical_devices('GPU'):\n",
    "        tf.config.experimental.set_memory_growth(gpu, True)\n",
    "    \n",
    "    inputs = tf.keras.layers.Input(shape=(ms*ms + ms + 1))\n",
    "    x = tf.keras.layers.Flatten()(inputs)\n",
    "    for _ in range(num_dense):\n",
    "        x = tf.keras.layers.Dense(num_nodes, activation='relu')(x)\n",
    "    output1 = tf.keras.layers.Dense(ms, name='Y0')(x)\n",
    "    output1 = tf.keras.layers.Softmax()(output1)\n",
    "    model = tf.keras.models.Model(inputs=inputs, outputs=output1)\n",
    "    \n",
    "    opt = tf.keras.optimizers.Adam()\n",
    "    loss_fn = tf.keras.losses.SparseCategoricalCrossentropy(from_logits=False)\n",
    "    model.compile(optimizer=opt, loss=loss_fn, metrics=['accuracy'])\n",
    "    return model\n",
    "\n",
    "def softmax(x, b, axis=-1):\n",
    "    x = x - np.max(x, axis=axis, keepdims=True)\n",
    "    return np.exp(x/b) / np.exp(x/b).sum(axis=axis, keepdims=True)\n",
    "\n",
    "def make_x():\n",
    "    x = arrs\n",
    "    \n",
    "    # rand = np.random.random(arrs.shape)\n",
    "    # rand = (rand - 0.5)\n",
    "    # x = x + rand*0.0001\n",
    "    \n",
    "    x = rng.permuted(x, axis=-1)\n",
    "    return x\n",
    "\n",
    "def eval_model(model, n = 1, disable=True):\n",
    "    rewards = []\n",
    "    branch_rewards = []\n",
    "    for _ in trange(n, disable=disable):\n",
    "        x = make_x()\n",
    "        x_tree = np.concatenate([np.eye(ms+1).astype(int), np.tile(x.flatten(), (ms+1,1))], axis=1)\n",
    "        y_pred = model(x_tree).numpy()\n",
    "        \n",
    "        if top2:\n",
    "            y_pred[0,2:] = 0\n",
    "            y_pred[0] = y_pred[0] / y_pred[0].sum()\n",
    "        \n",
    "        branch_reward = (x_tree[0,ms+1:].reshape(ms,ms) * y_pred[1:]).sum(axis=1)\n",
    "        rewards.append(y_pred[0])\n",
    "        # reward = (y_pred[0] * branch_reward).numpy().sum()\n",
    "        # rewards.append(reward)\n",
    "        branch_rewards.append(branch_reward)\n",
    "    return np.array(rewards), np.array(branch_rewards)\n",
    "\n",
    "def make_data(b=1, n=1, disable=True):\n",
    "    X, Y = [], []\n",
    "    for _ in trange(n, disable=disable):\n",
    "        \n",
    "        if ranked:\n",
    "            x = make_x()\n",
    "            r1 = softmax(rankdata(x,axis=1), b)\n",
    "            r1sum = (r1*x).sum(axis=1)\n",
    "            r0 = softmax(rankdata(r1sum), b)\n",
    "                    \n",
    "        else:\n",
    "            x = make_x()\n",
    "            r1 = softmax(x, b)\n",
    "            r1sum = (r1*x).sum(axis=1)\n",
    "            r0 = softmax(r1sum, b)\n",
    "        \n",
    "        pos = [0] * (ms+1)\n",
    "        pos[0] = 1\n",
    "        x0 = pos + list(x.flatten())\n",
    "        \n",
    "        \n",
    "        # slip_prob = np.log10(b)/-20 + 0.95\n",
    "        slip_prob = b\n",
    "        \n",
    "        if slip == False:\n",
    "            if top2:\n",
    "                p = np.zeros_like(r0)\n",
    "                p[:2] = r0[:2]\n",
    "                p = p / p.sum()\n",
    "            else:\n",
    "                p = r0\n",
    "            y0 = rng.choice(np.arange(ms), p=p)\n",
    "        else:\n",
    "            if top2:\n",
    "                p = np.zeros_like(r0)\n",
    "                p[0:2] = [1-slip_prob, slip_prob]\n",
    "            else:\n",
    "                p = np.zeros_like(r0)\n",
    "                p[0] = 1-slip_prob\n",
    "                p[1:] = slip_prob/(ms-1)\n",
    "            y0 = rng.choice(np.arange(ms), p=p)\n",
    "        # while y0 in [2,3,4]:\n",
    "        #     y0 = rng.choice(np.arange(ms), p=r0)\n",
    "            \n",
    "        \n",
    "        pos = [0] * (ms+1)\n",
    "        pos[y0+1] = 1\n",
    "        x1 = pos + list(x.flatten())\n",
    "        \n",
    "        if slip == False:\n",
    "            y1 = rng.choice(np.arange(ms), p=r1[y0])\n",
    "        else:\n",
    "            p = np.zeros(ms) + (slip_prob)/(ms-1)\n",
    "            p[r1.argmax()] = 1 - slip_prob\n",
    "            y1 = rng.choice(np.arange(ms), p=p)\n",
    "\n",
    "        X.append(x0)\n",
    "        Y.append(y0)\n",
    "        X.append(x1)\n",
    "        Y.append(y1)\n",
    "    \n",
    "    X = np.array(X)\n",
    "    Y = np.array(Y)\n",
    "    \n",
    "    return X,Y"
   ]
  },
  {
   "cell_type": "code",
   "execution_count": 5,
   "id": "91c90d7a",
   "metadata": {
    "tags": []
   },
   "outputs": [
    {
     "name": "stdout",
     "output_type": "stream",
     "text": [
      "0.010, 1.000, [1.   0.95], [0.994 0.006]\n",
      "0.018, 0.997, [1.    0.947], [0.951 0.049]\n",
      "0.032, 0.992, [1.    0.941], [0.864 0.136]\n",
      "0.056, 0.984, [1.    0.935], [0.759 0.241]\n",
      "0.100, 0.977, [1.    0.931], [0.666 0.334]\n",
      "0.178, 0.969, [0.996 0.928], [0.594 0.406]\n",
      "0.316, 0.944, [0.959 0.927], [0.526 0.474]\n",
      "0.562, 0.893, [0.855 0.926], [0.469 0.531]\n",
      "1.000, 0.838, [0.731 0.926], [0.452 0.548]\n",
      "1.778, 0.793, [0.637 0.925], [0.46 0.54]\n",
      "3.162, 0.761, [0.578 0.925], [0.473 0.527]\n",
      "5.623, 0.741, [0.544 0.925], [0.483 0.517]\n",
      "10.000, 0.729, [0.525 0.925], [0.49 0.51]\n",
      "17.783, 0.722, [0.514 0.925], [0.494 0.506]\n",
      "31.623, 0.718, [0.508 0.925], [0.497 0.503]\n",
      "56.234, 0.716, [0.504 0.925], [0.498 0.502]\n",
      "100.000, 0.714, [0.502 0.925], [0.499 0.501]\n",
      "CPU times: user 7.03 s, sys: 0 ns, total: 7.03 s\n",
      "Wall time: 7.09 s\n"
     ]
    }
   ],
   "source": [
    "%%time\n",
    "for b in students:\n",
    "    r0s = []\n",
    "    r1s = []\n",
    "    for _ in trange(10000, disable=True):\n",
    "        x = make_x()\n",
    "        \n",
    "        if ranked:\n",
    "            r1 = (softmax(rankdata(x,axis=1), b) * x).sum(axis=1)\n",
    "            r0 = (softmax(rankdata(r1), b) * r1).sum()\n",
    "            r1s.append(r1)\n",
    "            r0s.append(r0)\n",
    "            \n",
    "        else:\n",
    "            r1 = (softmax(x, b) * x).sum(axis=1)\n",
    "            r0 = (softmax(r1, b) * r1).sum()\n",
    "            r1s.append(r1)\n",
    "            r0s.append(r0)\n",
    "    \n",
    "        \n",
    "    r1s = np.array(r1s)\n",
    "    r0s = np.array(r0s)\n",
    "    print(f\"{b:.3f}, {r0s.mean():.3f}, {r1s.mean(axis=0).round(3)}, {softmax(r1s.mean(axis=0), b).round(3)}\")"
   ]
  },
  {
   "cell_type": "code",
   "execution_count": 6,
   "id": "50830888",
   "metadata": {
    "tags": []
   },
   "outputs": [],
   "source": [
    "def train_model(i, student):\n",
    "    verbose = False\n",
    "    if student == 1:\n",
    "        print(f'student == {student:.3f}')\n",
    "        verbose = True\n",
    "    model = make_model()\n",
    "    Xtrain, Ytrain = make_data(student, 2**16, disable=not verbose)\n",
    "    model.fit(Xtrain, Ytrain, verbose=verbose)\n",
    "    reward = eval_model(model, 10000, disable=not verbose)\n",
    "    model.save(f'models/starting_{student:.3f}_{i}.keras')\n",
    "    model.save_weights(f'models/starting_{student:.3f}_{i}.weights.h5')\n",
    "    return reward"
   ]
  },
  {
   "cell_type": "code",
   "execution_count": null,
   "id": "071c98da",
   "metadata": {},
   "outputs": [],
   "source": []
  },
  {
   "cell_type": "code",
   "execution_count": null,
   "id": "b85c969f",
   "metadata": {},
   "outputs": [],
   "source": [
    "%%time\n",
    "\n",
    "iters = list(range(10))\n",
    "iter_students = [1000 for i in iters]\n",
    "rewards = process_map(train_model, iters, iter_students, disable=False, max_workers=20)\n",
    "\n",
    "# rewards = process_map(train_model, students, disable=True, max_workers=17)"
   ]
  },
  {
   "cell_type": "code",
   "execution_count": null,
   "id": "64dc6978",
   "metadata": {
    "tags": []
   },
   "outputs": [],
   "source": [
    "for r, s in zip(rewards, students):\n",
    "    \n",
    "    res = r[0]*r[1]\n",
    "    res = res.sum(axis=1).mean()\n",
    "    \n",
    "    print(f\"{s:.3f} {res}\")"
   ]
  },
  {
   "cell_type": "code",
   "execution_count": null,
   "id": "ac3967cc",
   "metadata": {},
   "outputs": [],
   "source": []
  },
  {
   "cell_type": "code",
   "execution_count": null,
   "id": "24bc0a37",
   "metadata": {},
   "outputs": [],
   "source": []
  },
  {
   "cell_type": "code",
   "execution_count": null,
   "id": "3054341f",
   "metadata": {},
   "outputs": [],
   "source": []
  },
  {
   "cell_type": "code",
   "execution_count": null,
   "id": "5b5c6050",
   "metadata": {},
   "outputs": [],
   "source": []
  },
  {
   "cell_type": "markdown",
   "id": "75aef2b6",
   "metadata": {
    "jp-MarkdownHeadingCollapsed": true,
    "tags": []
   },
   "source": [
    "# Graphs"
   ]
  },
  {
   "cell_type": "code",
   "execution_count": null,
   "id": "43d8834c",
   "metadata": {
    "tags": []
   },
   "outputs": [],
   "source": [
    "import tensorflow as tf\n",
    "for gpu in tf.config.list_physical_devices('GPU'):\n",
    "    tf.config.experimental.set_memory_growth(gpu, True)\n",
    "tf.get_logger().setLevel('ERROR')\n",
    "model2 = tf.keras.models.load_model(f\"models/starting_{0.100:.3f}.keras\")\n",
    "%timeit r0, r1 = eval_model(model2, 1)"
   ]
  },
  {
   "cell_type": "code",
   "execution_count": null,
   "id": "cdeffc02",
   "metadata": {},
   "outputs": [],
   "source": []
  },
  {
   "cell_type": "code",
   "execution_count": null,
   "id": "f2aeacf3",
   "metadata": {
    "tags": []
   },
   "outputs": [],
   "source": [
    "class CustomCallback(tf.keras.callbacks.Callback):\n",
    "    def __init__(self):\n",
    "        super(CustomCallback, self).__init__()\n",
    "\n",
    "    def on_batch_end(self, batch, logs=None):\n",
    "        \n",
    "        r0, r1 = eval_model(self.model, 10)\n",
    "        r = (r0*r1).sum(axis=1).mean()\n",
    "        try:\n",
    "            self.model.rewards.append(r)\n",
    "            self.model.accs.append(logs['accuracy'])\n",
    "        except:\n",
    "            self.model.rewards = [r]\n",
    "            self.model.accs = [logs['accuracy']]"
   ]
  },
  {
   "cell_type": "code",
   "execution_count": null,
   "id": "5d5a2b61",
   "metadata": {},
   "outputs": [],
   "source": []
  },
  {
   "cell_type": "code",
   "execution_count": null,
   "id": "00718cdb",
   "metadata": {},
   "outputs": [],
   "source": [
    "models = {}"
   ]
  },
  {
   "cell_type": "code",
   "execution_count": null,
   "id": "5d3764f5",
   "metadata": {
    "tags": []
   },
   "outputs": [],
   "source": [
    "%%time\n",
    "\n",
    "with open('tree.log', 'a') as f:\n",
    "    for student in students:\n",
    "        \n",
    "        print(f'student {student:.3f}', file=f, flush=True)\n",
    "\n",
    "        models[student] = {}\n",
    "\n",
    "        for teacher in students[::2][3:10]:\n",
    "\n",
    "            print(f'teacher {teacher:.3f}', file=f, flush=True)\n",
    "            models[student][teacher] = []\n",
    "            for i in range(5):\n",
    "                print(f'model {i}', file=f, flush=True)\n",
    "                # model = make_model()\n",
    "                model = tf.keras.models.load_model(f\"models/starting_{student:.3f}.keras\")\n",
    "\n",
    "                opt = tf.keras.optimizers.Adam()\n",
    "                loss_fn = tf.keras.losses.SparseCategoricalCrossentropy(from_logits=False)\n",
    "                model.compile(optimizer=opt, loss=loss_fn, metrics=['accuracy'])\n",
    "\n",
    "                X, Y = currs[f'{teacher:.3f}']\n",
    "                model.fit(X[:2**17], Y[:2**17], callbacks=[CustomCallback()], verbose=False)\n",
    "                # model.fit(X[:2**17], Y[:2**17], callbacks=[CustomCallback()])\n",
    "\n",
    "                models[student][teacher].append(model)\n",
    "\n",
    "\n",
    "        #         break\n",
    "        #     break\n",
    "        # break"
   ]
  },
  {
   "cell_type": "code",
   "execution_count": null,
   "id": "67ce167a",
   "metadata": {},
   "outputs": [],
   "source": []
  },
  {
   "cell_type": "code",
   "execution_count": null,
   "id": "bae5d997",
   "metadata": {
    "tags": []
   },
   "outputs": [],
   "source": [
    "for student, s_models in models.items():\n",
    "    # print(student, list(s_models))\n",
    "    df = {}\n",
    "    for teacher, model in s_models.items():\n",
    "        kernel_size = 20\n",
    "        kernel = np.ones(kernel_size) / kernel_size\n",
    "        rewards = np.array([m.rewards for m in model]).mean(axis=0)\n",
    "        rewards = np.convolve(rewards, kernel, mode='valid')\n",
    "        df[f\"{teacher:.3f}\"] = rewards\n",
    "    df = pd.DataFrame(df)\n",
    "    \n",
    "    print(f'Student {student:.3f}')\n",
    "    with warnings.catch_warnings():\n",
    "        warnings.simplefilter(action='ignore', category=FutureWarning)\n",
    "        ax = sns.lineplot(df[[c for c in df.columns if float(c) >= student]])\n",
    "        sns.move_legend(ax, \"upper left\", bbox_to_anchor=(1, 1))\n",
    "        plt.show()\n",
    "    print()"
   ]
  },
  {
   "cell_type": "code",
   "execution_count": null,
   "id": "1fbd85d4",
   "metadata": {
    "tags": []
   },
   "outputs": [],
   "source": [
    "df[[c for c in df.columns if float(c) >= 1]]"
   ]
  },
  {
   "cell_type": "code",
   "execution_count": null,
   "id": "53f277e6",
   "metadata": {},
   "outputs": [],
   "source": [
    "with warnings.catch_warnings():\n",
    "    warnings.simplefilter(action='ignore', category=FutureWarning)\n",
    "\n",
    "    ax = sns.lineplot(df)\n",
    "    sns.move_legend(ax, \"upper left\", bbox_to_anchor=(1, 1))"
   ]
  },
  {
   "cell_type": "code",
   "execution_count": null,
   "id": "e5b939fc",
   "metadata": {},
   "outputs": [],
   "source": []
  },
  {
   "cell_type": "code",
   "execution_count": null,
   "id": "ff23acd4",
   "metadata": {},
   "outputs": [],
   "source": [
    "1+1"
   ]
  },
  {
   "cell_type": "code",
   "execution_count": null,
   "id": "a5390d17",
   "metadata": {},
   "outputs": [],
   "source": []
  },
  {
   "cell_type": "code",
   "execution_count": null,
   "id": "3b7c3c43",
   "metadata": {},
   "outputs": [],
   "source": []
  },
  {
   "cell_type": "code",
   "execution_count": null,
   "id": "f9331149",
   "metadata": {},
   "outputs": [],
   "source": []
  },
  {
   "cell_type": "code",
   "execution_count": null,
   "id": "e66f2396",
   "metadata": {},
   "outputs": [],
   "source": [
    "ax = sns.lineplot(df[df.columns[4:9]])\n",
    "sns.move_legend(ax, \"upper left\", bbox_to_anchor=(1, 1))"
   ]
  },
  {
   "cell_type": "code",
   "execution_count": null,
   "id": "d3fcfd2f",
   "metadata": {},
   "outputs": [],
   "source": [
    "students[::2][4:9]"
   ]
  },
  {
   "cell_type": "code",
   "execution_count": null,
   "id": "292e23af",
   "metadata": {},
   "outputs": [],
   "source": [
    "2**17 // 32"
   ]
  },
  {
   "cell_type": "markdown",
   "id": "80f7cc0c",
   "metadata": {
    "tags": []
   },
   "source": [
    "# Eval Training"
   ]
  },
  {
   "cell_type": "code",
   "execution_count": 7,
   "id": "18bbaa6a",
   "metadata": {
    "tags": []
   },
   "outputs": [
    {
     "data": {
      "application/vnd.jupyter.widget-view+json": {
       "model_id": "30f51cf43f274fb38c399761b0c921a2",
       "version_major": 2,
       "version_minor": 0
      },
      "text/plain": [
       "  0%|          | 0/17 [00:00<?, ?it/s]"
      ]
     },
     "metadata": {},
     "output_type": "display_data"
    },
    {
     "name": "stdout",
     "output_type": "stream",
     "text": [
      "CPU times: user 109 ms, sys: 207 ms, total: 316 ms\n",
      "Wall time: 10.4 s\n"
     ]
    }
   ],
   "source": [
    "%%time\n",
    "ntotal = (2**np.array(ns[1:13])).sum()\n",
    "\n",
    "currs = process_map(make_data, students, [ntotal]*len(students), max_workers=17, chunksize=1)\n",
    "currs = dict(zip([f\"{s:.3f}\" for s in students], currs))"
   ]
  },
  {
   "cell_type": "code",
   "execution_count": 310,
   "id": "c322e67d",
   "metadata": {},
   "outputs": [],
   "source": [
    "def eval_training(modeli, student, teachers, verbose=False):\n",
    "    import tensorflow as tf\n",
    "    for gpu in tf.config.list_physical_devices('GPU'):\n",
    "        tf.config.experimental.set_memory_growth(gpu, True)\n",
    "    tf.get_logger().setLevel('ERROR')\n",
    "        \n",
    "        \n",
    "    class CustomCallback(tf.keras.callbacks.Callback):\n",
    "        def __init__(self):\n",
    "            super(CustomCallback, self).__init__()\n",
    "\n",
    "        def on_batch_begin(self, batch, logs=None):\n",
    "            \n",
    "            # batches = list(2**np.arange(5,18) // 32 - 1)            \n",
    "            # if batch in batches:\n",
    "                \n",
    "            if batch % 1 == 0:\n",
    "                r0, r1 = eval_model(self.model, 10)\n",
    "                r = (r0*r1).sum(axis=1).mean()\n",
    "                try:\n",
    "                    self.model.rewards[batch] = r\n",
    "                    # self.model.accs.append(logs['accuracy'])\n",
    "                except:\n",
    "                    self.model.rewards = {batch: r}\n",
    "                    # self.model.accs = [logs['accuracy']]\n",
    "\n",
    "    \n",
    "    if student == -1:\n",
    "        model2 = make_model()\n",
    "    else:\n",
    "        # model2 = make_model()\n",
    "        # model2.load_weights(f\"models/starting_{student:.3f}_{i%10}.weights.h5\")\n",
    "        model2 = tf.keras.models.load_model(f\"models/starting_{student:.3f}_{modeli%10}.keras\")\n",
    "        \n",
    "    opt = tf.keras.optimizers.Adam(learning_rate=0.01)\n",
    "    loss_fn = tf.keras.losses.SparseCategoricalCrossentropy(from_logits=False)\n",
    "    model2.compile(optimizer=opt, loss=loss_fn, metrics=['accuracy'])\n",
    "    \n",
    "    bs = 32\n",
    "    \n",
    "    if teachers == ('smooth',):\n",
    "        _X0, _Y0 = currs[f\"{0.010:.3f}\"]\n",
    "        _X1, _Y1 = currs[f\"{0.316:.3f}\"]\n",
    "        \n",
    "        \n",
    "        perm = np.random.permutation(len(_X0))[:num_batches*bs]\n",
    "        _X0, _Y0 = _X0[perm], _Y0[perm]\n",
    "        \n",
    "        perm = np.random.permutation(len(_X1))[:num_batches*bs]\n",
    "        _X1, _Y1 = _X1[perm], _Y1[perm]\n",
    "        \n",
    "        where = np.concatenate([np.zeros(0*bs) , np.linspace(0.5, 1, 50*bs), np.ones(150*bs)])\n",
    "        where = where > np.random.random(num_batches*bs)\n",
    "        \n",
    "        \n",
    "        X = np.where(where.reshape((-1, 1)), _X0, _X1)\n",
    "        Y = np.where(where, _Y0, _Y1)\n",
    "        \n",
    "    elif teachers[0] == 'bins':\n",
    "        nbins = teachers[1]\n",
    "        binsize = 4//nbins\n",
    "        X, Y = [], []\n",
    "        \n",
    "        for i, teacher in enumerate(students[::4][:4]):\n",
    "            if i%binsize == 0:\n",
    "                X.append([])\n",
    "                Y.append([])\n",
    "            _X, _Y = currs[f\"{teacher:.3f}\"]\n",
    "            perm = np.random.permutation(len(_X))[:50*bs]\n",
    "            X[-1].append(_X[perm])\n",
    "            Y[-1].append(_Y[perm])\n",
    "            \n",
    "        \n",
    "        X = [np.concatenate(_X) for _X in X]\n",
    "        Y = [np.concatenate(_Y) for _Y in Y]\n",
    "        \n",
    "        # print(teachers, nbins, binsize)\n",
    "        # print([_X.shape for _X in X])\n",
    "        # print([_Y.shape for _Y in Y])\n",
    "        \n",
    "        perm = np.random.permutation(len(X[0]))\n",
    "        \n",
    "        X = [_X[perm] for _X in X][::-1]\n",
    "        Y = [_Y[perm] for _Y in Y][::-1]\n",
    "        \n",
    "        # print([_X.shape for _X in X])\n",
    "        # print([_Y.shape for _Y in Y])\n",
    "        \n",
    "        X, Y = np.concatenate(X), np.concatenate(Y)\n",
    "        \n",
    "        # print(X.shape, Y.shape)\n",
    "        \n",
    "            \n",
    "            \n",
    "        \n",
    "        \n",
    "    else:\n",
    "        X, Y = [], []\n",
    "        for teacher, n in teachers:\n",
    "            \n",
    "            if isinstance(teacher, tuple):\n",
    "                X.append([])\n",
    "                Y.append([])\n",
    "                for teacher_part in teacher:\n",
    "                    _X, _Y = currs[f\"{teacher_part:.3f}\"]\n",
    "                    perm = np.random.permutation(len(_X))[:bs * n//len(teacher)]\n",
    "                    X[-1].append(_X[perm])\n",
    "                    Y[-1].append(_Y[perm])\n",
    "                X[-1] = np.concatenate(X[-1])\n",
    "                Y[-1] = np.concatenate(Y[-1])\n",
    "                perm = np.random.permutation(len(X[-1]))\n",
    "                X[-1] = X[-1][perm]\n",
    "                Y[-1] = Y[-1][perm]\n",
    "            \n",
    "            else:\n",
    "                _X, _Y = currs[f\"{teacher:.3f}\"]\n",
    "                perm = np.random.permutation(len(_X))[:n*bs]\n",
    "                X.append(_X[perm])\n",
    "                Y.append(_Y[perm])\n",
    "\n",
    "        lx = len(X[0])\n",
    "                \n",
    "        pct = 0.2\n",
    "        \n",
    "        assert (pct*lx) % 1 == 0\n",
    "        pct = int(pct * lx)\n",
    "\n",
    "        mixX = np.concatenate([_X[lx-pct:] for _X in X])\n",
    "        mixY = np.concatenate([_Y[lx-pct:] for _Y in Y])\n",
    "        \n",
    "        # print(pct, len(X[0]), mixX.shape, mixY.shape)\n",
    "        \n",
    "        for i, (_X, _Y) in enumerate(zip(X, Y)):\n",
    "            _X[lx-pct:] = mixX[i::len(X)]\n",
    "            _Y[lx-pct:] = mixY[i::len(Y)]\n",
    "            perm = np.random.permutation(lx)\n",
    "            _X[:] = _X[perm]\n",
    "            _Y[:] = _Y[perm]\n",
    "        \n",
    "        X, Y = np.concatenate(X), np.concatenate(Y)\n",
    "        \n",
    "    model2.fit(X, Y, verbose=False, shuffle=False, batch_size=bs, callbacks=[CustomCallback()])    \n",
    "    return (student, teachers, model2.rewards)\n"
   ]
  },
  {
   "cell_type": "code",
   "execution_count": null,
   "id": "d1a900ac",
   "metadata": {},
   "outputs": [],
   "source": []
  },
  {
   "cell_type": "code",
   "execution_count": 311,
   "id": "f41d0c89",
   "metadata": {
    "tags": []
   },
   "outputs": [],
   "source": [
    "def exp(student, verbose=True, n=20, nb=100):\n",
    "    # teachers = np.arange(student, 0.40001, 0.02)\n",
    "    \n",
    "    # teachers = students[:6]\n",
    "    \n",
    "    # teachers = [\n",
    "    #             # ((0.010, num_batches),),\n",
    "    #             # ((0.015, num_batches),),\n",
    "    #             # ((0.022, num_batches),),\n",
    "    #             # ((0.032, num_batches),),\n",
    "    #             # ((0.046, num_batches),),\n",
    "    #             # ((0.068, num_batches),),\n",
    "    #             ((0.100, num_batches),),\n",
    "    #             ((0.147, num_batches),),\n",
    "    #             ((0.215, num_batches),),\n",
    "    #             ((0.316, num_batches),),\n",
    "    #             ((0.464, num_batches),),\n",
    "    #             # ((0.681, num_batches),),\n",
    "    #             # ((1.000, num_batches),), \n",
    "    #             # ((1.000, 300),),\n",
    "    #             # ((0.158, 25),(0.1, 175),),\n",
    "    #             # ((0.158, 50),(0.1, 150),),\n",
    "    #             # ((0.158, 75),(0.1, 125),),\n",
    "    #             # ((0.158, 100),(0.1, 100),),\n",
    "    #             # ((0.158, 125),(0.1, 75),),\n",
    "    #             # ((1, 128),),\n",
    "    #             # (\"smooth\",)\n",
    "    #            ]\n",
    "    \n",
    "    teachers = [\n",
    "        # # ((0.018, num_batches),),\n",
    "        # ((0.032, num_batches),),\n",
    "        # # ((0.056, num_batches),),\n",
    "        # ((0.100, num_batches),),\n",
    "        # ((0.178, num_batches),),\n",
    "        # ((0.316, num_batches),),\n",
    "        # ((0.562, num_batches),),\n",
    "        # ((1.000, num_batches),),\n",
    "        # ((1.778, num_batches),),\n",
    "        # ((3.162, num_batches),),\n",
    "        # # ((5.623, num_batches),),\n",
    "        # ((10.000, num_batches),),\n",
    "        # # ((0.316, 50),(0.010, 150),),\n",
    "        # # (\"smooth\",),\n",
    "        \n",
    "        \n",
    "        \n",
    "        # [(0.010, nb)],\n",
    "        # [((0.010,0.032,0.100,0.316), nb)],\n",
    "        # [((0.316,0.100), nb//2),\n",
    "        #  ((0.032,0.010), nb//2)],\n",
    "        # [(0.316, nb//4),\n",
    "        #  (0.100, nb//4),\n",
    "        #  (0.032, nb//4),\n",
    "        #  (0.010, nb//4)],\n",
    "        \n",
    "        [(0.010, nb//4)],\n",
    "        [((0.010,0.100,1.000,10.00), nb)],\n",
    "        [((10.00,1.000), nb//2),\n",
    "         ((0.100,0.010), nb//2)],\n",
    "        [(10.00, nb//4),\n",
    "         (1.000, nb//4),\n",
    "         (0.100, nb//4),\n",
    "         (0.010, nb//4)],        \n",
    "        \n",
    "    ]\n",
    "    \n",
    "    # teachers = [\n",
    "    #         ((0.05, num_batches),),\n",
    "    #         ((0.10, num_batches),),\n",
    "    #         ((0.15, num_batches),),\n",
    "    #         ((0.20, num_batches),),\n",
    "    #         ((0.25, num_batches),),\n",
    "    #         ((0.30, num_batches),),\n",
    "    #         ((0.35, num_batches),),\n",
    "    #         ((0.40, num_batches),),\n",
    "    #         ((0.45, num_batches),),\n",
    "    #         ((0.50, num_batches),),\n",
    "    #        ]\n",
    "\n",
    "    \n",
    "        \n",
    "    t_ = list(teachers) * n\n",
    "    s_ = [student for _ in t_]\n",
    "    iters = [i for i,_ in enumerate(t_)]\n",
    "    \n",
    "    res = process_map(eval_training, iters, s_, t_, max_workers=21, chunksize=1)\n",
    "    \n",
    "    return res"
   ]
  },
  {
   "cell_type": "code",
   "execution_count": 312,
   "id": "bbf629dc",
   "metadata": {
    "tags": []
   },
   "outputs": [
    {
     "name": "stdout",
     "output_type": "stream",
     "text": [
      "CPU times: user 42 µs, sys: 0 ns, total: 42 µs\n",
      "Wall time: 52.5 µs\n"
     ]
    }
   ],
   "source": [
    "%%time\n",
    "def analyze(student, n, num_batches):\n",
    "    res = exp(student, n=n, nb=num_batches)\n",
    "    res2 = {}\n",
    "    for s, t, d in res:\n",
    "        s = f\"{s:.3f}\"\n",
    "        t = str(t)\n",
    "\n",
    "        if (s,t) not in res2:\n",
    "            res2[s,t] = [list(d.values())]\n",
    "        else:\n",
    "            res2[s,t].append(list(d.values()))\n",
    "\n",
    "    res2 = {k:list(np.array(v)) for k,v in res2.items()}\n",
    "    df = pd.DataFrame(res2.values())\n",
    "    df.index = res2.keys()\n",
    "    df.index.names = ('Student', 'Teacher')\n",
    "    df = df.melt(ignore_index=False, var_name='Exp', value_name='Perf')\n",
    "    with warnings.catch_warnings():\n",
    "        warnings.simplefilter(action='ignore', category=pd.errors.PerformanceWarning)\n",
    "        perf = df.Perf.tolist()\n",
    "        m = max([len(i) for i in perf])\n",
    "        perf = np.array([np.pad(i, (0,m-len(i)), constant_values=np.nan) for i in perf])\n",
    "        df[np.arange(m)] = perf\n",
    "    df = df.drop(columns='Perf')\n",
    "    df = df.reset_index().set_index(['Student','Teacher','Exp'])\n",
    "    df = df.melt(ignore_index=False, var_name='Batch', value_name='Perf').reset_index()\n",
    "    df['Teacher'] = df.Teacher.astype(str)\n",
    "    df2 = df.groupby(['Teacher','Batch']).Perf.mean().reset_index()\n",
    "    df2['Perf2'] = df2.groupby('Teacher')['Perf'].transform(lambda x: x.rolling(10,1).mean())\n",
    "    df2.Perf2 -= df2[df2.Batch==0].Perf2.mean()\n",
    "    df2.Perf -= df2[df2.Batch==0].Perf.mean()\n",
    "    return df2"
   ]
  },
  {
   "cell_type": "code",
   "execution_count": 316,
   "id": "a5f67eac",
   "metadata": {
    "tags": []
   },
   "outputs": [],
   "source": [
    "num_batches = 200\n",
    "\n",
    "# sub = [\n",
    "        # ((0.010, 80),),\n",
    "#         # ((0.018, num_batches),),\n",
    "#         # ((0.032, num_batches),),\n",
    "#         # ((0.056, num_batches),),\n",
    "#         ((0.100, num_batches),),\n",
    "#         # ((0.178, num_batches),),\n",
    "#         # ((0.316, num_batches),),\n",
    "#         # ((0.562, num_batches),),\n",
    "#         ((1.000, num_batches),),\n",
    "#         # ((1.778, num_batches),),\n",
    "#         # ((3.162, num_batches),),\n",
    "#         # ((5.623, num_batches),),\n",
    "#         ((10.000, num_batches),),\n",
    "#         # ((0.316, 25),(0.010, num_batches-25),),\n",
    "#         # (\"smooth\",),\n",
    "#     ]"
   ]
  },
  {
   "cell_type": "code",
   "execution_count": 317,
   "id": "4f87b282",
   "metadata": {
    "tags": []
   },
   "outputs": [
    {
     "data": {
      "application/vnd.jupyter.widget-view+json": {
       "model_id": "aa474d1d1ab64361a305e48ffc6c25bc",
       "version_major": 2,
       "version_minor": 0
      },
      "text/plain": [
       "  0%|          | 0/800 [00:00<?, ?it/s]"
      ]
     },
     "metadata": {},
     "output_type": "display_data"
    }
   ],
   "source": [
    "df2 = analyze(student=-1, n=200, num_batches=num_batches)"
   ]
  },
  {
   "cell_type": "code",
   "execution_count": 318,
   "id": "16989937",
   "metadata": {
    "tags": []
   },
   "outputs": [
    {
     "data": {
      "image/png": "[encoded data removed]",
      "text/plain": [
       "<Figure size 640x480 with 1 Axes>"
      ]
     },
     "metadata": {},
     "output_type": "display_data"
    }
   ],
   "source": [
    "with warnings.catch_warnings():\n",
    "    warnings.simplefilter(action='ignore', category=FutureWarning)\n",
    "    ax = sns.lineplot(df2[(df2.Batch<=1000)], x='Batch', y='Perf2', hue='Teacher', errorbar='se')\n",
    "    # ax = sns.lineplot(df2[df2.Teacher.isin(sub)], x='Batch', y='Perf2', hue='Teacher', errorbar='se')\n",
    "    # ax = sns.lineplot(df, x='Batch', y='Perf', hue='Teacher', errorbar='se')\n",
    "    sns.move_legend(ax, \"upper left\", bbox_to_anchor=(1, 1))\n",
    "    ax.set(\n",
    "        title='Performance Improvement in 2x2 Decision Space, Starting from Random Initializations, 20% bin error',\n",
    "        xlabel='Training Batches',\n",
    "        ylabel='Performance Improvement'\n",
    "    )"
   ]
  },
  {
   "cell_type": "code",
   "execution_count": null,
   "id": "94fe4f6f",
   "metadata": {},
   "outputs": [],
   "source": []
  },
  {
   "cell_type": "code",
   "execution_count": 217,
   "id": "3311fa05",
   "metadata": {
    "tags": []
   },
   "outputs": [
    {
     "data": {
      "image/png": "[encoded data removed]",
      "text/plain": [
       "<Figure size 640x480 with 1 Axes>"
      ]
     },
     "metadata": {},
     "output_type": "display_data"
    }
   ],
   "source": [
    "with warnings.catch_warnings():\n",
    "    warnings.simplefilter(action='ignore', category=FutureWarning)\n",
    "    ax = sns.lineplot(df2[(df2.Batch<=1000)], x='Batch', y='Perf2', hue='Teacher', errorbar='se')\n",
    "    # ax = sns.lineplot(df2[df2.Teacher.isin(sub)], x='Batch', y='Perf2', hue='Teacher', errorbar='se')\n",
    "    # ax = sns.lineplot(df, x='Batch', y='Perf', hue='Teacher', errorbar='se')\n",
    "    sns.move_legend(ax, \"upper left\", bbox_to_anchor=(1, 1))\n",
    "    ax.set(\n",
    "        title='Performance Improvement in 2x2 Decision Space, Starting from Random Initializations',\n",
    "        xlabel='Training Batches',\n",
    "        ylabel='Performance Improvement'\n",
    "    )"
   ]
  },
  {
   "cell_type": "code",
   "execution_count": null,
   "id": "8ad66d75",
   "metadata": {},
   "outputs": [],
   "source": []
  },
  {
   "cell_type": "code",
   "execution_count": null,
   "id": "9af18194",
   "metadata": {},
   "outputs": [],
   "source": []
  },
  {
   "cell_type": "code",
   "execution_count": null,
   "id": "7fcbf59e",
   "metadata": {},
   "outputs": [],
   "source": []
  },
  {
   "cell_type": "code",
   "execution_count": null,
   "id": "4b29def7",
   "metadata": {},
   "outputs": [],
   "source": []
  },
  {
   "cell_type": "code",
   "execution_count": null,
   "id": "f0f0923c",
   "metadata": {
    "tags": []
   },
   "outputs": [],
   "source": [
    "with warnings.catch_warnings():\n",
    "    warnings.simplefilter(action='ignore', category=FutureWarning)\n",
    "    ax = sns.lineplot(df2[(df2.Batch<=1000)], x='Batch', y='Perf2', hue='Teacher', errorbar='se')\n",
    "    # ax = sns.lineplot(df2[df2.Teacher.isin(sub)], x='Batch', y='Perf2', hue='Teacher', errorbar='se')\n",
    "    # ax = sns.lineplot(df, x='Batch', y='Perf', hue='Teacher', errorbar='se')\n",
    "    sns.move_legend(ax, \"upper left\", bbox_to_anchor=(1, 1))\n",
    "    ax.set(\n",
    "        title='Performance Improvement in 2x2 Decision Space, Starting from 1000 Model',\n",
    "        xlabel='Training Batches',\n",
    "        ylabel='Performance Improvement'\n",
    "    )"
   ]
  },
  {
   "cell_type": "code",
   "execution_count": null,
   "id": "c5593768",
   "metadata": {
    "tags": []
   },
   "outputs": [],
   "source": [
    "df2 = analyze(student=-1, n=50, num_batches=num_batches)"
   ]
  },
  {
   "cell_type": "code",
   "execution_count": null,
   "id": "3f32f96e",
   "metadata": {},
   "outputs": [],
   "source": [
    "with warnings.catch_warnings():\n",
    "    warnings.simplefilter(action='ignore', category=FutureWarning)\n",
    "    ax = sns.lineplot(df2[(df2.Batch<=1000) & df2.Teacher.isin(sub)], x='Batch', y='Perf2', hue='Teacher', errorbar='se')\n",
    "    # ax = sns.lineplot(df2[df2.Teacher.isin(sub)], x='Batch', y='Perf2', hue='Teacher', errorbar='se')\n",
    "    # ax = sns.lineplot(df, x='Batch', y='Perf', hue='Teacher', errorbar='se')\n",
    "    sns.move_legend(ax, \"upper left\", bbox_to_anchor=(1, 1))\n",
    "    ax.set(\n",
    "        title='Performance Improvement in 2x2 Decision Space, Starting from Random Initializations',\n",
    "        xlabel='Training Batches',\n",
    "        ylabel='Performance Improvement'\n",
    "    )"
   ]
  },
  {
   "cell_type": "code",
   "execution_count": null,
   "id": "352e7f5c",
   "metadata": {},
   "outputs": [],
   "source": []
  },
  {
   "cell_type": "code",
   "execution_count": null,
   "id": "078f48ce",
   "metadata": {},
   "outputs": [],
   "source": []
  },
  {
   "cell_type": "code",
   "execution_count": null,
   "id": "bde3422b",
   "metadata": {},
   "outputs": [],
   "source": [
    "list(currs)"
   ]
  },
  {
   "cell_type": "code",
   "execution_count": null,
   "id": "64b0e279",
   "metadata": {},
   "outputs": [],
   "source": []
  }
 ],
 "metadata": {
  "kernelspec": {
   "display_name": "base",
   "language": "python",
   "name": "base"
  },
  "language_info": {
   "codemirror_mode": {
    "name": "ipython",
    "version": 3
   },
   "file_extension": ".py",
   "mimetype": "text/x-python",
   "name": "python",
   "nbconvert_exporter": "python",
   "pygments_lexer": "ipython3",
   "version": "3.10.12"
  }
 },
 "nbformat": 4,
 "nbformat_minor": 5
}
