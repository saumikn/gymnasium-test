{
 "cells": [
  {
   "cell_type": "code",
   "execution_count": 1,
   "id": "766b7803-b252-47da-8afc-5f6783a18118",
   "metadata": {
    "tags": []
   },
   "outputs": [],
   "source": [
    "%load_ext line_profiler"
   ]
  },
  {
   "cell_type": "code",
   "execution_count": 2,
   "id": "86d00c2c-2468-406c-856e-3a39537a231d",
   "metadata": {
    "tags": []
   },
   "outputs": [],
   "source": [
    "from collections import Counter\n",
    "\n",
    "import numpy as np\n",
    "rng = np.random.default_rng()\n",
    "np.set_printoptions(suppress=True, linewidth=150)\n",
    "from tqdm import tqdm, trange\n",
    "from tqdm.contrib.concurrent import process_map"
   ]
  },
  {
   "cell_type": "code",
   "execution_count": null,
   "id": "d020d0f5-abe1-4c97-9ffb-3abb14042ee0",
   "metadata": {
    "tags": []
   },
   "outputs": [],
   "source": []
  },
  {
   "cell_type": "code",
   "execution_count": 25,
   "id": "a374c48a-0b91-4621-b939-9551d948b20d",
   "metadata": {
    "tags": []
   },
   "outputs": [],
   "source": [
    "def make_model(map_size=5, num_nodes=128, num_dense=4):    \n",
    "    inputs = tf.keras.layers.Input(shape=(map_size*map_size+map_size+1))\n",
    "    x = tf.keras.layers.Flatten()(inputs)\n",
    "    \n",
    "    for _ in range(num_dense):\n",
    "        x = tf.keras.layers.Dense(num_nodes, activation='relu')(x)\n",
    "    \n",
    "    # output1 = tf.keras.layers.Dense(5, name='Y0')(x)\n",
    "    # output2 = tf.keras.layers.Dense(5, name='Y1')(x)\n",
    "    # model = tf.keras.models.Model(inputs=inputs, outputs=[output1, output2])\n",
    "    \n",
    "    output1 = tf.keras.layers.Dense(5, name='Y0')(x)\n",
    "    output1 = tf.keras.layers.Softmax()(output1)\n",
    "    model = tf.keras.models.Model(inputs=inputs, outputs=output1)\n",
    "\n",
    "    \n",
    "    loss_fn = tf.keras.losses.SparseCategoricalCrossentropy(from_logits=False)\n",
    "    model.compile(optimizer='adam', loss=loss_fn, metrics=['accuracy'])\n",
    "    return model"
   ]
  },
  {
   "cell_type": "code",
   "execution_count": null,
   "id": "0bfd0a55-645e-445e-8cbf-3488db7fcfeb",
   "metadata": {},
   "outputs": [],
   "source": []
  },
  {
   "cell_type": "code",
   "execution_count": 3,
   "id": "34454261-d18f-4042-a88f-ca9c5437d4ae",
   "metadata": {
    "tags": []
   },
   "outputs": [],
   "source": [
    "def softmax(x, b, axis=-1):\n",
    "    x = x - np.max(x)\n",
    "    return np.exp(b*x) / np.exp(b*x).sum(axis=axis, keepdims=True)"
   ]
  },
  {
   "cell_type": "code",
   "execution_count": null,
   "id": "d6712aa0-5ff7-4cef-a21f-8313df019fb1",
   "metadata": {},
   "outputs": [],
   "source": []
  },
  {
   "cell_type": "code",
   "execution_count": 4,
   "id": "22b1d6d9-9d64-4dee-b971-bd3dfedb6bfe",
   "metadata": {},
   "outputs": [],
   "source": [
    "def make_x():\n",
    "    x = arrs\n",
    "    \n",
    "    rand = np.random.random(arrs.shape)\n",
    "    rand = (rand - 0.5) * 2 / 10\n",
    "    x = x + rand\n",
    "    \n",
    "    x = rng.permuted(x, axis=-1)\n",
    "    return x\n",
    "\n",
    "def eval_model(model, n = 1):\n",
    "    rewards = []\n",
    "    for _ in range(n):\n",
    "        x = make_x()\n",
    "        x_tree = np.concatenate([np.eye(6).astype(int), np.tile(x.flatten(), (6,1))], axis=1)\n",
    "        y_pred = model(x_tree)\n",
    "        branch_rewards = (x_tree[0,6:].reshape(5,5) * y_pred[1:].numpy()).sum(axis=1)\n",
    "        reward = (y_pred[0] * branch_rewards).numpy().sum()\n",
    "        rewards.append(reward)\n",
    "    return np.mean(rewards)\n",
    "\n",
    "def make_data(n, b=1, arr=[10,0,0,0,0], disable=False):\n",
    "    X, Y = [], []\n",
    "    \n",
    "    \n",
    "    for _ in trange(n, disable=disable):\n",
    "        x = make_x()\n",
    "        r1 = (softmax(x, b) * x)\n",
    "\n",
    "        \n",
    "        x0 = [1,0,0,0,0,0] + list(x.flatten())\n",
    "        y0 = rng.choice(np.arange(5), p=softmax((softmax(x, b) * x).sum(axis=1), b))\n",
    "        \n",
    "        pos = [0,0,0,0,0,0]\n",
    "        pos[y0+1] = 1\n",
    "        x1 = pos + list(x.flatten())\n",
    "        y1 = rng.choice(np.arange(5), p=softmax(x, b)[y0])\n",
    "\n",
    "\n",
    "        X.append(x0)\n",
    "        Y.append(y0)\n",
    "        X.append(x1)\n",
    "        Y.append(y1)\n",
    "    \n",
    "    X = np.array(X)\n",
    "    Y = np.array(Y)\n",
    "    \n",
    "    return X,Y"
   ]
  },
  {
   "cell_type": "code",
   "execution_count": 28,
   "id": "c42f4a09-27cb-411b-9ded-d0a578682d92",
   "metadata": {},
   "outputs": [],
   "source": [
    "import tensorflow as tf\n",
    "from tensorflow.keras import backend as K\n",
    "for gpu in tf.config.list_physical_devices('GPU'):\n",
    "    tf.config.experimental.set_memory_growth(gpu, True)"
   ]
  },
  {
   "cell_type": "code",
   "execution_count": null,
   "id": "4c4da54f-0bf4-4b12-8c58-3455515b73f3",
   "metadata": {},
   "outputs": [],
   "source": []
  },
  {
   "cell_type": "code",
   "execution_count": 32,
   "id": "b3136aa0-bc17-4a12-aec3-4b8098579f82",
   "metadata": {
    "tags": []
   },
   "outputs": [
    {
     "name": "stderr",
     "output_type": "stream",
     "text": [
      "100%|██████████| 64000/64000 [00:09<00:00, 7021.84it/s]\n"
     ]
    },
    {
     "name": "stdout",
     "output_type": "stream",
     "text": [
      "4000/4000 [==============================] - 6s 1ms/step - loss: 1.2892 - accuracy: 0.4342\n",
      "Starting: 0.4 11.183\n"
     ]
    }
   ],
   "source": [
    "model = make_model()\n",
    "\n",
    "student = 0.4\n",
    "Xtrain, Ytrain = make_data(64000, b=student)\n",
    "model.fit(Xtrain, Ytrain)\n",
    "reward = eval_model(model, 1000)\n",
    "print(f\"Starting: {student} {reward:.3f}\")\n",
    "# model.save('starting4.keras')"
   ]
  },
  {
   "cell_type": "code",
   "execution_count": null,
   "id": "fedcb5c9-77ea-48b4-b6a5-05223a5dac0a",
   "metadata": {},
   "outputs": [],
   "source": []
  },
  {
   "cell_type": "code",
   "execution_count": null,
   "id": "e4323f7d-0d09-4854-a808-3d8c8988ee0a",
   "metadata": {},
   "outputs": [],
   "source": []
  },
  {
   "cell_type": "code",
   "execution_count": null,
   "id": "1ed42634-10c5-4475-b89f-0db4f6a77b21",
   "metadata": {
    "tags": []
   },
   "outputs": [
    {
     "name": "stderr",
     "output_type": "stream",
     "text": [
      "100%|██████████| 320000/320000 [00:46<00:00, 6915.80it/s]\n"
     ]
    },
    {
     "name": "stdout",
     "output_type": "stream",
     "text": [
      " 8529/20000 [===========>..................] - ETA: 16s - loss: 1.6110 - accuracy: 0.2085"
     ]
    }
   ],
   "source": [
    "model = make_model()\n",
    "\n",
    "student = 0.04\n",
    "Xtrain, Ytrain = make_data(320000, b=student)\n",
    "model.fit(Xtrain, Ytrain)\n",
    "reward = eval_model(model, 1000)\n",
    "print(f\"Starting: {student} {reward:.3f}\")\n",
    "model.save('starting04.keras')"
   ]
  },
  {
   "cell_type": "code",
   "execution_count": null,
   "id": "6ff09ac6-6397-4ec4-a545-d006daffa337",
   "metadata": {},
   "outputs": [],
   "source": []
  },
  {
   "cell_type": "code",
   "execution_count": null,
   "id": "79e0cb84-cc26-4e43-9f9e-ed240ff9daca",
   "metadata": {},
   "outputs": [],
   "source": []
  },
  {
   "cell_type": "code",
   "execution_count": null,
   "id": "3b03e330-f8e7-4105-92d1-b75ae611b802",
   "metadata": {
    "tags": []
   },
   "outputs": [],
   "source": [
    "model2 = tf.keras.models.load_model('starting04.keras')\n",
    "\n",
    "student = 0.4\n",
    "\n",
    "Xtrain, Ytrain = make_data(64000, b=student)\n",
    "model2.fit(Xtrain, Ytrain)\n",
    "reward = eval_model(model2, 1000)\n",
    "print(f\"Starting: {student} {reward:.3f}\")\n",
    "# model.save('starting4.keras')"
   ]
  },
  {
   "cell_type": "code",
   "execution_count": null,
   "id": "ee7d2ef6-239f-485a-a75e-c9d5079a8ea8",
   "metadata": {},
   "outputs": [],
   "source": []
  },
  {
   "cell_type": "code",
   "execution_count": null,
   "id": "e54a2f1e-c062-49d7-82f5-0bec89c7f846",
   "metadata": {
    "tags": []
   },
   "outputs": [],
   "source": [
    "# student = 0.4\n",
    "# Xtrain, Ytrain = make_data(64000, b=student)\n",
    "\n",
    "model.fit(Xtrain, Ytrain)\n",
    "reward = eval_model(model, 1000)\n",
    "print(f\"Starting: {student} {reward:.3f}\")\n",
    "# model.save('starting4.keras')"
   ]
  },
  {
   "cell_type": "code",
   "execution_count": null,
   "id": "7f364752-7dfc-4f01-a688-2fc2f24999d2",
   "metadata": {},
   "outputs": [],
   "source": []
  },
  {
   "cell_type": "code",
   "execution_count": null,
   "id": "b9bef202-e96c-4616-a95e-25d0c215cdf8",
   "metadata": {},
   "outputs": [],
   "source": []
  },
  {
   "cell_type": "code",
   "execution_count": null,
   "id": "27bf737d-d614-4034-99fb-2548903c1031",
   "metadata": {},
   "outputs": [],
   "source": []
  },
  {
   "cell_type": "code",
   "execution_count": 34,
   "id": "eec394f9-015f-4ea9-9fa4-9cf59e335281",
   "metadata": {
    "tags": []
   },
   "outputs": [
    {
     "name": "stderr",
     "output_type": "stream",
     "text": [
      "100%|██████████| 64000/64000 [00:08<00:00, 7261.61it/s]\n"
     ]
    },
    {
     "name": "stdout",
     "output_type": "stream",
     "text": [
      "4000/4000 [==============================] - 6s 1ms/step - loss: 1.5797 - accuracy: 0.2822\n",
      "Starting: 0.4 6.135\n"
     ]
    }
   ],
   "source": [
    "model = tf.keras.models.load_model('starting04.keras')\n",
    "loss_fn = tf.keras.losses.SparseCategoricalCrossentropy(from_logits=False)\n",
    "model.compile(optimizer='adam', loss=loss_fn, metrics=['accuracy'])\n",
    "\n",
    "\n",
    "student = 0.4\n",
    "\n",
    "Xtrain, Ytrain = make_data(64000, b=student)\n",
    "model.fit(Xtrain, Ytrain)\n",
    "reward = eval_model(model, 1000)\n",
    "print(f\"Starting: {student} {reward:.3f}\")\n",
    "# model.save('starting4.keras')"
   ]
  },
  {
   "cell_type": "code",
   "execution_count": null,
   "id": "82152d2c-0ed6-4d8b-a8b9-402afce75f65",
   "metadata": {},
   "outputs": [],
   "source": []
  },
  {
   "cell_type": "code",
   "execution_count": 49,
   "id": "c80b30d6-2466-4fc7-bda8-ad0a77b2c2ed",
   "metadata": {
    "tags": []
   },
   "outputs": [
    {
     "data": {
      "text/plain": [
       "array([[10, 10, 10, 10, 10],\n",
       "       [ 0, 11, 11, 11, 11],\n",
       "       [ 0,  0, 12, 12, 12],\n",
       "       [ 0,  0,  0, 13, 13],\n",
       "       [ 0,  0,  0,  0, 14]])"
      ]
     },
     "execution_count": 49,
     "metadata": {},
     "output_type": "execute_result"
    }
   ],
   "source": [
    "ns = [0,5,5,6,7,8,9,10,11,12,13,14,15]\n",
    "\n",
    "students = np.linspace(0, 0.2, 11)\n",
    "\n",
    "\n",
    "arrs = np.triu(np.tile(np.arange(10, 15),(5,1)).T)\n",
    "arrs"
   ]
  },
  {
   "cell_type": "code",
   "execution_count": 55,
   "id": "d1d3da8b-adec-4385-baf8-b270791edcaa",
   "metadata": {
    "tags": []
   },
   "outputs": [
    {
     "data": {
      "text/plain": [
       "6.8"
      ]
     },
     "execution_count": 55,
     "metadata": {},
     "output_type": "execute_result"
    }
   ],
   "source": [
    "arrs.mean()"
   ]
  },
  {
   "cell_type": "code",
   "execution_count": null,
   "id": "02b9e197-f4be-428c-9f4d-da3c1bf4117b",
   "metadata": {},
   "outputs": [],
   "source": []
  },
  {
   "cell_type": "code",
   "execution_count": 50,
   "id": "269f7bff-7ea5-4da5-a8dc-f3a9cf16a51d",
   "metadata": {
    "tags": []
   },
   "outputs": [],
   "source": [
    "def eval_training(b):\n",
    "    \n",
    "    import tensorflow as tf\n",
    "    from tensorflow.keras import backend as K\n",
    "    for gpu in tf.config.list_physical_devices('GPU'):\n",
    "        tf.config.experimental.set_memory_growth(gpu, True)\n",
    "\n",
    "    \n",
    "    model2 = tf.keras.models.load_model('starting04.keras')\n",
    "    # print(f\"{b:.2f}\", end=':    ')\n",
    "    nsum = 0\n",
    "    \n",
    "    rewards = []\n",
    "    for i in ns:\n",
    "        if i != 0:\n",
    "            n = 2**i\n",
    "            nsum += n\n",
    "            X, Y = make_data(n, b=b, disable=True)\n",
    "            model2.fit(X,Y, verbose=False)\n",
    "            \n",
    "        reward = eval_model(model2, 1000)\n",
    "        rewards.append(reward)\n",
    "        print(f\"{nsum}    \", end='\\r')\n",
    "    return rewards"
   ]
  },
  {
   "cell_type": "code",
   "execution_count": null,
   "id": "3dde404f-6ab3-434f-8597-193279d4ab49",
   "metadata": {},
   "outputs": [],
   "source": []
  },
  {
   "cell_type": "code",
   "execution_count": 51,
   "id": "2a66b29e-41df-446c-89c7-ad0670393fe5",
   "metadata": {
    "tags": []
   },
   "outputs": [
    {
     "name": "stdout",
     "output_type": "stream",
     "text": [
      "b = 0.00         \n",
      "65536     0    32    32    64    64    256    256    256    256    512    512    512    512    2048    2048    4096    4096    4096    4096    8192    8192    8192    8192    16384    16384    32768    32768    32768    65536    \n",
      "b = 0.02         \n",
      "65536     0    64    64    64    64    128    128    128    128    256    256    512    512    512    512    512    512    2048    2048    8192    8192    16384    16384    16384    32768    32768    32768    32768    32768    32768    32768    65536    65536    65536    65536    \n",
      "b = 0.04         \n",
      "65536       32    32    32    64    64    128    128    128    128    128    128    2048    2048    8192    8192    16384    16384    16384    16384    16384    16384    32768    32768    \n",
      "b = 0.06         \n",
      "65536     0    32    32    64    64    64    64    256    256    2048    2048    16384    16384    \n",
      "b = 0.08         \n",
      "65536       32    32    32    1024    1024    2048    2048    32768    65536    \n",
      "b = 0.10         \n",
      "65536     0    0    0    32    64    64    64    128    128    256    256    512    512    512    512    1024    1024    16384    16384    32768    32768    65536    65536    65536    65536    \n",
      "b = 0.12         \n",
      "65536     0    64    64    64    64    256    256    1024    1024    4096    4096    16384    16384    32768    32768    32768    32768    65536    65536    65536    65536    65536    65536    \n",
      "b = 0.14         \n",
      "65536     0    32    32    64    64    128    128    512    512    4096    4096    8192    8192    8192    8192    65536    65536    \n",
      "b = 0.16         \n",
      "65536     0    32    32    32    32    64    64    64    64    128    128    128    128    256    256    512    512    512    512    1024    1024    2048    2048    2048    2048    4096    4096    8192    8192    8192    8192    16384    16384    16384    16384    16384    16384    16384    32768    65536    65536    65536    \n",
      "b = 0.18         \n",
      "65536       64    128    128    128    128    256    256    256    256    512    512    512    512    512    512    512    512    16384    16384    32768    32768    65536    65536    \n",
      "b = 0.20         \n",
      "65536     0    0    32    256    256    512    512    4096    4096    8192    16384    16384    32768    32768    32768    65536    65536    \n",
      "CPU times: user 2.85 s, sys: 3.88 s, total: 6.73 s\n",
      "Wall time: 31min 27s\n"
     ]
    }
   ],
   "source": [
    "%%time\n",
    "\n",
    "all_res = []\n",
    "for b in students:\n",
    "    print(f\"b = {b:.2f} \")\n",
    "    res = process_map(eval_training, [b]*20, max_workers=30, disable=True)\n",
    "    res = np.array(res).mean(axis=0)\n",
    "    all_res.append(res)\n",
    "    print()\n",
    "all_res = np.array(all_res)"
   ]
  },
  {
   "cell_type": "code",
   "execution_count": 52,
   "id": "57bd618c-e94b-4529-a670-4a5ebad5483e",
   "metadata": {
    "tags": []
   },
   "outputs": [
    {
     "data": {
      "text/plain": [
       "array([[6.9 , 6.9 , 6.91, 6.91, 6.91, 6.9 , 6.89, 6.88, 6.87, 6.82, 6.81, 6.81, 6.78],\n",
       "       [6.9 , 6.9 , 6.91, 6.91, 6.91, 6.91, 6.9 , 6.9 , 6.9 , 6.86, 6.86, 6.88, 6.85],\n",
       "       [6.9 , 6.9 , 6.91, 6.91, 6.91, 6.91, 6.91, 6.91, 6.92, 6.9 , 6.9 , 6.93, 6.9 ],\n",
       "       [6.9 , 6.9 , 6.91, 6.91, 6.91, 6.91, 6.91, 6.92, 6.94, 6.93, 6.95, 6.97, 6.94],\n",
       "       [6.9 , 6.9 , 6.91, 6.91, 6.91, 6.91, 6.91, 6.93, 6.95, 6.93, 6.98, 7.  , 7.02],\n",
       "       [6.9 , 6.9 , 6.91, 6.91, 6.91, 6.91, 6.91, 6.92, 6.95, 6.93, 6.99, 7.04, 7.06],\n",
       "       [6.9 , 6.9 , 6.91, 6.91, 6.91, 6.91, 6.91, 6.92, 6.93, 6.9 , 6.99, 7.04, 7.15],\n",
       "       [6.9 , 6.9 , 6.91, 6.91, 6.91, 6.91, 6.9 , 6.9 , 6.91, 6.9 , 7.  , 7.06, 7.24],\n",
       "       [6.9 , 6.9 , 6.91, 6.91, 6.9 , 6.9 , 6.89, 6.88, 6.87, 6.88, 6.96, 7.09, 7.75],\n",
       "       [6.9 , 6.9 , 6.91, 6.91, 6.9 , 6.9 , 6.89, 6.85, 6.83, 6.83, 6.94, 7.11, 8.31],\n",
       "       [6.9 , 6.9 , 6.91, 6.91, 6.9 , 6.89, 6.87, 6.81, 6.8 , 6.79, 6.93, 7.18, 8.58]], dtype=float32)"
      ]
     },
     "execution_count": 52,
     "metadata": {},
     "output_type": "execute_result"
    }
   ],
   "source": [
    "all_res.round(2)"
   ]
  },
  {
   "cell_type": "code",
   "execution_count": null,
   "id": "164544ac-34af-4add-a6fe-0765fcef370e",
   "metadata": {},
   "outputs": [],
   "source": []
  },
  {
   "cell_type": "code",
   "execution_count": 54,
   "id": "912c55f5-5006-4164-89fa-192dd6834870",
   "metadata": {
    "tags": []
   },
   "outputs": [
    {
     "name": "stdout",
     "output_type": "stream",
     "text": [
      "Original Student: b=0.04\n",
      "\n",
      "         Curriculum Size\n",
      "Teacher         0      32      64     128     256     512    1024    2048    4096    8192   16384   32768   65536  \n",
      "   0.00     6.904   6.905   6.907   6.908   6.906   6.902   6.891   6.879   6.867   6.817   6.806   6.810   6.780   \n",
      "   0.02     6.904   6.905   6.907   6.908   6.907   6.908   6.901   6.901   6.900   6.862   6.856   6.881   6.850   \n",
      "   0.04     6.904   6.905   6.907   6.908   6.908   6.909   6.907   6.915   6.916   6.898   6.903   6.934   6.900   \n",
      "   0.06     6.904   6.905   6.907   6.909   6.909   6.911   6.911   6.925   6.936   6.927   6.948   6.973   6.944   \n",
      "   0.08     6.904   6.905   6.907   6.909   6.908   6.910   6.915   6.928   6.949   6.933   6.978   6.999   7.016   \n",
      "   0.10     6.904   6.905   6.907   6.909   6.908   6.911   6.914   6.925   6.948   6.927   6.990   7.037   7.057   \n",
      "   0.12     6.904   6.905   6.907   6.908   6.908   6.909   6.911   6.918   6.931   6.901   6.995   7.035   7.149   \n",
      "   0.14     6.904   6.905   6.907   6.908   6.907   6.907   6.903   6.901   6.907   6.898   7.003   7.063   7.240   \n",
      "   0.16     6.904   6.904   6.906   6.907   6.905   6.903   6.895   6.877   6.867   6.882   6.955   7.095   7.748   \n",
      "   0.18     6.904   6.905   6.906   6.907   6.904   6.901   6.886   6.853   6.828   6.828   6.940   7.113   8.311   \n",
      "   0.20     6.904   6.904   6.906   6.906   6.903   6.895   6.872   6.809   6.799   6.794   6.926   7.180   8.580   \n"
     ]
    }
   ],
   "source": [
    "print('Original Student: b=0.04')\n",
    "\n",
    "print()\n",
    "print('         Curriculum Size')\n",
    "\n",
    "print('Teacher    ', end='')\n",
    "nsum = 0\n",
    "for i in ns:\n",
    "    if i: nsum += 2**i\n",
    "    print(f\"{nsum:>6}\", end='  ')\n",
    "print()\n",
    "\n",
    "for row, b in zip(all_res, students):\n",
    "    print(f\"   {b:.2f}\", end='     ')\n",
    "    for rew in row:\n",
    "        print(f\"{rew:5.3f}\", end='   ')\n",
    "    print()"
   ]
  },
  {
   "cell_type": "raw",
   "id": "88241052-a21e-480b-8104-67a3b3f32c09",
   "metadata": {},
   "source": []
  },
  {
   "cell_type": "code",
   "execution_count": null,
   "id": "128ce941-0db5-4e4b-8a3f-dc541095a247",
   "metadata": {},
   "outputs": [],
   "source": []
  },
  {
   "cell_type": "code",
   "execution_count": 17,
   "id": "8c5e8fbc-d8c5-4f0f-893a-9932250f2d63",
   "metadata": {},
   "outputs": [
    {
     "data": {
      "text/plain": [
       "(21, 15)"
      ]
     },
     "execution_count": 17,
     "metadata": {},
     "output_type": "execute_result"
    }
   ],
   "source": [
    "all_res.shape"
   ]
  },
  {
   "cell_type": "code",
   "execution_count": null,
   "id": "3ff41152-2614-44fb-88c3-83639988cfa5",
   "metadata": {},
   "outputs": [],
   "source": []
  },
  {
   "cell_type": "code",
   "execution_count": null,
   "id": "c3f0fc4d-96a2-4018-8746-d66c6e157c5e",
   "metadata": {},
   "outputs": [],
   "source": []
  },
  {
   "cell_type": "code",
   "execution_count": 17,
   "id": "8122535f-9fed-42af-a682-815585eada18",
   "metadata": {},
   "outputs": [
    {
     "data": {
      "text/plain": [
       "array([ 8.536117,  8.566498,  8.590255,  8.668965,  8.831114,  9.14156 ,  9.754227,  9.883101,  9.898097, 10.007944, 10.061784], dtype=float32)"
      ]
     },
     "execution_count": 17,
     "metadata": {},
     "output_type": "execute_result"
    }
   ],
   "source": [
    "res.mean(axis=0)"
   ]
  },
  {
   "cell_type": "code",
   "execution_count": null,
   "id": "dc3fe280-90ee-43b7-8602-297b30ea7ce9",
   "metadata": {},
   "outputs": [],
   "source": [
    "%%time\n",
    "%lprun -f eval_model eval_model(model2, 1000)"
   ]
  },
  {
   "cell_type": "code",
   "execution_count": null,
   "id": "f4466c67-4b7e-4c21-8283-585851b1c166",
   "metadata": {},
   "outputs": [],
   "source": []
  },
  {
   "cell_type": "code",
   "execution_count": null,
   "id": "55c1c246-829a-4340-af7b-5bb8294e48ed",
   "metadata": {
    "tags": []
   },
   "outputs": [],
   "source": []
  },
  {
   "cell_type": "code",
   "execution_count": null,
   "id": "60878b0b-f30b-4a56-95f8-8af2f641e814",
   "metadata": {
    "tags": []
   },
   "outputs": [],
   "source": [
    "branch_rewards = (xtest[0,6:].reshape(5,5) * ypred[1:].numpy()).sum(axis=1)\n",
    "\n",
    "reward = (ypred[0] * branch_rewards).numpy().sum()\n",
    "\n",
    "\n",
    "reward"
   ]
  },
  {
   "cell_type": "code",
   "execution_count": null,
   "id": "8b58b1c7-e9e0-4c2a-b819-05f50a15adec",
   "metadata": {},
   "outputs": [],
   "source": []
  },
  {
   "cell_type": "code",
   "execution_count": null,
   "id": "9a20a580-d770-4319-b59f-4fc396a29fa1",
   "metadata": {},
   "outputs": [],
   "source": []
  },
  {
   "cell_type": "code",
   "execution_count": null,
   "id": "91679f61-8906-4666-ac2f-087b93052567",
   "metadata": {
    "tags": []
   },
   "outputs": [],
   "source": [
    "arrs.flatten()"
   ]
  },
  {
   "cell_type": "code",
   "execution_count": null,
   "id": "3da784a1-850d-47f5-8145-8ededf520e55",
   "metadata": {},
   "outputs": [],
   "source": []
  },
  {
   "cell_type": "code",
   "execution_count": null,
   "id": "95940a64-8449-4016-8053-1aa9114df56d",
   "metadata": {
    "tags": []
   },
   "outputs": [],
   "source": [
    "print('            ', end='')\n",
    "for b in np.linspace(0,0.4,21):\n",
    "    print(f\"{b:5.2f}\", end=' ')\n",
    "print()\n",
    "for arr in arrs:\n",
    "    n = 100000\n",
    "    x = np.random.random((n,5))\n",
    "    x = (x - 0.5) * 2 + np.array(arr)\n",
    "    x = rng.permuted(x, axis=-1)\n",
    "    \n",
    "    print(arr, end=' ')\n",
    "    for b in np.linspace(0,0.4,21):\n",
    "        r = (softmax(x,b) * x).sum(axis=1).mean()\n",
    "        # print(f\"{b:.1f} {r:.3f}\", end=' ')\n",
    "        print(f\"{r:5.2f}\", end=' ')\n",
    "    print()"
   ]
  },
  {
   "cell_type": "code",
   "execution_count": null,
   "id": "2676ce12-28c7-495e-8f81-03c471101f8b",
   "metadata": {},
   "outputs": [],
   "source": []
  },
  {
   "cell_type": "code",
   "execution_count": null,
   "id": "31e240ac-f7fa-4d59-ba54-b1a2ba088482",
   "metadata": {
    "tags": []
   },
   "outputs": [],
   "source": [
    "arrs"
   ]
  },
  {
   "cell_type": "code",
   "execution_count": null,
   "id": "ec19d40a-14cd-4807-9a5a-d0afe16b2a37",
   "metadata": {},
   "outputs": [],
   "source": [
    "(softmax(arrs, 0.1) * arrs).sum(axis=1)"
   ]
  },
  {
   "cell_type": "code",
   "execution_count": null,
   "id": "e3349eba-1563-4044-ad31-d36b138c644e",
   "metadata": {},
   "outputs": [],
   "source": []
  },
  {
   "cell_type": "code",
   "execution_count": null,
   "id": "d1a80441-e519-4f66-9b5d-e8ec0f9cf2c1",
   "metadata": {
    "tags": []
   },
   "outputs": [],
   "source": [
    "def make_model(map_size=5, num_nodes=32, num_dense=3):    \n",
    "    inputs = tf.keras.layers.Input(shape=(map_size))\n",
    "    x = tf.keras.layers.Flatten()(inputs)\n",
    "    for _ in range(num_dense):\n",
    "        x = tf.keras.layers.Dense(num_nodes, activation='relu')(x)\n",
    "    output1 = tf.keras.layers.Dense(5, name='Y0')(x)\n",
    "    model = tf.keras.models.Model(inputs=inputs, outputs=[output1])\n",
    "    loss_fn = tf.keras.losses.SparseCategoricalCrossentropy(from_logits=True)\n",
    "    model.compile(optimizer='adam', loss=loss_fn, metrics=['accuracy'])\n",
    "    return model"
   ]
  },
  {
   "cell_type": "code",
   "execution_count": null,
   "id": "c2f38388-7892-4757-90cf-27b2d085670a",
   "metadata": {},
   "outputs": [],
   "source": []
  },
  {
   "cell_type": "code",
   "execution_count": null,
   "id": "12cea473-dbed-4327-a7f6-44ce459d6614",
   "metadata": {
    "tags": []
   },
   "outputs": [],
   "source": [
    "arrs = np.triu(np.tile(np.arange(10, 15),(5,1)).T)\n",
    "arrs"
   ]
  },
  {
   "cell_type": "code",
   "execution_count": null,
   "id": "66e6a085-d037-4d89-8795-3cf08daade46",
   "metadata": {
    "tags": []
   },
   "outputs": [],
   "source": [
    "%%time\n",
    "b = 1\n",
    "\n",
    "all_res = []\n",
    "for arr in arrs:\n",
    "    xtest, ytest = make_data(32000, b, arr)\n",
    "    # print(arr, end=' ')\n",
    "    \n",
    "    res = []\n",
    "    \n",
    "    for i in range(10):\n",
    "        # print(i, end='\\r')\n",
    "        res.append([])\n",
    "        model = make_model()\n",
    "        nsum = 0\n",
    "        for n in [None, 5, 5, 6, 7, 8, 9, 10, 11, 12, 13]:\n",
    "            if n:\n",
    "                n = 2**n\n",
    "                # n *= 5 - (arr == 0).sum()\n",
    "                nsum += n\n",
    "                x, y = make_data(n, b, arr)\n",
    "                model.fit(x, y, verbose=False)\n",
    "            reward = (softmax(model(xtest),1) * xtest).sum(axis=1).mean()\n",
    "            res[-1].append(reward)\n",
    "    res = np.array(res)\n",
    "    res = res.mean(axis=0)\n",
    "    all_res.append(res)\n",
    "np.array(all_res).round(1)\n",
    " "
   ]
  },
  {
   "cell_type": "code",
   "execution_count": null,
   "id": "1aabeb4a-ca3d-46c8-9703-b8ba5bf751ee",
   "metadata": {},
   "outputs": [],
   "source": []
  },
  {
   "cell_type": "code",
   "execution_count": null,
   "id": "2a331506-9f75-4d44-a902-2684d79bcf25",
   "metadata": {},
   "outputs": [],
   "source": [
    "\n",
    "## give 888 3x as much data\n",
    "\n",
    "np.array(all_res).round(1)"
   ]
  },
  {
   "cell_type": "code",
   "execution_count": null,
   "id": "0d5e9de3-0148-4a68-91c5-c46e5ba02b9b",
   "metadata": {
    "tags": []
   },
   "outputs": [],
   "source": [
    "(5 - (arr == 0).sum())"
   ]
  },
  {
   "cell_type": "code",
   "execution_count": null,
   "id": "a649e32c-577e-4d44-b58a-fe2a41e24775",
   "metadata": {},
   "outputs": [],
   "source": []
  },
  {
   "cell_type": "code",
   "execution_count": null,
   "id": "8bf38294-5470-4559-8d77-bbed6dd5c97e",
   "metadata": {},
   "outputs": [],
   "source": []
  },
  {
   "cell_type": "code",
   "execution_count": null,
   "id": "8d3f95d4-2a28-49c3-88dd-a19be50398d1",
   "metadata": {},
   "outputs": [],
   "source": []
  },
  {
   "cell_type": "code",
   "execution_count": null,
   "id": "2b8e7a73-58fc-4273-b6f4-1c32d4f5656c",
   "metadata": {
    "tags": []
   },
   "outputs": [],
   "source": [
    "model = make_model()"
   ]
  },
  {
   "cell_type": "code",
   "execution_count": null,
   "id": "eb7e6b48-3942-403e-ba68-1182cd79649a",
   "metadata": {
    "tags": []
   },
   "outputs": [],
   "source": [
    "(softmax(model(xtest),1) * xtest).sum(axis=1).mean()"
   ]
  },
  {
   "cell_type": "code",
   "execution_count": null,
   "id": "0fc91854-f950-4ae2-90bd-699f12811cae",
   "metadata": {
    "tags": []
   },
   "outputs": [],
   "source": [
    "(softmax(xtest,1) * xtest).sum(axis=1).mean()"
   ]
  },
  {
   "cell_type": "code",
   "execution_count": null,
   "id": "583e20f7-3c2e-489e-acc2-c23c702ff812",
   "metadata": {},
   "outputs": [],
   "source": []
  },
  {
   "cell_type": "code",
   "execution_count": null,
   "id": "2a0d9ced-9a88-4b79-9c4f-adf777a6ad95",
   "metadata": {
    "tags": []
   },
   "outputs": [],
   "source": [
    "softmax(model(xtest),100)"
   ]
  },
  {
   "cell_type": "code",
   "execution_count": null,
   "id": "a25527c1-87a0-47d9-ab72-8c0cd07da0bf",
   "metadata": {},
   "outputs": [],
   "source": []
  },
  {
   "cell_type": "code",
   "execution_count": null,
   "id": "13d61811-bf84-4557-a62c-25cfb1727a79",
   "metadata": {
    "tags": []
   },
   "outputs": [],
   "source": [
    "softmax(x,1)"
   ]
  },
  {
   "cell_type": "code",
   "execution_count": null,
   "id": "07239801-8d86-46c8-881d-8d57f17947c8",
   "metadata": {
    "tags": []
   },
   "outputs": [],
   "source": [
    "y"
   ]
  },
  {
   "cell_type": "code",
   "execution_count": null,
   "id": "5c5df033-1527-41f7-b215-a93a9b352a8e",
   "metadata": {},
   "outputs": [],
   "source": []
  },
  {
   "cell_type": "code",
   "execution_count": null,
   "id": "71a0a3f2-38bb-4792-8143-a4a329952503",
   "metadata": {},
   "outputs": [],
   "source": []
  },
  {
   "cell_type": "code",
   "execution_count": null,
   "id": "4d653e21-0e67-487a-ab32-e46717075f92",
   "metadata": {
    "tags": []
   },
   "outputs": [],
   "source": [
    "print(nsum, reward)"
   ]
  },
  {
   "cell_type": "code",
   "execution_count": null,
   "id": "fae81f8b-6e9c-4cf8-bf12-9f1bac8bebb0",
   "metadata": {},
   "outputs": [],
   "source": []
  },
  {
   "cell_type": "code",
   "execution_count": null,
   "id": "5134267b-99f8-403d-b665-28dc87a43e9f",
   "metadata": {
    "tags": []
   },
   "outputs": [],
   "source": [
    "def make_data(b=1, n=320000, verbose=False):\n",
    "    X, Y0, Y1 = [], [], []\n",
    "    rng = np.random.default_rng()\n",
    "    for _ in trange(n, disable=not verbose):\n",
    "        x = np.random.random((5,5))\n",
    "        x = (x - 0.5) * 2 + np.arange(5,10)\n",
    "        x = np.tril(x).T\n",
    "        \n",
    "        rng.shuffle(x, axis=0)\n",
    "        x = rng.permuted(x, axis=1)\n",
    "        \n",
    "        reward0 = softmax(x, b) * x\n",
    "        reward1 = softmax(reward0.sum(axis=1), b)\n",
    "        # y0 = rng.choice(range(5), p=reward1)\n",
    "        y1 = rng.choice(range(5), p=reward0[y0])\n",
    "\n",
    "        X.append(x)\n",
    "        # Y0.append(y0)\n",
    "        Y1.append(y1)\n",
    "    X = np.array(X)\n",
    "    # Y0 = np.array(Y0)\n",
    "    Y1 = np.array(Y1)\n",
    "    # return X, Y0, Y1\n",
    "    return X, Y1"
   ]
  },
  {
   "cell_type": "code",
   "execution_count": null,
   "id": "45eae7b3-1775-4786-a7b0-b865cfb5328c",
   "metadata": {
    "tags": []
   },
   "outputs": [],
   "source": [
    "X, Y0, Y1 = make_data(10, 1)"
   ]
  },
  {
   "cell_type": "code",
   "execution_count": null,
   "id": "17d68aee-db95-4e6c-92cf-672e0f56d5d4",
   "metadata": {},
   "outputs": [],
   "source": []
  },
  {
   "cell_type": "code",
   "execution_count": null,
   "id": "b1523479-ef55-4b54-b2b4-bb5c88e0dcc6",
   "metadata": {},
   "outputs": [],
   "source": [
    "x = np.random.random((5,5))\n",
    "x = (x - 0.5) * 2 + np.arange(5,10)\n",
    "x = np.tril(x).T\n",
    "x"
   ]
  },
  {
   "cell_type": "code",
   "execution_count": null,
   "id": "64ff849c-0136-4ca3-afa1-924211b3feb7",
   "metadata": {
    "tags": []
   },
   "outputs": [],
   "source": [
    "rng = np.random.default_rng()"
   ]
  },
  {
   "cell_type": "code",
   "execution_count": null,
   "id": "ca169824-1d13-479d-a17d-c9014be0271b",
   "metadata": {
    "tags": []
   },
   "outputs": [],
   "source": [
    "rng.shuffle(x, axis=0)\n",
    "x"
   ]
  },
  {
   "cell_type": "code",
   "execution_count": null,
   "id": "d7659229-bf28-4c68-bd0f-5c355aa803d8",
   "metadata": {
    "tags": []
   },
   "outputs": [],
   "source": [
    "x = rng.permuted(x, axis=1)"
   ]
  },
  {
   "cell_type": "code",
   "execution_count": null,
   "id": "032d0764-031d-47a2-90c8-0c68f6a74544",
   "metadata": {
    "tags": []
   },
   "outputs": [],
   "source": [
    "b = 1"
   ]
  },
  {
   "cell_type": "code",
   "execution_count": null,
   "id": "8f9254a0-6d60-406e-83c3-fa9e893f5c3c",
   "metadata": {},
   "outputs": [],
   "source": [
    "r0 = np.exp(b*x) / np.exp(b*x).sum(axis=1)"
   ]
  },
  {
   "cell_type": "code",
   "execution_count": null,
   "id": "61eff47d-d1c1-47da-ab66-a4e3698a49d7",
   "metadata": {
    "tags": []
   },
   "outputs": [],
   "source": [
    "np.exp(b*x)"
   ]
  },
  {
   "cell_type": "code",
   "execution_count": null,
   "id": "863d1c2e-5a94-4a37-bd21-05f671748d7c",
   "metadata": {
    "tags": []
   },
   "outputs": [],
   "source": [
    "np.exp(b*x).sum(axis=1)"
   ]
  },
  {
   "cell_type": "code",
   "execution_count": null,
   "id": "b19a44bd-0089-42e1-b59f-664734c70097",
   "metadata": {},
   "outputs": [],
   "source": []
  },
  {
   "cell_type": "code",
   "execution_count": null,
   "id": "260ad27a-70f4-4940-8c4b-96b0c2b6d3bf",
   "metadata": {},
   "outputs": [],
   "source": []
  },
  {
   "cell_type": "code",
   "execution_count": null,
   "id": "8a100191-644f-46d8-9119-5014e9a107d6",
   "metadata": {
    "tags": []
   },
   "outputs": [],
   "source": [
    "np.exp(b*x) / np.exp(b*x).sum(axis=1)"
   ]
  },
  {
   "cell_type": "code",
   "execution_count": null,
   "id": "04c327b1-a116-45a0-b227-95bebafde7a1",
   "metadata": {},
   "outputs": [],
   "source": [
    "(np.exp(b*x) / np.exp(b*x).sum(axis=1, keepdims=True) * x).sum(axis=1)"
   ]
  },
  {
   "cell_type": "code",
   "execution_count": null,
   "id": "1f11e639-f826-4230-89a3-5b539d922f30",
   "metadata": {},
   "outputs": [],
   "source": []
  },
  {
   "cell_type": "code",
   "execution_count": null,
   "id": "4c24dae7-589d-4585-9e22-1780ed15e4d1",
   "metadata": {},
   "outputs": [],
   "source": []
  },
  {
   "cell_type": "code",
   "execution_count": null,
   "id": "afe71248-0c17-48b6-bef3-485785fdea95",
   "metadata": {},
   "outputs": [],
   "source": []
  },
  {
   "cell_type": "code",
   "execution_count": null,
   "id": "ef7410c2-2acd-4b90-861b-cfac6763b699",
   "metadata": {
    "tags": []
   },
   "outputs": [],
   "source": [
    "%%time\n",
    "models = {}\n",
    "for h in range(5):\n",
    "    # n = int(32e3)\n",
    "    n = 3200000 * 4\n",
    "    X, Y0, Y1 = make_data(H[h], n=n, verbose=True)\n",
    "    model = make_model()\n",
    "    model.fit(X,[Y0, Y1])\n",
    "    models[h] = model"
   ]
  },
  {
   "cell_type": "code",
   "execution_count": null,
   "id": "cd11f048-61f3-4ac3-bc59-60db74827e96",
   "metadata": {
    "tags": []
   },
   "outputs": [],
   "source": [
    "_X, _, _ = make_data(H[0], n=32000, verbose=True)"
   ]
  },
  {
   "cell_type": "code",
   "execution_count": null,
   "id": "b0a3aac1-93cb-4155-ae08-b4668dda1f5a",
   "metadata": {
    "tags": []
   },
   "outputs": [],
   "source": [
    "%%time\n",
    "for h in range(5):\n",
    "    _Y0, _Y1 = models[h](_X)\n",
    "    _Y0, _Y1 = _Y0.numpy(), _Y1.numpy()\n",
    "    first = np.array([ix[iy] for ix, iy in zip(_X, _Y0.argmax(axis=1))])\n",
    "    second = tf.nn.softmax(_Y1).numpy()\n",
    "    reward = (first * second).sum(axis=1).mean()\n",
    "    print(f'{h} {reward:.4f}')"
   ]
  },
  {
   "cell_type": "code",
   "execution_count": null,
   "id": "3e2c8ce5-8759-4dbd-a5f6-625a013a0c14",
   "metadata": {},
   "outputs": [],
   "source": []
  },
  {
   "cell_type": "code",
   "execution_count": null,
   "id": "bc08e2e7-f7ac-4920-a130-4df7ac788569",
   "metadata": {
    "tags": []
   },
   "outputs": [],
   "source": [
    "x"
   ]
  },
  {
   "cell_type": "code",
   "execution_count": null,
   "id": "1000960c-d9cf-4c34-acc4-ab5d18c4889d",
   "metadata": {
    "tags": []
   },
   "outputs": [],
   "source": [
    "X[0]"
   ]
  },
  {
   "cell_type": "code",
   "execution_count": null,
   "id": "e2a797f2-a856-4ff2-b0ad-e412ef2b55f3",
   "metadata": {},
   "outputs": [],
   "source": []
  },
  {
   "cell_type": "code",
   "execution_count": null,
   "id": "8b0a9f2e-e281-4eaf-b190-db2f555d7456",
   "metadata": {},
   "outputs": [],
   "source": []
  },
  {
   "cell_type": "code",
   "execution_count": null,
   "id": "812a61ae-9f89-4336-b5e6-8ba8cb30c88f",
   "metadata": {
    "tags": []
   },
   "outputs": [],
   "source": [
    "softmax(np.array([10,9,0]), 10)"
   ]
  },
  {
   "cell_type": "code",
   "execution_count": null,
   "id": "a65a6da6-c950-4c6f-8ced-2a1f2692be92",
   "metadata": {},
   "outputs": [],
   "source": []
  }
 ],
 "metadata": {
  "kernelspec": {
   "display_name": "base",
   "language": "python",
   "name": "base"
  },
  "language_info": {
   "codemirror_mode": {
    "name": "ipython",
    "version": 3
   },
   "file_extension": ".py",
   "mimetype": "text/x-python",
   "name": "python",
   "nbconvert_exporter": "python",
   "pygments_lexer": "ipython3",
   "version": "3.10.12"
  }
 },
 "nbformat": 4,
 "nbformat_minor": 5
}
