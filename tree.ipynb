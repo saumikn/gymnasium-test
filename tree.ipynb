{
 "cells": [
  {
   "cell_type": "code",
   "execution_count": 1,
   "id": "766b7803-b252-47da-8afc-5f6783a18118",
   "metadata": {
    "tags": []
   },
   "outputs": [],
   "source": [
    "%load_ext line_profiler"
   ]
  },
  {
   "cell_type": "code",
   "execution_count": 2,
   "id": "86d00c2c-2468-406c-856e-3a39537a231d",
   "metadata": {
    "tags": []
   },
   "outputs": [],
   "source": [
    "from collections import Counter\n",
    "from functools import partial\n",
    "\n",
    "import numpy as np\n",
    "rng = np.random.default_rng()\n",
    "np.set_printoptions(suppress=True, linewidth=180, edgeitems=5)\n",
    "from tqdm.notebook import tqdm, trange\n",
    "from tqdm.contrib.concurrent import process_map\n",
    "\n",
    "from scipy.stats import rankdata\n",
    "import seaborn as sns\n",
    "import matplotlib.pyplot as plt\n",
    "import pandas as pd\n",
    "import warnings"
   ]
  },
  {
   "cell_type": "code",
   "execution_count": 248,
   "id": "fa2003db-c834-4768-a459-9792e617847f",
   "metadata": {
    "tags": []
   },
   "outputs": [
    {
     "data": {
      "text/plain": [
       "array([ 0.1   ,  0.1259,  0.1585,  0.1995,  0.2512,  0.3162,  0.3981,  0.5012,  0.631 ,  0.7943,  1.    ,  1.2589,  1.5849,  1.9953,  2.5119,  3.1623,  3.9811,  5.0119,  6.3096,\n",
       "        7.9433, 10.    ])"
      ]
     },
     "metadata": {},
     "output_type": "display_data"
    },
    {
     "data": {
      "text/plain": [
       "array([[1.  , 0.  , 0.  , 0.  , 0.  , 0.  , 0.  , 0.  , 0.  , 0.  ],\n",
       "       [0.95, 0.9 , 0.85, 0.8 , 0.75, 0.7 , 0.65, 0.6 , 0.55, 0.5 ],\n",
       "       [0.  , 0.  , 0.  , 0.  , 0.  , 0.  , 0.  , 0.  , 0.  , 0.  ],\n",
       "       [0.  , 0.  , 0.  , 0.  , 0.  , 0.  , 0.  , 0.  , 0.  , 0.  ],\n",
       "       [0.  , 0.  , 0.  , 0.  , 0.  , 0.  , 0.  , 0.  , 0.  , 0.  ],\n",
       "       [0.  , 0.  , 0.  , 0.  , 0.  , 0.  , 0.  , 0.  , 0.  , 0.  ],\n",
       "       [0.  , 0.  , 0.  , 0.  , 0.  , 0.  , 0.  , 0.  , 0.  , 0.  ],\n",
       "       [0.  , 0.  , 0.  , 0.  , 0.  , 0.  , 0.  , 0.  , 0.  , 0.  ],\n",
       "       [0.  , 0.  , 0.  , 0.  , 0.  , 0.  , 0.  , 0.  , 0.  , 0.  ],\n",
       "       [0.  , 0.  , 0.  , 0.  , 0.  , 0.  , 0.  , 0.  , 0.  , 0.  ]])"
      ]
     },
     "metadata": {},
     "output_type": "display_data"
    },
    {
     "data": {
      "text/plain": [
       "8.25"
      ]
     },
     "metadata": {},
     "output_type": "display_data"
    }
   ],
   "source": [
    "# ns = [0,10,10,11,12,13,14,15,16,17]\n",
    "# ns = [0,5,5,6,7,8,9,10,11,12,13,14,15,16,17,18,19]\n",
    "# ns = [0]\n",
    "\n",
    "\n",
    "students = np.logspace(-1, 1, 21)\n",
    "display(students.round(4))\n",
    "\n",
    "# ns = [0,5,5,6,7,8,9,10,11,12,13,14,15]\n",
    "# ms = 5\n",
    "# # arrs = np.array([[20,0,0,0,0],\n",
    "# #                  [19,19,0,0,0],\n",
    "# #                  [18,18,18,0,0],\n",
    "# #                  [17,17,17,17,0],\n",
    "# #                  [16,16,16,16,16],])\n",
    "# arrs = np.array([[20,0,0,0,0],\n",
    "#                  [15,16,17,18,19],\n",
    "#                  [0,0,0,0,0],\n",
    "#                  [0,0,0,0,0],\n",
    "#                  [0,0,0,0,0],\n",
    "#                  # [-1000,-1000,-1000,-1000,-1000],\n",
    "#                  # [-1000,-1000,-1000,-1000,-1000],\n",
    "#                  # [-1000,-1000,-1000,-1000,-1000],\n",
    "#                 ])\n",
    "# arrs = arrs / 20\n",
    "# display(arrs)\n",
    "# display(arrs.sum().round(2))\n",
    "\n",
    "\n",
    "ns = [0,5,5,6,7,8,9,10,11,12,13,14,15]\n",
    "ms = 10\n",
    "arrs = np.array([[20,0,0,0,0,0,0,0,0,0],\n",
    "                 [19,18,17,16,15,14,13,12,11,10],\n",
    "                 [0,0,0,0,0,0,0,0,0,0],\n",
    "                 [0,0,0,0,0,0,0,0,0,0],\n",
    "                 [0,0,0,0,0,0,0,0,0,0],\n",
    "                 [0,0,0,0,0,0,0,0,0,0],\n",
    "                 [0,0,0,0,0,0,0,0,0,0],\n",
    "                 [0,0,0,0,0,0,0,0,0,0],\n",
    "                 [0,0,0,0,0,0,0,0,0,0],\n",
    "                 [0,0,0,0,0,0,0,0,0,0],\n",
    "                ])\n",
    "arrs = arrs / 20\n",
    "display(arrs)\n",
    "display(arrs.sum().round(2))\n",
    "                 \n",
    "                 \n",
    "\n",
    "# ms = 4\n",
    "# arrs = np.triu(np.tile(np.arange(31, 35),(4,1)).T) - 20\n",
    "# display(arrs)\n",
    "# display(arrs.sum())\n",
    "\n",
    "\n",
    "# ns = [0,5,5,6,7,8,9,10,11,12,13,14,15]\n",
    "# ms = 2\n",
    "# arrs = np.array([[1,0],[.99,.99]])\n",
    "# display(arrs)\n",
    "# display(arrs.sum().round(2))\n",
    "\n",
    "\n",
    "ranked = False\n",
    "slip = True"
   ]
  },
  {
   "cell_type": "code",
   "execution_count": null,
   "id": "4cec9aa1-faef-4ff6-9d57-e4e702fa0011",
   "metadata": {},
   "outputs": [],
   "source": []
  },
  {
   "cell_type": "code",
   "execution_count": 283,
   "id": "22b1d6d9-9d64-4dee-b971-bd3dfedb6bfe",
   "metadata": {},
   "outputs": [],
   "source": [
    "def make_model(num_nodes=128, num_dense=4):\n",
    "    import tensorflow as tf\n",
    "    for gpu in tf.config.list_physical_devices('GPU'):\n",
    "        tf.config.experimental.set_memory_growth(gpu, True)\n",
    "    \n",
    "    inputs = tf.keras.layers.Input(shape=(ms*ms + ms + 1))\n",
    "    x = tf.keras.layers.Flatten()(inputs)\n",
    "    for _ in range(num_dense):\n",
    "        x = tf.keras.layers.Dense(num_nodes, activation='relu')(x)\n",
    "    output1 = tf.keras.layers.Dense(ms, name='Y0')(x)\n",
    "    output1 = tf.keras.layers.Softmax()(output1)\n",
    "    model = tf.keras.models.Model(inputs=inputs, outputs=output1)\n",
    "    \n",
    "    opt = tf.keras.optimizers.Adam()\n",
    "    # opt = tf.keras.optimizers.Adam(learning_rate=1)\n",
    "    # opt = tf.keras.optimizers.SGD()\n",
    "    loss_fn = tf.keras.losses.SparseCategoricalCrossentropy(from_logits=False)\n",
    "    model.compile(optimizer=opt, loss=loss_fn, metrics=['accuracy'])\n",
    "    return model\n",
    "\n",
    "def softmax(x, b, axis=-1):\n",
    "    x = x - np.max(x, axis=axis, keepdims=True)\n",
    "    return np.exp(x/b) / np.exp(x/b).sum(axis=axis, keepdims=True)\n",
    "\n",
    "# def softmax(x, b, axis=-1):\n",
    "#     x = x - np.max(x)\n",
    "#     with np.errstate(divide='ignore', invalid='ignore'):\n",
    "#         res = np.exp(x/b) / np.exp(x/b).sum(axis=-1, keepdims=True)\n",
    "#         res = np.nan_to_num(res)\n",
    "#     return res\n",
    "\n",
    "def make_x():\n",
    "    x = arrs\n",
    "    \n",
    "    # rand = np.random.random(arrs.shape)\n",
    "    # rand = (rand - 0.5)\n",
    "    # x = x + rand*0.0001\n",
    "    \n",
    "    x = rng.permuted(x, axis=-1)\n",
    "    return x\n",
    "\n",
    "def eval_model(model, n = 1, disable=True):\n",
    "    rewards = []\n",
    "    branch_rewards = []\n",
    "    for _ in trange(n, disable=disable):\n",
    "        x = make_x()\n",
    "        x_tree = np.concatenate([np.eye(ms+1).astype(int), np.tile(x.flatten(), (ms+1,1))], axis=1)\n",
    "        y_pred = model(x_tree)\n",
    "        branch_reward = (x_tree[0,ms+1:].reshape(ms,ms) * y_pred[1:].numpy()).sum(axis=1)\n",
    "        rewards.append(y_pred[0].numpy())\n",
    "        # reward = (y_pred[0] * branch_reward).numpy().sum()\n",
    "        # rewards.append(reward)\n",
    "        branch_rewards.append(branch_reward)\n",
    "    return np.array(rewards), np.array(branch_rewards)\n",
    "\n",
    "def make_data(b=1, n=1, disable=True):\n",
    "    X, Y = [], []\n",
    "    for _ in trange(n, disable=disable):\n",
    "        \n",
    "        if ranked:\n",
    "            x = make_x()\n",
    "            r1 = softmax(rankdata(x,axis=1), b)\n",
    "            r1sum = (r1*x).sum(axis=1)\n",
    "            r0 = softmax(rankdata(r1sum), b)\n",
    "                    \n",
    "        else:\n",
    "            x = make_x()\n",
    "            r1 = softmax(x, b)\n",
    "            r1sum = (r1*x).sum(axis=1)\n",
    "            r0 = softmax(r1sum, b)\n",
    "        \n",
    "        pos = [0] * (ms+1)\n",
    "        pos[0] = 1\n",
    "        x0 = pos + list(x.flatten())\n",
    "        \n",
    "        \n",
    "        # slip_prob = np.log10(b)/-20 + 0.95\n",
    "        slip_prob = np.log10(b) * -0.45 + 0.55\n",
    "        \n",
    "        if slip == False:\n",
    "            y0 = rng.choice(np.arange(ms), p=r0)\n",
    "        else:\n",
    "            p = np.zeros(ms) + (1-slip_prob)/(ms-1)\n",
    "            p[0] = slip_prob\n",
    "            y0 = rng.choice(np.arange(ms), p=p)\n",
    "        # while y0 in [2,3,4]:\n",
    "        #     y0 = rng.choice(np.arange(ms), p=r0)\n",
    "            \n",
    "        \n",
    "        pos = [0] * (ms+1)\n",
    "        pos[y0+1] = 1\n",
    "        x1 = pos + list(x.flatten())\n",
    "        \n",
    "        if slip == False:\n",
    "            y1 = rng.choice(np.arange(ms), p=r1[y0])\n",
    "        else:\n",
    "            p = np.zeros(ms) + (1-slip_prob)/(ms-1)\n",
    "            \n",
    "            p[r1.argmax()] = slip_prob\n",
    "            y1 = rng.choice(np.arange(ms), p=p)\n",
    "\n",
    "        X.append(x0)\n",
    "        Y.append(y0)\n",
    "        X.append(x1)\n",
    "        Y.append(y1)\n",
    "    \n",
    "    X = np.array(X)\n",
    "    Y = np.array(Y)\n",
    "    \n",
    "    return X,Y"
   ]
  },
  {
   "cell_type": "code",
   "execution_count": null,
   "id": "49bfb334-0521-48f9-88eb-131681e9cbdf",
   "metadata": {},
   "outputs": [],
   "source": []
  },
  {
   "cell_type": "code",
   "execution_count": 284,
   "id": "ef6af282-f6da-44a7-b19f-7f1bc4e586c9",
   "metadata": {
    "tags": []
   },
   "outputs": [
    {
     "name": "stdout",
     "output_type": "stream",
     "text": [
      "0.100, 0.971, [1.    0.876 0.    0.    0.    0.    0.    0.    0.    0.   ], [0.774 0.226 0.    0.    0.    0.    0.    0.    0.    0.   ]\n",
      "0.126, 0.960, [0.997 0.857 0.    0.    0.    0.    0.    0.    0.    0.   ], [0.751 0.247 0.    0.    0.    0.    0.    0.    0.    0.   ]\n",
      "0.158, 0.932, [0.984 0.837 0.    0.    0.    0.    0.    0.    0.    0.   ], [0.708 0.281 0.001 0.001 0.001 0.001 0.001 0.001 0.001 0.001]\n",
      "0.200, 0.860, [0.943 0.819 0.    0.    0.    0.    0.    0.    0.    0.   ], [0.623 0.333 0.006 0.006 0.006 0.006 0.006 0.006 0.006 0.006]\n",
      "0.251, 0.726, [0.856 0.802 0.    0.    0.    0.    0.    0.    0.    0.   ], [0.483 0.389 0.016 0.016 0.016 0.016 0.016 0.016 0.016 0.016]\n",
      "0.316, 0.556, [0.724 0.788 0.    0.    0.    0.    0.    0.    0.    0.   ], [0.33  0.403 0.033 0.033 0.033 0.033 0.033 0.033 0.033 0.033]\n",
      "0.398, 0.410, [0.578 0.775 0.    0.    0.    0.    0.    0.    0.    0.   ], [0.221 0.364 0.052 0.052 0.052 0.052 0.052 0.052 0.052 0.052]\n",
      "0.501, 0.307, [0.45  0.765 0.    0.    0.    0.    0.    0.    0.    0.   ], [0.163 0.306 0.066 0.066 0.066 0.066 0.066 0.066 0.066 0.066]\n",
      "0.631, 0.239, [0.352 0.757 0.    0.    0.    0.    0.    0.    0.    0.   ], [0.134 0.254 0.077 0.077 0.077 0.077 0.077 0.077 0.077 0.077]\n",
      "0.794, 0.194, [0.281 0.751 0.    0.    0.    0.    0.    0.    0.    0.   ], [0.119 0.214 0.083 0.083 0.083 0.083 0.083 0.083 0.083 0.083]\n",
      "1.000, 0.164, [0.232 0.746 0.    0.    0.    0.    0.    0.    0.    0.   ], [0.111 0.185 0.088 0.088 0.088 0.088 0.088 0.088 0.088 0.088]\n",
      "1.259, 0.143, [0.197 0.741 0.    0.    0.    0.    0.    0.    0.    0.   ], [0.107 0.164 0.091 0.091 0.091 0.091 0.091 0.091 0.091 0.091]\n",
      "1.585, 0.128, [0.173 0.738 0.    0.    0.    0.    0.    0.    0.    0.   ], [0.104 0.149 0.093 0.093 0.093 0.093 0.093 0.093 0.093 0.093]\n",
      "1.995, 0.117, [0.155 0.735 0.    0.    0.    0.    0.    0.    0.    0.   ], [0.103 0.137 0.095 0.095 0.095 0.095 0.095 0.095 0.095 0.095]\n",
      "2.512, 0.109, [0.142 0.733 0.    0.    0.    0.    0.    0.    0.    0.   ], [0.102 0.129 0.096 0.096 0.096 0.096 0.096 0.096 0.096 0.096]\n",
      "3.162, 0.103, [0.132 0.732 0.    0.    0.    0.    0.    0.    0.    0.   ], [0.101 0.122 0.097 0.097 0.097 0.097 0.097 0.097 0.097 0.097]\n",
      "3.981, 0.098, [0.125 0.73  0.    0.    0.    0.    0.    0.    0.    0.   ], [0.101 0.117 0.098 0.098 0.098 0.098 0.098 0.098 0.098 0.098]\n",
      "5.012, 0.095, [0.119 0.729 0.    0.    0.    0.    0.    0.    0.    0.   ], [0.101 0.114 0.098 0.098 0.098 0.098 0.098 0.098 0.098 0.098]\n",
      "6.310, 0.092, [0.115 0.728 0.    0.    0.    0.    0.    0.    0.    0.   ], [0.1   0.111 0.099 0.099 0.099 0.099 0.099 0.099 0.099 0.099]\n",
      "7.943, 0.090, [0.112 0.728 0.    0.    0.    0.    0.    0.    0.    0.   ], [0.1   0.108 0.099 0.099 0.099 0.099 0.099 0.099 0.099 0.099]\n",
      "10.000, 0.088, [0.109 0.727 0.    0.    0.    0.    0.    0.    0.    0.   ], [0.1   0.107 0.099 0.099 0.099 0.099 0.099 0.099 0.099 0.099]\n",
      "CPU times: user 8.48 s, sys: 148 ms, total: 8.63 s\n",
      "Wall time: 8.64 s\n"
     ]
    }
   ],
   "source": [
    "%%time\n",
    "for b in students:\n",
    "    r0s = []\n",
    "    r1s = []\n",
    "    for _ in trange(10000, disable=True):\n",
    "        x = make_x()\n",
    "        \n",
    "        if ranked:\n",
    "            r1 = (softmax(rankdata(x,axis=1), b) * x).sum(axis=1)\n",
    "            r0 = (softmax(rankdata(r1), b) * r1).sum()\n",
    "            r1s.append(r1)\n",
    "            r0s.append(r0)\n",
    "            \n",
    "        else:\n",
    "            r1 = (softmax(x, b) * x).sum(axis=1)\n",
    "            r0 = (softmax(r1, b) * r1).sum()\n",
    "            r1s.append(r1)\n",
    "            r0s.append(r0)\n",
    "    \n",
    "        \n",
    "    r1s = np.array(r1s)\n",
    "    r0s = np.array(r0s)\n",
    "    print(f\"{b:.3f}, {r0s.mean():.3f}, {r1s.mean(axis=0).round(3)}, {softmax(r1s.mean(axis=0), b).round(3)}\")"
   ]
  },
  {
   "cell_type": "code",
   "execution_count": 285,
   "id": "1ed42634-10c5-4475-b89f-0db4f6a77b21",
   "metadata": {
    "tags": []
   },
   "outputs": [],
   "source": [
    "def train_model(student):\n",
    "    verbose = False\n",
    "    if student == 1:\n",
    "        print(f'student == {student:.3f}')\n",
    "        verbose = True\n",
    "    model = make_model()\n",
    "    Xtrain, Ytrain = make_data(student, 2**16, disable=not verbose)\n",
    "    model.fit(Xtrain, Ytrain, verbose=verbose)\n",
    "    reward = eval_model(model, 10000, disable=not verbose)\n",
    "    model.save(f'models/starting_{student:.3f}.keras')\n",
    "    return reward"
   ]
  },
  {
   "cell_type": "code",
   "execution_count": 286,
   "id": "6ff09ac6-6397-4ec4-a545-d006daffa337",
   "metadata": {},
   "outputs": [
    {
     "name": "stdout",
     "output_type": "stream",
     "text": [
      "student == 1.000\n"
     ]
    },
    {
     "data": {
      "application/vnd.jupyter.widget-view+json": {
       "model_id": "61b571ac27f6457e99790a2d73587bc2",
       "version_major": 2,
       "version_minor": 0
      },
      "text/plain": [
       "  0%|          | 0/65536 [00:00<?, ?it/s]"
      ]
     },
     "metadata": {},
     "output_type": "display_data"
    },
    {
     "name": "stdout",
     "output_type": "stream",
     "text": [
      "4096/4096 [==============================] - 60s 14ms/step - loss: 1.6995 - accuracy: 0.5477\n"
     ]
    },
    {
     "data": {
      "application/vnd.jupyter.widget-view+json": {
       "model_id": "8474c93f325748a7be8ad7a8309447ac",
       "version_major": 2,
       "version_minor": 0
      },
      "text/plain": [
       "  0%|          | 0/10000 [00:00<?, ?it/s]"
      ]
     },
     "metadata": {},
     "output_type": "display_data"
    },
    {
     "name": "stdout",
     "output_type": "stream",
     "text": [
      "CPU times: user 1.95 s, sys: 2 s, total: 3.94 s\n",
      "Wall time: 3min 35s\n"
     ]
    }
   ],
   "source": [
    "%%time\n",
    "rewards = process_map(train_model, students, disable=True, max_workers=24)"
   ]
  },
  {
   "cell_type": "code",
   "execution_count": 287,
   "id": "71093b6a-1f0d-4868-9a85-b493a7f8abea",
   "metadata": {
    "tags": []
   },
   "outputs": [
    {
     "name": "stdout",
     "output_type": "stream",
     "text": [
      "0.100 0.9999987002866015\n",
      "0.126 0.89839028819322\n",
      "0.158 0.7940961529705882\n",
      "0.200 0.6980048699105443\n",
      "0.251 0.6490397328859817\n",
      "0.316 0.5954645590322705\n",
      "0.398 0.5871891786379716\n",
      "0.501 0.4462571121309913\n",
      "0.631 0.42273821607669254\n",
      "0.794 0.358589867581507\n",
      "1.000 0.35711635538395614\n",
      "1.259 0.2746957487740706\n",
      "1.585 0.24128950480653402\n",
      "1.995 0.1933464098777884\n",
      "2.512 0.16983296884896132\n",
      "3.162 0.14740630237663496\n",
      "3.981 0.13584599357359217\n",
      "5.012 0.11933573966505205\n",
      "6.310 0.09759202064894353\n",
      "7.943 0.08929530014902157\n",
      "10.000 0.08307802676424525\n"
     ]
    }
   ],
   "source": [
    "for r, s in zip(rewards, students):\n",
    "    \n",
    "    res = r[0]*r[1]\n",
    "    res = res.sum(axis=1).mean()\n",
    "    \n",
    "    print(f\"{s:.3f} {res}\")"
   ]
  },
  {
   "cell_type": "code",
   "execution_count": null,
   "id": "430bf61b-c19b-4bc2-8261-f9fac14f854d",
   "metadata": {},
   "outputs": [],
   "source": []
  },
  {
   "cell_type": "code",
   "execution_count": null,
   "id": "e9cfda47-93e7-497d-9ef3-171be5e4b2c9",
   "metadata": {},
   "outputs": [],
   "source": []
  },
  {
   "cell_type": "code",
   "execution_count": null,
   "id": "62a50bcf-1483-4b64-832c-1086d71482ee",
   "metadata": {},
   "outputs": [],
   "source": []
  },
  {
   "cell_type": "code",
   "execution_count": null,
   "id": "2aead951-7daf-4a05-ae71-971bea65bb15",
   "metadata": {},
   "outputs": [],
   "source": []
  },
  {
   "cell_type": "markdown",
   "id": "dfa44a1e-2d2f-4767-adaf-3582c4dd22f9",
   "metadata": {
    "jp-MarkdownHeadingCollapsed": true,
    "tags": []
   },
   "source": [
    "# Graphs"
   ]
  },
  {
   "cell_type": "code",
   "execution_count": null,
   "id": "4a2d09c8-d97f-485c-a596-42af707eb0fc",
   "metadata": {
    "tags": []
   },
   "outputs": [],
   "source": [
    "import tensorflow as tf\n",
    "for gpu in tf.config.list_physical_devices('GPU'):\n",
    "    tf.config.experimental.set_memory_growth(gpu, True)\n",
    "tf.get_logger().setLevel('ERROR')\n",
    "model2 = tf.keras.models.load_model(f\"models/starting_{0.100:.3f}.keras\")\n",
    "%timeit r0, r1 = eval_model(model2, 1)"
   ]
  },
  {
   "cell_type": "code",
   "execution_count": null,
   "id": "3436215e-8cca-46d3-a594-21828315e74c",
   "metadata": {},
   "outputs": [],
   "source": []
  },
  {
   "cell_type": "code",
   "execution_count": null,
   "id": "e8e11aa3-1b08-4d82-9af8-2e44d47f6fd1",
   "metadata": {
    "tags": []
   },
   "outputs": [],
   "source": [
    "class CustomCallback(tf.keras.callbacks.Callback):\n",
    "    def __init__(self):\n",
    "        super(CustomCallback, self).__init__()\n",
    "\n",
    "    def on_batch_end(self, batch, logs=None):\n",
    "        r0, r1 = eval_model(self.model, 10)\n",
    "        r = (r0*r1).sum(axis=1).mean()\n",
    "        \n",
    "        \n",
    "        try:\n",
    "            self.model.rewards.append(r)\n",
    "            self.model.accs.append(logs['accuracy'])\n",
    "        except:\n",
    "            self.model.rewards = [r]\n",
    "            self.model.accs = [logs['accuracy']]\n",
    "\n",
    "#         # Add the output to the logs\n",
    "#         if logs is not None:\n",
    "#             logs['reward'] = r"
   ]
  },
  {
   "cell_type": "code",
   "execution_count": null,
   "id": "0d9a45f3-0752-44cd-a3e9-eba10ccd5c5f",
   "metadata": {},
   "outputs": [],
   "source": []
  },
  {
   "cell_type": "code",
   "execution_count": null,
   "id": "60da4fda-3220-485f-9779-2785ff195c45",
   "metadata": {},
   "outputs": [],
   "source": [
    "models = {}"
   ]
  },
  {
   "cell_type": "code",
   "execution_count": null,
   "id": "339a6aa4-087d-4b8c-81c3-fadfdd9e422b",
   "metadata": {
    "tags": []
   },
   "outputs": [],
   "source": [
    "%%time\n",
    "\n",
    "with open('tree.log', 'a') as f:\n",
    "    for student in students:\n",
    "        \n",
    "        print(f'student {student:.3f}', file=f, flush=True)\n",
    "\n",
    "        models[student] = {}\n",
    "\n",
    "        for teacher in students[::2][3:10]:\n",
    "\n",
    "            print(f'teacher {teacher:.3f}', file=f, flush=True)\n",
    "            models[student][teacher] = []\n",
    "            for i in range(5):\n",
    "                print(f'model {i}', file=f, flush=True)\n",
    "                # model = make_model()\n",
    "                model = tf.keras.models.load_model(f\"models/starting_{student:.3f}.keras\")\n",
    "\n",
    "                opt = tf.keras.optimizers.Adam()\n",
    "                loss_fn = tf.keras.losses.SparseCategoricalCrossentropy(from_logits=False)\n",
    "                model.compile(optimizer=opt, loss=loss_fn, metrics=['accuracy'])\n",
    "\n",
    "                X, Y = currs[f'{teacher:.3f}']\n",
    "                model.fit(X[:2**17], Y[:2**17], callbacks=[CustomCallback()], verbose=False)\n",
    "                # model.fit(X[:2**17], Y[:2**17], callbacks=[CustomCallback()])\n",
    "\n",
    "                models[student][teacher].append(model)\n",
    "\n",
    "\n",
    "        #         break\n",
    "        #     break\n",
    "        # break"
   ]
  },
  {
   "cell_type": "code",
   "execution_count": null,
   "id": "53cb41b0-d8b4-4bde-9cc6-3e92be5b5d0a",
   "metadata": {},
   "outputs": [],
   "source": []
  },
  {
   "cell_type": "code",
   "execution_count": null,
   "id": "952cb75b-9d09-4ff1-bb35-826b785218f0",
   "metadata": {
    "tags": []
   },
   "outputs": [],
   "source": [
    "for student, s_models in models.items():\n",
    "    # print(student, list(s_models))\n",
    "    df = {}\n",
    "    for teacher, model in s_models.items():\n",
    "        kernel_size = 20\n",
    "        kernel = np.ones(kernel_size) / kernel_size\n",
    "        rewards = np.array([m.rewards for m in model]).mean(axis=0)\n",
    "        rewards = np.convolve(rewards, kernel, mode='valid')\n",
    "        df[f\"{teacher:.3f}\"] = rewards\n",
    "    df = pd.DataFrame(df)\n",
    "    \n",
    "    print(f'Student {student:.3f}')\n",
    "    with warnings.catch_warnings():\n",
    "        warnings.simplefilter(action='ignore', category=FutureWarning)\n",
    "        ax = sns.lineplot(df[[c for c in df.columns if float(c) >= student]])\n",
    "        sns.move_legend(ax, \"upper left\", bbox_to_anchor=(1, 1))\n",
    "        plt.show()\n",
    "    print()"
   ]
  },
  {
   "cell_type": "code",
   "execution_count": null,
   "id": "eaa543c2-fd0b-4850-a338-e224691396b0",
   "metadata": {
    "tags": []
   },
   "outputs": [],
   "source": [
    "df[[c for c in df.columns if float(c) >= 1]]"
   ]
  },
  {
   "cell_type": "code",
   "execution_count": null,
   "id": "132f48cb-0a7e-42e5-bf60-dc64e3f05bc6",
   "metadata": {},
   "outputs": [],
   "source": [
    "with warnings.catch_warnings():\n",
    "    warnings.simplefilter(action='ignore', category=FutureWarning)\n",
    "\n",
    "    ax = sns.lineplot(df)\n",
    "    sns.move_legend(ax, \"upper left\", bbox_to_anchor=(1, 1))"
   ]
  },
  {
   "cell_type": "code",
   "execution_count": null,
   "id": "c7263848-5c70-4766-903b-c6599daba102",
   "metadata": {},
   "outputs": [],
   "source": []
  },
  {
   "cell_type": "code",
   "execution_count": null,
   "id": "d6cff159-4c68-4dc4-85a1-a6bfb45521c6",
   "metadata": {},
   "outputs": [],
   "source": [
    "1+1"
   ]
  },
  {
   "cell_type": "code",
   "execution_count": null,
   "id": "76baa6ff-384c-4282-90f0-d7690800ccfd",
   "metadata": {},
   "outputs": [],
   "source": []
  },
  {
   "cell_type": "code",
   "execution_count": null,
   "id": "91ff4eab-24b7-44a1-b62c-6f157e55aa4a",
   "metadata": {},
   "outputs": [],
   "source": []
  },
  {
   "cell_type": "code",
   "execution_count": null,
   "id": "ba5068ae-3bd7-4f13-8650-69dfc650608a",
   "metadata": {},
   "outputs": [],
   "source": []
  },
  {
   "cell_type": "code",
   "execution_count": null,
   "id": "bd28ddb4-2cf1-40f0-a3dd-59aa2ba6a0c0",
   "metadata": {},
   "outputs": [],
   "source": [
    "ax = sns.lineplot(df[df.columns[4:9]])\n",
    "sns.move_legend(ax, \"upper left\", bbox_to_anchor=(1, 1))"
   ]
  },
  {
   "cell_type": "code",
   "execution_count": null,
   "id": "bf7a9caa-74cb-4bb3-8927-65b57cfc292f",
   "metadata": {},
   "outputs": [],
   "source": [
    "students[::2][4:9]"
   ]
  },
  {
   "cell_type": "code",
   "execution_count": null,
   "id": "dfa9c84f-a9cd-4015-9fa8-3588366e3a30",
   "metadata": {},
   "outputs": [],
   "source": []
  },
  {
   "cell_type": "markdown",
   "id": "56c7a7ba-5a01-495e-97c7-b76c9e522497",
   "metadata": {
    "tags": []
   },
   "source": [
    "# Eval Training"
   ]
  },
  {
   "cell_type": "code",
   "execution_count": 288,
   "id": "b8f08b68-2293-4d62-b818-2759485dd35c",
   "metadata": {},
   "outputs": [],
   "source": [
    "def eval_training(student, teacher, verbose=False):\n",
    "    import tensorflow as tf\n",
    "    for gpu in tf.config.list_physical_devices('GPU'):\n",
    "        tf.config.experimental.set_memory_growth(gpu, True)\n",
    "\n",
    "    \n",
    "    if student == -1:\n",
    "        model2 = make_model()\n",
    "    else:\n",
    "        model2 = tf.keras.models.load_model(f\"models/starting_{student:.3f}.keras\")\n",
    "    # opt = tf.keras.optimizers.SGD()\n",
    "    opt = tf.keras.optimizers.Adam()\n",
    "    loss_fn = tf.keras.losses.SparseCategoricalCrossentropy(from_logits=False)\n",
    "    model2.compile(optimizer=opt, loss=loss_fn, metrics=['accuracy'])\n",
    "    nsum = 0\n",
    "    \n",
    "    X, Y = currs[f\"{teacher:.3f}\"]\n",
    "    perm = np.random.permutation(len(X))\n",
    "    X, Y = X[perm], Y[perm]\n",
    "    \n",
    "    rewards = []\n",
    "    for i in ns:\n",
    "        if i != 0:\n",
    "            n = 2**i\n",
    "            # X, Y = make_data(teacher, n, disable=True)\n",
    "                        \n",
    "            model2.fit(X[nsum:nsum+n], Y[nsum:nsum+n], verbose=False)\n",
    "            nsum += n\n",
    "            \n",
    "        r0, r1 = eval_model(model2, 10)\n",
    "        reward = (r0*r1).sum(axis=1).mean()\n",
    "        rewards.append(reward)\n",
    "        # print(f\"{nsum}    \", end='\\r')\n",
    "    return rewards"
   ]
  },
  {
   "cell_type": "code",
   "execution_count": 289,
   "id": "b9a6548c-85ef-4e7b-8f30-ef4e94a0f13a",
   "metadata": {
    "tags": []
   },
   "outputs": [],
   "source": [
    "def exp(student, verbose=True, n=20):\n",
    "    # teachers = np.arange(student, 0.40001, 0.02)\n",
    "    \n",
    "    teachers = students\n",
    "    \n",
    "    t_ = list(teachers) * n\n",
    "    s_ = [student for _ in t_]\n",
    "    \n",
    "    res = process_map(eval_training, s_, t_, max_workers=5, chunksize=1)\n",
    "    \n",
    "    return np.array(res)"
   ]
  },
  {
   "cell_type": "code",
   "execution_count": 290,
   "id": "e6be9cdd-8604-4a87-b3ff-10b033576e7a",
   "metadata": {
    "tags": []
   },
   "outputs": [
    {
     "data": {
      "application/vnd.jupyter.widget-view+json": {
       "model_id": "30e4bf06225b496985a86d183509c3c4",
       "version_major": 2,
       "version_minor": 0
      },
      "text/plain": [
       "  0%|          | 0/21 [00:00<?, ?it/s]"
      ]
     },
     "metadata": {},
     "output_type": "display_data"
    },
    {
     "name": "stdout",
     "output_type": "stream",
     "text": [
      "CPU times: user 926 ms, sys: 2.22 s, total: 3.14 s\n",
      "Wall time: 46.5 s\n"
     ]
    }
   ],
   "source": [
    "%%time\n",
    "ntotal = (2**np.array(ns[1:])).sum()\n",
    "\n",
    "currs = process_map(make_data, students, [ntotal]*len(students), max_workers=6, chunksize=1)\n",
    "currs = dict(zip([f\"{s:.3f}\" for s in students], currs))"
   ]
  },
  {
   "cell_type": "code",
   "execution_count": 291,
   "id": "c5e9288e-cc50-4ee6-a6ce-3d5ae9873f5e",
   "metadata": {},
   "outputs": [
    {
     "data": {
      "application/vnd.jupyter.widget-view+json": {
       "model_id": "ad2684538e814fcfa2d3c1983c04cfe3",
       "version_major": 2,
       "version_minor": 0
      },
      "text/plain": [
       "  0%|          | 0/210 [00:00<?, ?it/s]"
      ]
     },
     "metadata": {},
     "output_type": "display_data"
    },
    {
     "name": "stdout",
     "output_type": "stream",
     "text": [
      "CPU times: user 387 ms, sys: 161 ms, total: 548 ms\n",
      "Wall time: 10min 52s\n"
     ]
    },
    {
     "data": {
      "text/plain": [
       "array([[0.08, 0.08, 0.08, 0.08, 0.09, 0.09, 0.14, 0.49, 0.99, 1.  , 1.  , 1.  , 1.  ],\n",
       "       [0.08, 0.08, 0.08, 0.08, 0.09, 0.09, 0.14, 0.41, 0.84, 0.89, 0.9 , 0.9 , 0.91],\n",
       "       [0.08, 0.08, 0.08, 0.09, 0.09, 0.1 , 0.14, 0.34, 0.77, 0.79, 0.83, 0.83, 0.82],\n",
       "       [0.08, 0.08, 0.08, 0.08, 0.08, 0.09, 0.13, 0.28, 0.69, 0.75, 0.77, 0.73, 0.76],\n",
       "       [0.08, 0.08, 0.09, 0.08, 0.09, 0.09, 0.13, 0.22, 0.6 , 0.67, 0.7 , 0.65, 0.69],\n",
       "       [0.08, 0.09, 0.08, 0.09, 0.09, 0.09, 0.11, 0.2 , 0.55, 0.6 , 0.63, 0.61, 0.61],\n",
       "       [0.08, 0.08, 0.08, 0.08, 0.08, 0.09, 0.11, 0.19, 0.47, 0.54, 0.53, 0.54, 0.54],\n",
       "       [0.08, 0.08, 0.08, 0.08, 0.08, 0.08, 0.11, 0.16, 0.43, 0.48, 0.46, 0.47, 0.49],\n",
       "       [0.08, 0.09, 0.09, 0.09, 0.09, 0.1 , 0.11, 0.15, 0.35, 0.44, 0.43, 0.41, 0.45],\n",
       "       [0.08, 0.08, 0.08, 0.09, 0.09, 0.1 , 0.1 , 0.13, 0.28, 0.37, 0.37, 0.39, 0.36],\n",
       "       [0.08, 0.08, 0.08, 0.08, 0.09, 0.1 , 0.1 , 0.13, 0.24, 0.3 , 0.35, 0.34, 0.34],\n",
       "       [0.08, 0.08, 0.08, 0.08, 0.08, 0.1 , 0.1 , 0.12, 0.19, 0.26, 0.28, 0.29, 0.29],\n",
       "       [0.09, 0.09, 0.09, 0.09, 0.09, 0.1 , 0.09, 0.1 , 0.15, 0.22, 0.23, 0.26, 0.24],\n",
       "       [0.08, 0.08, 0.08, 0.08, 0.09, 0.09, 0.09, 0.1 , 0.12, 0.19, 0.2 , 0.21, 0.21],\n",
       "       [0.08, 0.08, 0.09, 0.09, 0.09, 0.09, 0.09, 0.1 , 0.11, 0.16, 0.17, 0.18, 0.19],\n",
       "       [0.08, 0.08, 0.08, 0.08, 0.08, 0.09, 0.08, 0.09, 0.1 , 0.13, 0.15, 0.15, 0.15],\n",
       "       [0.08, 0.08, 0.08, 0.08, 0.08, 0.09, 0.09, 0.09, 0.09, 0.1 , 0.13, 0.13, 0.14],\n",
       "       [0.08, 0.08, 0.08, 0.08, 0.08, 0.08, 0.08, 0.09, 0.09, 0.1 , 0.1 , 0.11, 0.11],\n",
       "       [0.08, 0.08, 0.08, 0.08, 0.08, 0.08, 0.08, 0.08, 0.08, 0.09, 0.09, 0.09, 0.1 ],\n",
       "       [0.08, 0.08, 0.08, 0.08, 0.08, 0.08, 0.08, 0.08, 0.08, 0.08, 0.08, 0.08, 0.09],\n",
       "       [0.08, 0.08, 0.08, 0.08, 0.08, 0.08, 0.08, 0.08, 0.08, 0.08, 0.08, 0.08, 0.08]])"
      ]
     },
     "execution_count": 291,
     "metadata": {},
     "output_type": "execute_result"
    }
   ],
   "source": [
    "%%time\n",
    "exp(-1, n=10).reshape(-1, len(students), len(ns)).mean(axis=0).round(2)"
   ]
  },
  {
   "cell_type": "code",
   "execution_count": 292,
   "id": "c3526f33-c30d-4b17-a174-7e260dd810d0",
   "metadata": {
    "tags": []
   },
   "outputs": [
    {
     "data": {
      "application/vnd.jupyter.widget-view+json": {
       "model_id": "191ae818dfb448c2ada38b5753db9945",
       "version_major": 2,
       "version_minor": 0
      },
      "text/plain": [
       "  0%|          | 0/210 [00:00<?, ?it/s]"
      ]
     },
     "metadata": {},
     "output_type": "display_data"
    },
    {
     "name": "stdout",
     "output_type": "stream",
     "text": [
      "CPU times: user 399 ms, sys: 179 ms, total: 577 ms\n",
      "Wall time: 11min 5s\n"
     ]
    },
    {
     "data": {
      "text/plain": [
       "array([[0.357, 0.421, 0.46 , 0.599, 0.823, 0.985, 0.999, 1.   , 1.   , 1.   , 1.   , 1.   , 1.   ],\n",
       "       [0.358, 0.415, 0.458, 0.585, 0.79 , 0.954, 0.939, 0.91 , 0.906, 0.904, 0.91 , 0.914, 0.911],\n",
       "       [0.36 , 0.409, 0.455, 0.575, 0.761, 0.913, 0.841, 0.829, 0.824, 0.838, 0.81 , 0.833, 0.839],\n",
       "       [0.356, 0.405, 0.452, 0.553, 0.728, 0.838, 0.767, 0.747, 0.769, 0.758, 0.776, 0.752, 0.748],\n",
       "       [0.354, 0.399, 0.453, 0.539, 0.683, 0.77 , 0.657, 0.672, 0.657, 0.655, 0.66 , 0.683, 0.694],\n",
       "       [0.36 , 0.395, 0.443, 0.522, 0.615, 0.66 , 0.612, 0.592, 0.609, 0.637, 0.594, 0.614, 0.613],\n",
       "       [0.36 , 0.381, 0.416, 0.479, 0.572, 0.605, 0.537, 0.532, 0.532, 0.538, 0.544, 0.552, 0.557],\n",
       "       [0.358, 0.382, 0.409, 0.45 , 0.503, 0.509, 0.489, 0.472, 0.498, 0.506, 0.504, 0.491, 0.498],\n",
       "       [0.361, 0.368, 0.384, 0.407, 0.43 , 0.452, 0.442, 0.416, 0.436, 0.429, 0.443, 0.431, 0.447],\n",
       "       [0.36 , 0.362, 0.372, 0.378, 0.385, 0.388, 0.37 , 0.397, 0.383, 0.366, 0.374, 0.369, 0.393],\n",
       "       [0.355, 0.358, 0.357, 0.351, 0.335, 0.327, 0.328, 0.344, 0.313, 0.334, 0.343, 0.326, 0.337],\n",
       "       [0.357, 0.345, 0.335, 0.314, 0.292, 0.275, 0.286, 0.29 , 0.297, 0.295, 0.29 , 0.292, 0.284],\n",
       "       [0.357, 0.338, 0.325, 0.298, 0.259, 0.233, 0.233, 0.253, 0.249, 0.259, 0.237, 0.245, 0.261],\n",
       "       [0.353, 0.331, 0.314, 0.283, 0.238, 0.201, 0.192, 0.214, 0.212, 0.207, 0.202, 0.218, 0.219],\n",
       "       [0.352, 0.329, 0.31 , 0.268, 0.217, 0.175, 0.164, 0.181, 0.178, 0.183, 0.179, 0.186, 0.178],\n",
       "       [0.354, 0.331, 0.307, 0.262, 0.206, 0.158, 0.14 , 0.148, 0.151, 0.161, 0.159, 0.149, 0.157],\n",
       "       [0.348, 0.332, 0.305, 0.254, 0.197, 0.149, 0.126, 0.128, 0.132, 0.131, 0.134, 0.132, 0.132],\n",
       "       [0.347, 0.33 , 0.298, 0.248, 0.188, 0.138, 0.116, 0.111, 0.114, 0.115, 0.112, 0.11 , 0.116],\n",
       "       [0.349, 0.33 , 0.292, 0.248, 0.185, 0.132, 0.107, 0.101, 0.1  , 0.099, 0.101, 0.099, 0.099],\n",
       "       [0.355, 0.328, 0.288, 0.243, 0.179, 0.126, 0.101, 0.091, 0.089, 0.088, 0.089, 0.088, 0.088],\n",
       "       [0.355, 0.329, 0.284, 0.237, 0.175, 0.121, 0.095, 0.083, 0.082, 0.081, 0.082, 0.082, 0.082]])"
      ]
     },
     "execution_count": 292,
     "metadata": {},
     "output_type": "execute_result"
    }
   ],
   "source": [
    "%%time\n",
    "exp(1, n=10).reshape(-1, len(students), len(ns)).mean(axis=0).round(3)"
   ]
  },
  {
   "cell_type": "code",
   "execution_count": 293,
   "id": "857e6157-2574-4a95-b098-f70ae6b0f082",
   "metadata": {},
   "outputs": [
    {
     "data": {
      "application/vnd.jupyter.widget-view+json": {
       "model_id": "6ebafa484ae3478b9cfc6107a1327ff7",
       "version_major": 2,
       "version_minor": 0
      },
      "text/plain": [
       "  0%|          | 0/210 [00:00<?, ?it/s]"
      ]
     },
     "metadata": {},
     "output_type": "display_data"
    },
    {
     "name": "stdout",
     "output_type": "stream",
     "text": [
      "CPU times: user 364 ms, sys: 193 ms, total: 558 ms\n",
      "Wall time: 11min 7s\n"
     ]
    },
    {
     "data": {
      "text/plain": [
       "array([[0.083, 0.083, 0.083, 0.083, 0.083, 0.083, 0.081, 0.111, 0.502, 0.992, 0.999, 1.   , 1.   ],\n",
       "       [0.083, 0.083, 0.083, 0.083, 0.083, 0.083, 0.081, 0.106, 0.355, 0.836, 0.897, 0.886, 0.9  ],\n",
       "       [0.083, 0.083, 0.083, 0.083, 0.083, 0.083, 0.082, 0.107, 0.294, 0.77 , 0.813, 0.828, 0.821],\n",
       "       [0.083, 0.083, 0.083, 0.083, 0.083, 0.083, 0.082, 0.093, 0.228, 0.642, 0.738, 0.733, 0.742],\n",
       "       [0.083, 0.083, 0.083, 0.083, 0.083, 0.083, 0.082, 0.101, 0.217, 0.564, 0.659, 0.673, 0.663],\n",
       "       [0.083, 0.083, 0.083, 0.083, 0.083, 0.083, 0.082, 0.096, 0.186, 0.496, 0.603, 0.616, 0.6  ],\n",
       "       [0.083, 0.083, 0.083, 0.083, 0.083, 0.083, 0.082, 0.103, 0.178, 0.421, 0.535, 0.532, 0.534],\n",
       "       [0.083, 0.083, 0.083, 0.083, 0.083, 0.083, 0.083, 0.089, 0.141, 0.345, 0.475, 0.476, 0.477],\n",
       "       [0.083, 0.083, 0.083, 0.083, 0.083, 0.083, 0.083, 0.105, 0.129, 0.303, 0.443, 0.442, 0.442],\n",
       "       [0.083, 0.083, 0.083, 0.083, 0.083, 0.083, 0.083, 0.089, 0.117, 0.237, 0.356, 0.371, 0.375],\n",
       "       [0.083, 0.083, 0.083, 0.083, 0.083, 0.083, 0.083, 0.093, 0.104, 0.188, 0.308, 0.34 , 0.344],\n",
       "       [0.083, 0.083, 0.083, 0.083, 0.083, 0.083, 0.083, 0.084, 0.096, 0.148, 0.269, 0.299, 0.296],\n",
       "       [0.083, 0.083, 0.083, 0.083, 0.083, 0.083, 0.083, 0.086, 0.101, 0.127, 0.225, 0.24 , 0.257],\n",
       "       [0.083, 0.083, 0.083, 0.083, 0.083, 0.083, 0.083, 0.083, 0.094, 0.111, 0.176, 0.227, 0.213],\n",
       "       [0.083, 0.083, 0.083, 0.083, 0.083, 0.083, 0.083, 0.085, 0.091, 0.101, 0.147, 0.178, 0.176],\n",
       "       [0.083, 0.083, 0.083, 0.083, 0.083, 0.083, 0.083, 0.083, 0.087, 0.094, 0.121, 0.154, 0.159],\n",
       "       [0.083, 0.083, 0.083, 0.083, 0.083, 0.083, 0.083, 0.083, 0.085, 0.093, 0.102, 0.123, 0.127],\n",
       "       [0.083, 0.083, 0.083, 0.083, 0.083, 0.083, 0.083, 0.082, 0.086, 0.088, 0.091, 0.098, 0.11 ],\n",
       "       [0.083, 0.083, 0.083, 0.083, 0.083, 0.083, 0.083, 0.082, 0.083, 0.085, 0.088, 0.088, 0.091],\n",
       "       [0.083, 0.083, 0.083, 0.083, 0.083, 0.083, 0.083, 0.083, 0.083, 0.083, 0.082, 0.084, 0.084],\n",
       "       [0.083, 0.083, 0.083, 0.083, 0.083, 0.083, 0.083, 0.083, 0.083, 0.082, 0.082, 0.082, 0.082]])"
      ]
     },
     "execution_count": 293,
     "metadata": {},
     "output_type": "execute_result"
    }
   ],
   "source": [
    "%%time\n",
    "exp(10, n=10).reshape(-1, len(students), len(ns)).mean(axis=0).round(3)"
   ]
  },
  {
   "cell_type": "code",
   "execution_count": null,
   "id": "6526a8fe-f8f1-4715-9121-0224f7dc493f",
   "metadata": {},
   "outputs": [],
   "source": []
  },
  {
   "cell_type": "code",
   "execution_count": 295,
   "id": "046cfedb-267c-47d0-9935-bd215a62af35",
   "metadata": {
    "tags": []
   },
   "outputs": [
    {
     "data": {
      "text/plain": [
       "array([[0.083, 0.083, 0.083, 0.083, 0.083, 0.083, 0.081, 0.111, 0.502, 0.992, 0.999, 1.   , 1.   ],\n",
       "       [0.083, 0.083, 0.083, 0.083, 0.083, 0.083, 0.082, 0.107, 0.294, 0.77 , 0.813, 0.828, 0.821],\n",
       "       [0.083, 0.083, 0.083, 0.083, 0.083, 0.083, 0.082, 0.101, 0.217, 0.564, 0.659, 0.673, 0.663],\n",
       "       [0.083, 0.083, 0.083, 0.083, 0.083, 0.083, 0.082, 0.103, 0.178, 0.421, 0.535, 0.532, 0.534]])"
      ]
     },
     "execution_count": 295,
     "metadata": {},
     "output_type": "execute_result"
    }
   ],
   "source": [
    "_293[[0,2,4,6]]"
   ]
  },
  {
   "cell_type": "code",
   "execution_count": 301,
   "id": "7f977396-215c-43a5-9f72-1cae3bd130bd",
   "metadata": {
    "tags": []
   },
   "outputs": [
    {
     "data": {
      "text/plain": [
       "array([[0.083, 0.083, 0.083, 0.083, 0.083, 0.083, 0.081, 0.111, 0.502, 0.992, 0.999, 1.   , 1.   ],\n",
       "       [0.083, 0.083, 0.083, 0.083, 0.083, 0.083, 0.081, 0.106, 0.355, 0.836, 0.897, 0.886, 0.9  ],\n",
       "       [0.083, 0.083, 0.083, 0.083, 0.083, 0.083, 0.082, 0.107, 0.294, 0.77 , 0.813, 0.828, 0.821],\n",
       "       [0.083, 0.083, 0.083, 0.083, 0.083, 0.083, 0.082, 0.093, 0.228, 0.642, 0.738, 0.733, 0.742],\n",
       "       [0.083, 0.083, 0.083, 0.083, 0.083, 0.083, 0.082, 0.101, 0.217, 0.564, 0.659, 0.673, 0.663],\n",
       "       [0.083, 0.083, 0.083, 0.083, 0.083, 0.083, 0.082, 0.096, 0.186, 0.496, 0.603, 0.616, 0.6  ],\n",
       "       [0.083, 0.083, 0.083, 0.083, 0.083, 0.083, 0.082, 0.103, 0.178, 0.421, 0.535, 0.532, 0.534],\n",
       "       [0.083, 0.083, 0.083, 0.083, 0.083, 0.083, 0.083, 0.089, 0.141, 0.345, 0.475, 0.476, 0.477],\n",
       "       [0.083, 0.083, 0.083, 0.083, 0.083, 0.083, 0.083, 0.105, 0.129, 0.303, 0.443, 0.442, 0.442],\n",
       "       [0.083, 0.083, 0.083, 0.083, 0.083, 0.083, 0.083, 0.089, 0.117, 0.237, 0.356, 0.371, 0.375],\n",
       "       [0.083, 0.083, 0.083, 0.083, 0.083, 0.083, 0.083, 0.093, 0.104, 0.188, 0.308, 0.34 , 0.344],\n",
       "       [0.083, 0.083, 0.083, 0.083, 0.083, 0.083, 0.083, 0.084, 0.096, 0.148, 0.269, 0.299, 0.296],\n",
       "       [0.083, 0.083, 0.083, 0.083, 0.083, 0.083, 0.083, 0.086, 0.101, 0.127, 0.225, 0.24 , 0.257],\n",
       "       [0.083, 0.083, 0.083, 0.083, 0.083, 0.083, 0.083, 0.083, 0.094, 0.111, 0.176, 0.227, 0.213],\n",
       "       [0.083, 0.083, 0.083, 0.083, 0.083, 0.083, 0.083, 0.085, 0.091, 0.101, 0.147, 0.178, 0.176],\n",
       "       [0.083, 0.083, 0.083, 0.083, 0.083, 0.083, 0.083, 0.083, 0.087, 0.094, 0.121, 0.154, 0.159],\n",
       "       [0.083, 0.083, 0.083, 0.083, 0.083, 0.083, 0.083, 0.083, 0.085, 0.093, 0.102, 0.123, 0.127],\n",
       "       [0.083, 0.083, 0.083, 0.083, 0.083, 0.083, 0.083, 0.082, 0.086, 0.088, 0.091, 0.098, 0.11 ],\n",
       "       [0.083, 0.083, 0.083, 0.083, 0.083, 0.083, 0.083, 0.082, 0.083, 0.085, 0.088, 0.088, 0.091],\n",
       "       [0.083, 0.083, 0.083, 0.083, 0.083, 0.083, 0.083, 0.083, 0.083, 0.083, 0.082, 0.084, 0.084],\n",
       "       [0.083, 0.083, 0.083, 0.083, 0.083, 0.083, 0.083, 0.083, 0.083, 0.082, 0.082, 0.082, 0.082]])"
      ]
     },
     "execution_count": 301,
     "metadata": {},
     "output_type": "execute_result"
    }
   ],
   "source": [
    "_293[0,1,2,3,4]"
   ]
  },
  {
   "cell_type": "code",
   "execution_count": null,
   "id": "ccbac5a5-56c0-49ab-9639-40834543f41e",
   "metadata": {},
   "outputs": [],
   "source": [
    "old[0,3,4]"
   ]
  },
  {
   "cell_type": "code",
   "execution_count": 296,
   "id": "f7987c2a-8099-43c9-a8e8-c96dc6b9a140",
   "metadata": {
    "tags": []
   },
   "outputs": [],
   "source": [
    "old = np.array([[0.084, 0.084, 0.084, 0.085, 0.085, 0.088, 0.102, 0.214, 0.305, 0.737, 0.91 , 0.928, 0.93 ],\n",
    "                [0.084, 0.084, 0.084, 0.085, 0.085, 0.088, 0.102, 0.237, 0.314, 0.772, 0.914, 0.917, 0.93 ],\n",
    "                [0.084, 0.084, 0.085, 0.085, 0.086, 0.088, 0.103, 0.275, 0.343, 0.684, 0.877, 0.897, 0.904],\n",
    "                [0.084, 0.084, 0.085, 0.085, 0.086, 0.088, 0.104, 0.301, 0.356, 0.609, 0.788, 0.833, 0.829],\n",
    "                [0.084, 0.084, 0.085, 0.085, 0.086, 0.088, 0.107, 0.276, 0.329, 0.419, 0.638, 0.656, 0.695],\n",
    "                [0.084, 0.084, 0.085, 0.085, 0.086, 0.088, 0.113, 0.26 , 0.305, 0.316, 0.45 , 0.516, 0.545],\n",
    "                [0.084, 0.084, 0.085, 0.085, 0.086, 0.088, 0.1  , 0.235, 0.314, 0.276, 0.273, 0.354, 0.374],\n",
    "                [0.084, 0.084, 0.085, 0.085, 0.085, 0.087, 0.094, 0.19 , 0.247, 0.252, 0.244, 0.221, 0.249],\n",
    "                [0.084, 0.084, 0.085, 0.085, 0.085, 0.086, 0.093, 0.141, 0.175, 0.2  , 0.211, 0.204, 0.175],\n",
    "                [0.084, 0.084, 0.085, 0.085, 0.085, 0.086, 0.089, 0.112, 0.137, 0.173, 0.171, 0.194, 0.177],\n",
    "                [0.084, 0.084, 0.084, 0.085, 0.085, 0.086, 0.088, 0.097, 0.115, 0.117, 0.129, 0.147, 0.128],\n",
    "                [0.084, 0.084, 0.084, 0.085, 0.085, 0.086, 0.088, 0.091, 0.103, 0.117, 0.11 , 0.123, 0.135],\n",
    "                [0.084, 0.084, 0.084, 0.084, 0.084, 0.085, 0.086, 0.087, 0.093, 0.099, 0.111, 0.116, 0.115],\n",
    "                [0.084, 0.084, 0.084, 0.084, 0.084, 0.084, 0.085, 0.087, 0.09 , 0.096, 0.1  , 0.1  , 0.106],\n",
    "                [0.084, 0.084, 0.084, 0.085, 0.085, 0.085, 0.086, 0.088, 0.086, 0.096, 0.101, 0.097, 0.101],\n",
    "                [0.084, 0.084, 0.084, 0.084, 0.084, 0.085, 0.085, 0.086, 0.086, 0.09 , 0.088, 0.092, 0.096],\n",
    "                [0.084, 0.084, 0.084, 0.084, 0.084, 0.084, 0.085, 0.086, 0.086, 0.087, 0.088, 0.091, 0.09 ],\n",
    "                [0.084, 0.084, 0.084, 0.084, 0.084, 0.084, 0.084, 0.085, 0.084, 0.086, 0.088, 0.087, 0.088],\n",
    "                [0.084, 0.084, 0.084, 0.085, 0.085, 0.085, 0.084, 0.085, 0.086, 0.087, 0.088, 0.088, 0.087],\n",
    "                [0.084, 0.084, 0.084, 0.084, 0.084, 0.084, 0.084, 0.085, 0.085, 0.085, 0.084, 0.086, 0.085],\n",
    "                [0.084, 0.084, 0.084, 0.084, 0.084, 0.085, 0.085, 0.084, 0.085, 0.085, 0.083, 0.087, 0.086]])"
   ]
  },
  {
   "cell_type": "code",
   "execution_count": null,
   "id": "d2d5bc64-d6f9-456e-b693-6a6d0154a1bd",
   "metadata": {},
   "outputs": [],
   "source": []
  },
  {
   "cell_type": "code",
   "execution_count": 336,
   "id": "62dbe569-9b9a-434c-a0e0-7614c89d37a4",
   "metadata": {
    "tags": []
   },
   "outputs": [
    {
     "data": {
      "image/png": "[encoded data removed]",
      "text/plain": [
       "<Figure size 640x480 with 1 Axes>"
      ]
     },
     "metadata": {},
     "output_type": "display_data"
    }
   ],
   "source": [
    "df = pd.DataFrame(old[[0,3,6,9]].T)\n",
    "df.index = \" 2^\" + df.index.astype(str) + \" \"\n",
    "with warnings.catch_warnings():\n",
    "    warnings.simplefilter(action='ignore', category=FutureWarning)\n",
    "    ax = sns.lineplot(df)\n",
    "    sns.move_legend(ax, \"upper left\", bbox_to_anchor=(1, 1))"
   ]
  },
  {
   "cell_type": "code",
   "execution_count": 332,
   "id": "d02e82f7-70dc-4ac1-a2f8-af96e76c8e1f",
   "metadata": {
    "tags": []
   },
   "outputs": [],
   "source": [
    "df.index = \"2^\" + df.index.astype(str)"
   ]
  },
  {
   "cell_type": "code",
   "execution_count": 338,
   "id": "20ed5622-26c8-46ec-88b6-2afecb57377c",
   "metadata": {
    "tags": []
   },
   "outputs": [
    {
     "data": {
      "image/png": "[encoded data removed]",
      "text/plain": [
       "<Figure size 640x480 with 1 Axes>"
      ]
     },
     "metadata": {},
     "output_type": "display_data"
    }
   ],
   "source": [
    "df = pd.DataFrame(np.stack([old[:,7],_293[:,7]]).T[::-1])\n",
    "df = df.rename(columns={0:'human', 1:'nonhuman'})\n",
    "with warnings.catch_warnings():\n",
    "    warnings.simplefilter(action='ignore', category=FutureWarning)\n",
    "    ax = sns.lineplot(df)\n",
    "    sns.move_legend(ax, \"upper left\", bbox_to_anchor=(1, 1))\n",
    "    ax.set(xlabel='Teacher Skill (Higher = More Skill)',\n",
    "           ylabel='Task Performance',\n",
    "           title='Comparing Human and Nonhuman teachers at 2^7 datapoints')"
   ]
  },
  {
   "cell_type": "code",
   "execution_count": 339,
   "id": "77ed0b52-a59a-4925-b7d2-763fc78b8028",
   "metadata": {
    "tags": []
   },
   "outputs": [
    {
     "data": {
      "image/png": "[encoded data removed]",
      "text/plain": [
       "<Figure size 640x480 with 1 Axes>"
      ]
     },
     "metadata": {},
     "output_type": "display_data"
    }
   ],
   "source": [
    "df = pd.DataFrame(np.stack([old[:,10],_293[:,10]]).T[::-1])\n",
    "df = df.rename(columns={0:'human', 1:'nonhuman'})\n",
    "with warnings.catch_warnings():\n",
    "    warnings.simplefilter(action='ignore', category=FutureWarning)\n",
    "    ax = sns.lineplot(df)\n",
    "    sns.move_legend(ax, \"upper left\", bbox_to_anchor=(1, 1))\n",
    "    ax.set(xlabel='Teacher Skill (Higher = More Skill)',\n",
    "           ylabel='Task Performance',\n",
    "           title='Comparing Human and Nonhuman teachers at 2^10 datapoints')"
   ]
  },
  {
   "cell_type": "code",
   "execution_count": 300,
   "id": "2c2c0c59-75d7-48fd-96d6-8c4509cf9103",
   "metadata": {
    "tags": []
   },
   "outputs": [
    {
     "data": {
      "text/plain": [
       "array([[0.083, 0.083, 0.083, 0.083, 0.083, 0.083, 0.081, 0.111, 0.502, 0.992, 0.999, 1.   , 1.   ],\n",
       "       [0.083, 0.083, 0.083, 0.083, 0.083, 0.083, 0.082, 0.093, 0.228, 0.642, 0.738, 0.733, 0.742],\n",
       "       [0.083, 0.083, 0.083, 0.083, 0.083, 0.083, 0.082, 0.103, 0.178, 0.421, 0.535, 0.532, 0.534],\n",
       "       [0.083, 0.083, 0.083, 0.083, 0.083, 0.083, 0.083, 0.089, 0.117, 0.237, 0.356, 0.371, 0.375]])"
      ]
     },
     "execution_count": 300,
     "metadata": {},
     "output_type": "execute_result"
    }
   ],
   "source": [
    "_293[[0,3,6,9]]"
   ]
  },
  {
   "cell_type": "code",
   "execution_count": null,
   "id": "f30ec570-7df9-423c-8396-bf75852e0700",
   "metadata": {},
   "outputs": [],
   "source": []
  },
  {
   "cell_type": "code",
   "execution_count": 298,
   "id": "1f26b462-732e-4388-85b1-7644d9b0e399",
   "metadata": {
    "tags": []
   },
   "outputs": [
    {
     "data": {
      "text/plain": [
       "array([[0.084, 0.084, 0.084, 0.085, 0.085, 0.088, 0.102, 0.214, 0.305, 0.737, 0.91 , 0.928, 0.93 ],\n",
       "       [0.084, 0.084, 0.085, 0.085, 0.086, 0.088, 0.104, 0.301, 0.356, 0.609, 0.788, 0.833, 0.829],\n",
       "       [0.084, 0.084, 0.085, 0.085, 0.086, 0.088, 0.1  , 0.235, 0.314, 0.276, 0.273, 0.354, 0.374],\n",
       "       [0.084, 0.084, 0.085, 0.085, 0.085, 0.086, 0.089, 0.112, 0.137, 0.173, 0.171, 0.194, 0.177]])"
      ]
     },
     "execution_count": 298,
     "metadata": {},
     "output_type": "execute_result"
    }
   ],
   "source": [
    "old[[0,3,6,9]]"
   ]
  }
 ],
 "metadata": {
  "kernelspec": {
   "display_name": "base",
   "language": "python",
   "name": "base"
  },
  "language_info": {
   "codemirror_mode": {
    "name": "ipython",
    "version": 3
   },
   "file_extension": ".py",
   "mimetype": "text/x-python",
   "name": "python",
   "nbconvert_exporter": "python",
   "pygments_lexer": "ipython3",
   "version": "3.10.12"
  }
 },
 "nbformat": 4,
 "nbformat_minor": 5
}
