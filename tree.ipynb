{
 "cells": [
  {
   "cell_type": "code",
   "execution_count": 1,
   "id": "766b7803-b252-47da-8afc-5f6783a18118",
   "metadata": {
    "tags": []
   },
   "outputs": [],
   "source": [
    "%load_ext line_profiler"
   ]
  },
  {
   "cell_type": "code",
   "execution_count": 2,
   "id": "86d00c2c-2468-406c-856e-3a39537a231d",
   "metadata": {
    "tags": []
   },
   "outputs": [],
   "source": [
    "from collections import Counter\n",
    "from functools import partial\n",
    "\n",
    "import numpy as np\n",
    "rng = np.random.default_rng()\n",
    "np.set_printoptions(suppress=True, linewidth=150, edgeitems=5)\n",
    "from tqdm.notebook import tqdm, trange\n",
    "from tqdm.contrib.concurrent import process_map\n",
    "\n",
    "from scipy.stats import rankdata\n",
    "import seaborn as sns\n",
    "import matplotlib.pyplot as plt\n",
    "import pandas as pd"
   ]
  },
  {
   "cell_type": "code",
   "execution_count": 236,
   "id": "fa2003db-c834-4768-a459-9792e617847f",
   "metadata": {
    "tags": []
   },
   "outputs": [
    {
     "data": {
      "text/plain": [
       "array([ 0.1   ,  0.1259,  0.1585,  0.1995,  0.2512,  0.3162,  0.3981,  0.5012,  0.631 ,  0.7943,  1.    ,  1.2589,  1.5849,  1.9953,  2.5119,\n",
       "        3.1623,  3.9811,  5.0119,  6.3096,  7.9433, 10.    ])"
      ]
     },
     "metadata": {},
     "output_type": "display_data"
    },
    {
     "data": {
      "text/plain": [
       "array([[ 1. , -5. ],\n",
       "       [ 0.7,  0.3]])"
      ]
     },
     "metadata": {},
     "output_type": "display_data"
    },
    {
     "data": {
      "text/plain": [
       "-3.0"
      ]
     },
     "metadata": {},
     "output_type": "display_data"
    }
   ],
   "source": [
    "# ns = [0,10,10,11,12,13,14,15,16,17]\n",
    "# ns = [0,5,5,6,7,8,9,10,11,12,13,14,15,16,17,18,19]\n",
    "# ns = [0]\n",
    "\n",
    "\n",
    "students = np.logspace(-1, 1, 21)\n",
    "display(students.round(4))\n",
    "\n",
    "\n",
    "# ms = 5\n",
    "# arrs = np.triu(np.tile(np.arange(32, 37),(5,1)).T) - 20\n",
    "# display(arrs)\n",
    "# display(arrs.sum())\n",
    "\n",
    "# ms = 4\n",
    "# arrs = np.triu(np.tile(np.arange(31, 35),(4,1)).T) - 20\n",
    "# display(arrs)\n",
    "# display(arrs.sum())\n",
    "\n",
    "\n",
    "# ns = [0,10,10,11,12,13,14,15,16,17]\n",
    "ns = [0,5,5,6,7,8,9,10,11,12,13,14,15]\n",
    "ms = 2\n",
    "arrs = np.array([[1,-5],[.7,.3]])\n",
    "display(arrs)\n",
    "display(arrs.sum().round(2))"
   ]
  },
  {
   "cell_type": "code",
   "execution_count": 237,
   "id": "c1f414e1-485c-4e84-8088-d8e3d403a139",
   "metadata": {},
   "outputs": [],
   "source": [
    "ranked = False"
   ]
  },
  {
   "cell_type": "code",
   "execution_count": 238,
   "id": "22b1d6d9-9d64-4dee-b971-bd3dfedb6bfe",
   "metadata": {},
   "outputs": [],
   "source": [
    "def make_model(num_nodes=128, num_dense=4):\n",
    "    \n",
    "    import tensorflow as tf\n",
    "    for gpu in tf.config.list_physical_devices('GPU'):\n",
    "        tf.config.experimental.set_memory_growth(gpu, True)\n",
    "    \n",
    "    inputs = tf.keras.layers.Input(shape=(ms*ms + ms + 1))\n",
    "    x = tf.keras.layers.Flatten()(inputs)\n",
    "    \n",
    "    for _ in range(num_dense):\n",
    "        x = tf.keras.layers.Dense(num_nodes, activation='relu')(x)\n",
    "    \n",
    "    # output1 = tf.keras.layers.Dense(5, name='Y0')(x)\n",
    "    # output2 = tf.keras.layers.Dense(5, name='Y1')(x)\n",
    "    # model = tf.keras.models.Model(inputs=inputs, outputs=[output1, output2])\n",
    "    \n",
    "    output1 = tf.keras.layers.Dense(ms, name='Y0')(x)\n",
    "    output1 = tf.keras.layers.Softmax()(output1)\n",
    "    model = tf.keras.models.Model(inputs=inputs, outputs=output1)\n",
    "\n",
    "    \n",
    "    opt = tf.keras.optimizers.Adam()\n",
    "    # opt = tf.keras.optimizers.Adam(learning_rate=1)\n",
    "    # opt = tf.keras.optimizers.SGD()\n",
    "    loss_fn = tf.keras.losses.SparseCategoricalCrossentropy(from_logits=False)\n",
    "    model.compile(optimizer=opt, loss=loss_fn, metrics=['accuracy'])\n",
    "    return model\n",
    "\n",
    "def softmax(x, b, axis=-1):\n",
    "    x = x - np.max(x)\n",
    "    return np.exp(x/b) / np.exp(x/b).sum(axis=axis, keepdims=True)\n",
    "\n",
    "def make_x():\n",
    "    x = arrs\n",
    "    \n",
    "    rand = np.random.random(arrs.shape)\n",
    "    rand = (rand - 0.5)\n",
    "    x = x + rand*0.01\n",
    "    \n",
    "    x = rng.permuted(x, axis=-1)\n",
    "    return x\n",
    "\n",
    "def eval_model(model, n = 1, disable=True):\n",
    "    rewards = []\n",
    "    branch_rewards = []\n",
    "    for _ in trange(n, disable=disable):\n",
    "        x = make_x()\n",
    "        x_tree = np.concatenate([np.eye(ms+1).astype(int), np.tile(x.flatten(), (ms+1,1))], axis=1)\n",
    "        y_pred = model(x_tree)\n",
    "        branch_reward = (x_tree[0,ms+1:].reshape(ms,ms) * y_pred[1:].numpy()).sum(axis=1)\n",
    "        rewards.append(y_pred[0].numpy())\n",
    "        # reward = (y_pred[0] * branch_reward).numpy().sum()\n",
    "        # rewards.append(reward)\n",
    "        branch_rewards.append(branch_reward)\n",
    "    return np.array(rewards), np.array(branch_rewards)\n",
    "\n",
    "#ranked\n",
    "def make_data(b, n=1, disable=True):\n",
    "    X, Y = [], []\n",
    "    for _ in trange(n, disable=disable):\n",
    "        \n",
    "        if ranked:\n",
    "            # Ranked Rewards\n",
    "            x = make_x()\n",
    "            r1 = softmax(rankdata(x,axis=1), b)\n",
    "            r1sum = (r1*x).sum(axis=1)\n",
    "            r0 = softmax(rankdata(r1sum), b)\n",
    "        \n",
    "        else:\n",
    "            ## Rewards Directly\n",
    "            x = make_x()\n",
    "            r1 = softmax(x, b)\n",
    "            r1sum = (r1*x).sum(axis=1)\n",
    "            r0 = softmax(r1sum, b)\n",
    "        \n",
    "        pos = [0] * (ms+1)\n",
    "        pos[0] = 1\n",
    "        x0 = pos + list(x.flatten())\n",
    "        y0 = rng.choice(np.arange(ms), p=r0)\n",
    "        \n",
    "        pos = [0] * (ms+1)\n",
    "        pos[y0+1] = 1\n",
    "        x1 = pos + list(x.flatten())\n",
    "        y1 = rng.choice(np.arange(ms), p=r1[y0])\n",
    "\n",
    "        X.append(x0)\n",
    "        Y.append(y0)\n",
    "        X.append(x1)\n",
    "        Y.append(y1)\n",
    "    \n",
    "    X = np.array(X)\n",
    "    Y = np.array(Y)\n",
    "    \n",
    "    return X,Y"
   ]
  },
  {
   "cell_type": "code",
   "execution_count": 241,
   "id": "ef6af282-f6da-44a7-b19f-7f1bc4e586c9",
   "metadata": {
    "tags": []
   },
   "outputs": [
    {
     "name": "stdout",
     "output_type": "stream",
     "text": [
      "0.100, 0.987, [1.   0.69], [0.96 0.04]\n",
      "0.126, 0.976, [1.   0.68], [0.92 0.08]\n",
      "0.158, 0.963, [1.   0.67], [0.89 0.11]\n",
      "0.200, 0.948, [1.   0.65], [0.85 0.15]\n",
      "0.251, 0.931, [1.   0.63], [0.81 0.19]\n",
      "0.316, 0.912, [1.   0.61], [0.77 0.23]\n",
      "0.398, 0.892, [1.   0.59], [0.74 0.26]\n",
      "0.501, 0.873, [1.   0.58], [0.7 0.3]\n",
      "0.631, 0.854, [1.   0.56], [0.67 0.33]\n",
      "0.794, 0.835, [1.   0.55], [0.64 0.36]\n",
      "1.000, 0.811, [0.99 0.54], [0.61 0.39]\n",
      "1.259, 0.775, [0.95 0.53], [0.58 0.42]\n",
      "1.585, 0.714, [0.87 0.53], [0.55 0.45]\n",
      "1.995, 0.624, [0.72 0.52], [0.52 0.48]\n",
      "2.512, 0.506, [0.5  0.52], [0.5 0.5]\n",
      "3.162, 0.372, [0.22 0.51], [0.48 0.52]\n",
      "3.981, 0.233, [-0.09  0.51], [0.46 0.54]\n",
      "5.012, 0.098, [-0.39  0.51], [0.46 0.54]\n",
      "6.310, -0.028, [-0.67  0.51], [0.45 0.55]\n",
      "7.943, -0.143, [-0.92  0.51], [0.46 0.54]\n",
      "10.000, -0.245, [-1.13  0.5 ], [0.46 0.54]\n",
      "CPU times: user 751 ms, sys: 18.1 ms, total: 769 ms\n",
      "Wall time: 767 ms\n"
     ]
    }
   ],
   "source": [
    "%%time\n",
    "for b in students:\n",
    "    r0s = []\n",
    "    r1s = []\n",
    "    for _ in trange(1000, disable=True):\n",
    "        x = make_x()\n",
    "        \n",
    "        if ranked:\n",
    "            r0 = (softmax(rankdata(x,axis=1), b) * x).sum(axis=1)\n",
    "            r1 = (softmax(rankdata(r0), b) * r0).sum()\n",
    "            r0s.append(r0)\n",
    "            r1s.append(r1)\n",
    "            \n",
    "        else:\n",
    "            r0 = (softmax(x, b) * x).sum(axis=1)\n",
    "            r1 = (softmax(r0, b) * r0).sum()\n",
    "            r0s.append(r0)\n",
    "            r1s.append(r1)\n",
    "            \n",
    "        \n",
    "    r0s = np.array(r0s)\n",
    "    r1s = np.array(r1s)\n",
    "    print(f\"{b:.3f}, {r1s.mean():.3f}, {r0s.mean(axis=0).round(2)}, {softmax(r0s.mean(axis=0), b).round(2)}\")\n"
   ]
  },
  {
   "cell_type": "code",
   "execution_count": null,
   "id": "f51597b7-0d14-4bbd-b0dd-2e032a9581ca",
   "metadata": {},
   "outputs": [],
   "source": []
  },
  {
   "cell_type": "code",
   "execution_count": null,
   "id": "0ac43a6e-f5d8-4821-a96a-cfe9343967d9",
   "metadata": {},
   "outputs": [],
   "source": []
  },
  {
   "cell_type": "code",
   "execution_count": 226,
   "id": "1ed42634-10c5-4475-b89f-0db4f6a77b21",
   "metadata": {
    "tags": []
   },
   "outputs": [],
   "source": [
    "def train_model(student):\n",
    "    verbose = False\n",
    "    if student == students[-1]:\n",
    "        print(f'student == {student:.3f}')\n",
    "        verbose = True\n",
    "    model = make_model()\n",
    "    Xtrain, Ytrain = make_data(student, 2**16, disable=not verbose)\n",
    "    model.fit(Xtrain, Ytrain, verbose=verbose)\n",
    "    reward = eval_model(model, 10000, disable=not verbose)\n",
    "    model.save(f'models/starting_{student:.3f}.keras')\n",
    "    return reward"
   ]
  },
  {
   "cell_type": "code",
   "execution_count": 227,
   "id": "6ff09ac6-6397-4ec4-a545-d006daffa337",
   "metadata": {},
   "outputs": [
    {
     "name": "stdout",
     "output_type": "stream",
     "text": [
      "student == 10.000\n"
     ]
    },
    {
     "data": {
      "application/vnd.jupyter.widget-view+json": {
       "model_id": "cf3746d72412414cb686059402c0b6fa",
       "version_major": 2,
       "version_minor": 0
      },
      "text/plain": [
       "  0%|          | 0/65536 [00:00<?, ?it/s]"
      ]
     },
     "metadata": {},
     "output_type": "display_data"
    },
    {
     "name": "stdout",
     "output_type": "stream",
     "text": [
      "4096/4096 [==============================] - 41s 9ms/step - loss: 0.6909 - accuracy: 0.5276\n"
     ]
    },
    {
     "data": {
      "application/vnd.jupyter.widget-view+json": {
       "model_id": "12ce95c0950d4c8dab44a852dac8b8aa",
       "version_major": 2,
       "version_minor": 0
      },
      "text/plain": [
       "  0%|          | 0/10000 [00:00<?, ?it/s]"
      ]
     },
     "metadata": {},
     "output_type": "display_data"
    },
    {
     "name": "stdout",
     "output_type": "stream",
     "text": [
      "CPU times: user 1.18 s, sys: 1.37 s, total: 2.55 s\n",
      "Wall time: 2min 16s\n"
     ]
    }
   ],
   "source": [
    "%%time\n",
    "rewards = process_map(train_model, students, disable=True, max_workers=24)"
   ]
  },
  {
   "cell_type": "code",
   "execution_count": 228,
   "id": "71093b6a-1f0d-4868-9a85-b493a7f8abea",
   "metadata": {
    "tags": []
   },
   "outputs": [
    {
     "name": "stdout",
     "output_type": "stream",
     "text": [
      "0.100 0.9848771887487561\n",
      "0.126 0.9687399681052264\n",
      "0.158 0.9627900795138153\n",
      "0.200 0.944949940649149\n",
      "0.251 0.9417325888552684\n",
      "0.316 0.900875885117395\n",
      "0.398 0.8876685359148488\n",
      "0.501 0.8737062612224469\n",
      "0.631 0.822976123091378\n",
      "0.794 0.8071001633653557\n",
      "1.000 0.7453729527556489\n",
      "1.259 0.6523550241744233\n",
      "1.585 0.5729465369834931\n",
      "1.995 0.4356250612322364\n",
      "2.512 0.45208748916531594\n",
      "3.162 0.3385125218530636\n",
      "3.981 0.2886464011160692\n",
      "5.012 0.1947473991618349\n",
      "6.310 0.18522471904161403\n",
      "7.943 0.13480009231755571\n",
      "10.000 0.09137675067735519\n"
     ]
    }
   ],
   "source": [
    "for r, s in zip(rewards, students):\n",
    "    \n",
    "    res = r[0]*r[1]\n",
    "    res = res.sum(axis=1).mean()\n",
    "    \n",
    "    print(f\"{s:.3f} {res}\")"
   ]
  },
  {
   "cell_type": "code",
   "execution_count": null,
   "id": "85ef2e91-84e8-49e8-ae33-8a6ae29b8a1d",
   "metadata": {},
   "outputs": [],
   "source": []
  },
  {
   "cell_type": "code",
   "execution_count": null,
   "id": "24d57761-2db5-405e-a279-7788e1859e7f",
   "metadata": {},
   "outputs": [],
   "source": []
  },
  {
   "cell_type": "code",
   "execution_count": 204,
   "id": "3fe2a858-be4f-4f24-be00-1d6d2e33f6b0",
   "metadata": {
    "tags": []
   },
   "outputs": [
    {
     "data": {
      "text/plain": [
       "array([[ 1. , -2. ],\n",
       "       [ 0.7,  0.3]])"
      ]
     },
     "metadata": {},
     "output_type": "display_data"
    },
    {
     "name": "stdout",
     "output_type": "stream",
     "text": [
      "\n"
     ]
    },
    {
     "data": {
      "text/plain": [
       "array([[0.57444252, 0.42555748],\n",
       "       [0.50999867, 0.49000133]])"
      ]
     },
     "metadata": {},
     "output_type": "display_data"
    },
    {
     "name": "stdout",
     "output_type": "stream",
     "text": [
      "\n"
     ]
    },
    {
     "data": {
      "text/plain": [
       "array([-0.27667245,  0.50399947])"
      ]
     },
     "metadata": {},
     "output_type": "display_data"
    }
   ],
   "source": [
    "# a = np.array([[10,0], [9,6]])\n",
    "a = arrs\n",
    "b = 10\n",
    "display(a)\n",
    "print()\n",
    "display(softmax(a, b=b))\n",
    "print()\n",
    "display((a * softmax(a, b=b)).sum(axis=1))"
   ]
  },
  {
   "cell_type": "code",
   "execution_count": null,
   "id": "7e025b33-7b48-494f-81fa-58fd4f1cb971",
   "metadata": {},
   "outputs": [],
   "source": []
  },
  {
   "cell_type": "code",
   "execution_count": null,
   "id": "8b7f8d28-e287-4e57-b20e-1f5378ee2100",
   "metadata": {},
   "outputs": [],
   "source": []
  },
  {
   "cell_type": "code",
   "execution_count": null,
   "id": "a337e1e2-3c6a-48b8-b35b-3af21878318f",
   "metadata": {},
   "outputs": [],
   "source": []
  },
  {
   "cell_type": "markdown",
   "id": "dfa44a1e-2d2f-4767-adaf-3582c4dd22f9",
   "metadata": {
    "jp-MarkdownHeadingCollapsed": true,
    "tags": []
   },
   "source": [
    "# Graphs"
   ]
  },
  {
   "cell_type": "code",
   "execution_count": null,
   "id": "4a2d09c8-d97f-485c-a596-42af707eb0fc",
   "metadata": {
    "tags": []
   },
   "outputs": [],
   "source": [
    "import tensorflow as tf\n",
    "for gpu in tf.config.list_physical_devices('GPU'):\n",
    "    tf.config.experimental.set_memory_growth(gpu, True)\n",
    "tf.get_logger().setLevel('ERROR')\n",
    "model2 = tf.keras.models.load_model(f\"models/starting_{0.100:.3f}.keras\")\n",
    "%timeit r0, r1 = eval_model(model2, 1)"
   ]
  },
  {
   "cell_type": "code",
   "execution_count": null,
   "id": "3436215e-8cca-46d3-a594-21828315e74c",
   "metadata": {},
   "outputs": [],
   "source": []
  },
  {
   "cell_type": "code",
   "execution_count": null,
   "id": "e8e11aa3-1b08-4d82-9af8-2e44d47f6fd1",
   "metadata": {
    "tags": []
   },
   "outputs": [],
   "source": [
    "class CustomCallback(tf.keras.callbacks.Callback):\n",
    "    def __init__(self):\n",
    "        super(CustomCallback, self).__init__()\n",
    "\n",
    "    def on_batch_end(self, batch, logs=None):\n",
    "        r0, r1 = eval_model(self.model, 10)\n",
    "        r = (r0*r1).sum(axis=1).mean()\n",
    "        \n",
    "        \n",
    "        try:\n",
    "            self.model.rewards.append(r)\n",
    "            self.model.accs.append(logs['accuracy'])\n",
    "        except:\n",
    "            self.model.rewards = [r]\n",
    "            self.model.accs = [logs['accuracy']]\n",
    "\n",
    "#         # Add the output to the logs\n",
    "#         if logs is not None:\n",
    "#             logs['reward'] = r"
   ]
  },
  {
   "cell_type": "code",
   "execution_count": null,
   "id": "0d9a45f3-0752-44cd-a3e9-eba10ccd5c5f",
   "metadata": {},
   "outputs": [],
   "source": []
  },
  {
   "cell_type": "code",
   "execution_count": null,
   "id": "60da4fda-3220-485f-9779-2785ff195c45",
   "metadata": {},
   "outputs": [],
   "source": [
    "models = {}"
   ]
  },
  {
   "cell_type": "code",
   "execution_count": null,
   "id": "339a6aa4-087d-4b8c-81c3-fadfdd9e422b",
   "metadata": {
    "tags": []
   },
   "outputs": [],
   "source": [
    "%%time\n",
    "\n",
    "with open('tree.log', 'a') as f:\n",
    "    for student in students:\n",
    "        \n",
    "        print(f'student {student:.3f}', file=f, flush=True)\n",
    "\n",
    "        models[student] = {}\n",
    "\n",
    "        for teacher in students[::2][3:10]:\n",
    "\n",
    "            print(f'teacher {teacher:.3f}', file=f, flush=True)\n",
    "            models[student][teacher] = []\n",
    "            for i in range(5):\n",
    "                print(f'model {i}', file=f, flush=True)\n",
    "                # model = make_model()\n",
    "                model = tf.keras.models.load_model(f\"models/starting_{student:.3f}.keras\")\n",
    "\n",
    "                opt = tf.keras.optimizers.Adam()\n",
    "                loss_fn = tf.keras.losses.SparseCategoricalCrossentropy(from_logits=False)\n",
    "                model.compile(optimizer=opt, loss=loss_fn, metrics=['accuracy'])\n",
    "\n",
    "                X, Y = currs[f'{teacher:.3f}']\n",
    "                model.fit(X[:2**17], Y[:2**17], callbacks=[CustomCallback()], verbose=False)\n",
    "                # model.fit(X[:2**17], Y[:2**17], callbacks=[CustomCallback()])\n",
    "\n",
    "                models[student][teacher].append(model)\n",
    "\n",
    "\n",
    "        #         break\n",
    "        #     break\n",
    "        # break"
   ]
  },
  {
   "cell_type": "code",
   "execution_count": null,
   "id": "53cb41b0-d8b4-4bde-9cc6-3e92be5b5d0a",
   "metadata": {},
   "outputs": [],
   "source": []
  },
  {
   "cell_type": "code",
   "execution_count": null,
   "id": "952cb75b-9d09-4ff1-bb35-826b785218f0",
   "metadata": {
    "tags": []
   },
   "outputs": [],
   "source": [
    "for student, s_models in models.items():\n",
    "    # print(student, list(s_models))\n",
    "    df = {}\n",
    "    for teacher, model in s_models.items():\n",
    "        kernel_size = 20\n",
    "        kernel = np.ones(kernel_size) / kernel_size\n",
    "        rewards = np.array([m.rewards for m in model]).mean(axis=0)\n",
    "        rewards = np.convolve(rewards, kernel, mode='valid')\n",
    "        df[f\"{teacher:.3f}\"] = rewards\n",
    "    df = pd.DataFrame(df)\n",
    "    \n",
    "    print(f'Student {student:.3f}')\n",
    "    with warnings.catch_warnings():\n",
    "        warnings.simplefilter(action='ignore', category=FutureWarning)\n",
    "        ax = sns.lineplot(df[[c for c in df.columns if float(c) >= student]])\n",
    "        sns.move_legend(ax, \"upper left\", bbox_to_anchor=(1, 1))\n",
    "        plt.show()\n",
    "    print()"
   ]
  },
  {
   "cell_type": "code",
   "execution_count": null,
   "id": "eaa543c2-fd0b-4850-a338-e224691396b0",
   "metadata": {
    "tags": []
   },
   "outputs": [],
   "source": [
    "df[[c for c in df.columns if float(c) >= 1]]"
   ]
  },
  {
   "cell_type": "code",
   "execution_count": null,
   "id": "132f48cb-0a7e-42e5-bf60-dc64e3f05bc6",
   "metadata": {},
   "outputs": [],
   "source": [
    "with warnings.catch_warnings():\n",
    "    warnings.simplefilter(action='ignore', category=FutureWarning)\n",
    "\n",
    "    ax = sns.lineplot(df)\n",
    "    sns.move_legend(ax, \"upper left\", bbox_to_anchor=(1, 1))"
   ]
  },
  {
   "cell_type": "code",
   "execution_count": null,
   "id": "c7263848-5c70-4766-903b-c6599daba102",
   "metadata": {},
   "outputs": [],
   "source": []
  },
  {
   "cell_type": "code",
   "execution_count": null,
   "id": "d6cff159-4c68-4dc4-85a1-a6bfb45521c6",
   "metadata": {},
   "outputs": [],
   "source": [
    "1+1"
   ]
  },
  {
   "cell_type": "code",
   "execution_count": null,
   "id": "76baa6ff-384c-4282-90f0-d7690800ccfd",
   "metadata": {},
   "outputs": [],
   "source": []
  },
  {
   "cell_type": "code",
   "execution_count": null,
   "id": "91ff4eab-24b7-44a1-b62c-6f157e55aa4a",
   "metadata": {},
   "outputs": [],
   "source": []
  },
  {
   "cell_type": "code",
   "execution_count": null,
   "id": "ba5068ae-3bd7-4f13-8650-69dfc650608a",
   "metadata": {},
   "outputs": [],
   "source": []
  },
  {
   "cell_type": "code",
   "execution_count": null,
   "id": "bd28ddb4-2cf1-40f0-a3dd-59aa2ba6a0c0",
   "metadata": {},
   "outputs": [],
   "source": [
    "ax = sns.lineplot(df[df.columns[4:9]])\n",
    "sns.move_legend(ax, \"upper left\", bbox_to_anchor=(1, 1))"
   ]
  },
  {
   "cell_type": "code",
   "execution_count": null,
   "id": "bf7a9caa-74cb-4bb3-8927-65b57cfc292f",
   "metadata": {},
   "outputs": [],
   "source": [
    "students[::2][4:9]"
   ]
  },
  {
   "cell_type": "code",
   "execution_count": null,
   "id": "dfa9c84f-a9cd-4015-9fa8-3588366e3a30",
   "metadata": {},
   "outputs": [],
   "source": []
  },
  {
   "cell_type": "markdown",
   "id": "56c7a7ba-5a01-495e-97c7-b76c9e522497",
   "metadata": {},
   "source": [
    "# Eval Training"
   ]
  },
  {
   "cell_type": "code",
   "execution_count": 230,
   "id": "b8f08b68-2293-4d62-b818-2759485dd35c",
   "metadata": {},
   "outputs": [],
   "source": [
    "def eval_training(student, teacher, verbose=False):\n",
    "    import tensorflow as tf\n",
    "    for gpu in tf.config.list_physical_devices('GPU'):\n",
    "        tf.config.experimental.set_memory_growth(gpu, True)\n",
    "\n",
    "    \n",
    "    if student == -1:\n",
    "        model2 = make_model()\n",
    "    else:\n",
    "        model2 = tf.keras.models.load_model(f\"models/starting_{student:.3f}.keras\")\n",
    "    # opt = tf.keras.optimizers.SGD()\n",
    "    opt = tf.keras.optimizers.Adam()\n",
    "    loss_fn = tf.keras.losses.SparseCategoricalCrossentropy(from_logits=False)\n",
    "    model2.compile(optimizer=opt, loss=loss_fn, metrics=['accuracy'])\n",
    "    nsum = 0\n",
    "    \n",
    "    X, Y = currs[f\"{teacher:.3f}\"]\n",
    "    perm = np.random.permutation(len(X))\n",
    "    X, Y = X[perm], Y[perm]\n",
    "    \n",
    "    rewards = []\n",
    "    for i in ns:\n",
    "        if i != 0:\n",
    "            n = 2**i\n",
    "            # X, Y = make_data(teacher, n, disable=True)\n",
    "                        \n",
    "            model2.fit(X[nsum:nsum+n], Y[nsum:nsum+n], verbose=False)\n",
    "            nsum += n\n",
    "            \n",
    "        r0, r1 = eval_model(model2, 10)\n",
    "        reward = (r0*r1).sum(axis=1).mean()\n",
    "        rewards.append(reward)\n",
    "        # print(f\"{nsum}    \", end='\\r')\n",
    "    return rewards"
   ]
  },
  {
   "cell_type": "code",
   "execution_count": 231,
   "id": "b9a6548c-85ef-4e7b-8f30-ef4e94a0f13a",
   "metadata": {
    "tags": []
   },
   "outputs": [],
   "source": [
    "def exp(student, verbose=True, n=20):\n",
    "    # teachers = np.arange(student, 0.40001, 0.02)\n",
    "    \n",
    "    teachers = students\n",
    "    \n",
    "    t_ = list(teachers) * n\n",
    "    s_ = [student for _ in t_]\n",
    "    \n",
    "    res = process_map(eval_training, s_, t_, max_workers=32, chunksize=1)\n",
    "    \n",
    "    return np.array(res)"
   ]
  },
  {
   "cell_type": "code",
   "execution_count": null,
   "id": "7706336d-1a11-4dd6-a159-57d61e4c7b77",
   "metadata": {},
   "outputs": [],
   "source": []
  },
  {
   "cell_type": "code",
   "execution_count": 232,
   "id": "e6be9cdd-8604-4a87-b3ff-10b033576e7a",
   "metadata": {
    "tags": []
   },
   "outputs": [
    {
     "data": {
      "application/vnd.jupyter.widget-view+json": {
       "model_id": "105d99940ee04ba193fb5857cf7029d4",
       "version_major": 2,
       "version_minor": 0
      },
      "text/plain": [
       "  0%|          | 0/21 [00:00<?, ?it/s]"
      ]
     },
     "metadata": {},
     "output_type": "display_data"
    },
    {
     "name": "stdout",
     "output_type": "stream",
     "text": [
      "CPU times: user 115 ms, sys: 323 ms, total: 438 ms\n",
      "Wall time: 27.9 s\n"
     ]
    }
   ],
   "source": [
    "%%time\n",
    "ntotal = (2**np.array(ns[1:])).sum()\n",
    "\n",
    "currs = process_map(make_data, students, [ntotal]*len(students), max_workers=6, chunksize=1)\n",
    "currs = dict(zip([f\"{s:.3f}\" for s in students], currs))"
   ]
  },
  {
   "cell_type": "code",
   "execution_count": null,
   "id": "c5e9288e-cc50-4ee6-a6ce-3d5ae9873f5e",
   "metadata": {},
   "outputs": [],
   "source": []
  },
  {
   "cell_type": "code",
   "execution_count": 233,
   "id": "aea4e02e-4f4e-4e6b-83af-3578af74f795",
   "metadata": {
    "tags": []
   },
   "outputs": [
    {
     "data": {
      "application/vnd.jupyter.widget-view+json": {
       "model_id": "3afa48bf7a2c40888c3faa35ad87acea",
       "version_major": 2,
       "version_minor": 0
      },
      "text/plain": [
       "  0%|          | 0/21 [00:00<?, ?it/s]"
      ]
     },
     "metadata": {},
     "output_type": "display_data"
    },
    {
     "name": "stdout",
     "output_type": "stream",
     "text": [
      "CPU times: user 47.9 ms, sys: 533 ms, total: 581 ms\n",
      "Wall time: 28.8 s\n"
     ]
    },
    {
     "data": {
      "text/plain": [
       "array([[-0.03, -0.13,  0.02, -0.03,  0.41,  0.32,  0.88,  0.94,  0.99,  0.97,  0.99,  0.98,  0.99],\n",
       "       [-0.1 , -0.27, -0.05, -0.11,  0.38,  0.25,  0.79,  0.85,  0.96,  0.97,  0.97,  0.97,  0.98],\n",
       "       [-0.05, -0.16,  0.02,  0.01,  0.44,  0.32,  0.82,  0.93,  0.97,  0.97,  0.96,  0.96,  0.97],\n",
       "       [ 0.  , -0.06,  0.01,  0.06,  0.31,  0.47,  0.79,  0.88,  0.92,  0.95,  0.94,  0.93,  0.94],\n",
       "       [-0.04, -0.08,  0.02,  0.04,  0.32,  0.36,  0.79,  0.87,  0.93,  0.93,  0.94,  0.94,  0.92],\n",
       "       [-0.05, -0.09,  0.01,  0.03,  0.31,  0.44,  0.84,  0.81,  0.89,  0.91,  0.9 ,  0.91,  0.9 ],\n",
       "       [-0.02, -0.04,  0.09,  0.15,  0.41,  0.59,  0.85,  0.88,  0.88,  0.89,  0.88,  0.88,  0.9 ],\n",
       "       [-0.03, -0.01,  0.07,  0.12,  0.28,  0.47,  0.68,  0.85,  0.84,  0.86,  0.84,  0.85,  0.87],\n",
       "       [-0.03,  0.01,  0.06,  0.06,  0.21,  0.36,  0.53,  0.76,  0.8 ,  0.84,  0.82,  0.88,  0.83],\n",
       "       [ 0.04,  0.11,  0.11,  0.13,  0.3 ,  0.44,  0.57,  0.81,  0.77,  0.8 ,  0.8 ,  0.77,  0.78],\n",
       "       [-0.01,  0.02,  0.07,  0.15,  0.25,  0.36,  0.59,  0.67,  0.72,  0.74,  0.73,  0.56,  0.72],\n",
       "       [-0.02,  0.05,  0.08,  0.19,  0.28,  0.36,  0.61,  0.57,  0.63,  0.62,  0.54,  0.61,  0.65],\n",
       "       [ 0.05,  0.13,  0.11,  0.27,  0.23,  0.32,  0.36,  0.46,  0.5 ,  0.61,  0.45,  0.51,  0.54],\n",
       "       [ 0.05,  0.12,  0.1 ,  0.22,  0.18,  0.34,  0.32,  0.43,  0.51,  0.52,  0.36,  0.49,  0.43],\n",
       "       [-0.01,  0.02,  0.06,  0.15,  0.15,  0.28,  0.21,  0.43,  0.37,  0.47,  0.35,  0.3 ,  0.4 ],\n",
       "       [-0.02,  0.05,  0.09,  0.21,  0.16,  0.27,  0.2 ,  0.26,  0.31,  0.33,  0.25,  0.35,  0.31],\n",
       "       [ 0.01,  0.09,  0.08,  0.17,  0.16,  0.24,  0.17,  0.23,  0.25,  0.27,  0.29,  0.27,  0.23],\n",
       "       [ 0.01,  0.09,  0.09,  0.25,  0.15,  0.11,  0.13,  0.14,  0.21,  0.2 ,  0.24,  0.25,  0.15],\n",
       "       [-0.  ,  0.02,  0.06,  0.15,  0.17,  0.14,  0.01,  0.11,  0.22,  0.13,  0.05,  0.09,  0.16],\n",
       "       [-0.12, -0.07,  0.05,  0.12,  0.12,  0.13,  0.  ,  0.09,  0.1 ,  0.06,  0.13,  0.12,  0.1 ],\n",
       "       [ 0.01,  0.02,  0.05,  0.11,  0.13,  0.16, -0.02,  0.1 ,  0.12,  0.06,  0.13,  0.09,  0.12]])"
      ]
     },
     "execution_count": 233,
     "metadata": {},
     "output_type": "execute_result"
    }
   ],
   "source": [
    "%%time\n",
    "exp(-1, n=1).reshape(-1, len(students), len(ns)).mean(axis=0).round(2)"
   ]
  },
  {
   "cell_type": "code",
   "execution_count": 234,
   "id": "c3526f33-c30d-4b17-a174-7e260dd810d0",
   "metadata": {
    "tags": []
   },
   "outputs": [
    {
     "data": {
      "application/vnd.jupyter.widget-view+json": {
       "model_id": "36f3b9e30de649bc8a9fd982c111856f",
       "version_major": 2,
       "version_minor": 0
      },
      "text/plain": [
       "  0%|          | 0/105 [00:00<?, ?it/s]"
      ]
     },
     "metadata": {},
     "output_type": "display_data"
    },
    {
     "name": "stdout",
     "output_type": "stream",
     "text": [
      "CPU times: user 137 ms, sys: 603 ms, total: 740 ms\n",
      "Wall time: 1min 54s\n"
     ]
    },
    {
     "data": {
      "text/plain": [
       "array([[0.746, 0.76 , 0.774, 0.796, 0.837, 0.91 , 0.989, 0.979, 0.985, 0.989, 0.985, 0.986, 0.985],\n",
       "       [0.746, 0.76 , 0.775, 0.796, 0.835, 0.906, 0.983, 0.97 , 0.976, 0.969, 0.975, 0.974, 0.971],\n",
       "       [0.746, 0.76 , 0.775, 0.797, 0.835, 0.905, 0.97 , 0.949, 0.965, 0.963, 0.962, 0.96 , 0.963],\n",
       "       [0.746, 0.76 , 0.775, 0.795, 0.829, 0.894, 0.954, 0.937, 0.937, 0.948, 0.948, 0.941, 0.944],\n",
       "       [0.746, 0.76 , 0.774, 0.793, 0.826, 0.89 , 0.937, 0.917, 0.922, 0.938, 0.92 , 0.932, 0.924],\n",
       "       [0.746, 0.76 , 0.774, 0.793, 0.821, 0.879, 0.91 , 0.896, 0.903, 0.911, 0.911, 0.914, 0.904],\n",
       "       [0.746, 0.76 , 0.775, 0.795, 0.824, 0.871, 0.897, 0.89 , 0.889, 0.896, 0.882, 0.888, 0.89 ],\n",
       "       [0.746, 0.76 , 0.774, 0.794, 0.815, 0.844, 0.878, 0.886, 0.864, 0.857, 0.858, 0.875, 0.867],\n",
       "       [0.746, 0.759, 0.773, 0.793, 0.812, 0.824, 0.828, 0.845, 0.833, 0.836, 0.828, 0.839, 0.831],\n",
       "       [0.746, 0.759, 0.772, 0.788, 0.797, 0.797, 0.773, 0.803, 0.78 , 0.783, 0.784, 0.792, 0.781],\n",
       "       [0.746, 0.748, 0.758, 0.756, 0.75 , 0.729, 0.703, 0.73 , 0.69 , 0.709, 0.747, 0.708, 0.698],\n",
       "       [0.747, 0.746, 0.744, 0.733, 0.714, 0.683, 0.654, 0.63 , 0.577, 0.658, 0.651, 0.657, 0.652],\n",
       "       [0.746, 0.747, 0.738, 0.733, 0.697, 0.657, 0.545, 0.56 , 0.568, 0.574, 0.57 , 0.563, 0.583],\n",
       "       [0.746, 0.743, 0.738, 0.72 , 0.682, 0.605, 0.463, 0.471, 0.481, 0.506, 0.474, 0.495, 0.49 ],\n",
       "       [0.746, 0.743, 0.738, 0.718, 0.675, 0.575, 0.39 , 0.375, 0.42 , 0.444, 0.389, 0.412, 0.429],\n",
       "       [0.746, 0.74 , 0.73 , 0.706, 0.649, 0.523, 0.341, 0.316, 0.343, 0.361, 0.351, 0.32 , 0.336],\n",
       "       [0.746, 0.74 , 0.728, 0.695, 0.633, 0.496, 0.291, 0.246, 0.31 , 0.302, 0.271, 0.293, 0.29 ],\n",
       "       [0.746, 0.74 , 0.728, 0.698, 0.634, 0.492, 0.29 , 0.203, 0.26 , 0.231, 0.221, 0.214, 0.219],\n",
       "       [0.746, 0.737, 0.715, 0.676, 0.591, 0.446, 0.242, 0.148, 0.176, 0.149, 0.176, 0.171, 0.171],\n",
       "       [0.746, 0.737, 0.715, 0.678, 0.593, 0.448, 0.242, 0.123, 0.142, 0.127, 0.149, 0.148, 0.156],\n",
       "       [0.746, 0.737, 0.715, 0.678, 0.594, 0.441, 0.233, 0.106, 0.108, 0.066, 0.11 , 0.111, 0.089]])"
      ]
     },
     "execution_count": 234,
     "metadata": {},
     "output_type": "execute_result"
    }
   ],
   "source": [
    "%%time\n",
    "exp(1, n=5).reshape(-1, len(students), len(ns)).mean(axis=0).round(3)"
   ]
  },
  {
   "cell_type": "code",
   "execution_count": 235,
   "id": "857e6157-2574-4a95-b098-f70ae6b0f082",
   "metadata": {},
   "outputs": [
    {
     "data": {
      "application/vnd.jupyter.widget-view+json": {
       "model_id": "dca434723e124a27b006c6d5110780d9",
       "version_major": 2,
       "version_minor": 0
      },
      "text/plain": [
       "  0%|          | 0/105 [00:00<?, ?it/s]"
      ]
     },
     "metadata": {},
     "output_type": "display_data"
    },
    {
     "name": "stdout",
     "output_type": "stream",
     "text": [
      "CPU times: user 137 ms, sys: 671 ms, total: 807 ms\n",
      "Wall time: 1min 54s\n"
     ]
    },
    {
     "data": {
      "text/plain": [
       "array([[0.08, 0.11, 0.1 , 0.12, 0.15, 0.23, 0.63, 0.96, 0.98, 0.98, 0.98, 0.98, 0.99],\n",
       "       [0.08, 0.11, 0.1 , 0.11, 0.15, 0.23, 0.63, 0.93, 0.97, 0.97, 0.97, 0.97, 0.98],\n",
       "       [0.08, 0.11, 0.1 , 0.11, 0.15, 0.23, 0.63, 0.9 , 0.94, 0.96, 0.96, 0.96, 0.96],\n",
       "       [0.08, 0.11, 0.1 , 0.11, 0.15, 0.23, 0.62, 0.87, 0.93, 0.94, 0.94, 0.95, 0.95],\n",
       "       [0.08, 0.11, 0.1 , 0.11, 0.15, 0.23, 0.6 , 0.83, 0.91, 0.92, 0.93, 0.92, 0.93],\n",
       "       [0.08, 0.11, 0.1 , 0.11, 0.15, 0.24, 0.59, 0.81, 0.89, 0.89, 0.91, 0.91, 0.92],\n",
       "       [0.08, 0.11, 0.1 , 0.11, 0.15, 0.24, 0.59, 0.81, 0.87, 0.88, 0.88, 0.89, 0.88],\n",
       "       [0.08, 0.11, 0.1 , 0.12, 0.15, 0.24, 0.58, 0.81, 0.85, 0.85, 0.86, 0.87, 0.87],\n",
       "       [0.08, 0.11, 0.1 , 0.12, 0.15, 0.24, 0.56, 0.78, 0.82, 0.83, 0.82, 0.83, 0.84],\n",
       "       [0.08, 0.11, 0.1 , 0.12, 0.15, 0.24, 0.54, 0.75, 0.76, 0.77, 0.77, 0.79, 0.79],\n",
       "       [0.08, 0.11, 0.1 , 0.12, 0.15, 0.24, 0.5 , 0.69, 0.69, 0.71, 0.73, 0.7 , 0.74],\n",
       "       [0.08, 0.11, 0.1 , 0.12, 0.15, 0.23, 0.46, 0.62, 0.61, 0.63, 0.59, 0.63, 0.67],\n",
       "       [0.08, 0.1 , 0.11, 0.12, 0.15, 0.22, 0.4 , 0.54, 0.57, 0.59, 0.55, 0.57, 0.58],\n",
       "       [0.08, 0.1 , 0.11, 0.12, 0.15, 0.22, 0.35, 0.46, 0.5 , 0.51, 0.47, 0.48, 0.49],\n",
       "       [0.08, 0.1 , 0.1 , 0.11, 0.14, 0.2 , 0.29, 0.39, 0.4 , 0.41, 0.4 , 0.39, 0.41],\n",
       "       [0.08, 0.1 , 0.1 , 0.11, 0.14, 0.18, 0.26, 0.33, 0.36, 0.3 , 0.33, 0.34, 0.35],\n",
       "       [0.08, 0.1 , 0.1 , 0.11, 0.13, 0.16, 0.22, 0.27, 0.32, 0.31, 0.26, 0.25, 0.3 ],\n",
       "       [0.08, 0.1 , 0.1 , 0.11, 0.12, 0.15, 0.2 , 0.21, 0.27, 0.24, 0.24, 0.22, 0.22],\n",
       "       [0.08, 0.1 , 0.1 , 0.1 , 0.11, 0.12, 0.13, 0.16, 0.18, 0.13, 0.17, 0.16, 0.19],\n",
       "       [0.08, 0.1 , 0.1 , 0.1 , 0.1 , 0.1 , 0.11, 0.12, 0.16, 0.14, 0.15, 0.12, 0.14],\n",
       "       [0.08, 0.1 , 0.1 , 0.09, 0.1 , 0.1 , 0.11, 0.1 , 0.11, 0.09, 0.11, 0.1 , 0.11]])"
      ]
     },
     "execution_count": 235,
     "metadata": {},
     "output_type": "execute_result"
    }
   ],
   "source": [
    "%%time\n",
    "exp(10, n=5).reshape(-1, len(students), len(ns)).mean(axis=0).round(2)"
   ]
  },
  {
   "cell_type": "code",
   "execution_count": null,
   "id": "3d94b37e-700d-48d4-8d6d-06f517b8c552",
   "metadata": {},
   "outputs": [],
   "source": []
  }
 ],
 "metadata": {
  "kernelspec": {
   "display_name": "base",
   "language": "python",
   "name": "base"
  },
  "language_info": {
   "codemirror_mode": {
    "name": "ipython",
    "version": 3
   },
   "file_extension": ".py",
   "mimetype": "text/x-python",
   "name": "python",
   "nbconvert_exporter": "python",
   "pygments_lexer": "ipython3",
   "version": "3.10.12"
  }
 },
 "nbformat": 4,
 "nbformat_minor": 5
}
