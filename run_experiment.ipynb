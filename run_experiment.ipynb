{
 "cells": [
  {
   "cell_type": "code",
   "execution_count": 1,
   "metadata": {},
   "outputs": [],
   "source": [
    "%load_ext autoreload\n",
    "%autoreload 2"
   ]
  },
  {
   "cell_type": "code",
   "execution_count": 2,
   "metadata": {},
   "outputs": [],
   "source": [
    "import numpy as np\n",
    "from hidden_lake import HiddenLakeEnv, generate_random_map, add_visible\n",
    "from utils import Qlearning, EpsilonGreedy, Experiment"
   ]
  },
  {
   "cell_type": "code",
   "execution_count": 3,
   "metadata": {},
   "outputs": [],
   "source": [
    "EPISODES = 100000  # Total episodes\n",
    "LEARNING_RATE = 0.8  # Learning rate\n",
    "GAMMA = 0.95  # Discounting rate\n",
    "EPSILON = 0.5  # Exploration probability\n",
    "MAP_SIZE = 3  # Number of tiles of one side of the squared environment\n",
    "ACTION_SIZE = 4  # Number of possible actions\n",
    "HAZARD_P = 0.2  # Probability that square is hazadorous\n",
    "SLIP_P = 0  # Probability of slipping on the ice"
   ]
  },
  {
   "cell_type": "code",
   "execution_count": 4,
   "metadata": {},
   "outputs": [
    {
     "name": "stderr",
     "output_type": "stream",
     "text": [
      "                                                      \r"
     ]
    }
   ],
   "source": [
    "env = HiddenLakeEnv(map_size = MAP_SIZE, hazard_p = HAZARD_P, slip_p = SLIP_P)\n",
    "learner = Qlearning(learning_rate = LEARNING_RATE, gamma = GAMMA, action_size = ACTION_SIZE )\n",
    "explorer = EpsilonGreedy(epsilon = EPSILON)\n",
    "experiment = Experiment(env, learner, explorer, EPISODES)\n",
    "states, steps, rewards, actions, qtable = experiment.run()"
   ]
  },
  {
   "cell_type": "code",
   "execution_count": null,
   "metadata": {},
   "outputs": [],
   "source": []
  },
  {
   "cell_type": "code",
   "execution_count": 5,
   "metadata": {},
   "outputs": [
    {
     "name": "stdout",
     "output_type": "stream",
     "text": [
      "[[1. 3. 0.]\n",
      " [0. 0. 0.]\n",
      " [0. 0. 0.]]\n",
      "[('D', 0.71944), ('R', 0.0), ('U', 0.72599), ('L', 0.62921)]\n",
      "\n",
      "[[0. 3. 0.]\n",
      " [1. 0. 0.]\n",
      " [2. 0. 0.]]\n",
      "[('D', 1.0), ('R', 0.00143), ('U', 0.9025), ('L', 0.95)]\n",
      "\n",
      "[[1. 0. 0.]\n",
      " [0. 0. 0.]\n",
      " [0. 0. 0.]]\n",
      "[('D', 0.94627), ('R', 0.67571), ('U', 0.83585), ('L', 0.88893)]\n",
      "\n",
      "[[0. 0. 0.]\n",
      " [1. 0. 0.]\n",
      " [0. 0. 0.]]\n",
      "[('D', 0.84239), ('R', 0.88014), ('U', 0.81681), ('L', 0.85167)]\n",
      "\n",
      "[[0. 0. 0.]\n",
      " [0. 1. 0.]\n",
      " [0. 0. 0.]]\n",
      "[('D', 0.93363), ('R', 0.82381), ('U', 0.81404), ('L', 0.8559)]\n",
      "\n",
      "[[0. 0. 0.]\n",
      " [1. 0. 0.]\n",
      " [0. 0. 0.]]\n",
      "[('D', 0.84239), ('R', 0.88014), ('U', 0.81681), ('L', 0.85167)]\n",
      "\n",
      "[[0. 0. 0.]\n",
      " [1. 0. 0.]\n",
      " [0. 0. 0.]]\n",
      "[('D', 0.84239), ('R', 0.88014), ('U', 0.81681), ('L', 0.85167)]\n",
      "\n",
      "[[0. 0. 0.]\n",
      " [0. 1. 0.]\n",
      " [0. 0. 0.]]\n",
      "[('D', 0.93363), ('R', 0.82381), ('U', 0.81404), ('L', 0.8559)]\n",
      "\n",
      "[[0. 0. 0.]\n",
      " [0. 0. 1.]\n",
      " [0. 0. 2.]]\n",
      "[('D', 1.0), ('R', 0.95), ('U', 0.9025), ('L', 0.9025)]\n",
      "\n",
      "[[0. 0. 0.]\n",
      " [0. 1. 0.]\n",
      " [0. 0. 2.]]\n",
      "[('D', 0.95), ('R', 0.95), ('U', 0.85737), ('L', 0.80393)]\n",
      "\n"
     ]
    }
   ],
   "source": [
    "for i in states[:10]:\n",
    "    # print(np.array(i))\n",
    "    # print()\n",
    "    print(np.array(i)[0] + np.array(i)[1]*2 + np.array(i)[2]*3)\n",
    "    print(list(zip(['D','R','U','L'], np.round(qtable[i],5))))\n",
    "    print()"
   ]
  },
  {
   "cell_type": "code",
   "execution_count": null,
   "metadata": {},
   "outputs": [],
   "source": []
  }
 ],
 "metadata": {
  "kernelspec": {
   "display_name": "gymtest",
   "language": "python",
   "name": "python3"
  },
  "language_info": {
   "codemirror_mode": {
    "name": "ipython",
    "version": 3
   },
   "file_extension": ".py",
   "mimetype": "text/x-python",
   "name": "python",
   "nbconvert_exporter": "python",
   "pygments_lexer": "ipython3",
   "version": "3.11.4"
  },
  "orig_nbformat": 4
 },
 "nbformat": 4,
 "nbformat_minor": 2
}
