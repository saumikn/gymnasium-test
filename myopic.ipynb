{
 "cells": [
  {
   "cell_type": "code",
   "execution_count": 1,
   "metadata": {
    "tags": []
   },
   "outputs": [],
   "source": [
    "%load_ext autoreload\n",
    "%autoreload 2\n",
    "%load_ext line_profiler"
   ]
  },
  {
   "cell_type": "code",
   "execution_count": 2,
   "metadata": {
    "tags": []
   },
   "outputs": [],
   "source": [
    "from mdp import MDPEnv, is_valid\n",
    "from tqdm.contrib.concurrent import process_map\n",
    "from tqdm import tqdm\n",
    "import pickle\n",
    "import gzip\n",
    "from functools import cache\n",
    "import numpy as np\n",
    "from constants import MAP_SIZE, HAZARD_P, SLIP_P, MYOPIC, SEEDS"
   ]
  },
  {
   "cell_type": "code",
   "execution_count": null,
   "metadata": {},
   "outputs": [],
   "source": []
  },
  {
   "cell_type": "code",
   "execution_count": 3,
   "metadata": {},
   "outputs": [],
   "source": []
  },
  {
   "cell_type": "code",
   "execution_count": 11,
   "metadata": {},
   "outputs": [],
   "source": [
    "def curr(myo, teach):\n",
    "    import tensorflow as tf\n",
    "    for gpu in tf.config.list_physical_devices('GPU'):\n",
    "        tf.config.experimental.set_memory_growth(gpu, True)\n",
    "    model = tf.keras.models.load_model(f'/storage1/fs1/chien-ju.ho/Active/gym/models/myopic_{myo}.keras')\n",
    "    \n",
    "    \n",
    "    data = np.load(f'/storage1/fs1/chien-ju.ho/Active/gym/data/test/myopic_{teach}.npz')\n",
    "    x, y = data['x'], data['y']    \n",
    "    bs=1024\n",
    "    for b in range(0, bs*10, bs):\n",
    "        model.fit(x[b:b+bs], y[b:b+bs], verbose=0)\n",
    "        model.save(f'/storage1/fs1/chien-ju.ho/Active/gym/models/curr/myopic_1_{teach}_{b+bs}.keras')"
   ]
  },
  {
   "cell_type": "code",
   "execution_count": 12,
   "metadata": {},
   "outputs": [
    {
     "data": {
      "application/vnd.jupyter.widget-view+json": {
       "model_id": "c946e3c36e1a47c087a20eedb2098d6a",
       "version_major": 2,
       "version_minor": 0
      },
      "text/plain": [
       "  0%|          | 0/7 [00:00<?, ?it/s]"
      ]
     },
     "metadata": {},
     "output_type": "display_data"
    },
    {
     "name": "stdout",
     "output_type": "stream",
     "text": [
      "CPU times: user 31.6 ms, sys: 222 ms, total: 253 ms\n",
      "Wall time: 8.29 s\n"
     ]
    },
    {
     "data": {
      "text/plain": [
       "[None, None, None, None, None, None, None]"
      ]
     },
     "execution_count": 12,
     "metadata": {},
     "output_type": "execute_result"
    }
   ],
   "source": [
    "%%time\n",
    "myos = [1 for _ in MYOPIC]\n",
    "teachs = [teach for teach in MYOPIC]\n",
    "process_map(curr, myos, teachs)"
   ]
  },
  {
   "cell_type": "code",
   "execution_count": null,
   "metadata": {},
   "outputs": [],
   "source": []
  },
  {
   "cell_type": "code",
   "execution_count": null,
   "metadata": {},
   "outputs": [],
   "source": []
  },
  {
   "cell_type": "code",
   "execution_count": 33,
   "metadata": {
    "tags": []
   },
   "outputs": [],
   "source": [
    "def model_reward(model, state):\n",
    "    import tensorflow as tf\n",
    "    for gpu in tf.config.list_physical_devices('GPU'):\n",
    "        tf.config.experimental.set_memory_growth(gpu, True)\n",
    "    tf.get_logger().setLevel('ERROR')\n",
    "    \n",
    "    env = MDPEnv(map_size=MAP_SIZE, hazard_p=0.3, slip_p=0.4)\n",
    "    env.reset(state)\n",
    "    \n",
    "    agents = []\n",
    "    grids = []\n",
    "    target, hazards, rand = env.state['target'], env.state['hazards'], env.state['rand']\n",
    "    for i in range(MAP_SIZE):\n",
    "        for j in range(MAP_SIZE):\n",
    "            if (i,j) == target or (i,j) in hazards:\n",
    "                continue\n",
    "            state = ((i,j), target, hazards, rand)\n",
    "            env.reset(state)\n",
    "            agents.append((i,j))\n",
    "            grids.append(env.get_grid())\n",
    "            \n",
    "    model = tf.keras.models.load_model(f'/storage1/fs1/chien-ju.ho/Active/gym/models/curr/myopic_1_{model}.keras')\n",
    "    actions = model.predict(np.array(grids)).argmax(axis=1)\n",
    "    trans = dict(zip(agents, actions))\n",
    "    \n",
    "    rewards = []\n",
    "    for i in range(1000):\n",
    "        env.reset(state)\n",
    "        reward_sum = 0\n",
    "        for step in range(100):\n",
    "            action = trans[env.state['agent']]\n",
    "            _, reward, terminated, truncated, _ = env.step(action)\n",
    "            reward_sum += reward\n",
    "            if terminated or truncated:\n",
    "                break\n",
    "        rewards.append(reward_sum)\n",
    "    return np.mean(rewards)"
   ]
  },
  {
   "cell_type": "code",
   "execution_count": null,
   "metadata": {},
   "outputs": [],
   "source": []
  },
  {
   "cell_type": "code",
   "execution_count": 34,
   "metadata": {
    "tags": []
   },
   "outputs": [],
   "source": [
    "data = np.load(f'/storage1/fs1/chien-ju.ho/Active/gym/data/test/myopic_{1}.npz')\n",
    "x, y = data['x'], data['y']\n",
    "x_states = x[-20000:]"
   ]
  },
  {
   "cell_type": "code",
   "execution_count": null,
   "metadata": {},
   "outputs": [],
   "source": []
  },
  {
   "cell_type": "code",
   "execution_count": 35,
   "metadata": {
    "tags": []
   },
   "outputs": [],
   "source": [
    "all_res = {}"
   ]
  },
  {
   "cell_type": "code",
   "execution_count": null,
   "metadata": {
    "tags": []
   },
   "outputs": [
    {
     "data": {
      "application/vnd.jupyter.widget-view+json": {
       "model_id": "f53b3e3400fc4ac8aee785185398fb80",
       "version_major": 2,
       "version_minor": 0
      },
      "text/plain": [
       "  0%|          | 0/20000 [00:00<?, ?it/s]"
      ]
     },
     "metadata": {},
     "output_type": "display_data"
    }
   ],
   "source": [
    "%%time\n",
    "for teach in MYOPIC:\n",
    "    models = [f'{teach}_1024' for _ in x_states]\n",
    "    res = process_map(model_reward, models, x_states, chunksize=1)\n",
    "    print(teach, np.mean(res), np.std(res))\n",
    "    all_res[models[0]] = res"
   ]
  },
  {
   "cell_type": "code",
   "execution_count": null,
   "metadata": {},
   "outputs": [],
   "source": []
  },
  {
   "cell_type": "code",
   "execution_count": null,
   "metadata": {},
   "outputs": [],
   "source": []
  },
  {
   "cell_type": "code",
   "execution_count": null,
   "metadata": {
    "tags": []
   },
   "outputs": [],
   "source": [
    "%%time\n",
    "for teach in MYOPIC:\n",
    "    models = [f'curr/myopic_1_{teach}_10240' for _ in x_states]\n",
    "    res = process_map(model_reward, models, x_states, chunksize=1)\n",
    "    print(teach, np.mean(res), np.std(res))\n",
    "    all_res[models[0]] = res"
   ]
  },
  {
   "cell_type": "code",
   "execution_count": null,
   "metadata": {},
   "outputs": [],
   "source": []
  },
  {
   "cell_type": "code",
   "execution_count": null,
   "metadata": {
    "tags": []
   },
   "outputs": [],
   "source": [
    "for k,v in all_res.items():\n",
    "    print(k, len(v))"
   ]
  },
  {
   "cell_type": "code",
   "execution_count": null,
   "metadata": {},
   "outputs": [],
   "source": []
  },
  {
   "cell_type": "code",
   "execution_count": null,
   "metadata": {},
   "outputs": [],
   "source": []
  },
  {
   "cell_type": "code",
   "execution_count": null,
   "metadata": {},
   "outputs": [],
   "source": []
  },
  {
   "cell_type": "code",
   "execution_count": null,
   "metadata": {},
   "outputs": [],
   "source": []
  }
 ],
 "metadata": {
  "kernelspec": {
   "display_name": "base",
   "language": "python",
   "name": "base"
  },
  "language_info": {
   "codemirror_mode": {
    "name": "ipython",
    "version": 3
   },
   "file_extension": ".py",
   "mimetype": "text/x-python",
   "name": "python",
   "nbconvert_exporter": "python",
   "pygments_lexer": "ipython3",
   "version": "3.10.12"
  }
 },
 "nbformat": 4,
 "nbformat_minor": 4
}
