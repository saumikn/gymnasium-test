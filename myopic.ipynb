{
 "cells": [
  {
   "cell_type": "code",
   "execution_count": null,
   "metadata": {
    "tags": []
   },
   "outputs": [],
   "source": [
    "%load_ext autoreload\n",
    "%autoreload 2\n",
    "%load_ext line_profiler"
   ]
  },
  {
   "cell_type": "code",
   "execution_count": null,
   "metadata": {
    "tags": []
   },
   "outputs": [],
   "source": [
    "from mdp import MDPEnv, is_valid\n",
    "from tqdm.contrib.concurrent import process_map\n",
    "from tqdm import tqdm\n",
    "import pickle\n",
    "import gzip\n",
    "from functools import cache\n",
    "import numpy as np\n",
    "from constants import MAP_SIZE, HAZARD_P, SLIP_P, MYOPIC, SEEDS\n",
    "from helpers import batchl, flat"
   ]
  },
  {
   "cell_type": "code",
   "execution_count": null,
   "metadata": {},
   "outputs": [],
   "source": []
  },
  {
   "cell_type": "code",
   "execution_count": null,
   "metadata": {},
   "outputs": [],
   "source": [
    "def curr(student, teacher, train, seed):\n",
    "    test = 1000\n",
    "    bs = 32\n",
    "    \n",
    "    import tensorflow as tf\n",
    "    for gpu in tf.config.list_physical_devices('GPU'):\n",
    "        tf.config.experimental.set_memory_growth(gpu, True)\n",
    "    model = tf.keras.models.load_model(f'/storage1/fs1/chien-ju.ho/Active/gym/models/myopic_{student}.keras')\n",
    "    \n",
    "    \n",
    "    data = np.load(f'/storage1/fs1/chien-ju.ho/Active/gym/data/test/myopic_{teacher}.npz')\n",
    "    x, y = data['x'], data['y']\n",
    "    \n",
    "    rng = np.random.default_rng(seed)\n",
    "    \n",
    "    start = rng.integers(15)\n",
    "    x, y = x[start::15], y[start::15]\n",
    "    \n",
    "    perm = rng.permutation(len(x))\n",
    "    x, y = x[perm], y[perm]\n",
    "        \n",
    "    model.fit(x[:train*bs], y[:train*bs], batch_size=bs, verbose=0)\n",
    "    \n",
    "    all_results = []\n",
    "    \n",
    "    for si, state in enumerate(x[-test:]):\n",
    "        # print(f'{si}/{test}', end='\\r')\n",
    "        env = MDPEnv(map_size=MAP_SIZE, hazard_p=0.3, slip_p=0.4)\n",
    "        env.reset(state)\n",
    "\n",
    "        agents = []\n",
    "        grids = []\n",
    "        states = []\n",
    "        target, hazards, rand = env.state['target'], env.state['hazards'], env.state['rand']\n",
    "        hazard_grid = env.get_grid()[2]\n",
    "        for i in range(MAP_SIZE):\n",
    "            for j in range(MAP_SIZE):\n",
    "                if (i,j) == target or (i,j) in hazards:\n",
    "                    continue\n",
    "                if not is_valid(hazard_grid, (i,j), target):\n",
    "                    continue\n",
    "                state = ((i,j), target, hazards, rand)\n",
    "                env.reset(state)\n",
    "                agents.append((i,j))\n",
    "                grids.append(env.get_grid())\n",
    "                states.append(state)\n",
    "\n",
    "        actions = model.predict(np.array(grids)).argmax(axis=1)\n",
    "        trans = dict(zip(agents, actions))\n",
    "\n",
    "        visited = {}\n",
    "\n",
    "        values = np.zeros((MAP_SIZE,MAP_SIZE))\n",
    "\n",
    "        @cache\n",
    "        def next_agents(agent):\n",
    "            env.reset(state)\n",
    "            env.state['agent'] = agent\n",
    "            action = trans[agent]\n",
    "            probs, next_agents = env.next_agents(action)\n",
    "            res = []\n",
    "            for prob, next_agent in zip(probs, next_agents):\n",
    "                env.reset(state)\n",
    "                env.state['agent'] = agent\n",
    "                _, reward, terminated, truncated, _ = env.step(next_agent=next_agent)\n",
    "                res.append((prob, next_agent, reward))\n",
    "            return res\n",
    "\n",
    "        for vi in range(100):\n",
    "            next_values = np.zeros_like(values)\n",
    "            for i, j in agents:\n",
    "                for prob, (i2,j2), reward in next_agents((i,j)):\n",
    "                    # print(prob, (i,j), (i2,j2), reward)\n",
    "                    next_values[i][j] += prob * (values[i2,j2] + reward)\n",
    "            values = next_values\n",
    "\n",
    "        all_rewards = []\n",
    "        for (i,j) in agents:\n",
    "            all_rewards.append(values[i,j])\n",
    "            \n",
    "        all_results.append(np.mean(all_rewards))\n",
    "        \n",
    "    with open('output/res.txt', 'a') as f:\n",
    "        print(f'{student},{teacher},{train},{test},{seed},{np.mean(all_results)}', file=f)\n",
    "\n",
    "    return np.mean(all_results)"
   ]
  },
  {
   "cell_type": "code",
   "execution_count": null,
   "metadata": {},
   "outputs": [],
   "source": [
    "%%time\n",
    "iterables = []\n",
    "for teacher in range(1,8):\n",
    "    for train in [10, 100, 1000]:\n",
    "        for seed in range(1):\n",
    "            iterables.append((1,teacher,train,seed))\n",
    "res = process_map(curr, *zip(*iterables))"
   ]
  },
  {
   "cell_type": "code",
   "execution_count": null,
   "metadata": {},
   "outputs": [],
   "source": []
  },
  {
   "cell_type": "code",
   "execution_count": null,
   "metadata": {},
   "outputs": [],
   "source": []
  },
  {
   "cell_type": "code",
   "execution_count": null,
   "metadata": {},
   "outputs": [],
   "source": []
  },
  {
   "cell_type": "code",
   "execution_count": null,
   "metadata": {},
   "outputs": [],
   "source": []
  },
  {
   "cell_type": "code",
   "execution_count": null,
   "metadata": {},
   "outputs": [],
   "source": []
  },
  {
   "cell_type": "code",
   "execution_count": 31,
   "metadata": {
    "tags": []
   },
   "outputs": [],
   "source": [
    "import pandas as pd\n",
    "import numpy as np\n",
    "import seaborn as sns"
   ]
  },
  {
   "cell_type": "code",
   "execution_count": 106,
   "metadata": {
    "tags": []
   },
   "outputs": [],
   "source": [
    "names = ['student', 'teacher', 'train', 'test', 'seed', 'res']\n",
    "df = pd.read_csv('output/res8_1e-4.txt', names=names)\n",
    "# df.groupby(['student','train']).res.agg(['mean','std','size'])"
   ]
  },
  {
   "cell_type": "code",
   "execution_count": 112,
   "metadata": {},
   "outputs": [
    {
     "data": {
      "text/html": [
       "<div>\n",
       "<style scoped>\n",
       "    .dataframe tbody tr th:only-of-type {\n",
       "        vertical-align: middle;\n",
       "    }\n",
       "\n",
       "    .dataframe tbody tr th {\n",
       "        vertical-align: top;\n",
       "    }\n",
       "\n",
       "    .dataframe thead th {\n",
       "        text-align: right;\n",
       "    }\n",
       "</style>\n",
       "<table border=\"1\" class=\"dataframe\">\n",
       "  <thead>\n",
       "    <tr style=\"text-align: right;\">\n",
       "      <th></th>\n",
       "      <th>student</th>\n",
       "      <th>teacher</th>\n",
       "      <th>train</th>\n",
       "      <th>test</th>\n",
       "      <th>seed</th>\n",
       "      <th>res</th>\n",
       "    </tr>\n",
       "  </thead>\n",
       "  <tbody>\n",
       "    <tr>\n",
       "      <th>39555</th>\n",
       "      <td>2</td>\n",
       "      <td>1</td>\n",
       "      <td>0</td>\n",
       "      <td>1000</td>\n",
       "      <td>1</td>\n",
       "      <td>2.441047</td>\n",
       "    </tr>\n",
       "    <tr>\n",
       "      <th>39562</th>\n",
       "      <td>2</td>\n",
       "      <td>1</td>\n",
       "      <td>0</td>\n",
       "      <td>1000</td>\n",
       "      <td>0</td>\n",
       "      <td>2.548997</td>\n",
       "    </tr>\n",
       "    <tr>\n",
       "      <th>39578</th>\n",
       "      <td>2</td>\n",
       "      <td>1</td>\n",
       "      <td>0</td>\n",
       "      <td>1000</td>\n",
       "      <td>51</td>\n",
       "      <td>2.416718</td>\n",
       "    </tr>\n",
       "    <tr>\n",
       "      <th>39579</th>\n",
       "      <td>2</td>\n",
       "      <td>1</td>\n",
       "      <td>0</td>\n",
       "      <td>1000</td>\n",
       "      <td>50</td>\n",
       "      <td>2.351458</td>\n",
       "    </tr>\n",
       "    <tr>\n",
       "      <th>39609</th>\n",
       "      <td>2</td>\n",
       "      <td>1</td>\n",
       "      <td>0</td>\n",
       "      <td>1000</td>\n",
       "      <td>2</td>\n",
       "      <td>2.443184</td>\n",
       "    </tr>\n",
       "    <tr>\n",
       "      <th>...</th>\n",
       "      <td>...</td>\n",
       "      <td>...</td>\n",
       "      <td>...</td>\n",
       "      <td>...</td>\n",
       "      <td>...</td>\n",
       "      <td>...</td>\n",
       "    </tr>\n",
       "    <tr>\n",
       "      <th>121275</th>\n",
       "      <td>2</td>\n",
       "      <td>19</td>\n",
       "      <td>80</td>\n",
       "      <td>1000</td>\n",
       "      <td>99</td>\n",
       "      <td>2.490382</td>\n",
       "    </tr>\n",
       "    <tr>\n",
       "      <th>121276</th>\n",
       "      <td>2</td>\n",
       "      <td>20</td>\n",
       "      <td>20</td>\n",
       "      <td>1000</td>\n",
       "      <td>99</td>\n",
       "      <td>2.376204</td>\n",
       "    </tr>\n",
       "    <tr>\n",
       "      <th>121277</th>\n",
       "      <td>2</td>\n",
       "      <td>20</td>\n",
       "      <td>40</td>\n",
       "      <td>1000</td>\n",
       "      <td>99</td>\n",
       "      <td>2.419074</td>\n",
       "    </tr>\n",
       "    <tr>\n",
       "      <th>121278</th>\n",
       "      <td>2</td>\n",
       "      <td>20</td>\n",
       "      <td>80</td>\n",
       "      <td>1000</td>\n",
       "      <td>99</td>\n",
       "      <td>2.464420</td>\n",
       "    </tr>\n",
       "    <tr>\n",
       "      <th>121279</th>\n",
       "      <td>2</td>\n",
       "      <td>20</td>\n",
       "      <td>60</td>\n",
       "      <td>1000</td>\n",
       "      <td>99</td>\n",
       "      <td>2.474185</td>\n",
       "    </tr>\n",
       "  </tbody>\n",
       "</table>\n",
       "<p>7400 rows × 6 columns</p>\n",
       "</div>"
      ],
      "text/plain": [
       "        student  teacher  train  test  seed       res\n",
       "39555         2        1      0  1000     1  2.441047\n",
       "39562         2        1      0  1000     0  2.548997\n",
       "39578         2        1      0  1000    51  2.416718\n",
       "39579         2        1      0  1000    50  2.351458\n",
       "39609         2        1      0  1000     2  2.443184\n",
       "...         ...      ...    ...   ...   ...       ...\n",
       "121275        2       19     80  1000    99  2.490382\n",
       "121276        2       20     20  1000    99  2.376204\n",
       "121277        2       20     40  1000    99  2.419074\n",
       "121278        2       20     80  1000    99  2.464420\n",
       "121279        2       20     60  1000    99  2.474185\n",
       "\n",
       "[7400 rows x 6 columns]"
      ]
     },
     "execution_count": 112,
     "metadata": {},
     "output_type": "execute_result"
    }
   ],
   "source": [
    "df[df.student==2]"
   ]
  },
  {
   "cell_type": "code",
   "execution_count": null,
   "metadata": {},
   "outputs": [],
   "source": []
  },
  {
   "cell_type": "code",
   "execution_count": 107,
   "metadata": {},
   "outputs": [],
   "source": [
    "pd.set_option('display.max_rows', 200)"
   ]
  },
  {
   "cell_type": "code",
   "execution_count": 108,
   "metadata": {
    "tags": []
   },
   "outputs": [],
   "source": [
    "names = ['student', 'teacher', 'train', 'test', 'seed', 'res']\n",
    "df = pd.read_csv('output/res8.txt', names=names)"
   ]
  },
  {
   "cell_type": "code",
   "execution_count": 113,
   "metadata": {
    "tags": []
   },
   "outputs": [
    {
     "name": "stderr",
     "output_type": "stream",
     "text": [
      "/tmp/301921.tmpdir/ipykernel_112440/2240048410.py:2: SettingWithCopyWarning: \n",
      "A value is trying to be set on a copy of a slice from a DataFrame.\n",
      "Try using .loc[row_indexer,col_indexer] = value instead\n",
      "\n",
      "See the caveats in the documentation: https://pandas.pydata.org/pandas-docs/stable/user_guide/indexing.html#returning-a-view-versus-a-copy\n",
      "  df2['train'] = df2['train'].astype(str)\n",
      "/opt/conda/lib/python3.10/site-packages/seaborn/_oldcore.py:1498: FutureWarning: is_categorical_dtype is deprecated and will be removed in a future version. Use isinstance(dtype, CategoricalDtype) instead\n",
      "  if pd.api.types.is_categorical_dtype(vector):\n",
      "/opt/conda/lib/python3.10/site-packages/seaborn/_oldcore.py:1498: FutureWarning: is_categorical_dtype is deprecated and will be removed in a future version. Use isinstance(dtype, CategoricalDtype) instead\n",
      "  if pd.api.types.is_categorical_dtype(vector):\n",
      "/opt/conda/lib/python3.10/site-packages/seaborn/_oldcore.py:1498: FutureWarning: is_categorical_dtype is deprecated and will be removed in a future version. Use isinstance(dtype, CategoricalDtype) instead\n",
      "  if pd.api.types.is_categorical_dtype(vector):\n",
      "/opt/conda/lib/python3.10/site-packages/seaborn/_oldcore.py:1498: FutureWarning: is_categorical_dtype is deprecated and will be removed in a future version. Use isinstance(dtype, CategoricalDtype) instead\n",
      "  if pd.api.types.is_categorical_dtype(vector):\n",
      "/opt/conda/lib/python3.10/site-packages/seaborn/_oldcore.py:1498: FutureWarning: is_categorical_dtype is deprecated and will be removed in a future version. Use isinstance(dtype, CategoricalDtype) instead\n",
      "  if pd.api.types.is_categorical_dtype(vector):\n",
      "/opt/conda/lib/python3.10/site-packages/seaborn/_oldcore.py:1119: FutureWarning: use_inf_as_na option is deprecated and will be removed in a future version. Convert inf values to NaN before operating instead.\n",
      "  with pd.option_context('mode.use_inf_as_na', True):\n",
      "/opt/conda/lib/python3.10/site-packages/seaborn/_oldcore.py:1119: FutureWarning: use_inf_as_na option is deprecated and will be removed in a future version. Convert inf values to NaN before operating instead.\n",
      "  with pd.option_context('mode.use_inf_as_na', True):\n"
     ]
    },
    {
     "data": {
      "text/plain": [
       "<Axes: xlabel='teacher', ylabel='res'>"
      ]
     },
     "execution_count": 113,
     "metadata": {},
     "output_type": "execute_result"
    },
    {
     "data": {
      "image/png": "[encoded data removed]",
      "text/plain": [
       "<Figure size 640x480 with 1 Axes>"
      ]
     },
     "metadata": {},
     "output_type": "display_data"
    }
   ],
   "source": [
    "df2 = df[(df.student==5) & (df.train.isin([20, 40, 60, 80, 100, 200, 300, 400, 600, 800, 1000]))]\n",
    "df2['train'] = df2['train'].astype(str)\n",
    "sns.lineplot(data=df2, x='teacher',y='res', hue='train')"
   ]
  },
  {
   "cell_type": "code",
   "execution_count": null,
   "metadata": {},
   "outputs": [],
   "source": []
  },
  {
   "cell_type": "code",
   "execution_count": null,
   "metadata": {},
   "outputs": [],
   "source": []
  },
  {
   "cell_type": "code",
   "execution_count": null,
   "metadata": {},
   "outputs": [],
   "source": []
  },
  {
   "cell_type": "code",
   "execution_count": null,
   "metadata": {},
   "outputs": [],
   "source": []
  },
  {
   "cell_type": "code",
   "execution_count": 98,
   "metadata": {},
   "outputs": [
    {
     "data": {
      "text/html": [
       "<div>\n",
       "<style scoped>\n",
       "    .dataframe tbody tr th:only-of-type {\n",
       "        vertical-align: middle;\n",
       "    }\n",
       "\n",
       "    .dataframe tbody tr th {\n",
       "        vertical-align: top;\n",
       "    }\n",
       "\n",
       "    .dataframe thead th {\n",
       "        text-align: right;\n",
       "    }\n",
       "</style>\n",
       "<table border=\"1\" class=\"dataframe\">\n",
       "  <thead>\n",
       "    <tr style=\"text-align: right;\">\n",
       "      <th></th>\n",
       "      <th></th>\n",
       "      <th></th>\n",
       "      <th>mean</th>\n",
       "      <th>sem</th>\n",
       "      <th>size</th>\n",
       "    </tr>\n",
       "    <tr>\n",
       "      <th>student</th>\n",
       "      <th>train</th>\n",
       "      <th>teacher</th>\n",
       "      <th></th>\n",
       "      <th></th>\n",
       "      <th></th>\n",
       "    </tr>\n",
       "  </thead>\n",
       "  <tbody>\n",
       "    <tr>\n",
       "      <th>1</th>\n",
       "      <th>0</th>\n",
       "      <th>1</th>\n",
       "      <td>1.647731</td>\n",
       "      <td>0.003458</td>\n",
       "      <td>200</td>\n",
       "    </tr>\n",
       "    <tr>\n",
       "      <th>2</th>\n",
       "      <th>0</th>\n",
       "      <th>1</th>\n",
       "      <td>2.424828</td>\n",
       "      <td>0.004025</td>\n",
       "      <td>200</td>\n",
       "    </tr>\n",
       "    <tr>\n",
       "      <th>3</th>\n",
       "      <th>0</th>\n",
       "      <th>1</th>\n",
       "      <td>2.772922</td>\n",
       "      <td>0.004513</td>\n",
       "      <td>200</td>\n",
       "    </tr>\n",
       "    <tr>\n",
       "      <th>4</th>\n",
       "      <th>0</th>\n",
       "      <th>1</th>\n",
       "      <td>3.031003</td>\n",
       "      <td>0.004335</td>\n",
       "      <td>200</td>\n",
       "    </tr>\n",
       "    <tr>\n",
       "      <th>5</th>\n",
       "      <th>0</th>\n",
       "      <th>1</th>\n",
       "      <td>3.209092</td>\n",
       "      <td>0.004541</td>\n",
       "      <td>200</td>\n",
       "    </tr>\n",
       "    <tr>\n",
       "      <th>6</th>\n",
       "      <th>0</th>\n",
       "      <th>1</th>\n",
       "      <td>3.345305</td>\n",
       "      <td>0.004430</td>\n",
       "      <td>200</td>\n",
       "    </tr>\n",
       "    <tr>\n",
       "      <th>7</th>\n",
       "      <th>0</th>\n",
       "      <th>1</th>\n",
       "      <td>3.507655</td>\n",
       "      <td>0.004521</td>\n",
       "      <td>200</td>\n",
       "    </tr>\n",
       "    <tr>\n",
       "      <th>8</th>\n",
       "      <th>0</th>\n",
       "      <th>1</th>\n",
       "      <td>3.684734</td>\n",
       "      <td>0.004889</td>\n",
       "      <td>200</td>\n",
       "    </tr>\n",
       "    <tr>\n",
       "      <th>9</th>\n",
       "      <th>0</th>\n",
       "      <th>1</th>\n",
       "      <td>3.770354</td>\n",
       "      <td>0.004896</td>\n",
       "      <td>200</td>\n",
       "    </tr>\n",
       "    <tr>\n",
       "      <th>10</th>\n",
       "      <th>0</th>\n",
       "      <th>1</th>\n",
       "      <td>3.776164</td>\n",
       "      <td>0.004969</td>\n",
       "      <td>200</td>\n",
       "    </tr>\n",
       "    <tr>\n",
       "      <th>11</th>\n",
       "      <th>0</th>\n",
       "      <th>1</th>\n",
       "      <td>3.923671</td>\n",
       "      <td>0.005140</td>\n",
       "      <td>200</td>\n",
       "    </tr>\n",
       "    <tr>\n",
       "      <th>12</th>\n",
       "      <th>0</th>\n",
       "      <th>1</th>\n",
       "      <td>4.011798</td>\n",
       "      <td>0.005481</td>\n",
       "      <td>200</td>\n",
       "    </tr>\n",
       "    <tr>\n",
       "      <th>13</th>\n",
       "      <th>0</th>\n",
       "      <th>1</th>\n",
       "      <td>3.956074</td>\n",
       "      <td>0.005551</td>\n",
       "      <td>200</td>\n",
       "    </tr>\n",
       "    <tr>\n",
       "      <th>14</th>\n",
       "      <th>0</th>\n",
       "      <th>1</th>\n",
       "      <td>4.138229</td>\n",
       "      <td>0.005458</td>\n",
       "      <td>200</td>\n",
       "    </tr>\n",
       "    <tr>\n",
       "      <th>15</th>\n",
       "      <th>0</th>\n",
       "      <th>1</th>\n",
       "      <td>4.105534</td>\n",
       "      <td>0.005794</td>\n",
       "      <td>200</td>\n",
       "    </tr>\n",
       "    <tr>\n",
       "      <th>16</th>\n",
       "      <th>0</th>\n",
       "      <th>1</th>\n",
       "      <td>4.179588</td>\n",
       "      <td>0.005726</td>\n",
       "      <td>200</td>\n",
       "    </tr>\n",
       "    <tr>\n",
       "      <th>17</th>\n",
       "      <th>0</th>\n",
       "      <th>1</th>\n",
       "      <td>4.188804</td>\n",
       "      <td>0.005696</td>\n",
       "      <td>200</td>\n",
       "    </tr>\n",
       "    <tr>\n",
       "      <th>18</th>\n",
       "      <th>0</th>\n",
       "      <th>1</th>\n",
       "      <td>4.367461</td>\n",
       "      <td>0.005887</td>\n",
       "      <td>200</td>\n",
       "    </tr>\n",
       "    <tr>\n",
       "      <th>19</th>\n",
       "      <th>0</th>\n",
       "      <th>1</th>\n",
       "      <td>4.296780</td>\n",
       "      <td>0.005960</td>\n",
       "      <td>200</td>\n",
       "    </tr>\n",
       "    <tr>\n",
       "      <th>20</th>\n",
       "      <th>0</th>\n",
       "      <th>1</th>\n",
       "      <td>4.300790</td>\n",
       "      <td>0.005928</td>\n",
       "      <td>200</td>\n",
       "    </tr>\n",
       "  </tbody>\n",
       "</table>\n",
       "</div>"
      ],
      "text/plain": [
       "                           mean       sem  size\n",
       "student train teacher                          \n",
       "1       0     1        1.647731  0.003458   200\n",
       "2       0     1        2.424828  0.004025   200\n",
       "3       0     1        2.772922  0.004513   200\n",
       "4       0     1        3.031003  0.004335   200\n",
       "5       0     1        3.209092  0.004541   200\n",
       "6       0     1        3.345305  0.004430   200\n",
       "7       0     1        3.507655  0.004521   200\n",
       "8       0     1        3.684734  0.004889   200\n",
       "9       0     1        3.770354  0.004896   200\n",
       "10      0     1        3.776164  0.004969   200\n",
       "11      0     1        3.923671  0.005140   200\n",
       "12      0     1        4.011798  0.005481   200\n",
       "13      0     1        3.956074  0.005551   200\n",
       "14      0     1        4.138229  0.005458   200\n",
       "15      0     1        4.105534  0.005794   200\n",
       "16      0     1        4.179588  0.005726   200\n",
       "17      0     1        4.188804  0.005696   200\n",
       "18      0     1        4.367461  0.005887   200\n",
       "19      0     1        4.296780  0.005960   200\n",
       "20      0     1        4.300790  0.005928   200"
      ]
     },
     "execution_count": 98,
     "metadata": {},
     "output_type": "execute_result"
    }
   ],
   "source": [
    "df2 = df[df.train==0].groupby(['student','train','teacher']).res.agg(['mean','std','size'])\n",
    "df2['sem'] = df2['std'] / np.sqrt(df2['size'])\n",
    "df2[['mean','sem','size']]"
   ]
  },
  {
   "cell_type": "code",
   "execution_count": null,
   "metadata": {},
   "outputs": [],
   "source": []
  },
  {
   "cell_type": "code",
   "execution_count": null,
   "metadata": {},
   "outputs": [],
   "source": []
  },
  {
   "cell_type": "code",
   "execution_count": 63,
   "metadata": {},
   "outputs": [],
   "source": [
    "import tensorflow as tf"
   ]
  },
  {
   "cell_type": "code",
   "execution_count": 65,
   "metadata": {},
   "outputs": [],
   "source": [
    "model = tf.keras.models.Sequential([\n",
    "  tf.keras.layers.Flatten(input_shape=(4, 8, 8)),\n",
    "  tf.keras.layers.Dense(128, activation='relu'),\n",
    "  tf.keras.layers.Dense(128, activation='relu'),\n",
    "  tf.keras.layers.Dense(128, activation='relu'),\n",
    "  tf.keras.layers.Dense(128, activation='relu'),\n",
    "  tf.keras.layers.Dense(4)\n",
    "])\n",
    "loss_fn = tf.keras.losses.SparseCategoricalCrossentropy(from_logits=True)\n",
    "model.compile(optimizer='adam', loss=loss_fn, metrics=['accuracy'])"
   ]
  },
  {
   "cell_type": "code",
   "execution_count": 66,
   "metadata": {
    "tags": []
   },
   "outputs": [
    {
     "data": {
      "text/plain": [
       "{'name': 'Adam',\n",
       " 'learning_rate': 0.001,\n",
       " 'decay': 0.0,\n",
       " 'beta_1': 0.9,\n",
       " 'beta_2': 0.999,\n",
       " 'epsilon': 1e-07,\n",
       " 'amsgrad': False}"
      ]
     },
     "execution_count": 66,
     "metadata": {},
     "output_type": "execute_result"
    }
   ],
   "source": [
    "model.optimizer.get_config()"
   ]
  },
  {
   "cell_type": "code",
   "execution_count": 67,
   "metadata": {
    "tags": []
   },
   "outputs": [],
   "source": [
    "model = tf.keras.models.load_model(f'/storage1/fs1/chien-ju.ho/Active/gym/models{8}/myopic_{6}.keras')"
   ]
  },
  {
   "cell_type": "code",
   "execution_count": 68,
   "metadata": {
    "tags": []
   },
   "outputs": [
    {
     "data": {
      "text/plain": [
       "{'name': 'Adam',\n",
       " 'learning_rate': 0.001,\n",
       " 'decay': 0.0,\n",
       " 'beta_1': 0.9,\n",
       " 'beta_2': 0.999,\n",
       " 'epsilon': 1e-07,\n",
       " 'amsgrad': False}"
      ]
     },
     "execution_count": 68,
     "metadata": {},
     "output_type": "execute_result"
    }
   ],
   "source": [
    "model.optimizer.get_config()"
   ]
  },
  {
   "cell_type": "code",
   "execution_count": 70,
   "metadata": {
    "tags": []
   },
   "outputs": [],
   "source": [
    "from tensorflow.keras import backend as K"
   ]
  },
  {
   "cell_type": "code",
   "execution_count": 72,
   "metadata": {
    "tags": []
   },
   "outputs": [
    {
     "data": {
      "text/plain": [
       "{'name': 'Adam',\n",
       " 'learning_rate': 1e-04,\n",
       " 'decay': 0.0,\n",
       " 'beta_1': 0.9,\n",
       " 'beta_2': 0.999,\n",
       " 'epsilon': 1e-07,\n",
       " 'amsgrad': False}"
      ]
     },
     "execution_count": 72,
     "metadata": {},
     "output_type": "execute_result"
    }
   ],
   "source": [
    "K.set_value(model.optimizer.learning_rate, 0.0001)\n",
    "model.optimizer.get_config()"
   ]
  },
  {
   "cell_type": "code",
   "execution_count": null,
   "metadata": {},
   "outputs": [],
   "source": []
  },
  {
   "cell_type": "code",
   "execution_count": null,
   "metadata": {},
   "outputs": [],
   "source": []
  },
  {
   "cell_type": "code",
   "execution_count": null,
   "metadata": {},
   "outputs": [],
   "source": []
  },
  {
   "cell_type": "code",
   "execution_count": 5,
   "metadata": {},
   "outputs": [
    {
     "data": {
      "text/plain": [
       "(74206, 4, 8, 8)"
      ]
     },
     "execution_count": 5,
     "metadata": {},
     "output_type": "execute_result"
    }
   ],
   "source": [
    "x.shape"
   ]
  },
  {
   "cell_type": "code",
   "execution_count": 7,
   "metadata": {
    "tags": []
   },
   "outputs": [],
   "source": [
    "rng = np.random.default_rng(0)"
   ]
  },
  {
   "cell_type": "code",
   "execution_count": 8,
   "metadata": {
    "tags": []
   },
   "outputs": [
    {
     "data": {
      "text/plain": [
       "array([84, 63])"
      ]
     },
     "execution_count": 8,
     "metadata": {},
     "output_type": "execute_result"
    }
   ],
   "source": [
    "rng.choice(100, size=2, replace=False)"
   ]
  },
  {
   "cell_type": "code",
   "execution_count": null,
   "metadata": {},
   "outputs": [],
   "source": []
  }
 ],
 "metadata": {
  "kernelspec": {
   "display_name": "base",
   "language": "python",
   "name": "base"
  },
  "language_info": {
   "codemirror_mode": {
    "name": "ipython",
    "version": 3
   },
   "file_extension": ".py",
   "mimetype": "text/x-python",
   "name": "python",
   "nbconvert_exporter": "python",
   "pygments_lexer": "ipython3",
   "version": "3.10.12"
  }
 },
 "nbformat": 4,
 "nbformat_minor": 4
}
