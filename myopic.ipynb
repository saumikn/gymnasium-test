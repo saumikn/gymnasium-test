{
 "cells": [
  {
   "cell_type": "code",
   "execution_count": 2,
   "metadata": {
    "tags": []
   },
   "outputs": [],
   "source": [
    "%load_ext autoreload\n",
    "%autoreload 2\n",
    "%load_ext line_profiler"
   ]
  },
  {
   "cell_type": "code",
   "execution_count": 3,
   "metadata": {
    "tags": []
   },
   "outputs": [],
   "source": [
    "import pandas as pd\n",
    "import numpy as np\n",
    "import seaborn as sns"
   ]
  },
  {
   "cell_type": "code",
   "execution_count": null,
   "metadata": {},
   "outputs": [],
   "source": []
  },
  {
   "cell_type": "code",
   "execution_count": 4,
   "metadata": {
    "tags": []
   },
   "outputs": [
    {
     "name": "stdout",
     "output_type": "stream",
     "text": [
      "CPU times: user 59.1 ms, sys: 13.6 ms, total: 72.7 ms\n",
      "Wall time: 95.3 ms\n"
     ]
    },
    {
     "data": {
      "text/plain": [
       "((19682, 4, 8, 8), (19682,))"
      ]
     },
     "execution_count": 4,
     "metadata": {},
     "output_type": "execute_result"
    }
   ],
   "source": [
    "%%time\n",
    "from constants import DIR\n",
    "data = np.load(f'{DIR}/data{8}/test/myopic_{10}_{3}.npz')\n",
    "x, y = data['x'], data['y']\n",
    "x.shape, y.shape"
   ]
  },
  {
   "cell_type": "code",
   "execution_count": null,
   "metadata": {},
   "outputs": [],
   "source": []
  },
  {
   "cell_type": "code",
   "execution_count": null,
   "metadata": {},
   "outputs": [],
   "source": []
  },
  {
   "cell_type": "code",
   "execution_count": 31,
   "metadata": {},
   "outputs": [
    {
     "name": "stdout",
     "output_type": "stream",
     "text": [
      "(4971, 7)\n"
     ]
    },
    {
     "data": {
      "text/html": [
       "<div>\n",
       "<style scoped>\n",
       "    .dataframe tbody tr th:only-of-type {\n",
       "        vertical-align: middle;\n",
       "    }\n",
       "\n",
       "    .dataframe tbody tr th {\n",
       "        vertical-align: top;\n",
       "    }\n",
       "\n",
       "    .dataframe thead th {\n",
       "        text-align: right;\n",
       "    }\n",
       "</style>\n",
       "<table border=\"1\" class=\"dataframe\">\n",
       "  <thead>\n",
       "    <tr style=\"text-align: right;\">\n",
       "      <th></th>\n",
       "      <th>student</th>\n",
       "      <th>Reward</th>\n",
       "    </tr>\n",
       "  </thead>\n",
       "  <tbody>\n",
       "    <tr>\n",
       "      <th>0</th>\n",
       "      <td>1</td>\n",
       "      <td>-0.496446</td>\n",
       "    </tr>\n",
       "    <tr>\n",
       "      <th>1</th>\n",
       "      <td>2</td>\n",
       "      <td>-0.127040</td>\n",
       "    </tr>\n",
       "    <tr>\n",
       "      <th>2</th>\n",
       "      <td>3</td>\n",
       "      <td>0.348052</td>\n",
       "    </tr>\n",
       "    <tr>\n",
       "      <th>3</th>\n",
       "      <td>4</td>\n",
       "      <td>0.597201</td>\n",
       "    </tr>\n",
       "    <tr>\n",
       "      <th>4</th>\n",
       "      <td>5</td>\n",
       "      <td>0.645543</td>\n",
       "    </tr>\n",
       "    <tr>\n",
       "      <th>5</th>\n",
       "      <td>6</td>\n",
       "      <td>0.708537</td>\n",
       "    </tr>\n",
       "    <tr>\n",
       "      <th>6</th>\n",
       "      <td>7</td>\n",
       "      <td>0.751936</td>\n",
       "    </tr>\n",
       "    <tr>\n",
       "      <th>7</th>\n",
       "      <td>8</td>\n",
       "      <td>0.832525</td>\n",
       "    </tr>\n",
       "    <tr>\n",
       "      <th>8</th>\n",
       "      <td>9</td>\n",
       "      <td>0.765268</td>\n",
       "    </tr>\n",
       "    <tr>\n",
       "      <th>9</th>\n",
       "      <td>10</td>\n",
       "      <td>0.825199</td>\n",
       "    </tr>\n",
       "    <tr>\n",
       "      <th>10</th>\n",
       "      <td>11</td>\n",
       "      <td>0.872318</td>\n",
       "    </tr>\n",
       "    <tr>\n",
       "      <th>11</th>\n",
       "      <td>12</td>\n",
       "      <td>0.838807</td>\n",
       "    </tr>\n",
       "    <tr>\n",
       "      <th>12</th>\n",
       "      <td>13</td>\n",
       "      <td>0.905884</td>\n",
       "    </tr>\n",
       "    <tr>\n",
       "      <th>13</th>\n",
       "      <td>14</td>\n",
       "      <td>0.930920</td>\n",
       "    </tr>\n",
       "    <tr>\n",
       "      <th>14</th>\n",
       "      <td>15</td>\n",
       "      <td>0.909823</td>\n",
       "    </tr>\n",
       "    <tr>\n",
       "      <th>15</th>\n",
       "      <td>16</td>\n",
       "      <td>0.978390</td>\n",
       "    </tr>\n",
       "    <tr>\n",
       "      <th>16</th>\n",
       "      <td>17</td>\n",
       "      <td>0.915734</td>\n",
       "    </tr>\n",
       "    <tr>\n",
       "      <th>17</th>\n",
       "      <td>18</td>\n",
       "      <td>0.927168</td>\n",
       "    </tr>\n",
       "    <tr>\n",
       "      <th>18</th>\n",
       "      <td>19</td>\n",
       "      <td>0.934886</td>\n",
       "    </tr>\n",
       "    <tr>\n",
       "      <th>19</th>\n",
       "      <td>20</td>\n",
       "      <td>0.959245</td>\n",
       "    </tr>\n",
       "    <tr>\n",
       "      <th>20</th>\n",
       "      <td>21</td>\n",
       "      <td>0.974721</td>\n",
       "    </tr>\n",
       "    <tr>\n",
       "      <th>21</th>\n",
       "      <td>22</td>\n",
       "      <td>0.956388</td>\n",
       "    </tr>\n",
       "    <tr>\n",
       "      <th>22</th>\n",
       "      <td>23</td>\n",
       "      <td>0.940562</td>\n",
       "    </tr>\n",
       "    <tr>\n",
       "      <th>23</th>\n",
       "      <td>24</td>\n",
       "      <td>0.960772</td>\n",
       "    </tr>\n",
       "    <tr>\n",
       "      <th>24</th>\n",
       "      <td>25</td>\n",
       "      <td>0.899702</td>\n",
       "    </tr>\n",
       "    <tr>\n",
       "      <th>25</th>\n",
       "      <td>26</td>\n",
       "      <td>0.930600</td>\n",
       "    </tr>\n",
       "    <tr>\n",
       "      <th>26</th>\n",
       "      <td>27</td>\n",
       "      <td>0.972561</td>\n",
       "    </tr>\n",
       "    <tr>\n",
       "      <th>27</th>\n",
       "      <td>28</td>\n",
       "      <td>1.000291</td>\n",
       "    </tr>\n",
       "    <tr>\n",
       "      <th>28</th>\n",
       "      <td>29</td>\n",
       "      <td>0.951404</td>\n",
       "    </tr>\n",
       "  </tbody>\n",
       "</table>\n",
       "</div>"
      ],
      "text/plain": [
       "    student    Reward\n",
       "0         1 -0.496446\n",
       "1         2 -0.127040\n",
       "2         3  0.348052\n",
       "3         4  0.597201\n",
       "4         5  0.645543\n",
       "5         6  0.708537\n",
       "6         7  0.751936\n",
       "7         8  0.832525\n",
       "8         9  0.765268\n",
       "9        10  0.825199\n",
       "10       11  0.872318\n",
       "11       12  0.838807\n",
       "12       13  0.905884\n",
       "13       14  0.930920\n",
       "14       15  0.909823\n",
       "15       16  0.978390\n",
       "16       17  0.915734\n",
       "17       18  0.927168\n",
       "18       19  0.934886\n",
       "19       20  0.959245\n",
       "20       21  0.974721\n",
       "21       22  0.956388\n",
       "22       23  0.940562\n",
       "23       24  0.960772\n",
       "24       25  0.899702\n",
       "25       26  0.930600\n",
       "26       27  0.972561\n",
       "27       28  1.000291\n",
       "28       29  0.951404"
      ]
     },
     "execution_count": 31,
     "metadata": {},
     "output_type": "execute_result"
    }
   ],
   "source": [
    "names = ['map_size','student', 'Teacher', 'Train_Size', 'test', 'seed', 'Reward']\n",
    "df = pd.read_csv('output/res_curr.txt', names=names)\n",
    "print(df.shape)\n",
    "df2 = df[(df.map_size==12)].groupby(['student']).Reward.mean().reset_index()\n",
    "df2"
   ]
  },
  {
   "cell_type": "code",
   "execution_count": null,
   "metadata": {},
   "outputs": [],
   "source": [
    "df2 = df[(df.map_size==12) & (df.student==0)]\n",
    "df2.loc[:,'student'] = df2['student'].astype(str)\n",
    "df2.loc[:,'Train_Size'] = df2['Train_Size'].astype(str)\n",
    "ax = sns.lineplot(data=df2, x='Teacher', y='Reward', hue='Train_Size', errorbar='se')\n",
    "sns.move_legend(ax, \"upper left\", bbox_to_anchor=(1, 1))"
   ]
  },
  {
   "cell_type": "code",
   "execution_count": null,
   "metadata": {},
   "outputs": [],
   "source": []
  },
  {
   "cell_type": "code",
   "execution_count": 12,
   "metadata": {
    "tags": []
   },
   "outputs": [
    {
     "data": {
      "text/plain": [
       "train_size  map_size  Teacher\n",
       "1024000     8         1          0.880222\n",
       "                      2          0.850190\n",
       "                      3          0.843364\n",
       "                      4          0.814213\n",
       "                      5          0.816517\n",
       "                      6          0.819679\n",
       "                      7          0.826760\n",
       "                      8          0.835310\n",
       "                      9          0.846141\n",
       "                      10         0.851518\n",
       "                      11         0.856180\n",
       "                      12         0.856931\n",
       "                      13         0.856669\n",
       "                      14         0.854994\n",
       "                      15         0.856212\n",
       "                      16         0.855326\n",
       "                      17         0.855784\n",
       "                      18         0.856315\n",
       "                      19         0.854309\n",
       "                      20         0.854788\n",
       "Name: res, dtype: float64"
      ]
     },
     "execution_count": 12,
     "metadata": {},
     "output_type": "execute_result"
    }
   ],
   "source": [
    "names = ['map_size', 'Teacher', 'train_size', 'seed', 'res']\n",
    "df = pd.read_csv('output/eval_acc.txt', names=names)\n",
    "df.groupby(['train_size','map_size', 'Teacher']).res.mean()"
   ]
  },
  {
   "cell_type": "code",
   "execution_count": null,
   "metadata": {},
   "outputs": [],
   "source": []
  },
  {
   "cell_type": "code",
   "execution_count": null,
   "metadata": {},
   "outputs": [],
   "source": []
  },
  {
   "cell_type": "code",
   "execution_count": null,
   "metadata": {},
   "outputs": [],
   "source": []
  },
  {
   "cell_type": "code",
   "execution_count": null,
   "metadata": {},
   "outputs": [],
   "source": []
  },
  {
   "cell_type": "code",
   "execution_count": null,
   "metadata": {},
   "outputs": [],
   "source": []
  },
  {
   "cell_type": "code",
   "execution_count": null,
   "metadata": {},
   "outputs": [],
   "source": []
  },
  {
   "cell_type": "code",
   "execution_count": null,
   "metadata": {},
   "outputs": [],
   "source": []
  },
  {
   "cell_type": "code",
   "execution_count": null,
   "metadata": {},
   "outputs": [],
   "source": []
  },
  {
   "cell_type": "code",
   "execution_count": null,
   "metadata": {},
   "outputs": [],
   "source": [
    "# New\n",
    "8,0,11,1000000,1000,0,1.737063038040251\n",
    "8,0,7,1000000,1000,0,1.8574064630218068\n",
    "8,0,8,1000000,1000,0,1.8212922538462877\n",
    "8,0,16,1000000,1000,0,1.6762998601976065\n",
    "8,0,13,1000000,1000,0,1.6745948742787191\n",
    "8,0,9,1000000,1000,0,1.7977901335753728\n",
    "8,0,12,1000000,1000,0,1.727754811599537\n",
    "8,0,20,1000000,1000,0,1.6105042426305554\n",
    "8,0,10,1000000,1000,0,1.7556572049105612\n",
    "8,0,19,1000000,1000,0,1.6260097560881182\n",
    "8,0,17,1000000,1000,0,1.6469156403898988\n",
    "8,0,5,1000000,1000,0,1.8395065830360828\n",
    "8,0,6,1000000,1000,0,1.888425513077001\n",
    "8,0,15,1000000,1000,0,1.6817530591642733\n",
    "8,0,18,1000000,1000,0,1.6218751254124977\n",
    "8,0,4,1000000,1000,0,1.7656588591305082\n",
    "8,0,14,1000000,1000,0,1.7006141977244933\n",
    "8,0,1,1000000,1000,0,0.9120738847942531\n",
    "8,0,3,1000000,1000,0,1.6278528175774505\n",
    "8,0,2,1000000,1000,0,1.3724574572144252"
   ]
  },
  {
   "cell_type": "code",
   "execution_count": null,
   "metadata": {},
   "outputs": [],
   "source": [
    "# Old\n",
    "8,0,16,1000000,1000,0,4.216864691647996\n",
    "8,0,17,1000000,1000,0,4.155643263936201\n",
    "8,0,20,1000000,1000,0,4.275567572114419\n",
    "8,0,14,1000000,1000,0,4.141503272168476\n",
    "8,0,13,1000000,1000,0,3.9351915302048766\n",
    "8,0,15,1000000,1000,0,4.1002358997320965\n",
    "8,0,19,1000000,1000,0,4.350660008197166\n",
    "8,0,18,1000000,1000,0,4.375860327525279\n",
    "8,0,11,1000000,1000,0,3.916182925754724\n",
    "8,0,12,1000000,1000,0,4.000723240068092\n",
    "8,0,10,1000000,1000,0,3.721806339431124\n",
    "8,0,9,1000000,1000,0,3.714816263050857\n",
    "8,0,8,1000000,1000,0,3.5737149366454966\n",
    "8,0,7,1000000,1000,0,3.3823733467993518\n",
    "8,0,6,1000000,1000,0,3.1678324927441373\n",
    "8,0,5,1000000,1000,0,3.0134143065412244\n",
    "8,0,1,1000000,1000,0,1.7609404212506807\n",
    "8,0,4,1000000,1000,0,2.8416005882425424\n",
    "8,0,2,1000000,1000,0,2.4154991524870133\n",
    "8,0,3,1000000,1000,0,2.611839614846001\n"
   ]
  },
  {
   "cell_type": "code",
   "execution_count": null,
   "metadata": {},
   "outputs": [],
   "source": []
  },
  {
   "cell_type": "code",
   "execution_count": null,
   "metadata": {},
   "outputs": [],
   "source": []
  },
  {
   "cell_type": "code",
   "execution_count": 1,
   "metadata": {
    "tags": []
   },
   "outputs": [],
   "source": [
    "%load_ext autoreload\n",
    "%autoreload 2\n",
    "%load_ext line_profiler"
   ]
  },
  {
   "cell_type": "code",
   "execution_count": 2,
   "metadata": {
    "tags": []
   },
   "outputs": [],
   "source": [
    "from tqdm.contrib.concurrent import process_map\n",
    "from model_reward import model_reward\n",
    "import numpy as np\n",
    "import pandas as pd\n",
    "import seaborn as sns\n",
    "\n",
    "np.set_printoptions(linewidth=1000, suppress=True)    \n",
    "from constants import DIR\n"
   ]
  },
  {
   "cell_type": "code",
   "execution_count": null,
   "metadata": {},
   "outputs": [],
   "source": []
  },
  {
   "cell_type": "code",
   "execution_count": 3,
   "metadata": {
    "tags": []
   },
   "outputs": [],
   "source": [
    "def geti(x, start):\n",
    "    i0, i1 = start, start\n",
    "    for i1 in range(i0, -2, -1):\n",
    "        if (x[i0][3]!=x[i1][3]).mean():\n",
    "            break\n",
    "    i0 = i1+1\n",
    "    for i1 in range(i0, len(x)+1):\n",
    "        if i1==len(x):\n",
    "            break\n",
    "        if (x[i0][3]!=x[i1][3]).mean():\n",
    "            break\n",
    "\n",
    "    return i0, i1"
   ]
  },
  {
   "cell_type": "code",
   "execution_count": 48,
   "metadata": {
    "tags": []
   },
   "outputs": [],
   "source": [
    "def reward_eval(teacher):\n",
    "    import tensorflow as tf\n",
    "    for gpu in tf.config.list_physical_devices('GPU'):\n",
    "        tf.config.experimental.set_memory_growth(gpu, True)\n",
    "    map_size = 8\n",
    "    skip = map_size**2\n",
    "    test_size = 1000 * skip\n",
    "    \n",
    "    x, y = [], []\n",
    "    for test_group in range(test_size//3000+1):\n",
    "        data = np.load(f'{DIR}/data{map_size}/test/myopic_{teacher}_{test_group}.npz')\n",
    "        x.append(data['x'])   \n",
    "        y.append(data['y'])\n",
    "    x = np.concatenate(x)\n",
    "    y = np.concatenate(y)\n",
    "        \n",
    "    avg_trues, avg_preds, avg_accs = [], [], []\n",
    "    for seed in range(5):\n",
    "        model = tf.keras.models.load_model(f'{DIR}/models{map_size}/{0}_{teacher}_{2048000}_{seed}.keras')\n",
    "        for start in range(skip,test_size,skip):\n",
    "            i0, i1 = geti(x, start)\n",
    "            y_pred = model(x[i0:i1]).numpy().argmax(axis=1)            \n",
    "            avg_preds.append(model_reward(map_size, y_pred, x[i0], gamma=1))\n",
    "            avg_trues.append(model_reward(map_size, y[i0:i1], x[i0], gamma=1))\n",
    "            avg_accs.append(np.mean(y_pred==y[i0:i1]))\n",
    "\n",
    "    return avg_trues, avg_preds, avg_accs"
   ]
  },
  {
   "cell_type": "code",
   "execution_count": null,
   "metadata": {},
   "outputs": [],
   "source": []
  },
  {
   "cell_type": "code",
   "execution_count": 49,
   "metadata": {
    "tags": []
   },
   "outputs": [],
   "source": [
    "# %lprun -f reward_eval reward_eval(10)"
   ]
  },
  {
   "cell_type": "code",
   "execution_count": null,
   "metadata": {},
   "outputs": [],
   "source": []
  },
  {
   "cell_type": "code",
   "execution_count": 52,
   "metadata": {
    "tags": []
   },
   "outputs": [
    {
     "ename": "NameError",
     "evalue": "name 'x' is not defined",
     "output_type": "error",
     "traceback": [
      "\u001b[0;31m---------------------------------------------------------------------------\u001b[0m",
      "\u001b[0;31mNameError\u001b[0m                                 Traceback (most recent call last)",
      "Cell \u001b[0;32mIn[52], line 1\u001b[0m\n\u001b[0;32m----> 1\u001b[0m \u001b[43mx\u001b[49m\n",
      "\u001b[0;31mNameError\u001b[0m: name 'x' is not defined"
     ]
    }
   ],
   "source": []
  },
  {
   "cell_type": "code",
   "execution_count": null,
   "metadata": {},
   "outputs": [],
   "source": []
  },
  {
   "cell_type": "code",
   "execution_count": null,
   "metadata": {},
   "outputs": [],
   "source": []
  },
  {
   "cell_type": "code",
   "execution_count": null,
   "metadata": {},
   "outputs": [],
   "source": []
  },
  {
   "cell_type": "code",
   "execution_count": 50,
   "metadata": {
    "tags": []
   },
   "outputs": [
    {
     "data": {
      "application/vnd.jupyter.widget-view+json": {
       "model_id": "bf19b3778d8048a2bfdf2b7e0b4053ca",
       "version_major": 2,
       "version_minor": 0
      },
      "text/plain": [
       "  0%|          | 0/20 [00:00<?, ?it/s]"
      ]
     },
     "metadata": {},
     "output_type": "display_data"
    }
   ],
   "source": [
    "teachers = range(1,21)\n",
    "res = process_map(reward_eval, teachers)"
   ]
  },
  {
   "cell_type": "code",
   "execution_count": 51,
   "metadata": {
    "tags": []
   },
   "outputs": [
    {
     "name": "stdout",
     "output_type": "stream",
     "text": [
      "Teacher     Data 1.0     Model 1.0     Model Acc\n",
      "      1       1.1761        1.1679        0.9047\n",
      "      2       2.4699        2.4796        0.8612\n",
      "      3       3.8840        3.8666        0.8607\n",
      "      4       5.3368        5.2785        0.8310\n",
      "      5       6.6765        6.5915        0.8289\n",
      "      6       7.8218        7.6809        0.8318\n",
      "      7       8.7165        8.5355        0.8361\n",
      "      8       9.2991        9.1461        0.8456\n",
      "      9       9.6509        9.5118        0.8543\n",
      "     10       9.8433        9.6870        0.8594\n",
      "     11       9.9438        9.7356        0.8620\n",
      "     12       9.9862        9.8153        0.8649\n",
      "     13       9.9986        9.8184        0.8655\n",
      "     14      10.0000        9.7855        0.8647\n",
      "     15      10.0000        9.7866        0.8635\n",
      "     16      10.0000        9.7669        0.8613\n",
      "     17      10.0000        9.7823        0.8641\n",
      "     18      10.0000        9.7976        0.8663\n",
      "     19      10.0000        9.7940        0.8640\n",
      "     20      10.0000        9.7823        0.8640\n"
     ]
    }
   ],
   "source": [
    "print('Teacher     Data 1.0     Model 1.0     Model Acc')\n",
    "for teacher, (at, ap, aa) in zip(teachers, res):\n",
    "    print(f'     {teacher:>2}     {np.mean(at): 8.4f}      {np.mean(ap): 8.4f}      {np.mean(aa): 8.4f}')\n"
   ]
  },
  {
   "cell_type": "code",
   "execution_count": 43,
   "metadata": {
    "tags": []
   },
   "outputs": [
    {
     "name": "stdout",
     "output_type": "stream",
     "text": [
      "Teacher     Data 1.0     Model 1.0     Model Acc\n",
      "      1       1.0053        0.9992        0.8777\n",
      "      2       2.3761        2.3463        0.8480\n",
      "      3       3.8015        3.7422        0.8413\n",
      "      4       5.2124        5.1236        0.8119\n",
      "      5       6.4454        6.4486        0.8103\n",
      "      6       7.6752        7.5238        0.8110\n",
      "      7       8.5810        8.4072        0.8207\n",
      "      8       9.2031        9.0351        0.8316\n",
      "      9       9.5350        9.4295        0.8369\n",
      "     10       9.7611        9.5742        0.8435\n",
      "     11       9.9246        9.6633        0.8524\n",
      "     12       9.9792        9.6293        0.8500\n",
      "     13       9.9952        9.7172        0.8474\n",
      "     14      10.0000        9.6011        0.8465\n",
      "     15      10.0000        9.7194        0.8489\n",
      "     16      10.0000        9.6970        0.8490\n",
      "     17      10.0000        9.6566        0.8513\n",
      "     18      10.0000        9.7108        0.8532\n",
      "     19      10.0000        9.6668        0.8457\n",
      "     20      10.0000        9.7633        0.8470\n"
     ]
    }
   ],
   "source": [
    "print('Teacher     Data 1.0     Model 1.0     Model Acc')\n",
    "for teacher, (at, ap, aa) in zip(teachers, res):\n",
    "    print(f'     {teacher:>2}     {np.mean(at): 8.4f}      {np.mean(ap): 8.4f}      {np.mean(aa): 8.4f}')\n"
   ]
  },
  {
   "cell_type": "code",
   "execution_count": null,
   "metadata": {},
   "outputs": [],
   "source": []
  },
  {
   "cell_type": "code",
   "execution_count": null,
   "metadata": {},
   "outputs": [],
   "source": []
  },
  {
   "cell_type": "code",
   "execution_count": 90,
   "metadata": {},
   "outputs": [
    {
     "data": {
      "text/plain": [
       "'/storage1/fs1/chien-ju.ho/Active/gym/0_0_10_-1_0.1'"
      ]
     },
     "execution_count": 90,
     "metadata": {},
     "output_type": "execute_result"
    }
   ],
   "source": [
    "DIR"
   ]
  },
  {
   "cell_type": "code",
   "execution_count": null,
   "metadata": {},
   "outputs": [],
   "source": []
  },
  {
   "cell_type": "code",
   "execution_count": 91,
   "metadata": {},
   "outputs": [],
   "source": [
    "DIR = '/storage1/fs1/chien-ju.ho/Active/gym/0_0_10_-1_1'\n",
    "\n",
    "map_size = 8\n",
    "skip = map_size**2\n",
    "test_size = 1000 * skip\n",
    "\n",
    "teacher = 12\n",
    "\n",
    "x, y = [], []\n",
    "for test_group in range(test_size//3000+1):\n",
    "    data = np.load(f'{DIR}/data{map_size}/test/myopic_{teacher}_{test_group}.npz')\n",
    "    x.append(data['x'])   \n",
    "    y.append(data['y'])\n",
    "x = np.concatenate(x)\n",
    "y = np.concatenate(y)\n"
   ]
  },
  {
   "cell_type": "code",
   "execution_count": 92,
   "metadata": {},
   "outputs": [
    {
     "data": {
      "text/plain": [
       "(433004, 4, 8, 8)"
      ]
     },
     "execution_count": 92,
     "metadata": {},
     "output_type": "execute_result"
    }
   ],
   "source": [
    "x.shape"
   ]
  },
  {
   "cell_type": "code",
   "execution_count": 94,
   "metadata": {},
   "outputs": [],
   "source": [
    "import tensorflow as tf\n",
    "for gpu in tf.config.list_physical_devices('GPU'):\n",
    "    tf.config.experimental.set_memory_growth(gpu, True)\n",
    "\n",
    "model = tf.keras.models.load_model(f'{DIR}/models{map_size}/{0}_{teacher}_{1024000}_{0}.keras')"
   ]
  },
  {
   "cell_type": "code",
   "execution_count": 98,
   "metadata": {},
   "outputs": [
    {
     "data": {
      "text/plain": [
       "array([ True, False,  True,  True, False,  True,  True,  True,  True,  True,  True,  True,  True,  True,  True,  True,  True, False, False,  True,  True,  True,  True, False, False,  True,  True,  True,  True,  True,  True, False,  True,  True, False,  True,  True,  True,  True,  True,  True,  True,  True,  True,  True,  True,  True,  True,  True, False,  True,  True, False,  True, False,  True,  True,  True,  True,  True,  True,  True,  True, False,  True,  True,  True,  True,  True,  True,  True,  True, False,  True,  True,  True,  True, False,  True,  True,  True,  True,  True,  True,  True, False, False,  True, False, False,  True,  True,  True, False,  True,  True,  True,  True,  True,  True])"
      ]
     },
     "execution_count": 98,
     "metadata": {},
     "output_type": "execute_result"
    }
   ],
   "source": [
    "y_pred = model(x[:100])\n",
    "(y_pred.numpy().argmax(axis=1) == y[:100])"
   ]
  },
  {
   "cell_type": "code",
   "execution_count": 99,
   "metadata": {
    "tags": []
   },
   "outputs": [
    {
     "data": {
      "text/plain": [
       "<tf.Tensor: shape=(4,), dtype=float32, numpy=array([-2.475924 , -1.548105 ,  5.1766453,  6.6675086], dtype=float32)>"
      ]
     },
     "execution_count": 99,
     "metadata": {},
     "output_type": "execute_result"
    }
   ],
   "source": [
    "y_pred[1]"
   ]
  },
  {
   "cell_type": "code",
   "execution_count": 100,
   "metadata": {
    "tags": []
   },
   "outputs": [
    {
     "data": {
      "text/plain": [
       "2"
      ]
     },
     "execution_count": 100,
     "metadata": {},
     "output_type": "execute_result"
    }
   ],
   "source": [
    "y[1]"
   ]
  },
  {
   "cell_type": "code",
   "execution_count": 101,
   "metadata": {
    "tags": []
   },
   "outputs": [
    {
     "data": {
      "text/plain": [
       "array([[-0.4188975 , -0.94691545, -0.62580371, -0.33641625, -0.51967433, -0.9237623 , -0.0882566 , -0.90097753],\n",
       "       [-0.52128694, -0.19114257, -0.6182928 , -0.39185908, -0.73693369, -0.80320842, -0.52767828, -0.56570602],\n",
       "       [-0.11287209, -0.14506258, -0.56583204, -0.23888711, -0.52078922, -0.10246773, -0.33700212, -0.34544169],\n",
       "       [-0.73675813, -0.12492105, -0.97728972, -0.87509282, -0.92938063, -0.22849997, -0.17014459, -0.39194057],\n",
       "       [-0.35854481, -0.44998052, -0.71981049, -0.57439792, -0.56529242, -0.41275906, -0.4425546 ,  0.29931217],\n",
       "       [-0.92139309, -0.82525196, -0.24258305, -0.92830323, -0.38645437, -0.82910307, -0.25328064, -0.92862349],\n",
       "       [-0.71831009, -0.69796691, -0.39487655, -0.15172613, -0.78996438, -0.59254233, -0.8973052 , -0.71874989],\n",
       "       [-0.62532694, -0.31032502, -0.72763664, -0.49800929, -0.98706822, -0.65217909, -0.02202295, -0.18107241]])"
      ]
     },
     "execution_count": 101,
     "metadata": {},
     "output_type": "execute_result"
    }
   ],
   "source": [
    "x[1][0]+x[1][3]"
   ]
  },
  {
   "cell_type": "code",
   "execution_count": null,
   "metadata": {},
   "outputs": [],
   "source": []
  }
 ],
 "metadata": {
  "kernelspec": {
   "display_name": "base",
   "language": "python",
   "name": "base"
  },
  "language_info": {
   "codemirror_mode": {
    "name": "ipython",
    "version": 3
   },
   "file_extension": ".py",
   "mimetype": "text/x-python",
   "name": "python",
   "nbconvert_exporter": "python",
   "pygments_lexer": "ipython3",
   "version": "3.10.12"
  }
 },
 "nbformat": 4,
 "nbformat_minor": 4
}
