{
 "cells": [
  {
   "cell_type": "code",
   "execution_count": 1,
   "metadata": {},
   "outputs": [],
   "source": [
    "import numpy as np\n",
    "from hidden_lake import HiddenLakeEnv, generate_random_map, add_visible\n",
    "from utils import Qlearning, EpsilonGreedy, Experiment"
   ]
  },
  {
   "cell_type": "code",
   "execution_count": 2,
   "metadata": {},
   "outputs": [],
   "source": [
    "EPISODES = 100000  # Total episodes\n",
    "LEARNING_RATE = 0.8  # Learning rate\n",
    "GAMMA = 0.95  # Discounting rate\n",
    "EPSILON = 0.5  # Exploration probability\n",
    "MAP_SIZE = 3  # Number of tiles of one side of the squared environment\n",
    "ACTION_SIZE = 4  # Number of possible actions\n",
    "HAZARD_P = 0.2  # Probability that square is hazadorous\n",
    "SLIP_P = 0  # Probability of slipping on the ice"
   ]
  },
  {
   "cell_type": "code",
   "execution_count": 3,
   "metadata": {},
   "outputs": [
    {
     "name": "stderr",
     "output_type": "stream",
     "text": [
      "                                                        \r"
     ]
    }
   ],
   "source": [
    "env = HiddenLakeEnv(map_size = MAP_SIZE, hazard_p = HAZARD_P, slip_p = SLIP_P)\n",
    "learner = Qlearning(learning_rate = LEARNING_RATE, gamma = GAMMA, action_size = ACTION_SIZE )\n",
    "explorer = EpsilonGreedy(epsilon = EPSILON)\n",
    "experiment = Experiment(env, learner, explorer, EPISODES)\n",
    "states, steps, rewards, actions, qtable = experiment.run()"
   ]
  },
  {
   "cell_type": "code",
   "execution_count": null,
   "metadata": {},
   "outputs": [],
   "source": []
  },
  {
   "cell_type": "code",
   "execution_count": 4,
   "metadata": {},
   "outputs": [
    {
     "name": "stdout",
     "output_type": "stream",
     "text": [
      "[[1. 0. 0.]\n",
      " [3. 0. 0.]\n",
      " [0. 0. 0.]]\n",
      "[('D', 0.0), ('R', 0.87215), ('U', 0.83764), ('L', 0.83775)]\n",
      "\n",
      "[[1. 0. 0.]\n",
      " [3. 0. 0.]\n",
      " [0. 0. 0.]]\n",
      "[('D', 0.0), ('R', 0.87215), ('U', 0.83764), ('L', 0.83775)]\n",
      "\n",
      "[[1. 0. 0.]\n",
      " [3. 0. 0.]\n",
      " [0. 0. 0.]]\n",
      "[('D', 0.0), ('R', 0.87215), ('U', 0.83764), ('L', 0.83775)]\n",
      "\n",
      "[[1. 0. 0.]\n",
      " [3. 0. 0.]\n",
      " [0. 0. 0.]]\n",
      "[('D', 0.0), ('R', 0.87215), ('U', 0.83764), ('L', 0.83775)]\n",
      "\n",
      "[[0. 1. 0.]\n",
      " [3. 2. 0.]\n",
      " [0. 0. 0.]]\n",
      "[('D', 1.0), ('R', 0.9025), ('U', 0.95), ('L', 0.9025)]\n",
      "\n",
      "[[0. 0. 1.]\n",
      " [3. 2. 0.]\n",
      " [0. 0. 0.]]\n",
      "[('D', 0.95), ('R', 0.9025), ('U', 0.9025), ('L', 0.95)]\n",
      "\n",
      "[[0. 0. 1.]\n",
      " [3. 2. 0.]\n",
      " [0. 0. 0.]]\n",
      "[('D', 0.95), ('R', 0.9025), ('U', 0.9025), ('L', 0.95)]\n",
      "\n",
      "[[0. 0. 0.]\n",
      " [3. 2. 1.]\n",
      " [0. 0. 0.]]\n",
      "[('D', 0.90249), ('R', 0.95), ('U', 0.9025), ('L', 1.0)]\n",
      "\n",
      "[[0. 0. 1.]\n",
      " [3. 2. 0.]\n",
      " [0. 0. 0.]]\n",
      "[('D', 0.95), ('R', 0.9025), ('U', 0.9025), ('L', 0.95)]\n",
      "\n",
      "[[0. 0. 1.]\n",
      " [3. 2. 0.]\n",
      " [0. 0. 0.]]\n",
      "[('D', 0.95), ('R', 0.9025), ('U', 0.9025), ('L', 0.95)]\n",
      "\n"
     ]
    }
   ],
   "source": [
    "for i in states[:10]:\n",
    "    # print(np.array(i))\n",
    "    # print()\n",
    "    print(np.array(i)[0] + np.array(i)[1]*2 + np.array(i)[2]*3)\n",
    "    print(list(zip(['D','R','U','L'], np.round(qtable[i],5))))\n",
    "    print()"
   ]
  },
  {
   "cell_type": "code",
   "execution_count": null,
   "metadata": {},
   "outputs": [],
   "source": []
  }
 ],
 "metadata": {
  "kernelspec": {
   "display_name": "gymtest",
   "language": "python",
   "name": "python3"
  },
  "language_info": {
   "codemirror_mode": {
    "name": "ipython",
    "version": 3
   },
   "file_extension": ".py",
   "mimetype": "text/x-python",
   "name": "python",
   "nbconvert_exporter": "python",
   "pygments_lexer": "ipython3",
   "version": "3.11.4"
  },
  "orig_nbformat": 4
 },
 "nbformat": 4,
 "nbformat_minor": 2
}
