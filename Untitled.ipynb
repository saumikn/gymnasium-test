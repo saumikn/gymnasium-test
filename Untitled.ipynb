{
 "cells": [
  {
   "cell_type": "code",
   "execution_count": 1,
   "id": "86d00c2c-2468-406c-856e-3a39537a231d",
   "metadata": {
    "tags": []
   },
   "outputs": [],
   "source": [
    "import numpy as np"
   ]
  },
  {
   "cell_type": "code",
   "execution_count": 9,
   "id": "05aaed76-a9d9-4c38-a737-b7a73a304e31",
   "metadata": {
    "tags": []
   },
   "outputs": [],
   "source": [
    "x = np.zeros((1,6,6), dtype=int)"
   ]
  },
  {
   "cell_type": "code",
   "execution_count": 10,
   "id": "774e3897-9d92-4d6f-a177-f77c64acbac9",
   "metadata": {
    "tags": []
   },
   "outputs": [
    {
     "data": {
      "text/plain": [
       "array([[[0, 0, 0, 0, 0, 0],\n",
       "        [0, 0, 0, 0, 0, 0],\n",
       "        [0, 0, 0, 0, 0, 0],\n",
       "        [0, 0, 0, 0, 0, 0],\n",
       "        [0, 0, 0, 0, 0, 0],\n",
       "        [0, 0, 0, 0, 0, 0]]])"
      ]
     },
     "execution_count": 10,
     "metadata": {},
     "output_type": "execute_result"
    }
   ],
   "source": [
    "x"
   ]
  },
  {
   "cell_type": "code",
   "execution_count": 12,
   "id": "293f3412-d775-434f-af49-9108bc77e94b",
   "metadata": {
    "tags": []
   },
   "outputs": [],
   "source": [
    "x[0,2,4] = 1"
   ]
  },
  {
   "cell_type": "code",
   "execution_count": 110,
   "id": "5ba9b6fe-f417-4e74-a444-61e18d0d245b",
   "metadata": {
    "tags": []
   },
   "outputs": [
    {
     "data": {
      "text/plain": [
       "'/storage1/fs1/chien-ju.ho/Active/gym/0.2_0.4_10_-1_1'"
      ]
     },
     "execution_count": 110,
     "metadata": {},
     "output_type": "execute_result"
    }
   ],
   "source": [
    "DIR"
   ]
  },
  {
   "cell_type": "code",
   "execution_count": 17,
   "id": "750cfc0e-16c5-4173-af86-b3b3cd7d5ae0",
   "metadata": {
    "tags": []
   },
   "outputs": [],
   "source": [
    "np.set_printoptions(edgeitems=30)"
   ]
  },
  {
   "cell_type": "code",
   "execution_count": 19,
   "id": "e2f32509-5a3e-4d09-aeba-d5f65cdf5222",
   "metadata": {
    "tags": []
   },
   "outputs": [],
   "source": [
    "from scipy.spatial.distance import cdist\n"
   ]
  },
  {
   "cell_type": "code",
   "execution_count": 53,
   "id": "4d234d32-4165-4e6b-89b4-d344b32e800e",
   "metadata": {
    "tags": []
   },
   "outputs": [
    {
     "data": {
      "text/plain": [
       "array([[1., 0., 0., 0., 0., 0.],\n",
       "       [0., 0., 0., 0., 0., 0.],\n",
       "       [0., 0., 0., 0., 0., 0.],\n",
       "       [0., 0., 0., 0., 0., 0.],\n",
       "       [0., 0., 0., 0., 0., 0.],\n",
       "       [0., 0., 0., 0., 0., 0.]])"
      ]
     },
     "execution_count": 53,
     "metadata": {},
     "output_type": "execute_result"
    }
   ],
   "source": [
    "x[0][0]"
   ]
  },
  {
   "cell_type": "code",
   "execution_count": 74,
   "id": "59d871bc-05c8-4dac-8317-54b7175ac909",
   "metadata": {
    "tags": []
   },
   "outputs": [],
   "source": [
    "xa = np.argwhere(xi[0])\n",
    "xb = np.array(list(product(*[range(j) for j in xi[0].shape])))\n",
    "dists = cdist(xa, xb, metric='cityblock')\n"
   ]
  },
  {
   "cell_type": "code",
   "execution_count": 81,
   "id": "d5cbb99d-ea1e-4eed-b599-94834a4c033b",
   "metadata": {
    "tags": []
   },
   "outputs": [
    {
     "data": {
      "text/plain": [
       "array([[ 0.,  0.,  0.],\n",
       "       [ 1.,  0.,  1.],\n",
       "       [ 2.,  0.,  2.],\n",
       "       [ 3.,  0.,  3.],\n",
       "       [ 4.,  0.,  4.],\n",
       "       [ 5.,  0.,  5.],\n",
       "       [ 1.,  1.,  0.],\n",
       "       [ 2.,  1.,  1.],\n",
       "       [ 3.,  1.,  2.],\n",
       "       [ 4.,  1.,  3.],\n",
       "       [ 5.,  1.,  4.],\n",
       "       [ 6.,  1.,  5.],\n",
       "       [ 2.,  2.,  0.],\n",
       "       [ 3.,  2.,  1.],\n",
       "       [ 4.,  2.,  2.],\n",
       "       [ 5.,  2.,  3.],\n",
       "       [ 6.,  2.,  4.],\n",
       "       [ 7.,  2.,  5.],\n",
       "       [ 3.,  3.,  0.],\n",
       "       [ 4.,  3.,  1.],\n",
       "       [ 5.,  3.,  2.],\n",
       "       [ 6.,  3.,  3.],\n",
       "       [ 7.,  3.,  4.],\n",
       "       [ 8.,  3.,  5.],\n",
       "       [ 4.,  4.,  0.],\n",
       "       [ 5.,  4.,  1.],\n",
       "       [ 6.,  4.,  2.],\n",
       "       [ 7.,  4.,  3.],\n",
       "       [ 8.,  4.,  4.],\n",
       "       [ 9.,  4.,  5.],\n",
       "       [ 5.,  5.,  0.],\n",
       "       [ 6.,  5.,  1.],\n",
       "       [ 7.,  5.,  2.],\n",
       "       [ 8.,  5.,  3.],\n",
       "       [ 9.,  5.,  4.],\n",
       "       [10.,  5.,  5.]])"
      ]
     },
     "execution_count": 81,
     "metadata": {},
     "output_type": "execute_result"
    }
   ],
   "source": [
    "np.hstack([dists.T, xb])"
   ]
  },
  {
   "cell_type": "code",
   "execution_count": 35,
   "id": "319f1640-b968-4bef-8f89-cf84ea12acbb",
   "metadata": {
    "tags": []
   },
   "outputs": [
    {
     "data": {
      "text/plain": [
       "array([[6., 5., 4., 3., 2., 3.],\n",
       "       [5., 4., 3., 2., 1., 2.],\n",
       "       [4., 3., 2., 1., 0., 1.],\n",
       "       [5., 4., 3., 2., 1., 2.],\n",
       "       [6., 5., 4., 3., 2., 3.],\n",
       "       [7., 6., 5., 4., 3., 4.]])"
      ]
     },
     "execution_count": 35,
     "metadata": {},
     "output_type": "execute_result"
    }
   ],
   "source": [
    ".reshape((6,6))"
   ]
  },
  {
   "cell_type": "code",
   "execution_count": 27,
   "id": "fcc70a2c-ca69-43b8-a2c9-d23f2eed517d",
   "metadata": {
    "tags": []
   },
   "outputs": [],
   "source": [
    "from itertools import product"
   ]
  },
  {
   "cell_type": "code",
   "execution_count": 32,
   "id": "7cfefb9d-c0cc-468c-9d2d-71d50d0099aa",
   "metadata": {
    "tags": []
   },
   "outputs": [],
   "source": [
    "xb = list(product(*[range(i) for i in x.shape]))"
   ]
  },
  {
   "cell_type": "code",
   "execution_count": 33,
   "id": "0d6396e0-f818-4fa7-8b9d-7da8b1d88967",
   "metadata": {
    "tags": []
   },
   "outputs": [],
   "source": [
    "xa = [(2,4)]"
   ]
  },
  {
   "cell_type": "code",
   "execution_count": 36,
   "id": "6ffffd8f-fe82-4d1d-b0b6-c0e90d1187a2",
   "metadata": {
    "tags": []
   },
   "outputs": [
    {
     "data": {
      "text/plain": [
       "[(0, 0, 0),\n",
       " (0, 0, 1),\n",
       " (0, 0, 2),\n",
       " (0, 0, 3),\n",
       " (0, 0, 4),\n",
       " (0, 0, 5),\n",
       " (0, 1, 0),\n",
       " (0, 1, 1),\n",
       " (0, 1, 2),\n",
       " (0, 1, 3),\n",
       " (0, 1, 4),\n",
       " (0, 1, 5),\n",
       " (0, 2, 0),\n",
       " (0, 2, 1),\n",
       " (0, 2, 2),\n",
       " (0, 2, 3),\n",
       " (0, 2, 4),\n",
       " (0, 2, 5),\n",
       " (0, 3, 0),\n",
       " (0, 3, 1),\n",
       " (0, 3, 2),\n",
       " (0, 3, 3),\n",
       " (0, 3, 4),\n",
       " (0, 3, 5),\n",
       " (0, 4, 0),\n",
       " (0, 4, 1),\n",
       " (0, 4, 2),\n",
       " (0, 4, 3),\n",
       " (0, 4, 4),\n",
       " (0, 4, 5),\n",
       " (0, 5, 0),\n",
       " (0, 5, 1),\n",
       " (0, 5, 2),\n",
       " (0, 5, 3),\n",
       " (0, 5, 4),\n",
       " (0, 5, 5)]"
      ]
     },
     "execution_count": 36,
     "metadata": {},
     "output_type": "execute_result"
    }
   ],
   "source": [
    "xb"
   ]
  },
  {
   "cell_type": "code",
   "execution_count": null,
   "id": "ab9f111e-1c15-4226-b83c-6a659cb5082e",
   "metadata": {},
   "outputs": [],
   "source": []
  },
  {
   "cell_type": "code",
   "execution_count": 42,
   "id": "d7c49de2-b2a0-4d90-b7ea-f51ad0236fbc",
   "metadata": {
    "tags": []
   },
   "outputs": [],
   "source": [
    "from constants import DIR\n",
    "map_size=6"
   ]
  },
  {
   "cell_type": "code",
   "execution_count": 39,
   "id": "9c10a41b-2f52-45cb-bbf5-2781d33cb80b",
   "metadata": {
    "tags": []
   },
   "outputs": [],
   "source": [
    "data = np.load(f'{DIR}/data{map_size}/train/myopic_{10}_{0}.npz')"
   ]
  },
  {
   "cell_type": "code",
   "execution_count": 92,
   "id": "86d39195-0203-486b-a5ba-11bd8eeb40e8",
   "metadata": {
    "tags": []
   },
   "outputs": [
    {
     "data": {
      "text/plain": [
       "(59936, 4, 6, 6)"
      ]
     },
     "execution_count": 92,
     "metadata": {},
     "output_type": "execute_result"
    }
   ],
   "source": [
    "x = data['x']\n",
    "x.shape"
   ]
  },
  {
   "cell_type": "code",
   "execution_count": 100,
   "id": "10f28a91-1a62-4590-966c-4f2069dcfcf1",
   "metadata": {
    "tags": []
   },
   "outputs": [
    {
     "data": {
      "text/plain": [
       "(59936, 12, 6, 6)"
      ]
     },
     "execution_count": 100,
     "metadata": {},
     "output_type": "execute_result"
    }
   ],
   "source": [
    "markers = np.zeros((len(x), map_size*2-1, map_size, map_size))\n",
    "markers.shape"
   ]
  },
  {
   "cell_type": "code",
   "execution_count": null,
   "id": "6f0ecd4e-24f4-4970-a78f-104039a008e8",
   "metadata": {},
   "outputs": [],
   "source": []
  },
  {
   "cell_type": "code",
   "execution_count": 103,
   "id": "197c0953-08d3-41d1-b264-57101def2cd7",
   "metadata": {
    "tags": []
   },
   "outputs": [
    {
     "name": "stdout",
     "output_type": "stream",
     "text": [
      "CPU times: user 2.09 s, sys: 40 ms, total: 2.13 s\n",
      "Wall time: 2.14 s\n"
     ]
    }
   ],
   "source": [
    "%%time\n",
    "for i in range(len(x)):\n",
    "    xi = x[i]\n",
    "    mi = markers[i]\n",
    "    xa = np.argwhere(xi[0])\n",
    "    xb = np.array(list(product(*[range(j) for j in xi[0].shape])))\n",
    "    dists = cdist(xa, xb, metric='cityblock')\n",
    "    idxs = np.hstack([dists.T, xb]).astype(int)\n",
    "    mi[tuple(idxs.T)] = 1\n",
    "    \n",
    "x = np.concatenate((x, markers), axis=1)"
   ]
  },
  {
   "cell_type": "code",
   "execution_count": null,
   "id": "69405f71-36a1-4178-9330-6e1653630350",
   "metadata": {},
   "outputs": [],
   "source": [
    "d"
   ]
  }
 ],
 "metadata": {
  "kernelspec": {
   "display_name": "base",
   "language": "python",
   "name": "base"
  },
  "language_info": {
   "codemirror_mode": {
    "name": "ipython",
    "version": 3
   },
   "file_extension": ".py",
   "mimetype": "text/x-python",
   "name": "python",
   "nbconvert_exporter": "python",
   "pygments_lexer": "ipython3",
   "version": "3.10.12"
  }
 },
 "nbformat": 4,
 "nbformat_minor": 5
}
