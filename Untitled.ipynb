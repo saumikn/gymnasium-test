{
 "cells": [
  {
   "cell_type": "code",
   "execution_count": 516,
   "id": "86d00c2c-2468-406c-856e-3a39537a231d",
   "metadata": {
    "tags": []
   },
   "outputs": [],
   "source": [
    "from collections import Counter\n",
    "\n",
    "import numpy as np\n",
    "np.set_printoptions(suppress=True)\n",
    "from tqdm import tqdm, trange"
   ]
  },
  {
   "cell_type": "code",
   "execution_count": null,
   "id": "d020d0f5-abe1-4c97-9ffb-3abb14042ee0",
   "metadata": {
    "tags": []
   },
   "outputs": [],
   "source": []
  },
  {
   "cell_type": "code",
   "execution_count": 508,
   "id": "6ca7d717-3670-47ed-9def-1fc440ef5ee5",
   "metadata": {
    "tags": []
   },
   "outputs": [],
   "source": [
    "import tensorflow as tf\n",
    "from tensorflow.keras import backend as K\n",
    "for gpu in tf.config.list_physical_devices('GPU'):\n",
    "    tf.config.experimental.set_memory_growth(gpu, True)\n"
   ]
  },
  {
   "cell_type": "code",
   "execution_count": null,
   "id": "5886a5a3-2332-460a-b777-b84c8b9e5d83",
   "metadata": {},
   "outputs": [],
   "source": []
  },
  {
   "cell_type": "code",
   "execution_count": 631,
   "id": "a374c48a-0b91-4621-b939-9551d948b20d",
   "metadata": {
    "tags": []
   },
   "outputs": [],
   "source": [
    "def make_model(map_size=5, num_nodes=128, num_dense=4):    \n",
    "    inputs = tf.keras.layers.Input(shape=(map_size, map_size))\n",
    "    x = tf.keras.layers.Flatten()(inputs)\n",
    "    \n",
    "    for _ in range(num_dense):\n",
    "        x = tf.keras.layers.Dense(num_nodes, activation='relu')(x)\n",
    "    \n",
    "    # Two output branches\n",
    "    output1 = tf.keras.layers.Dense(5, name='Y0')(x)\n",
    "    output2 = tf.keras.layers.Dense(5, name='Y1')(x)\n",
    "    \n",
    "    model = tf.keras.models.Model(inputs=inputs, outputs=[output1, output2])\n",
    "    \n",
    "    loss_fn = tf.keras.losses.SparseCategoricalCrossentropy(from_logits=True)\n",
    "    \n",
    "    model.compile(optimizer='adam', loss=loss_fn, metrics=['accuracy'])\n",
    "    return model\n",
    "\n",
    "    return model"
   ]
  },
  {
   "cell_type": "code",
   "execution_count": null,
   "id": "0bfd0a55-645e-445e-8cbf-3488db7fcfeb",
   "metadata": {},
   "outputs": [],
   "source": []
  },
  {
   "cell_type": "code",
   "execution_count": 623,
   "id": "77eb6faa-88a0-4334-a1ea-3ec3118013c9",
   "metadata": {
    "tags": []
   },
   "outputs": [],
   "source": [
    "model = make_model()"
   ]
  },
  {
   "cell_type": "code",
   "execution_count": null,
   "id": "d854c9fc-d150-4730-8d29-abc5e88ef6ac",
   "metadata": {},
   "outputs": [],
   "source": []
  },
  {
   "cell_type": "code",
   "execution_count": 563,
   "id": "5134267b-99f8-403d-b665-28dc87a43e9f",
   "metadata": {
    "tags": []
   },
   "outputs": [],
   "source": [
    "def make_data(h, n=320000, verbose=False):\n",
    "    X = []\n",
    "    Y = []\n",
    "    for _ in trange(n, disable=not verbose):\n",
    "        x = np.random.random((5,5))\n",
    "        x = (x - 0.5) * 2 + np.arange(5,10)\n",
    "        x = np.tril(x).T\n",
    "        x.sort(axis=1)\n",
    "        x = x[:,::-1]\n",
    "        y = (x*h).sum(axis=1).argmax()\n",
    "        X.append(x)\n",
    "        Y.append(y)\n",
    "    X = np.array(X)\n",
    "    Y = np.array(Y)\n",
    "    return X, Y"
   ]
  },
  {
   "cell_type": "code",
   "execution_count": null,
   "id": "b1523479-ef55-4b54-b2b4-bb5c88e0dcc6",
   "metadata": {},
   "outputs": [],
   "source": []
  },
  {
   "cell_type": "code",
   "execution_count": 749,
   "id": "4619667a-1da4-48b4-8ef3-15b638757563",
   "metadata": {
    "tags": []
   },
   "outputs": [],
   "source": [
    "def make_data(h, n=320000, verbose=False):\n",
    "    X, Y0, Y1 = [], [], []\n",
    "    for _ in trange(n, disable = not verbose):\n",
    "        x = np.random.random((5,5))\n",
    "        x = (x - 0.5) * 2 + np.arange(6,11)\n",
    "        x = np.tril(x).T\n",
    "        x.sort(axis=1)\n",
    "        x = x[:,::-1]\n",
    "        y = (x*h)\n",
    "\n",
    "        x_shuf, y0_shuf, y1_shuf = [], [], []\n",
    "        for i in range(5):\n",
    "            p = np.random.permutation(5)\n",
    "            x_shuf.append(x[i][p])\n",
    "            y0_shuf.append(y[i][p])\n",
    "            y1_shuf.append(np.random.choice([0,1,2,3,4], p=h[p]))\n",
    "        x_shuf = np.array(x_shuf)\n",
    "        y0_shuf = np.array(y0_shuf)\n",
    "        y1_shuf = np.array(y1_shuf)\n",
    "\n",
    "        y0 = y0_shuf.sum(axis=1).argmax()\n",
    "        y1 = y1_shuf[y0]\n",
    "\n",
    "        X.append(x_shuf)\n",
    "        Y0.append(y0)\n",
    "        Y1.append(y1)\n",
    "\n",
    "    X = np.array(X)\n",
    "    Y0 = np.array(Y0)\n",
    "    Y1 = np.array(Y1)\n",
    "    return X, Y0, Y1"
   ]
  },
  {
   "cell_type": "code",
   "execution_count": null,
   "id": "04c327b1-a116-45a0-b227-95bebafde7a1",
   "metadata": {},
   "outputs": [],
   "source": []
  },
  {
   "cell_type": "code",
   "execution_count": 758,
   "id": "ef7410c2-2acd-4b90-861b-cfac6763b699",
   "metadata": {
    "tags": []
   },
   "outputs": [
    {
     "name": "stderr",
     "output_type": "stream",
     "text": [
      "100%|██████████| 12800000/12800000 [31:51<00:00, 6694.80it/s]\n"
     ]
    },
    {
     "name": "stdout",
     "output_type": "stream",
     "text": [
      "400000/400000 [==============================] - 767s 2ms/step - loss: 1.6587 - Y0_loss: 0.0480 - Y1_loss: 1.6131 - Y0_accuracy: 0.9796 - Y1_accuracy: 0.2003\n"
     ]
    },
    {
     "name": "stderr",
     "output_type": "stream",
     "text": [
      "100%|██████████| 12800000/12800000 [32:02<00:00, 6658.17it/s]\n"
     ]
    },
    {
     "name": "stdout",
     "output_type": "stream",
     "text": [
      "400000/400000 [==============================] - 796s 2ms/step - loss: 1.6987 - Y0_loss: 0.1016 - Y1_loss: 1.5970 - Y0_accuracy: 0.9559 - Y1_accuracy: 0.2362\n"
     ]
    },
    {
     "name": "stderr",
     "output_type": "stream",
     "text": [
      "100%|██████████| 12800000/12800000 [31:13<00:00, 6830.67it/s]\n"
     ]
    },
    {
     "name": "stdout",
     "output_type": "stream",
     "text": [
      "400000/400000 [==============================] - 774s 2ms/step - loss: 1.5495 - Y0_loss: 0.1382 - Y1_loss: 1.4113 - Y0_accuracy: 0.9423 - Y1_accuracy: 0.3999\n"
     ]
    },
    {
     "name": "stderr",
     "output_type": "stream",
     "text": [
      "100%|██████████| 12800000/12800000 [32:43<00:00, 6520.11it/s]\n"
     ]
    },
    {
     "name": "stdout",
     "output_type": "stream",
     "text": [
      "400000/400000 [==============================] - 769s 2ms/step - loss: 0.8884 - Y0_loss: 0.1320 - Y1_loss: 0.7565 - Y0_accuracy: 0.9444 - Y1_accuracy: 0.7371\n"
     ]
    },
    {
     "name": "stderr",
     "output_type": "stream",
     "text": [
      "100%|██████████| 12800000/12800000 [32:54<00:00, 6481.24it/s]\n"
     ]
    },
    {
     "name": "stdout",
     "output_type": "stream",
     "text": [
      "400000/400000 [==============================] - 774s 2ms/step - loss: 0.3447 - Y0_loss: 0.0964 - Y1_loss: 0.2483 - Y0_accuracy: 0.9608 - Y1_accuracy: 0.9327\n",
      "CPU times: user 4h 7min 40s, sys: 22min 29s, total: 4h 30min 9s\n",
      "Wall time: 3h 46min 33s\n"
     ]
    }
   ],
   "source": [
    "%%time\n",
    "models = {}\n",
    "for h in range(5):\n",
    "    # n = int(32e3)\n",
    "    n = 3200000 * 4\n",
    "    X, Y0, Y1 = make_data(H[h], n=n, verbose=True)\n",
    "    model = make_model()\n",
    "    model.fit(X,[Y0, Y1])\n",
    "    models[h] = model"
   ]
  },
  {
   "cell_type": "code",
   "execution_count": 759,
   "id": "cd11f048-61f3-4ac3-bc59-60db74827e96",
   "metadata": {
    "tags": []
   },
   "outputs": [
    {
     "name": "stderr",
     "output_type": "stream",
     "text": [
      "100%|██████████| 32000/32000 [00:05<00:00, 6346.88it/s]\n"
     ]
    }
   ],
   "source": [
    "_X, _, _ = make_data(H[0], n=32000, verbose=True)"
   ]
  },
  {
   "cell_type": "code",
   "execution_count": 760,
   "id": "b0a3aac1-93cb-4155-ae08-b4668dda1f5a",
   "metadata": {
    "tags": []
   },
   "outputs": [
    {
     "name": "stdout",
     "output_type": "stream",
     "text": [
      "0 6.0124\n",
      "1 6.1797\n",
      "2 6.9686\n",
      "3 8.6825\n",
      "4 9.5612\n",
      "CPU times: user 187 ms, sys: 12.8 ms, total: 200 ms\n",
      "Wall time: 197 ms\n"
     ]
    }
   ],
   "source": [
    "%%time\n",
    "for h in range(5):\n",
    "    _Y0, _Y1 = models[h](_X)\n",
    "    _Y0, _Y1 = _Y0.numpy(), _Y1.numpy()\n",
    "    first = np.array([ix[iy] for ix, iy in zip(_X, _Y0.argmax(axis=1))])\n",
    "    second = tf.nn.softmax(_Y1).numpy()\n",
    "    reward = (first * second).sum(axis=1).mean()\n",
    "    print(f'{h} {reward:.4f}')"
   ]
  },
  {
   "cell_type": "code",
   "execution_count": null,
   "id": "3e2c8ce5-8759-4dbd-a5f6-625a013a0c14",
   "metadata": {},
   "outputs": [],
   "source": []
  },
  {
   "cell_type": "code",
   "execution_count": 761,
   "id": "bc08e2e7-f7ac-4920-a130-4df7ac788569",
   "metadata": {
    "tags": []
   },
   "outputs": [
    {
     "data": {
      "text/plain": [
       "array([[5.21557267, 4.95643572, 4.27602829, 4.23190978, 4.12853951],\n",
       "       [6.97632987, 6.60680879, 5.56566271, 5.14030193, 0.        ],\n",
       "       [6.62192393, 6.29201343, 6.2670857 , 0.        , 0.        ],\n",
       "       [7.40710816, 7.18607344, 0.        , 0.        , 0.        ],\n",
       "       [9.94711606, 0.        , 0.        , 0.        , 0.        ]])"
      ]
     },
     "execution_count": 761,
     "metadata": {},
     "output_type": "execute_result"
    }
   ],
   "source": [
    "x"
   ]
  },
  {
   "cell_type": "code",
   "execution_count": 762,
   "id": "1000960c-d9cf-4c34-acc4-ab5d18c4889d",
   "metadata": {
    "tags": []
   },
   "outputs": [
    {
     "data": {
      "text/plain": [
       "array([[ 5.97608586,  5.39042992,  6.41283419,  5.25902765,  5.08961617],\n",
       "       [ 6.74948422,  6.4867986 ,  7.07274051,  0.        ,  6.16390459],\n",
       "       [ 0.        ,  7.02389391,  7.49686339,  8.24075488,  0.        ],\n",
       "       [ 0.        ,  8.52408015,  0.        ,  0.        ,  8.63941092],\n",
       "       [ 0.        ,  0.        ,  0.        , 10.26600027,  0.        ]])"
      ]
     },
     "execution_count": 762,
     "metadata": {},
     "output_type": "execute_result"
    }
   ],
   "source": [
    "X[0]"
   ]
  },
  {
   "cell_type": "code",
   "execution_count": null,
   "id": "e2a797f2-a856-4ff2-b0ad-e412ef2b55f3",
   "metadata": {},
   "outputs": [],
   "source": []
  },
  {
   "cell_type": "code",
   "execution_count": 799,
   "id": "34454261-d18f-4042-a88f-ca9c5437d4ae",
   "metadata": {
    "tags": []
   },
   "outputs": [],
   "source": [
    "def softmax(x, b):\n",
    "    return np.exp(b*x) / np.exp(b*x).sum()"
   ]
  },
  {
   "cell_type": "code",
   "execution_count": null,
   "id": "8b0a9f2e-e281-4eaf-b190-db2f555d7456",
   "metadata": {},
   "outputs": [],
   "source": []
  },
  {
   "cell_type": "code",
   "execution_count": 813,
   "id": "812a61ae-9f89-4336-b5e6-8ba8cb30c88f",
   "metadata": {
    "tags": []
   },
   "outputs": [
    {
     "data": {
      "text/plain": [
       "array([0.44000202, 0.39813029, 0.1618677 ])"
      ]
     },
     "execution_count": 813,
     "metadata": {},
     "output_type": "execute_result"
    }
   ],
   "source": [
    "softmax(np.array([10,9,0]), 0.1)"
   ]
  },
  {
   "cell_type": "code",
   "execution_count": null,
   "id": "a65a6da6-c950-4c6f-8ced-2a1f2692be92",
   "metadata": {},
   "outputs": [],
   "source": []
  }
 ],
 "metadata": {
  "kernelspec": {
   "display_name": "base",
   "language": "python",
   "name": "base"
  },
  "language_info": {
   "codemirror_mode": {
    "name": "ipython",
    "version": 3
   },
   "file_extension": ".py",
   "mimetype": "text/x-python",
   "name": "python",
   "nbconvert_exporter": "python",
   "pygments_lexer": "ipython3",
   "version": "3.10.12"
  }
 },
 "nbformat": 4,
 "nbformat_minor": 5
}
