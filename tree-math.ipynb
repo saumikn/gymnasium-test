{
 "cells": [
  {
   "cell_type": "code",
   "execution_count": null,
   "id": "feed351c-e02d-4a88-a6aa-d30f9d8b10f4",
   "metadata": {},
   "outputs": [],
   "source": [
    "from IPython.core.interactiveshell import InteractiveShell\n",
    "InteractiveShell.ast_node_interactivity = \"all\""
   ]
  },
  {
   "cell_type": "code",
   "execution_count": null,
   "id": "1e8d0f1f-3b9a-4764-8ec8-975c35d0a51e",
   "metadata": {},
   "outputs": [],
   "source": [
    "%%time\n",
    "import numpy as np\n",
    "from sympy import *"
   ]
  },
  {
   "cell_type": "code",
   "execution_count": null,
   "id": "1f8e1d3f-55cb-4a1c-a1d3-8b00a8ae2c93",
   "metadata": {},
   "outputs": [],
   "source": []
  },
  {
   "cell_type": "code",
   "execution_count": null,
   "id": "fb940fae-13d0-4cf8-b55b-e3e089adaa70",
   "metadata": {},
   "outputs": [],
   "source": [
    "X, Y, H, L, e, f = symbols('X Y H L e f')\n",
    "init_printing()"
   ]
  },
  {
   "cell_type": "code",
   "execution_count": null,
   "id": "998097d2-bd51-4b72-a56a-69216e7ef3fe",
   "metadata": {},
   "outputs": [],
   "source": []
  },
  {
   "cell_type": "code",
   "execution_count": null,
   "id": "6e7d5bab-2833-4030-8a51-1cd2eb876598",
   "metadata": {},
   "outputs": [],
   "source": []
  },
  {
   "cell_type": "code",
   "execution_count": null,
   "id": "fdec18f0-7bd0-4304-968f-4b89538e41b2",
   "metadata": {},
   "outputs": [],
   "source": []
  },
  {
   "cell_type": "code",
   "execution_count": null,
   "id": "3bb44706-cb14-466d-83db-ae8f02c6cc71",
   "metadata": {},
   "outputs": [],
   "source": []
  },
  {
   "cell_type": "code",
   "execution_count": null,
   "id": "4372adb9-b463-4e0f-8c04-a4269dbeffef",
   "metadata": {},
   "outputs": [],
   "source": []
  },
  {
   "cell_type": "code",
   "execution_count": null,
   "id": "f14ba24f-785d-4207-a7d1-ff9efc39485e",
   "metadata": {},
   "outputs": [],
   "source": []
  },
  {
   "cell_type": "code",
   "execution_count": null,
   "id": "a77a3520-4b6b-4bd0-b421-8d2975abf029",
   "metadata": {},
   "outputs": [],
   "source": []
  },
  {
   "cell_type": "code",
   "execution_count": null,
   "id": "941ec88c-e0b7-4abe-b63e-4b3a584a0782",
   "metadata": {},
   "outputs": [],
   "source": []
  },
  {
   "cell_type": "code",
   "execution_count": null,
   "id": "2bf7a4ef-3307-4949-aac8-dc3eefd99971",
   "metadata": {},
   "outputs": [],
   "source": []
  },
  {
   "cell_type": "code",
   "execution_count": null,
   "id": "89ee2147-eee2-4e2a-808c-991371b68790",
   "metadata": {},
   "outputs": [],
   "source": []
  },
  {
   "cell_type": "code",
   "execution_count": 126,
   "id": "96652121-0e3f-4c56-9947-242fdaf07fb5",
   "metadata": {},
   "outputs": [],
   "source": [
    "x, y, z, eps = symbols('x y z ε')\n",
    "init_printing()"
   ]
  },
  {
   "cell_type": "code",
   "execution_count": 127,
   "id": "f26966ed-1f85-4776-b37a-2eb8df8e247f",
   "metadata": {},
   "outputs": [],
   "source": [
    "FX1 = Piecewise(\n",
    "    (x/2, x<=2),\n",
    "    (1, 2<x),\n",
    ")\n",
    "FX3 = FX1\n",
    "FX5 = FX1\n",
    "\n",
    "FX2 = Piecewise(\n",
    "    (0, x<=1),\n",
    "    ((x-1)/2, simplify(And(1<x, x<=3))),\n",
    "    (1, 3<x),\n",
    ")\n",
    "FX4 = FX2\n",
    "FX6 = FX2\n",
    "\n",
    "FY0 = simplify(FX1 * FX2)\n",
    "FY1 = simplify(FX3 * FX4)\n",
    "FY2 = simplify(FX5 * FX6)"
   ]
  },
  {
   "cell_type": "code",
   "execution_count": 128,
   "id": "cf8e454f-973f-46ab-8a29-a5d1541124df",
   "metadata": {},
   "outputs": [
    {
     "data": {
      "text/latex": [
       "$\\displaystyle \\begin{cases} \\frac{x}{2} & \\text{for}\\: x \\leq 2 \\\\1 & \\text{otherwise} \\end{cases}$"
      ],
      "text/plain": [
       "⎧x           \n",
       "⎪─  for x ≤ 2\n",
       "⎨2           \n",
       "⎪            \n",
       "⎩1  otherwise"
      ]
     },
     "execution_count": 128,
     "metadata": {},
     "output_type": "execute_result"
    },
    {
     "data": {
      "text/latex": [
       "$\\displaystyle \\begin{cases} 0 & \\text{for}\\: x \\leq 1 \\\\\\frac{x}{2} - \\frac{1}{2} & \\text{for}\\: x \\leq 3 \\\\1 & \\text{otherwise} \\end{cases}$"
      ],
      "text/plain": [
       "⎧  0    for x ≤ 1\n",
       "⎪                \n",
       "⎪x   1           \n",
       "⎨─ - ─  for x ≤ 3\n",
       "⎪2   2           \n",
       "⎪                \n",
       "⎩  1    otherwise"
      ]
     },
     "execution_count": 128,
     "metadata": {},
     "output_type": "execute_result"
    },
    {
     "data": {
      "text/latex": [
       "$\\displaystyle \\int\\limits_{0}^{\\infty} \\begin{cases} 1 & \\text{for}\\: x \\leq 1 \\\\- \\frac{x \\left(x - 1\\right)}{4} + 1 & \\text{for}\\: x \\leq 2 \\\\\\frac{3 - x}{2} & \\text{for}\\: x \\leq 3 \\\\0 & \\text{otherwise} \\end{cases}\\, dx$"
      ],
      "text/plain": [
       "∞                               \n",
       "⌠                               \n",
       "⎮ ⎧       1         for x ≤ 1   \n",
       "⎮ ⎪                             \n",
       "⎮ ⎪  x⋅(x - 1)                  \n",
       "⎮ ⎪- ───────── + 1  for x ≤ 2   \n",
       "⎮ ⎪      4                      \n",
       "⎮ ⎨                           dx\n",
       "⎮ ⎪     3 - x                   \n",
       "⎮ ⎪     ─────       for x ≤ 3   \n",
       "⎮ ⎪       2                     \n",
       "⎮ ⎪                             \n",
       "⎮ ⎩       0         otherwise   \n",
       "⌡                               \n",
       "0                               "
      ]
     },
     "execution_count": 128,
     "metadata": {},
     "output_type": "execute_result"
    },
    {
     "data": {
      "image/png": "[encoded data removed]",
      "text/latex": [
       "$\\displaystyle \\frac{49}{24}$"
      ],
      "text/plain": [
       "49\n",
       "──\n",
       "24"
      ]
     },
     "execution_count": 128,
     "metadata": {},
     "output_type": "execute_result"
    }
   ],
   "source": [
    "# Low Skill Top No Error\n",
    "\n",
    "FX1\n",
    "FX2\n",
    "Integral(simplify(1 - (FX1 * FX2)), (x,0,oo))\n",
    "integrate(1 - FX1*FX2, (x,0,oo))"
   ]
  },
  {
   "cell_type": "code",
   "execution_count": null,
   "id": "b618946f-2852-41b2-af7c-76c4bf00e90f",
   "metadata": {},
   "outputs": [],
   "source": []
  },
  {
   "cell_type": "code",
   "execution_count": 141,
   "id": "abe37f2a-3312-4bcc-ae34-808499f2308f",
   "metadata": {},
   "outputs": [
    {
     "data": {
      "text/latex": [
       "$\\displaystyle \\int\\limits_{0}^{\\infty} \\begin{cases} 1 & \\text{for}\\: x \\leq 1 \\wedge x \\leq 2 \\\\- \\frac{x \\left(\\frac{x}{2} - \\frac{1}{2}\\right)}{2} + 1 & \\text{for}\\: x \\leq 2 \\wedge x \\leq 3 \\\\1 - \\frac{x}{2} & \\text{for}\\: x \\leq 2 \\\\1 & \\text{for}\\: x \\leq 1 \\\\\\frac{3}{2} - \\frac{x}{2} & \\text{for}\\: x \\leq 3 \\\\0 & \\text{otherwise} \\end{cases}\\, dx$"
      ],
      "text/plain": [
       "∞                                       \n",
       "⌠                                       \n",
       "⎮ ⎧       1         for x ≤ 1 ∧ x ≤ 2   \n",
       "⎮ ⎪                                     \n",
       "⎮ ⎪    ⎛x   1⎞                          \n",
       "⎮ ⎪  x⋅⎜─ - ─⎟                          \n",
       "⎮ ⎪    ⎝2   2⎠                          \n",
       "⎮ ⎪- ───────── + 1  for x ≤ 2 ∧ x ≤ 3   \n",
       "⎮ ⎪      2                              \n",
       "⎮ ⎪                                     \n",
       "⎮ ⎪         x                           \n",
       "⎮ ⎨     1 - ─           for x ≤ 2     dx\n",
       "⎮ ⎪         2                           \n",
       "⎮ ⎪                                     \n",
       "⎮ ⎪       1             for x ≤ 1       \n",
       "⎮ ⎪                                     \n",
       "⎮ ⎪     3   x                           \n",
       "⎮ ⎪     ─ - ─           for x ≤ 3       \n",
       "⎮ ⎪     2   2                           \n",
       "⎮ ⎪                                     \n",
       "⎮ ⎩       0             otherwise       \n",
       "⌡                                       \n",
       "0                                       "
      ]
     },
     "execution_count": 141,
     "metadata": {},
     "output_type": "execute_result"
    }
   ],
   "source": [
    "Integral(1 - FX1*FX2, (x,0,oo))"
   ]
  },
  {
   "cell_type": "code",
   "execution_count": 139,
   "id": "47a3681d-b3d5-4d40-980d-3e9d9b299752",
   "metadata": {},
   "outputs": [
    {
     "name": "stdout",
     "output_type": "stream",
     "text": [
      "Top Level No Error\n"
     ]
    },
    {
     "data": {
      "text/latex": [
       "$\\displaystyle \\left(1 - ε\\right) \\int\\limits_{0}^{\\infty} \\begin{cases} 1 & \\text{for}\\: x \\leq 1 \\wedge x \\leq 2 \\\\- \\frac{x \\left(\\frac{x}{2} - \\frac{1}{2}\\right)}{2} + 1 & \\text{for}\\: x \\leq 2 \\wedge x \\leq 3 \\\\1 - \\frac{x}{2} & \\text{for}\\: x \\leq 2 \\\\1 & \\text{for}\\: x \\leq 1 \\\\\\frac{3}{2} - \\frac{x}{2} & \\text{for}\\: x \\leq 3 \\\\0 & \\text{otherwise} \\end{cases}\\, dx$"
      ],
      "text/plain": [
       "        ∞                                       \n",
       "        ⌠                                       \n",
       "        ⎮ ⎧       1         for x ≤ 1 ∧ x ≤ 2   \n",
       "        ⎮ ⎪                                     \n",
       "        ⎮ ⎪    ⎛x   1⎞                          \n",
       "        ⎮ ⎪  x⋅⎜─ - ─⎟                          \n",
       "        ⎮ ⎪    ⎝2   2⎠                          \n",
       "        ⎮ ⎪- ───────── + 1  for x ≤ 2 ∧ x ≤ 3   \n",
       "        ⎮ ⎪      2                              \n",
       "        ⎮ ⎪                                     \n",
       "        ⎮ ⎪         x                           \n",
       "(1 - ε)⋅⎮ ⎨     1 - ─           for x ≤ 2     dx\n",
       "        ⎮ ⎪         2                           \n",
       "        ⎮ ⎪                                     \n",
       "        ⎮ ⎪       1             for x ≤ 1       \n",
       "        ⎮ ⎪                                     \n",
       "        ⎮ ⎪     3   x                           \n",
       "        ⎮ ⎪     ─ - ─           for x ≤ 3       \n",
       "        ⎮ ⎪     2   2                           \n",
       "        ⎮ ⎪                                     \n",
       "        ⎮ ⎩       0             otherwise       \n",
       "        ⌡                                       \n",
       "        0                                       "
      ]
     },
     "execution_count": 139,
     "metadata": {},
     "output_type": "execute_result"
    },
    {
     "name": "stdout",
     "output_type": "stream",
     "text": [
      "Left Error\n"
     ]
    },
    {
     "data": {
      "text/latex": [
       "$\\displaystyle \\frac{ε \\int\\limits_{0}^{\\infty} \\begin{cases} 1 - \\frac{x}{2} & \\text{for}\\: x \\leq 2 \\\\0 & \\text{otherwise} \\end{cases}\\, dx}{2}$"
      ],
      "text/plain": [
       "  ∞                     \n",
       "  ⌠                     \n",
       "  ⎮ ⎧    x              \n",
       "  ⎮ ⎪1 - ─  for x ≤ 2   \n",
       "ε⋅⎮ ⎨    2            dx\n",
       "  ⎮ ⎪                   \n",
       "  ⎮ ⎩  0    otherwise   \n",
       "  ⌡                     \n",
       "  0                     \n",
       "────────────────────────\n",
       "           2            "
      ]
     },
     "execution_count": 139,
     "metadata": {},
     "output_type": "execute_result"
    },
    {
     "name": "stdout",
     "output_type": "stream",
     "text": [
      "Right Error\n"
     ]
    },
    {
     "data": {
      "text/latex": [
       "$\\displaystyle \\frac{ε \\int\\limits_{0}^{\\infty} \\begin{cases} 1 & \\text{for}\\: x \\leq 1 \\\\\\frac{3}{2} - \\frac{x}{2} & \\text{for}\\: x \\leq 3 \\\\0 & \\text{otherwise} \\end{cases}\\, dx}{2}$"
      ],
      "text/plain": [
       "  ∞                     \n",
       "  ⌠                     \n",
       "  ⎮ ⎧  1    for x ≤ 1   \n",
       "  ⎮ ⎪                   \n",
       "  ⎮ ⎪3   x              \n",
       "ε⋅⎮ ⎨─ - ─  for x ≤ 3 dx\n",
       "  ⎮ ⎪2   2              \n",
       "  ⎮ ⎪                   \n",
       "  ⎮ ⎩  0    otherwise   \n",
       "  ⌡                     \n",
       "  0                     \n",
       "────────────────────────\n",
       "           2            "
      ]
     },
     "execution_count": 139,
     "metadata": {},
     "output_type": "execute_result"
    },
    {
     "data": {
      "image/png": "[encoded data removed]",
      "text/latex": [
       "$\\displaystyle \\frac{49}{24} - \\frac{13 ε}{24}$"
      ],
      "text/plain": [
       "49   13⋅ε\n",
       "── - ────\n",
       "24    24 "
      ]
     },
     "execution_count": 139,
     "metadata": {},
     "output_type": "execute_result"
    }
   ],
   "source": [
    "# Low Skill Top Error\n",
    "\n",
    "print(\"Top Level No Error\")\n",
    "(1-eps)*Integral(1 - FX1*FX2, (x,0,oo))\n",
    "\n",
    "print(\"Left Error\")\n",
    "(eps/2)*Integral(1-FX1, (x,0,oo))#.doit()\n",
    "\n",
    "print(\"Right Error\")\n",
    "(eps/2)*Integral(1-FX2, (x,0,oo))#.doit()\n",
    "\n",
    "(1-eps)*integrate(1 - FX1*FX2, (x,0,oo)) + eps*(integrate(1-FX1, (x,0,oo)) + integrate(1-FX2, (x,0,oo)))/2"
   ]
  },
  {
   "cell_type": "code",
   "execution_count": 265,
   "id": "b352be1b-fcf5-437a-9082-15cfd601c80a",
   "metadata": {},
   "outputs": [
    {
     "data": {
      "image/png": "[encoded data removed]",
      "text/latex": [
       "$\\displaystyle \\frac{49}{24} - \\frac{13 ε}{24}$"
      ],
      "text/plain": [
       "49   13⋅ε\n",
       "── - ────\n",
       "24    24 "
      ]
     },
     "execution_count": 265,
     "metadata": {},
     "output_type": "execute_result"
    }
   ],
   "source": [
    "# Low Skill Top\n",
    "FW1 = ((1-eps)*integrate(1 - FX1*FX2, (x,0,oo)) + eps*(Integral(1-FX1, (x,0,oo)).doit() + Integral(1-FX2, (x,0,oo)).doit())/2)\n",
    "FW1"
   ]
  },
  {
   "cell_type": "code",
   "execution_count": 269,
   "id": "5c445e6b-627f-40c4-be76-a861bb32159a",
   "metadata": {},
   "outputs": [
    {
     "data": {
      "image/png": "[encoded data removed]",
      "text/latex": [
       "$\\displaystyle 3$"
      ],
      "text/plain": [
       "3"
      ]
     },
     "execution_count": 269,
     "metadata": {},
     "output_type": "execute_result"
    }
   ],
   "source": [
    "# Low Skill Overall\n",
    "2 * FW1.subs(eps, 1)"
   ]
  },
  {
   "cell_type": "code",
   "execution_count": null,
   "id": "bfba9679-0d60-457a-821d-52b25148c4b4",
   "metadata": {},
   "outputs": [],
   "source": []
  },
  {
   "cell_type": "code",
   "execution_count": 140,
   "id": "a29ed40a-4806-4fd3-b238-d5071630b3c8",
   "metadata": {},
   "outputs": [
    {
     "data": {
      "text/latex": [
       "$\\displaystyle \\begin{cases} 0 & \\text{for}\\: z \\leq 1 \\vee z \\leq 2 \\\\\\frac{z^{5}}{192} - \\frac{13 z^{4}}{384} + \\frac{95 z^{3}}{1152} - \\frac{71 z^{2}}{768} + \\frac{3 z}{64} - \\frac{5}{576} & \\text{for}\\: z \\leq 3 \\\\- \\frac{z^{5}}{192} + \\frac{23 z^{4}}{384} - \\frac{239 z^{3}}{1152} + \\frac{167 z^{2}}{768} + \\frac{7 z}{64} - \\frac{253}{1152} & \\text{for}\\: z \\leq 4 \\\\\\frac{z^{5}}{192} - \\frac{41 z^{4}}{384} + \\frac{73 z^{3}}{96} - \\frac{211 z^{2}}{96} + \\frac{443 z}{192} - \\frac{119}{384} & \\text{for}\\: z \\leq 5 \\\\- \\frac{z^{2}}{8} + \\frac{3 z}{2} - \\frac{7}{2} & \\text{for}\\: z \\leq 6 \\\\1 & \\text{otherwise} \\end{cases}$"
      ],
      "text/plain": [
       "⎧                     0                        for z ≤ 1 ∨ z ≤ 2\n",
       "⎪                                                               \n",
       "⎪   5        4       3       2                                  \n",
       "⎪  z     13⋅z    95⋅z    71⋅z    3⋅z    5                       \n",
       "⎪  ─── - ───── + ───── - ───── + ─── - ───         for z ≤ 3    \n",
       "⎪  192    384    1152     768    64    576                      \n",
       "⎪                                                               \n",
       "⎪   5        4        3        2                                \n",
       "⎪  z     23⋅z    239⋅z    167⋅z    7⋅z   253                    \n",
       "⎪- ─── + ───── - ────── + ────── + ─── - ────      for z ≤ 4    \n",
       "⎪  192    384     1152     768     64    1152                   \n",
       "⎨                                                               \n",
       "⎪  5        4       3        2                                  \n",
       "⎪ z     41⋅z    73⋅z    211⋅z    443⋅z   119                    \n",
       "⎪ ─── - ───── + ───── - ────── + ───── - ───       for z ≤ 5    \n",
       "⎪ 192    384     96       96      192    384                    \n",
       "⎪                                                               \n",
       "⎪                  2                                            \n",
       "⎪                 z    3⋅z   7                                  \n",
       "⎪               - ── + ─── - ─                     for z ≤ 6    \n",
       "⎪                 8     2    2                                  \n",
       "⎪                                                               \n",
       "⎩                     1                            otherwise    "
      ]
     },
     "execution_count": 140,
     "metadata": {},
     "output_type": "execute_result"
    },
    {
     "data": {
      "image/png": "[encoded data removed]",
      "text/latex": [
       "$\\displaystyle \\frac{5319}{1280}$"
      ],
      "text/plain": [
       "5319\n",
       "────\n",
       "1280"
      ]
     },
     "execution_count": 140,
     "metadata": {},
     "output_type": "execute_result"
    }
   ],
   "source": [
    "# High Skill No Error\n",
    "\n",
    "FY1_ = FY1.piecewise_integrate(x)\n",
    "FY2_ = FY2.piecewise_integrate(x)\n",
    "pieces = []\n",
    "for i, b in enumerate(range(0, 7)):\n",
    "    func1 = 0\n",
    "    for j, (l,u) in enumerate([(z-2, b-1), (b-1, b), (b, z)]):\n",
    "        j = min(max(j+b-2, 0), 3)\n",
    "        func1 += (FY1_.args[j][0].subs(x, u) - FY1_.args[j][0].subs(x, l)) / 2\n",
    "    # pieces.append([expand(func1), [b,b+1]])\n",
    "    # display(expand(func1.subs(z, z-1)))\n",
    "    \n",
    "    func2 = 0\n",
    "    for j, (l,u) in enumerate([(z-3, b-2), (b-2, b-1), (b-1, z-1)]):\n",
    "        j = min(max(j+b-3, 0), 3)\n",
    "        func2 += (FY2_.args[j][0].subs(x, u) - FY2_.args[j][0].subs(x, l)) / 2\n",
    "    # pieces.append([expand(func2), [b,b+1]])\n",
    "    # display(expand(func2))\n",
    "    \n",
    "    pieces.append([expand(func1 * func2), [b,b+1]])\n",
    "\n",
    "pieces[0][1][0] = -oo\n",
    "pieces[-1][1][1] = oo\n",
    "pieces = [(p, simplify(And(z>l, z<=u))) for p, (l, u) in pieces]\n",
    "FZ0 = Piecewise(*pieces)\n",
    "FZ0\n",
    "\n",
    "integrate(1-FZ0, (z, 0, oo))"
   ]
  },
  {
   "cell_type": "code",
   "execution_count": null,
   "id": "db595fe7-c512-410d-ae7b-327c6b8a4e0b",
   "metadata": {},
   "outputs": [],
   "source": []
  },
  {
   "cell_type": "code",
   "execution_count": null,
   "id": "9361c0ae-9183-4a66-ac31-d13293d83851",
   "metadata": {},
   "outputs": [],
   "source": [
    "# High Skill Left\n",
    "\n"
   ]
  },
  {
   "cell_type": "code",
   "execution_count": null,
   "id": "a3e7a494-b401-4079-ba92-8bf3fa8c504d",
   "metadata": {},
   "outputs": [],
   "source": []
  },
  {
   "cell_type": "code",
   "execution_count": null,
   "id": "4ef43eab-96c9-4374-82a3-069091a34bbb",
   "metadata": {},
   "outputs": [],
   "source": []
  },
  {
   "cell_type": "code",
   "execution_count": null,
   "id": "cfb0205b-6c05-4661-9bd6-c5f956693e27",
   "metadata": {},
   "outputs": [],
   "source": []
  },
  {
   "cell_type": "code",
   "execution_count": null,
   "id": "4a749643-ac8f-4553-8efa-e5c00976b6a2",
   "metadata": {},
   "outputs": [],
   "source": []
  },
  {
   "cell_type": "code",
   "execution_count": null,
   "id": "3010ceea-ff93-4a25-8a22-9bc1f3994db2",
   "metadata": {},
   "outputs": [],
   "source": []
  },
  {
   "cell_type": "code",
   "execution_count": null,
   "id": "6f2a9149-1b2a-4d16-b2f9-cca08e721f64",
   "metadata": {},
   "outputs": [],
   "source": []
  }
 ],
 "metadata": {
  "kernelspec": {
   "display_name": "random2",
   "language": "python",
   "name": "random2"
  },
  "language_info": {
   "codemirror_mode": {
    "name": "ipython",
    "version": 3
   },
   "file_extension": ".py",
   "mimetype": "text/x-python",
   "name": "python",
   "nbconvert_exporter": "python",
   "pygments_lexer": "ipython3",
   "version": "3.12.7"
  }
 },
 "nbformat": 4,
 "nbformat_minor": 5
}
